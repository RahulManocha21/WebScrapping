{
 "cells": [
  {
   "cell_type": "code",
   "execution_count": 1,
   "id": "1f12a795",
   "metadata": {},
   "outputs": [],
   "source": [
    "from selenium import webdriver\n",
    "from selenium.common.exceptions import TimeoutException\n",
    "from selenium.webdriver.common.by import By\n",
    "from selenium.webdriver.common.keys import Keys\n",
    "from selenium.webdriver.support.ui import WebDriverWait\n",
    "from selenium.webdriver.support import expected_conditions as EC\n",
    "from selenium.common.exceptions import NoSuchElementException, TimeoutException\n",
    "import requests\n",
    "from bs4 import BeautifulSoup\n",
    "import time \n",
    "from tqdm import tqdm\n",
    "import random\n",
    "import pandas as pd"
   ]
  },
  {
   "cell_type": "code",
   "execution_count": 2,
   "id": "4164b451",
   "metadata": {},
   "outputs": [],
   "source": [
    "def get_sitemap_urls(sitemap_url):\n",
    "    response = requests.get(sitemap_url)\n",
    "    if response.status_code == 200:\n",
    "        soup = BeautifulSoup(response.text, 'html.parser')\n",
    "        urls = [loc.text for loc in soup.find_all('loc')]\n",
    "        return urls\n",
    "    else:\n",
    "        print(f\"Failed to fetch sitemap. Status Code: {response.status_code}\")\n",
    "        return []"
   ]
  },
  {
   "cell_type": "code",
   "execution_count": 3,
   "id": "b4f9624b",
   "metadata": {},
   "outputs": [],
   "source": [
    "def unique(Orignal_list):\n",
    "    unique_list = [item for index, item in enumerate(Orignal_list) if item not in Orignal_list[:index]]\n",
    "    return unique_list"
   ]
  },
  {
   "cell_type": "code",
   "execution_count": 4,
   "id": "7b0c324f",
   "metadata": {},
   "outputs": [],
   "source": [
    "def scrollWindow():\n",
    "    initial_height = driver.execute_script(\"return document.body.scrollHeight\")\n",
    "    while True:\n",
    "        driver.find_element(By.TAG_NAME, 'body').send_keys(Keys.END)\n",
    "        driver.implicitly_wait(2) \n",
    "        new_height = driver.execute_script(\"return document.body.scrollHeight\")\n",
    "        if new_height == initial_height:\n",
    "            break\n",
    "        initial_height = new_height\n",
    "    time.sleep(2)   "
   ]
  },
  {
   "cell_type": "code",
   "execution_count": 5,
   "id": "c54981b3",
   "metadata": {},
   "outputs": [],
   "source": [
    "def get_product_info(URL):\n",
    "    driver.get(URL+'#reviews')\n",
    "    time.sleep(2)\n",
    "    scrollWindow()\n",
    "    wait = WebDriverWait(driver, 10)\n",
    "    page_source = driver.page_source\n",
    "    soup = BeautifulSoup(page_source, 'html.parser')\n",
    "    p_element = soup.find('h1')\n",
    "    Product = p_element.text\n",
    "    Subp_element = soup.find('h2', class_=\"text-sm italic text-secondary\")\n",
    "    SubP = Subp_element.text if Subp_element else None\n",
    "    rating_element = soup.find('span',class_=\"stamped-summary-text-1\")\n",
    "    rating = rating_element.text if rating_element else '0'\n",
    "    review_counting_element = soup.find('span', class_=\"mr-5 text-sm\")\n",
    "    review_count= review_counting_element.text if review_counting_element else '0 reviews'\n",
    "    category_element = soup.find_all('div',class_=\"flex flex-wrap gap-3\")\n",
    "    df= []\n",
    "    if review_count != '0 reviews' and rating == '0':\n",
    "        driver.get(URL+'#reviews')\n",
    "        time.sleep(30)\n",
    "        page_source = driver.page_source\n",
    "        soup = BeautifulSoup(page_source, 'html.parser')\n",
    "        rating_element = soup.find('span',class_=\"stamped-summary-text-1\")\n",
    "        rating = rating_element.text if rating_element else '0'\n",
    "    else:\n",
    "        pass\n",
    "    if len(category_element)!=0:\n",
    "        Sbutton = category_element[0].find_all('button')\n",
    "        for i in range(len(Sbutton)):\n",
    "            Category = wait.until(EC.element_to_be_clickable((By.XPATH, '/html/body/div[1]/main/div/div/div[2]/div/form/div[3]/section[1]/div/button[{}]'.format(i+1) )))  \n",
    "            try:\n",
    "                Category.click()\n",
    "            except Exception as e:\n",
    "                driver.execute_script(\"arguments[0].click();\", Category)\n",
    "            C = Category.text\n",
    "            soup = BeautifulSoup(driver.page_source, 'html.parser')\n",
    "            category_element = soup.find_all('div',class_=\"flex flex-wrap gap-3\")\n",
    "            Sbutton = category_element[0].find_all('button')\n",
    "            if len(category_element)==1:\n",
    "                Pbutton=[]\n",
    "            else:\n",
    "                Pbutton = category_element[1].find_all('button')\n",
    "            if Pbutton:\n",
    "                for j in range(len(Pbutton)):\n",
    "                    Pack = wait.until(EC.element_to_be_clickable((By.XPATH, '/html/body/div[1]/main/div/div/div[2]/div/form/div[3]/section[2]/div/button[{}]'.format(j+1) ))) \n",
    "                    try:\n",
    "                        Pack.click()\n",
    "                    except Exception as e:\n",
    "                        driver.execute_script(\"arguments[0].click();\", Pack)\n",
    "                    Pa = Pack.text\n",
    "                    try:\n",
    "                        RegularPrice = driver.find_element(By.XPATH, '/html/body/div[1]/main/div/div/div[2]/div/form/div[2]/div/s')\n",
    "                        RegularPr = RegularPrice.text\n",
    "                        \n",
    "                    \n",
    "                    except Exception as e:\n",
    "                        RegularPr = None\n",
    "                    \n",
    "                    SalePrice = driver.find_element(By.XPATH, '/html/body/div[1]/main/div/div/div[2]/div/form/div[2]/div/div/span' )\n",
    "                                                               \n",
    "                    SalePr = SalePrice.text\n",
    "                    SalePr = SalePr[:-2] + \".\" + SalePr[-2:]\n",
    "                    row={\n",
    "                        'ProductURL': URL,\n",
    "                        'ProductName': Product,\n",
    "                        'SubHeading': SubP,\n",
    "                        'Availability': 'InStock',\n",
    "                        'Category': C.split('\\n')[0], \n",
    "                         'Pack'   : Pa.split('\\n')[0],\n",
    "                        'RegularPrice'  : RegularPr,\n",
    "                         'SalePrice'  : SalePr,\n",
    "                        'ReviewCount': review_count,\n",
    "                        'Rating': rating\n",
    "\n",
    "                        }\n",
    "                    df.append(row)\n",
    "            else:\n",
    "                try:\n",
    "                    RegularPrice = driver.find_element(By.XPATH, '/html/body/div[1]/main/div/div/div[2]/div/form/div[2]/div/s')\n",
    "                    RegularPr = RegularPrice.text\n",
    "                    \n",
    "\n",
    "                except Exception as e:\n",
    "                    RegularPr = None\n",
    "                SalePrice = driver.find_element(By.XPATH, '/html/body/div[1]/main/div/div/div[2]/div/form/div[2]/div/div/span')\n",
    "                                                          \n",
    "                SalePr = SalePrice.text\n",
    "                SalePr = SalePr[:-2] + \".\" + SalePr[-2:]\n",
    "                row={\n",
    "                    'ProductURL': URL,\n",
    "                    'ProductName': Product,\n",
    "                    'SubHeading': SubP,\n",
    "                    'Availability': 'InStock',\n",
    "                    'Category': C.split('\\n')[0], \n",
    "                     'Pack'   : None,\n",
    "                    'RegularPrice'  : RegularPr,\n",
    "                     'SalePrice'  : SalePr,\n",
    "                    'ReviewCount': review_count,\n",
    "                    'Rating': rating\n",
    "\n",
    "                    }\n",
    "                df.append(row)\n",
    "    else:\n",
    "        row={\n",
    "                    'ProductURL': URL,\n",
    "                    'ProductName': Product,\n",
    "                    'SubHeading': SubP,\n",
    "                    'Availability': 'SoldOut',\n",
    "                    'Category': None, \n",
    "                     'Pack'   : None,\n",
    "                    'RegularPrice'  : None,\n",
    "                     'SalePrice'  : None,\n",
    "                    'ReviewCount': review_count,\n",
    "                    'Rating': rating\n",
    "\n",
    "                    }\n",
    "        df.append(row)\n",
    "\n",
    "    return df"
   ]
  },
  {
   "cell_type": "code",
   "execution_count": 6,
   "id": "256a0783",
   "metadata": {},
   "outputs": [],
   "source": [
    "allowed_user_agents = [\n",
    "    \"Mozilla/5.0 (Windows NT 10.0; Win64; x64) AppleWebKit/537.36 (KHTML, like Gecko) Chrome/91.0.4472.124 Safari/537.36\",\n",
    "    \"Mozilla/5.0 (Windows NT 10.0; Win64; x64; rv:89.0) Gecko/20100101 Firefox/89.0\",\n",
    "    \"Mozilla/5.0 (Macintosh; Intel Mac OS X 10_15_7) AppleWebKit/605.1.15 (KHTML, like Gecko) Safari/14.1.2\",\n",
    "    \"Mozilla/5.0 (compatible; bingbot/2.0; +http://www.bing.com/bingbot.htm)\"   \n",
    "]"
   ]
  },
  {
   "cell_type": "code",
   "execution_count": 7,
   "id": "07bd207e",
   "metadata": {},
   "outputs": [
    {
     "name": "stderr",
     "output_type": "stream",
     "text": [
      "C:\\Users\\Rahul Manocha\\anaconda3\\Lib\\site-packages\\bs4\\builder\\__init__.py:545: XMLParsedAsHTMLWarning: It looks like you're parsing an XML document using an HTML parser. If this really is an HTML document (maybe it's XHTML?), you can ignore or filter this warning. If it's XML, you should know that using an XML parser will be more reliable. To parse this document as XML, make sure you have the lxml package installed, and pass the keyword argument `features=\"xml\"` into the BeautifulSoup constructor.\n",
      "  warnings.warn(\n"
     ]
    }
   ],
   "source": [
    "sitemap_url = 'https://www.fast-growing-trees.com/sitemap_products_1.xml?from=1532732702772&to=7236252434494'\n",
    "sitemap_urls = get_sitemap_urls(sitemap_url)\n",
    "Pro_URL= []\n",
    "for i in sitemap_urls:\n",
    "    if 'https://www.fast-growing-trees.com/products' in i:\n",
    "        Pro_URL.append(i)\n",
    "df = pd.DataFrame(Pro_URL)\n",
    "df.to_csv('Links.csv',index=False)"
   ]
  },
  {
   "cell_type": "code",
   "execution_count": 8,
   "id": "f01800e1",
   "metadata": {},
   "outputs": [],
   "source": [
    "Product_details1=[]\n",
    "Product_details2=[]\n",
    "Product_details3=[]\n",
    "Product_details4=[]\n",
    "Product_details5=[]\n",
    "Product_details6=[]\n",
    "Product_details7=[]\n",
    "Product_details8=[]\n",
    "Product_details9=[]\n",
    "Product_details10=[]\n",
    "Product_details11=[]\n",
    "Product_details12=[]\n",
    "Product_details13=[]\n",
    "Product_details14=[]\n",
    "Product_details15=[]\n",
    "Product_details16=[]"
   ]
  },
  {
   "cell_type": "code",
   "execution_count": 27,
   "id": "344addec",
   "metadata": {
    "scrolled": true
   },
   "outputs": [
    {
     "name": "stderr",
     "output_type": "stream",
     "text": [
      "\r",
      "GettingInfo:   0%|                                                                            | 0/100 [00:00<?, ?URL/s]"
     ]
    },
    {
     "name": "stdout",
     "output_type": "stream",
     "text": [
      "https://www.fast-growing-trees.com/products/bloom-bash-hollywood-hibiscus\n"
     ]
    },
    {
     "name": "stderr",
     "output_type": "stream",
     "text": [
      "\r",
      "GettingInfo:   1%|▋                                                                   | 1/100 [00:10<17:58, 10.90s/URL]"
     ]
    },
    {
     "name": "stdout",
     "output_type": "stream",
     "text": [
      "[{'ProductURL': 'https://www.fast-growing-trees.com/products/bloom-bash-hollywood-hibiscus', 'ProductName': 'Bloom Bash® Hollywood® Hibiscus', 'SubHeading': \"<p><i>Hibiscus rosa-sinensis </i>'Bloom Bash'</p>\", 'Availability': 'SoldOut', 'Category': None, 'Pack': None, 'RegularPrice': None, 'SalePrice': None, 'ReviewCount': '0 reviews', 'Rating': '0.0'}]\n",
      "https://www.fast-growing-trees.com/products/midnight-marvel-hibiscus\n"
     ]
    },
    {
     "name": "stderr",
     "output_type": "stream",
     "text": [
      "\r",
      "GettingInfo:   2%|█▎                                                                  | 2/100 [00:20<16:25, 10.06s/URL]"
     ]
    },
    {
     "name": "stdout",
     "output_type": "stream",
     "text": [
      "[{'ProductURL': 'https://www.fast-growing-trees.com/products/midnight-marvel-hibiscus', 'ProductName': 'Midnight Marvel Hardy Hibiscus', 'SubHeading': \"Hibiscus moscheutos 'Midnight Marvel'\", 'Availability': 'InStock', 'Category': '3 Gallon', 'Pack': None, 'RegularPrice': None, 'SalePrice': '$99.95', 'ReviewCount': '11 reviews', 'Rating': '4.9'}]\n",
      "https://www.fast-growing-trees.com/products/summer-spice-hibiscus-bleu-brulee\n"
     ]
    },
    {
     "name": "stderr",
     "output_type": "stream",
     "text": [
      "\r",
      "GettingInfo:   3%|██                                                                  | 3/100 [00:27<13:55,  8.61s/URL]"
     ]
    },
    {
     "name": "stdout",
     "output_type": "stream",
     "text": [
      "[{'ProductURL': 'https://www.fast-growing-trees.com/products/summer-spice-hibiscus-bleu-brulee', 'ProductName': 'Summer Spice® Hardy Hibiscus Bleu Brulee™', 'SubHeading': \"Hibiscus x moscheutos '4387'\", 'Availability': 'SoldOut', 'Category': None, 'Pack': None, 'RegularPrice': None, 'SalePrice': None, 'ReviewCount': '1 reviews', 'Rating': '5.0'}]\n",
      "https://www.fast-growing-trees.com/products/ruby-prince-emerald-empire-crape-myrtle\n"
     ]
    },
    {
     "name": "stderr",
     "output_type": "stream",
     "text": [
      "\r",
      "GettingInfo:   4%|██▋                                                                 | 4/100 [00:34<12:55,  8.07s/URL]"
     ]
    },
    {
     "name": "stdout",
     "output_type": "stream",
     "text": [
      "[{'ProductURL': 'https://www.fast-growing-trees.com/products/ruby-prince-emerald-empire-crape-myrtle', 'ProductName': 'Ruby Prince™ Emerald Empire® Crape Myrtle Tree', 'SubHeading': 'Lagerstroemia indica', 'Availability': 'SoldOut', 'Category': None, 'Pack': None, 'RegularPrice': None, 'SalePrice': None, 'ReviewCount': '1 reviews', 'Rating': '5.0'}]\n",
      "https://www.fast-growing-trees.com/products/karen-azalea-shrub\n"
     ]
    },
    {
     "name": "stderr",
     "output_type": "stream",
     "text": [
      "\r",
      "GettingInfo:   5%|███▍                                                                | 5/100 [00:42<12:41,  8.02s/URL]"
     ]
    },
    {
     "name": "stdout",
     "output_type": "stream",
     "text": [
      "[{'ProductURL': 'https://www.fast-growing-trees.com/products/karen-azalea-shrub', 'ProductName': 'Karen Azalea Shrub', 'SubHeading': \"Azalea x 'Karen'\", 'Availability': 'InStock', 'Category': '2 gallon', 'Pack': 'Single', 'RegularPrice': '$129.95', 'SalePrice': '$64.95', 'ReviewCount': '4 reviews', 'Rating': '5.0'}, {'ProductURL': 'https://www.fast-growing-trees.com/products/karen-azalea-shrub', 'ProductName': 'Karen Azalea Shrub', 'SubHeading': \"Azalea x 'Karen'\", 'Availability': 'InStock', 'Category': '2 gallon', 'Pack': '4-Pack', 'RegularPrice': '$519.80', 'SalePrice': '$220.83', 'ReviewCount': '4 reviews', 'Rating': '5.0'}, {'ProductURL': 'https://www.fast-growing-trees.com/products/karen-azalea-shrub', 'ProductName': 'Karen Azalea Shrub', 'SubHeading': \"Azalea x 'Karen'\", 'Availability': 'InStock', 'Category': '3 gallon', 'Pack': 'Single', 'RegularPrice': '$189.95', 'SalePrice': '$139.95', 'ReviewCount': '4 reviews', 'Rating': '5.0'}, {'ProductURL': 'https://www.fast-growing-trees.com/products/karen-azalea-shrub', 'ProductName': 'Karen Azalea Shrub', 'SubHeading': \"Azalea x 'Karen'\", 'Availability': 'InStock', 'Category': '3 gallon', 'Pack': '4-Pack', 'RegularPrice': '$759.80', 'SalePrice': '$475.83', 'ReviewCount': '4 reviews', 'Rating': '5.0'}]\n",
      "https://www.fast-growing-trees.com/products/chico-jujube-tree\n"
     ]
    },
    {
     "name": "stderr",
     "output_type": "stream",
     "text": [
      "\r",
      "GettingInfo:   6%|████                                                                | 6/100 [00:48<11:45,  7.51s/URL]"
     ]
    },
    {
     "name": "stdout",
     "output_type": "stream",
     "text": [
      "[{'ProductURL': 'https://www.fast-growing-trees.com/products/chico-jujube-tree', 'ProductName': 'Chico Jujube Tree', 'SubHeading': \"Ziziphus jujuba 'GA 866'\", 'Availability': 'SoldOut', 'Category': None, 'Pack': None, 'RegularPrice': None, 'SalePrice': None, 'ReviewCount': '2 reviews', 'Rating': '5.0'}]\n",
      "https://www.fast-growing-trees.com/products/empress-gee-jujube\n"
     ]
    },
    {
     "name": "stderr",
     "output_type": "stream",
     "text": [
      "\r",
      "GettingInfo:   7%|████▊                                                               | 7/100 [00:55<11:03,  7.14s/URL]"
     ]
    },
    {
     "name": "stdout",
     "output_type": "stream",
     "text": [
      "[{'ProductURL': 'https://www.fast-growing-trees.com/products/empress-gee-jujube', 'ProductName': 'Empress Gee™ Jujube Tree', 'SubHeading': \"Ziziphus jujuba 'Empress Gee'\", 'Availability': 'SoldOut', 'Category': None, 'Pack': None, 'RegularPrice': None, 'SalePrice': None, 'ReviewCount': '1 reviews', 'Rating': '5.0'}]\n",
      "https://www.fast-growing-trees.com/products/coppertone-distylium\n"
     ]
    },
    {
     "name": "stderr",
     "output_type": "stream",
     "text": [
      "\r",
      "GettingInfo:   8%|█████▍                                                              | 8/100 [01:02<11:02,  7.20s/URL]"
     ]
    },
    {
     "name": "stdout",
     "output_type": "stream",
     "text": [
      "[{'ProductURL': 'https://www.fast-growing-trees.com/products/coppertone-distylium', 'ProductName': 'Coppertone™ Distylium', 'SubHeading': \"Distylium 'PIIDIST-III'\", 'Availability': 'InStock', 'Category': '3 gallon', 'Pack': 'Single', 'RegularPrice': '$99.95', 'SalePrice': '$79.95', 'ReviewCount': '1 reviews', 'Rating': '5.0'}, {'ProductURL': 'https://www.fast-growing-trees.com/products/coppertone-distylium', 'ProductName': 'Coppertone™ Distylium', 'SubHeading': \"Distylium 'PIIDIST-III'\", 'Availability': 'InStock', 'Category': '3 gallon', 'Pack': '4-Pack', 'RegularPrice': '$399.80', 'SalePrice': '$271.83', 'ReviewCount': '1 reviews', 'Rating': '5.0'}]\n",
      "https://www.fast-growing-trees.com/products/carissa-holly\n"
     ]
    },
    {
     "name": "stderr",
     "output_type": "stream",
     "text": [
      "\r",
      "GettingInfo:   9%|██████                                                              | 9/100 [01:12<11:58,  7.90s/URL]"
     ]
    },
    {
     "name": "stdout",
     "output_type": "stream",
     "text": [
      "[{'ProductURL': 'https://www.fast-growing-trees.com/products/carissa-holly', 'ProductName': 'Carissa Holly', 'SubHeading': \"Ilex cornuta 'Carissa'\", 'Availability': 'InStock', 'Category': '3 gallon', 'Pack': 'Single', 'RegularPrice': None, 'SalePrice': '$74.95', 'ReviewCount': '3 reviews', 'Rating': '4.5'}, {'ProductURL': 'https://www.fast-growing-trees.com/products/carissa-holly', 'ProductName': 'Carissa Holly', 'SubHeading': \"Ilex cornuta 'Carissa'\", 'Availability': 'InStock', 'Category': '3 gallon', 'Pack': '6-Pack', 'RegularPrice': '$449.70', 'SalePrice': '$382.25', 'ReviewCount': '3 reviews', 'Rating': '4.5'}]\n",
      "https://www.fast-growing-trees.com/products/seckel-pear\n"
     ]
    },
    {
     "name": "stderr",
     "output_type": "stream",
     "text": [
      "\r",
      "GettingInfo:  10%|██████▋                                                            | 10/100 [01:18<11:12,  7.47s/URL]"
     ]
    },
    {
     "name": "stdout",
     "output_type": "stream",
     "text": [
      "[{'ProductURL': 'https://www.fast-growing-trees.com/products/seckel-pear', 'ProductName': 'Seckel Pear Tree', 'SubHeading': \"Pyrus 'Seckel'\", 'Availability': 'SoldOut', 'Category': None, 'Pack': None, 'RegularPrice': None, 'SalePrice': None, 'ReviewCount': '12 reviews', 'Rating': '5.0'}]\n",
      "https://www.fast-growing-trees.com/products/chinese-apricot-tree-ca\n"
     ]
    },
    {
     "name": "stderr",
     "output_type": "stream",
     "text": [
      "\r",
      "GettingInfo:  11%|███████▎                                                           | 11/100 [01:25<10:36,  7.15s/URL]"
     ]
    },
    {
     "name": "stdout",
     "output_type": "stream",
     "text": [
      "[{'ProductURL': 'https://www.fast-growing-trees.com/products/chinese-apricot-tree-ca', 'ProductName': 'Chinese Mormon Apricot Tree', 'SubHeading': \"Prunus armeniaca 'Chinese Mormon'\", 'Availability': 'SoldOut', 'Category': None, 'Pack': None, 'RegularPrice': None, 'SalePrice': None, 'ReviewCount': '2 reviews', 'Rating': '5.0'}]\n",
      "https://www.fast-growing-trees.com/products/rainier-cherry-tree-ca\n"
     ]
    },
    {
     "name": "stderr",
     "output_type": "stream",
     "text": [
      "\r",
      "GettingInfo:  12%|████████                                                           | 12/100 [01:32<10:25,  7.10s/URL]"
     ]
    },
    {
     "name": "stdout",
     "output_type": "stream",
     "text": [
      "[{'ProductURL': 'https://www.fast-growing-trees.com/products/rainier-cherry-tree-ca', 'ProductName': 'Rainier Cherry Tree', 'SubHeading': \"Prunus avium 'Rainier'\", 'Availability': 'SoldOut', 'Category': None, 'Pack': None, 'RegularPrice': None, 'SalePrice': None, 'ReviewCount': '1 reviews', 'Rating': '5.0'}]\n",
      "https://www.fast-growing-trees.com/products/hosui-asian-pear-tree-ca\n"
     ]
    },
    {
     "name": "stderr",
     "output_type": "stream",
     "text": [
      "\r",
      "GettingInfo:  13%|████████▋                                                          | 13/100 [01:40<10:56,  7.54s/URL]"
     ]
    },
    {
     "name": "stdout",
     "output_type": "stream",
     "text": [
      "[{'ProductURL': 'https://www.fast-growing-trees.com/products/hosui-asian-pear-tree-ca', 'ProductName': 'Hosui Asian Pear Tree', 'SubHeading': 'Pyrus pyrifolia', 'Availability': 'InStock', 'Category': '5-6 feet', 'Pack': None, 'RegularPrice': None, 'SalePrice': '$159.95', 'ReviewCount': '6 reviews', 'Rating': '5.0'}]\n",
      "https://www.fast-growing-trees.com/products/shinseiki-asian-pear-ca\n"
     ]
    },
    {
     "name": "stderr",
     "output_type": "stream",
     "text": [
      "\r",
      "GettingInfo:  14%|█████████▍                                                         | 14/100 [01:49<11:15,  7.86s/URL]"
     ]
    },
    {
     "name": "stdout",
     "output_type": "stream",
     "text": [
      "[{'ProductURL': 'https://www.fast-growing-trees.com/products/shinseiki-asian-pear-ca', 'ProductName': 'Shinseiki Asian Pear Tree', 'SubHeading': \"Pyrus serotina 'Shinseiki'\", 'Availability': 'InStock', 'Category': '5-6 feet', 'Pack': None, 'RegularPrice': None, 'SalePrice': '$149.95', 'ReviewCount': '9 reviews', 'Rating': '5.0'}]\n",
      "https://www.fast-growing-trees.com/products/rose-rocket\n"
     ]
    },
    {
     "name": "stderr",
     "output_type": "stream",
     "text": [
      "\r",
      "GettingInfo:  15%|██████████                                                         | 15/100 [01:58<11:37,  8.20s/URL]"
     ]
    },
    {
     "name": "stdout",
     "output_type": "stream",
     "text": [
      "[{'ProductURL': 'https://www.fast-growing-trees.com/products/rose-rocket', 'ProductName': 'Root Rocket® Rose Rocket Tablets', 'SubHeading': '', 'Availability': 'InStock', 'Category': '4 Tablets', 'Pack': None, 'RegularPrice': None, 'SalePrice': '$4.97', 'ReviewCount': '29 reviews', 'Rating': '4.7'}]\n",
      "https://www.fast-growing-trees.com/products/evergreen-rocket\n"
     ]
    },
    {
     "name": "stderr",
     "output_type": "stream",
     "text": [
      "\r",
      "GettingInfo:  16%|██████████▋                                                        | 16/100 [02:06<11:43,  8.38s/URL]"
     ]
    },
    {
     "name": "stdout",
     "output_type": "stream",
     "text": [
      "[{'ProductURL': 'https://www.fast-growing-trees.com/products/evergreen-rocket', 'ProductName': 'Root Rocket® Evergreen Rocket', 'SubHeading': '', 'Availability': 'InStock', 'Category': '2oz Packet', 'Pack': None, 'RegularPrice': None, 'SalePrice': '$9.95', 'ReviewCount': '75 reviews', 'Rating': '4.8'}]\n",
      "https://www.fast-growing-trees.com/products/evergreen-fertilizer\n"
     ]
    },
    {
     "name": "stderr",
     "output_type": "stream",
     "text": [
      "\r",
      "GettingInfo:  17%|███████████▍                                                       | 17/100 [02:16<11:57,  8.64s/URL]"
     ]
    },
    {
     "name": "stdout",
     "output_type": "stream",
     "text": [
      "[{'ProductURL': 'https://www.fast-growing-trees.com/products/evergreen-fertilizer', 'ProductName': 'Root Rocket® Evergreen Fertilizer', 'SubHeading': '', 'Availability': 'InStock', 'Category': '8 oz Bag', 'Pack': None, 'RegularPrice': None, 'SalePrice': '$9.95', 'ReviewCount': '39 reviews', 'Rating': '4.8'}]\n",
      "https://www.fast-growing-trees.com/products/organic-all-purpose-fertilizer\n"
     ]
    },
    {
     "name": "stderr",
     "output_type": "stream",
     "text": [
      "\r",
      "GettingInfo:  18%|████████████                                                       | 18/100 [02:25<11:53,  8.70s/URL]"
     ]
    },
    {
     "name": "stdout",
     "output_type": "stream",
     "text": [
      "[{'ProductURL': 'https://www.fast-growing-trees.com/products/organic-all-purpose-fertilizer', 'ProductName': 'Root Rocket® All-Purpose Organic Fertilizer', 'SubHeading': '', 'Availability': 'InStock', 'Category': '16oz Fertilizer', 'Pack': None, 'RegularPrice': None, 'SalePrice': '$9.95', 'ReviewCount': '19 reviews', 'Rating': '4.7'}]\n",
      "https://www.fast-growing-trees.com/products/fiddle-leaf-fig-fertilizer\n"
     ]
    },
    {
     "name": "stderr",
     "output_type": "stream",
     "text": [
      "\r",
      "GettingInfo:  19%|████████████▋                                                      | 19/100 [02:34<11:51,  8.78s/URL]"
     ]
    },
    {
     "name": "stdout",
     "output_type": "stream",
     "text": [
      "[{'ProductURL': 'https://www.fast-growing-trees.com/products/fiddle-leaf-fig-fertilizer', 'ProductName': 'Fiddle Leaf Fig Fertilizer', 'SubHeading': '', 'Availability': 'InStock', 'Category': 'Fertilizer', 'Pack': None, 'RegularPrice': None, 'SalePrice': '$11.95', 'ReviewCount': '12 reviews', 'Rating': '4.8'}]\n",
      "https://www.fast-growing-trees.com/products/monstera-fertilizer\n"
     ]
    },
    {
     "name": "stderr",
     "output_type": "stream",
     "text": [
      "\r",
      "GettingInfo:  20%|█████████████▍                                                     | 20/100 [02:43<11:53,  8.92s/URL]"
     ]
    },
    {
     "name": "stdout",
     "output_type": "stream",
     "text": [
      "[{'ProductURL': 'https://www.fast-growing-trees.com/products/monstera-fertilizer', 'ProductName': 'Monstera Fertilizer', 'SubHeading': '', 'Availability': 'InStock', 'Category': 'Fertilizer', 'Pack': None, 'RegularPrice': None, 'SalePrice': '$11.95', 'ReviewCount': '2 reviews', 'Rating': '5.0'}]\n",
      "https://www.fast-growing-trees.com/products/house-plant-fertilizer\n"
     ]
    },
    {
     "name": "stderr",
     "output_type": "stream",
     "text": [
      "\r",
      "GettingInfo:  21%|██████████████                                                     | 21/100 [02:51<11:35,  8.80s/URL]"
     ]
    },
    {
     "name": "stdout",
     "output_type": "stream",
     "text": [
      "[{'ProductURL': 'https://www.fast-growing-trees.com/products/house-plant-fertilizer', 'ProductName': 'All-Purpose House Plant Fertilizer', 'SubHeading': '', 'Availability': 'InStock', 'Category': 'Fertilizer', 'Pack': None, 'RegularPrice': None, 'SalePrice': '$9.95', 'ReviewCount': '4 reviews', 'Rating': '5.0'}]\n",
      "https://www.fast-growing-trees.com/products/berry-bush-care-kit\n"
     ]
    },
    {
     "name": "stderr",
     "output_type": "stream",
     "text": [
      "\r",
      "GettingInfo:  22%|██████████████▋                                                    | 22/100 [03:00<11:26,  8.80s/URL]"
     ]
    },
    {
     "name": "stdout",
     "output_type": "stream",
     "text": [
      "[{'ProductURL': 'https://www.fast-growing-trees.com/products/berry-bush-care-kit', 'ProductName': 'Berry Bush Care Kit', 'SubHeading': '', 'Availability': 'InStock', 'Category': 'Care Kit', 'Pack': None, 'RegularPrice': None, 'SalePrice': '$14.95', 'ReviewCount': '9 reviews', 'Rating': '5.0'}]\n",
      "https://www.fast-growing-trees.com/products/orchard-tree-care-kit\n"
     ]
    },
    {
     "name": "stderr",
     "output_type": "stream",
     "text": [
      "\r",
      "GettingInfo:  23%|███████████████▍                                                   | 23/100 [03:09<11:15,  8.77s/URL]"
     ]
    },
    {
     "name": "stdout",
     "output_type": "stream",
     "text": [
      "[{'ProductURL': 'https://www.fast-growing-trees.com/products/orchard-tree-care-kit', 'ProductName': 'Orchard Tree Care Kit', 'SubHeading': '', 'Availability': 'InStock', 'Category': 'Care Kit', 'Pack': None, 'RegularPrice': None, 'SalePrice': '$14.95', 'ReviewCount': '19 reviews', 'Rating': '4.6'}]\n",
      "https://www.fast-growing-trees.com/products/tropical-fruit-tree-care-kit\n"
     ]
    },
    {
     "name": "stderr",
     "output_type": "stream",
     "text": [
      "\r",
      "GettingInfo:  24%|████████████████                                                   | 24/100 [03:18<11:18,  8.93s/URL]"
     ]
    },
    {
     "name": "stdout",
     "output_type": "stream",
     "text": [
      "[{'ProductURL': 'https://www.fast-growing-trees.com/products/tropical-fruit-tree-care-kit', 'ProductName': 'Tropical Fruit Tree Care Kit', 'SubHeading': '', 'Availability': 'InStock', 'Category': 'Care Kit', 'Pack': None, 'RegularPrice': None, 'SalePrice': '$14.95', 'ReviewCount': '22 reviews', 'Rating': '5.0'}]\n",
      "https://www.fast-growing-trees.com/products/palm-spike-fertilizer\n"
     ]
    },
    {
     "name": "stderr",
     "output_type": "stream",
     "text": [
      "\r",
      "GettingInfo:  25%|████████████████▊                                                  | 25/100 [03:27<11:04,  8.85s/URL]"
     ]
    },
    {
     "name": "stdout",
     "output_type": "stream",
     "text": [
      "[{'ProductURL': 'https://www.fast-growing-trees.com/products/palm-spike-fertilizer', 'ProductName': 'Palm Tree Fertilizer Spikes', 'SubHeading': '', 'Availability': 'InStock', 'Category': 'Spikes', 'Pack': None, 'RegularPrice': None, 'SalePrice': '$19.95', 'ReviewCount': '15 reviews', 'Rating': '5.0'}]\n",
      "https://www.fast-growing-trees.com/products/fignomenal-fig\n"
     ]
    },
    {
     "name": "stderr",
     "output_type": "stream",
     "text": [
      "\r",
      "GettingInfo:  26%|█████████████████▍                                                 | 26/100 [03:36<10:54,  8.84s/URL]"
     ]
    },
    {
     "name": "stdout",
     "output_type": "stream",
     "text": [
      "[{'ProductURL': 'https://www.fast-growing-trees.com/products/fignomenal-fig', 'ProductName': 'Fignomenal Fig Tree', 'SubHeading': \"Ficus carica 'Fignomenal'\", 'Availability': 'InStock', 'Category': '1 quart', 'Pack': None, 'RegularPrice': None, 'SalePrice': '$54.95', 'ReviewCount': '18 reviews', 'Rating': '4.4'}]\n",
      "https://www.fast-growing-trees.com/products/chindo-sweet-viburnum\n"
     ]
    },
    {
     "name": "stderr",
     "output_type": "stream",
     "text": [
      "\r",
      "GettingInfo:  27%|██████████████████                                                 | 27/100 [03:45<10:50,  8.91s/URL]"
     ]
    },
    {
     "name": "stdout",
     "output_type": "stream",
     "text": [
      "[{'ProductURL': 'https://www.fast-growing-trees.com/products/chindo-sweet-viburnum', 'ProductName': 'Chindo Sweet Viburnum Shrub', 'SubHeading': \"Viburnum awabuki 'Chindo'\", 'Availability': 'InStock', 'Category': '3 gallon', 'Pack': 'Single', 'RegularPrice': None, 'SalePrice': '$99.95', 'ReviewCount': '3 reviews', 'Rating': '5.0'}, {'ProductURL': 'https://www.fast-growing-trees.com/products/chindo-sweet-viburnum', 'ProductName': 'Chindo Sweet Viburnum Shrub', 'SubHeading': \"Viburnum awabuki 'Chindo'\", 'Availability': 'InStock', 'Category': '3 gallon', 'Pack': '2-Pack', 'RegularPrice': '$199.90', 'SalePrice': '$143.93', 'ReviewCount': '3 reviews', 'Rating': '5.0'}]\n",
      "https://www.fast-growing-trees.com/products/loblolly-pine-tree\n"
     ]
    },
    {
     "name": "stderr",
     "output_type": "stream",
     "text": [
      "\r",
      "GettingInfo:  28%|██████████████████▊                                                | 28/100 [03:52<10:00,  8.34s/URL]"
     ]
    },
    {
     "name": "stdout",
     "output_type": "stream",
     "text": [
      "[{'ProductURL': 'https://www.fast-growing-trees.com/products/loblolly-pine-tree', 'ProductName': 'Loblolly Pine Tree', 'SubHeading': 'Pinus taeda', 'Availability': 'InStock', 'Category': '2-3 feet', 'Pack': 'Single', 'RegularPrice': '$74.95', 'SalePrice': '$69.95', 'ReviewCount': '11 reviews', 'Rating': '5.0'}, {'ProductURL': 'https://www.fast-growing-trees.com/products/loblolly-pine-tree', 'ProductName': 'Loblolly Pine Tree', 'SubHeading': 'Pinus taeda', 'Availability': 'InStock', 'Category': '2-3 feet', 'Pack': '4-Pack', 'RegularPrice': '$299.80', 'SalePrice': '$237.83', 'ReviewCount': '11 reviews', 'Rating': '5.0'}]\n",
      "https://www.fast-growing-trees.com/products/petite-snow-crape-myrtle\n"
     ]
    },
    {
     "name": "stderr",
     "output_type": "stream",
     "text": [
      "\r",
      "GettingInfo:  29%|███████████████████▍                                               | 29/100 [03:58<09:13,  7.79s/URL]"
     ]
    },
    {
     "name": "stdout",
     "output_type": "stream",
     "text": [
      "[{'ProductURL': 'https://www.fast-growing-trees.com/products/petite-snow-crape-myrtle', 'ProductName': 'Petite Snow™ Crape Myrtle Tree', 'SubHeading': \"Lagerstroemia indica 'Monow'\", 'Availability': 'SoldOut', 'Category': None, 'Pack': None, 'RegularPrice': None, 'SalePrice': None, 'ReviewCount': '0 reviews', 'Rating': '0.0'}]\n",
      "https://www.fast-growing-trees.com/products/red-n-pretty-hydrangea\n"
     ]
    },
    {
     "name": "stderr",
     "output_type": "stream",
     "text": [
      "\r",
      "GettingInfo:  30%|████████████████████                                               | 30/100 [04:05<08:42,  7.47s/URL]"
     ]
    },
    {
     "name": "stdout",
     "output_type": "stream",
     "text": [
      "[{'ProductURL': 'https://www.fast-growing-trees.com/products/red-n-pretty-hydrangea', 'ProductName': \"Red N' Pretty® Hydrangea Shrub\", 'SubHeading': \"Hydrangea macrophylla 'Monred'\", 'Availability': 'SoldOut', 'Category': None, 'Pack': None, 'RegularPrice': None, 'SalePrice': None, 'ReviewCount': '0 reviews', 'Rating': '0.0'}]\n",
      "https://www.fast-growing-trees.com/products/golden-jackpot-weigela-shrub\n"
     ]
    },
    {
     "name": "stderr",
     "output_type": "stream",
     "text": [
      "\r",
      "GettingInfo:  31%|████████████████████▊                                              | 31/100 [04:11<08:16,  7.19s/URL]"
     ]
    },
    {
     "name": "stdout",
     "output_type": "stream",
     "text": [
      "[{'ProductURL': 'https://www.fast-growing-trees.com/products/golden-jackpot-weigela-shrub', 'ProductName': 'Golden Jackpot® Weigela Shrub', 'SubHeading': \"Weigela florida 'MonRigney' PP #29,991\", 'Availability': 'SoldOut', 'Category': None, 'Pack': None, 'RegularPrice': None, 'SalePrice': None, 'ReviewCount': '0 reviews', 'Rating': '0.0'}]\n",
      "https://www.fast-growing-trees.com/products/autumn-joy-sedum-plant\n"
     ]
    },
    {
     "name": "stderr",
     "output_type": "stream",
     "text": [
      "\r",
      "GettingInfo:  32%|█████████████████████▍                                             | 32/100 [04:18<07:58,  7.04s/URL]"
     ]
    },
    {
     "name": "stdout",
     "output_type": "stream",
     "text": [
      "[{'ProductURL': 'https://www.fast-growing-trees.com/products/autumn-joy-sedum-plant', 'ProductName': 'Autumn Joy Sedum', 'SubHeading': \"Sedum spectabile 'Autumn Joy'\", 'Availability': 'SoldOut', 'Category': None, 'Pack': None, 'RegularPrice': None, 'SalePrice': None, 'ReviewCount': '4 reviews', 'Rating': '5.0'}]\n",
      "https://www.fast-growing-trees.com/products/blue-agapanthus\n"
     ]
    },
    {
     "name": "stderr",
     "output_type": "stream",
     "text": [
      "\r",
      "GettingInfo:  33%|██████████████████████                                             | 33/100 [04:25<07:42,  6.90s/URL]"
     ]
    },
    {
     "name": "stdout",
     "output_type": "stream",
     "text": [
      "[{'ProductURL': 'https://www.fast-growing-trees.com/products/blue-agapanthus', 'ProductName': 'Blue Agapanthus (Lily of the Nile)', 'SubHeading': 'Agapanthus', 'Availability': 'SoldOut', 'Category': None, 'Pack': None, 'RegularPrice': None, 'SalePrice': None, 'ReviewCount': '3 reviews', 'Rating': '5.0'}]\n",
      "https://www.fast-growing-trees.com/products/adagio-maiden-grass\n"
     ]
    },
    {
     "name": "stderr",
     "output_type": "stream",
     "text": [
      "\r",
      "GettingInfo:  34%|██████████████████████▊                                            | 34/100 [04:33<07:53,  7.17s/URL]"
     ]
    },
    {
     "name": "stdout",
     "output_type": "stream",
     "text": [
      "[{'ProductURL': 'https://www.fast-growing-trees.com/products/adagio-maiden-grass', 'ProductName': 'Adagio Maiden Grass', 'SubHeading': \"<p>Miscanthus sinensis 'Adagio'</p><p>&nbsp;</p>\", 'Availability': 'SoldOut', 'Category': None, 'Pack': None, 'RegularPrice': None, 'SalePrice': None, 'ReviewCount': '12 reviews', 'Rating': '4.7'}]\n",
      "https://www.fast-growing-trees.com/products/may-night-salvia\n"
     ]
    },
    {
     "name": "stderr",
     "output_type": "stream",
     "text": [
      "\r",
      "GettingInfo:  35%|███████████████████████▍                                           | 35/100 [04:42<08:31,  7.87s/URL]"
     ]
    },
    {
     "name": "stdout",
     "output_type": "stream",
     "text": [
      "[{'ProductURL': 'https://www.fast-growing-trees.com/products/may-night-salvia', 'ProductName': 'May Night Salvia', 'SubHeading': \"Salvia x sylvestris 'May Night'\", 'Availability': 'InStock', 'Category': '1 gallon', 'Pack': 'Single', 'RegularPrice': None, 'SalePrice': '$69.95', 'ReviewCount': '38 reviews', 'Rating': '4.4'}, {'ProductURL': 'https://www.fast-growing-trees.com/products/may-night-salvia', 'ProductName': 'May Night Salvia', 'SubHeading': \"Salvia x sylvestris 'May Night'\", 'Availability': 'InStock', 'Category': '1 gallon', 'Pack': '6-Pack', 'RegularPrice': '$419.70', 'SalePrice': '$251.82', 'ReviewCount': '38 reviews', 'Rating': '4.4'}]\n",
      "https://www.fast-growing-trees.com/products/coral-knock-out-rose-tree\n"
     ]
    },
    {
     "name": "stderr",
     "output_type": "stream",
     "text": [
      "\r",
      "GettingInfo:  36%|████████████████████████                                           | 36/100 [04:49<08:02,  7.54s/URL]"
     ]
    },
    {
     "name": "stdout",
     "output_type": "stream",
     "text": [
      "[{'ProductURL': 'https://www.fast-growing-trees.com/products/coral-knock-out-rose-tree', 'ProductName': 'Coral Knock Out® Rose Tree', 'SubHeading': 'Rosa ‘Radral’', 'Availability': 'SoldOut', 'Category': None, 'Pack': None, 'RegularPrice': None, 'SalePrice': None, 'ReviewCount': '13 reviews', 'Rating': '4.6'}]\n",
      "https://www.fast-growing-trees.com/products/lowbush-blueberry\n"
     ]
    },
    {
     "name": "stderr",
     "output_type": "stream",
     "text": [
      "\r",
      "GettingInfo:  37%|████████████████████████▊                                          | 37/100 [05:01<09:23,  8.94s/URL]"
     ]
    },
    {
     "name": "stdout",
     "output_type": "stream",
     "text": [
      "[{'ProductURL': 'https://www.fast-growing-trees.com/products/lowbush-blueberry', 'ProductName': 'Lowbush Blueberry', 'SubHeading': 'Vaccinium angustifolium', 'Availability': 'InStock', 'Category': '2 quart', 'Pack': 'Single', 'RegularPrice': None, 'SalePrice': '$34.95', 'ReviewCount': '8 reviews', 'Rating': '5.0'}, {'ProductURL': 'https://www.fast-growing-trees.com/products/lowbush-blueberry', 'ProductName': 'Lowbush Blueberry', 'SubHeading': 'Vaccinium angustifolium', 'Availability': 'InStock', 'Category': '2 quart', 'Pack': '4-Pack', 'RegularPrice': '$139.80', 'SalePrice': '$118.83', 'ReviewCount': '8 reviews', 'Rating': '5.0'}, {'ProductURL': 'https://www.fast-growing-trees.com/products/lowbush-blueberry', 'ProductName': 'Lowbush Blueberry', 'SubHeading': 'Vaccinium angustifolium', 'Availability': 'InStock', 'Category': '1 gallon', 'Pack': 'Single', 'RegularPrice': None, 'SalePrice': '$54.95', 'ReviewCount': '8 reviews', 'Rating': '5.0'}, {'ProductURL': 'https://www.fast-growing-trees.com/products/lowbush-blueberry', 'ProductName': 'Lowbush Blueberry', 'SubHeading': 'Vaccinium angustifolium', 'Availability': 'InStock', 'Category': '1 gallon', 'Pack': '4-Pack', 'RegularPrice': '$219.80', 'SalePrice': '$156.06', 'ReviewCount': '8 reviews', 'Rating': '5.0'}]\n",
      "https://www.fast-growing-trees.com/products/pink-a-boo-camellia-shrub\n"
     ]
    },
    {
     "name": "stderr",
     "output_type": "stream",
     "text": [
      "\r",
      "GettingInfo:  38%|█████████████████████████▍                                         | 38/100 [05:07<08:26,  8.17s/URL]"
     ]
    },
    {
     "name": "stdout",
     "output_type": "stream",
     "text": [
      "[{'ProductURL': 'https://www.fast-growing-trees.com/products/pink-a-boo-camellia-shrub', 'ProductName': 'Pink-A-Boo® Camellia Shrub', 'SubHeading': \"Camellia sasanqua 'Mondel' PP #21,687\", 'Availability': 'SoldOut', 'Category': None, 'Pack': None, 'RegularPrice': None, 'SalePrice': None, 'ReviewCount': '0 reviews', 'Rating': '0.0'}]\n",
      "https://www.fast-growing-trees.com/products/mouse-eared-coreopsis-plant\n"
     ]
    },
    {
     "name": "stderr",
     "output_type": "stream",
     "text": [
      "\r",
      "GettingInfo:  39%|██████████████████████████▏                                        | 39/100 [05:14<07:47,  7.67s/URL]"
     ]
    },
    {
     "name": "stdout",
     "output_type": "stream",
     "text": [
      "[{'ProductURL': 'https://www.fast-growing-trees.com/products/mouse-eared-coreopsis-plant', 'ProductName': 'Nana Coreopsis (Tickseed) Plant', 'SubHeading': \"Coreopsis auriculata 'Nana'\", 'Availability': 'SoldOut', 'Category': None, 'Pack': None, 'RegularPrice': None, 'SalePrice': None, 'ReviewCount': '1 reviews', 'Rating': '4.0'}]\n",
      "https://www.fast-growing-trees.com/products/coral-beauty-cotoneaster\n"
     ]
    },
    {
     "name": "stderr",
     "output_type": "stream",
     "text": [
      "\r",
      "GettingInfo:  40%|██████████████████████████▊                                        | 40/100 [05:21<07:28,  7.48s/URL]"
     ]
    },
    {
     "name": "stdout",
     "output_type": "stream",
     "text": [
      "[{'ProductURL': 'https://www.fast-growing-trees.com/products/coral-beauty-cotoneaster', 'ProductName': 'Coral Beauty Cotoneaster', 'SubHeading': \"Cotoneaster dammeri 'Coral Beauty'\", 'Availability': 'SoldOut', 'Category': None, 'Pack': None, 'RegularPrice': None, 'SalePrice': None, 'ReviewCount': '7 reviews', 'Rating': '5.0'}]\n",
      "https://www.fast-growing-trees.com/products/prairie-wildfire-daylily\n"
     ]
    },
    {
     "name": "stderr",
     "output_type": "stream",
     "text": [
      "\r",
      "GettingInfo:  41%|███████████████████████████▍                                       | 41/100 [05:28<07:06,  7.22s/URL]"
     ]
    },
    {
     "name": "stdout",
     "output_type": "stream",
     "text": [
      "[{'ProductURL': 'https://www.fast-growing-trees.com/products/prairie-wildfire-daylily', 'ProductName': 'Prairie Wildfire Daylily', 'SubHeading': \"Hemerocallis 'Prairie Fire'\", 'Availability': 'SoldOut', 'Category': None, 'Pack': None, 'RegularPrice': None, 'SalePrice': None, 'ReviewCount': '4 reviews', 'Rating': '5.0'}]\n",
      "https://www.fast-growing-trees.com/products/wide-brim-hosta\n"
     ]
    },
    {
     "name": "stderr",
     "output_type": "stream",
     "text": [
      "\r",
      "GettingInfo:  42%|████████████████████████████▏                                      | 42/100 [05:34<06:44,  6.97s/URL]"
     ]
    },
    {
     "name": "stdout",
     "output_type": "stream",
     "text": [
      "[{'ProductURL': 'https://www.fast-growing-trees.com/products/wide-brim-hosta', 'ProductName': 'Wide Brim Hosta', 'SubHeading': \"Hosta 'Wide Brim'\", 'Availability': 'SoldOut', 'Category': None, 'Pack': None, 'RegularPrice': None, 'SalePrice': None, 'ReviewCount': '5 reviews', 'Rating': '5.0'}]\n",
      "https://www.fast-growing-trees.com/products/jonagold-apple-tree\n"
     ]
    },
    {
     "name": "stderr",
     "output_type": "stream",
     "text": [
      "\r",
      "GettingInfo:  43%|████████████████████████████▊                                      | 43/100 [05:45<07:53,  8.31s/URL]"
     ]
    },
    {
     "name": "stdout",
     "output_type": "stream",
     "text": [
      "[{'ProductURL': 'https://www.fast-growing-trees.com/products/jonagold-apple-tree', 'ProductName': 'Jonagold Apple Tree', 'SubHeading': \"Malus domestica 'Jonagold'\", 'Availability': 'InStock', 'Category': '3-4 feet', 'Pack': None, 'RegularPrice': None, 'SalePrice': '$129.95', 'ReviewCount': '1 reviews', 'Rating': '5.0'}, {'ProductURL': 'https://www.fast-growing-trees.com/products/jonagold-apple-tree', 'ProductName': 'Jonagold Apple Tree', 'SubHeading': \"Malus domestica 'Jonagold'\", 'Availability': 'InStock', 'Category': '4-5 feet', 'Pack': None, 'RegularPrice': None, 'SalePrice': '$149.95', 'ReviewCount': '1 reviews', 'Rating': '5.0'}]\n",
      "https://www.fast-growing-trees.com/products/weeping-norway-spruce-tree\n"
     ]
    },
    {
     "name": "stderr",
     "output_type": "stream",
     "text": [
      "\r",
      "GettingInfo:  44%|█████████████████████████████▍                                     | 44/100 [05:52<07:21,  7.89s/URL]"
     ]
    },
    {
     "name": "stdout",
     "output_type": "stream",
     "text": [
      "[{'ProductURL': 'https://www.fast-growing-trees.com/products/weeping-norway-spruce-tree', 'ProductName': 'Weeping Norway Spruce Tree', 'SubHeading': \"Picea abies 'Pendula'\", 'Availability': 'InStock', 'Category': '1-2 feet', 'Pack': None, 'RegularPrice': '$79.95', 'SalePrice': '$54.95', 'ReviewCount': '5 reviews', 'Rating': '4.8'}]\n",
      "https://www.fast-growing-trees.com/products/miscanthus-gracillimus\n"
     ]
    },
    {
     "name": "stderr",
     "output_type": "stream",
     "text": [
      "\r",
      "GettingInfo:  45%|██████████████████████████████▏                                    | 45/100 [06:00<07:04,  7.73s/URL]"
     ]
    },
    {
     "name": "stdout",
     "output_type": "stream",
     "text": [
      "[{'ProductURL': 'https://www.fast-growing-trees.com/products/miscanthus-gracillimus', 'ProductName': 'Miscanthus Gracillimus (Maiden Grass)', 'SubHeading': \"Miscanthus sinensis 'Gracillimus'\", 'Availability': 'SoldOut', 'Category': None, 'Pack': None, 'RegularPrice': None, 'SalePrice': None, 'ReviewCount': '8 reviews', 'Rating': '5.0'}]\n",
      "https://www.fast-growing-trees.com/products/weeping-yoshino-cherry-tree\n"
     ]
    },
    {
     "name": "stderr",
     "output_type": "stream",
     "text": [
      "\r",
      "GettingInfo:  46%|██████████████████████████████▊                                    | 46/100 [06:06<06:40,  7.42s/URL]"
     ]
    },
    {
     "name": "stdout",
     "output_type": "stream",
     "text": [
      "[{'ProductURL': 'https://www.fast-growing-trees.com/products/weeping-yoshino-cherry-tree', 'ProductName': 'Weeping Yoshino Cherry Tree', 'SubHeading': 'Prunus x yedoensis pendula', 'Availability': 'SoldOut', 'Category': None, 'Pack': None, 'RegularPrice': None, 'SalePrice': None, 'ReviewCount': '17 reviews', 'Rating': '4.7'}]\n",
      "https://www.fast-growing-trees.com/products/hannahs-choice-blueberry\n"
     ]
    },
    {
     "name": "stderr",
     "output_type": "stream",
     "text": [
      "\r",
      "GettingInfo:  47%|███████████████████████████████▍                                   | 47/100 [06:15<06:48,  7.71s/URL]"
     ]
    },
    {
     "name": "stdout",
     "output_type": "stream",
     "text": [
      "[{'ProductURL': 'https://www.fast-growing-trees.com/products/hannahs-choice-blueberry', 'ProductName': \"Hannah's Choice Highbush Blueberry\", 'SubHeading': \"Vaccinium corymbosum 'Hannah's Choice'\", 'Availability': 'InStock', 'Category': '2 gallon', 'Pack': 'Single', 'RegularPrice': None, 'SalePrice': '$49.95', 'ReviewCount': '15 reviews', 'Rating': '4.9'}, {'ProductURL': 'https://www.fast-growing-trees.com/products/hannahs-choice-blueberry', 'ProductName': \"Hannah's Choice Highbush Blueberry\", 'SubHeading': \"Vaccinium corymbosum 'Hannah's Choice'\", 'Availability': 'InStock', 'Category': '2 gallon', 'Pack': '4-Pack', 'RegularPrice': '$199.80', 'SalePrice': '$169.83', 'ReviewCount': '15 reviews', 'Rating': '4.9'}]\n",
      "https://www.fast-growing-trees.com/products/julia-child-ebb-tide-rose-tree\n"
     ]
    },
    {
     "name": "stderr",
     "output_type": "stream",
     "text": [
      "\r",
      "GettingInfo:  48%|████████████████████████████████▏                                  | 48/100 [06:21<06:22,  7.36s/URL]"
     ]
    },
    {
     "name": "stdout",
     "output_type": "stream",
     "text": [
      "[{'ProductURL': 'https://www.fast-growing-trees.com/products/julia-child-ebb-tide-rose-tree', 'ProductName': 'Julia Child and Ebb Tide™ Two-fer® Rose Tree', 'SubHeading': 'Rosa WEKsmopur / WEKvossutono', 'Availability': 'SoldOut', 'Category': None, 'Pack': None, 'RegularPrice': None, 'SalePrice': None, 'ReviewCount': '13 reviews', 'Rating': '4.7'}]\n",
      "https://www.fast-growing-trees.com/products/livin-easy-easy-going-rose-tree\n"
     ]
    },
    {
     "name": "stderr",
     "output_type": "stream",
     "text": [
      "\r",
      "GettingInfo:  49%|████████████████████████████████▊                                  | 49/100 [06:28<06:07,  7.20s/URL]"
     ]
    },
    {
     "name": "stdout",
     "output_type": "stream",
     "text": [
      "[{'ProductURL': 'https://www.fast-growing-trees.com/products/livin-easy-easy-going-rose-tree', 'ProductName': \"Livin' Easy™ and Easy-Going™ Two-fer® Rose Tree\", 'SubHeading': 'Rosa HARflow / HARwelcome', 'Availability': 'SoldOut', 'Category': None, 'Pack': None, 'RegularPrice': None, 'SalePrice': None, 'ReviewCount': '16 reviews', 'Rating': '4.7'}]\n",
      "https://www.fast-growing-trees.com/products/burgundy-iceberg-iceberg-rose-tree\n"
     ]
    },
    {
     "name": "stderr",
     "output_type": "stream",
     "text": [
      "\r",
      "GettingInfo:  50%|█████████████████████████████████▌                                 | 50/100 [06:35<05:53,  7.06s/URL]"
     ]
    },
    {
     "name": "stdout",
     "output_type": "stream",
     "text": [
      "[{'ProductURL': 'https://www.fast-growing-trees.com/products/burgundy-iceberg-iceberg-rose-tree', 'ProductName': 'Burgundy Iceberg and Iceberg Two-fer® Rose Tree', 'SubHeading': \"Rosa x 'PROse', Rosa x 'KORbin'\", 'Availability': 'SoldOut', 'Category': None, 'Pack': None, 'RegularPrice': None, 'SalePrice': None, 'ReviewCount': '21 reviews', 'Rating': '4.5'}]\n",
      "https://www.fast-growing-trees.com/products/celestial-night-rose-tree\n"
     ]
    },
    {
     "name": "stderr",
     "output_type": "stream",
     "text": [
      "\r",
      "GettingInfo:  51%|██████████████████████████████████▏                                | 51/100 [06:41<05:35,  6.84s/URL]"
     ]
    },
    {
     "name": "stdout",
     "output_type": "stream",
     "text": [
      "[{'ProductURL': 'https://www.fast-growing-trees.com/products/celestial-night-rose-tree', 'ProductName': 'Celestial Night™ Rose Tree', 'SubHeading': 'Rosa WEKebtigrad', 'Availability': 'SoldOut', 'Category': None, 'Pack': None, 'RegularPrice': None, 'SalePrice': None, 'ReviewCount': '7 reviews', 'Rating': '4.6'}]\n",
      "https://www.fast-growing-trees.com/products/watering-can\n"
     ]
    },
    {
     "name": "stderr",
     "output_type": "stream",
     "text": [
      "\r",
      "GettingInfo:  52%|██████████████████████████████████▊                                | 52/100 [06:50<06:03,  7.56s/URL]"
     ]
    },
    {
     "name": "stdout",
     "output_type": "stream",
     "text": [
      "[{'ProductURL': 'https://www.fast-growing-trees.com/products/watering-can', 'ProductName': 'Watering Can', 'SubHeading': '', 'Availability': 'InStock', 'Category': 'Watering Can', 'Pack': None, 'RegularPrice': None, 'SalePrice': '$5.95', 'ReviewCount': '7 reviews', 'Rating': '4.4'}]\n",
      "https://www.fast-growing-trees.com/products/lavender-lace-crape-myrtle-tree\n"
     ]
    },
    {
     "name": "stderr",
     "output_type": "stream",
     "text": [
      "\r",
      "GettingInfo:  53%|███████████████████████████████████▌                               | 53/100 [06:57<05:46,  7.36s/URL]"
     ]
    },
    {
     "name": "stdout",
     "output_type": "stream",
     "text": [
      "[{'ProductURL': 'https://www.fast-growing-trees.com/products/lavender-lace-crape-myrtle-tree', 'ProductName': 'Black Diamond® Lavender Lace™ Crape Myrtle Tree', 'SubHeading': \"Lagerstroemia indica 'PP 27335'\", 'Availability': 'SoldOut', 'Category': None, 'Pack': None, 'RegularPrice': None, 'SalePrice': None, 'ReviewCount': '1 reviews', 'Rating': '5.0'}]\n",
      "https://www.fast-growing-trees.com/products/variegated-dwarf-umbrella-tree\n"
     ]
    },
    {
     "name": "stderr",
     "output_type": "stream",
     "text": [
      "\r",
      "GettingInfo:  54%|████████████████████████████████████▏                              | 54/100 [07:04<05:31,  7.20s/URL]"
     ]
    },
    {
     "name": "stdout",
     "output_type": "stream",
     "text": [
      "[{'ProductURL': 'https://www.fast-growing-trees.com/products/variegated-dwarf-umbrella-tree', 'ProductName': 'Variegated Dwarf Umbrella - Schefflera Trinette', 'SubHeading': \"Schefflera arboricola 'Trinette'\", 'Availability': 'InStock', 'Category': '3 gallon', 'Pack': None, 'RegularPrice': '$74.95', 'SalePrice': '$59.95', 'ReviewCount': '18 reviews', 'Rating': '4.7'}]\n",
      "https://www.fast-growing-trees.com/products/crimson-fire-loropetalum\n"
     ]
    },
    {
     "name": "stderr",
     "output_type": "stream",
     "text": [
      "\r",
      "GettingInfo:  55%|████████████████████████████████████▊                              | 55/100 [07:13<05:53,  7.86s/URL]"
     ]
    },
    {
     "name": "stdout",
     "output_type": "stream",
     "text": [
      "[{'ProductURL': 'https://www.fast-growing-trees.com/products/crimson-fire-loropetalum', 'ProductName': 'Crimson Fire™ Loropetalum', 'SubHeading': \"Loropetalum chinense var. rubrum 'PIILC-I'\", 'Availability': 'InStock', 'Category': '3 gallon', 'Pack': 'Single', 'RegularPrice': None, 'SalePrice': '$119.95', 'ReviewCount': '7 reviews', 'Rating': '4.3'}, {'ProductURL': 'https://www.fast-growing-trees.com/products/crimson-fire-loropetalum', 'ProductName': 'Crimson Fire™ Loropetalum', 'SubHeading': \"Loropetalum chinense var. rubrum 'PIILC-I'\", 'Availability': 'InStock', 'Category': '3 gallon', 'Pack': '4-Pack', 'RegularPrice': '$479.80', 'SalePrice': '$407.83', 'ReviewCount': '7 reviews', 'Rating': '4.3'}]\n",
      "https://www.fast-growing-trees.com/products/ruby-loropetalum\n"
     ]
    },
    {
     "name": "stderr",
     "output_type": "stream",
     "text": [
      "\r",
      "GettingInfo:  56%|█████████████████████████████████████▌                             | 56/100 [07:23<06:12,  8.47s/URL]"
     ]
    },
    {
     "name": "stdout",
     "output_type": "stream",
     "text": [
      "[{'ProductURL': 'https://www.fast-growing-trees.com/products/ruby-loropetalum', 'ProductName': 'Ruby Loropetalum', 'SubHeading': \"Loropetalum chinense 'Ruby'\", 'Availability': 'InStock', 'Category': '3 gallon', 'Pack': 'Single', 'RegularPrice': None, 'SalePrice': '$139.95', 'ReviewCount': '3 reviews', 'Rating': '3.7'}, {'ProductURL': 'https://www.fast-growing-trees.com/products/ruby-loropetalum', 'ProductName': 'Ruby Loropetalum', 'SubHeading': \"Loropetalum chinense 'Ruby'\", 'Availability': 'InStock', 'Category': '3 gallon', 'Pack': '4-Pack', 'RegularPrice': '$559.80', 'SalePrice': '$341.48', 'ReviewCount': '3 reviews', 'Rating': '3.7'}, {'ProductURL': 'https://www.fast-growing-trees.com/products/ruby-loropetalum', 'ProductName': 'Ruby Loropetalum', 'SubHeading': \"Loropetalum chinense 'Ruby'\", 'Availability': 'InStock', 'Category': '7 gallon', 'Pack': 'Single', 'RegularPrice': '$259.95', 'SalePrice': '$239.95', 'ReviewCount': '3 reviews', 'Rating': '3.7'}, {'ProductURL': 'https://www.fast-growing-trees.com/products/ruby-loropetalum', 'ProductName': 'Ruby Loropetalum', 'SubHeading': \"Loropetalum chinense 'Ruby'\", 'Availability': 'InStock', 'Category': '7 gallon', 'Pack': '6-Pack', 'RegularPrice': '$1,559.70', 'SalePrice': '$1,223.75', 'ReviewCount': '3 reviews', 'Rating': '3.7'}]\n",
      "https://www.fast-growing-trees.com/products/dwarf-mugo-pine\n"
     ]
    },
    {
     "name": "stderr",
     "output_type": "stream",
     "text": [
      "\r",
      "GettingInfo:  57%|██████████████████████████████████████▏                            | 57/100 [07:36<06:54,  9.64s/URL]"
     ]
    },
    {
     "name": "stdout",
     "output_type": "stream",
     "text": [
      "[{'ProductURL': 'https://www.fast-growing-trees.com/products/dwarf-mugo-pine', 'ProductName': 'Dwarf Mugo Pine', 'SubHeading': 'Pinus mugo var. pumilio', 'Availability': 'InStock', 'Category': '1 gallon', 'Pack': 'Single', 'RegularPrice': None, 'SalePrice': '$35.95', 'ReviewCount': '32 reviews', 'Rating': '4.9'}, {'ProductURL': 'https://www.fast-growing-trees.com/products/dwarf-mugo-pine', 'ProductName': 'Dwarf Mugo Pine', 'SubHeading': 'Pinus mugo var. pumilio', 'Availability': 'InStock', 'Category': '1 gallon', 'Pack': '6-Pack', 'RegularPrice': '$215.70', 'SalePrice': '$183.35', 'ReviewCount': '32 reviews', 'Rating': '4.9'}, {'ProductURL': 'https://www.fast-growing-trees.com/products/dwarf-mugo-pine', 'ProductName': 'Dwarf Mugo Pine', 'SubHeading': 'Pinus mugo var. pumilio', 'Availability': 'InStock', 'Category': '3 gallon', 'Pack': 'Single', 'RegularPrice': None, 'SalePrice': '$189.95', 'ReviewCount': '32 reviews', 'Rating': '4.9'}, {'ProductURL': 'https://www.fast-growing-trees.com/products/dwarf-mugo-pine', 'ProductName': 'Dwarf Mugo Pine', 'SubHeading': 'Pinus mugo var. pumilio', 'Availability': 'InStock', 'Category': '3 gallon', 'Pack': '4-Pack', 'RegularPrice': '$759.80', 'SalePrice': '$645.83', 'ReviewCount': '32 reviews', 'Rating': '4.9'}]\n",
      "https://www.fast-growing-trees.com/products/fat-albert-colorado-blue-spruce\n"
     ]
    },
    {
     "name": "stderr",
     "output_type": "stream",
     "text": [
      "\r",
      "GettingInfo:  58%|██████████████████████████████████████▊                            | 58/100 [07:47<07:08, 10.21s/URL]"
     ]
    },
    {
     "name": "stdout",
     "output_type": "stream",
     "text": [
      "[{'ProductURL': 'https://www.fast-growing-trees.com/products/fat-albert-colorado-blue-spruce', 'ProductName': 'Fat Albert Colorado Blue Spruce', 'SubHeading': \"Picea pungens 'Fat Albert'\", 'Availability': 'InStock', 'Category': '1-2 feet', 'Pack': 'Single', 'RegularPrice': '$109.95', 'SalePrice': '$99.95', 'ReviewCount': '41 reviews', 'Rating': '4.9'}, {'ProductURL': 'https://www.fast-growing-trees.com/products/fat-albert-colorado-blue-spruce', 'ProductName': 'Fat Albert Colorado Blue Spruce', 'SubHeading': \"Picea pungens 'Fat Albert'\", 'Availability': 'InStock', 'Category': '1-2 feet', 'Pack': '4-Pack', 'RegularPrice': '$439.80', 'SalePrice': '$339.83', 'ReviewCount': '41 reviews', 'Rating': '4.9'}, {'ProductURL': 'https://www.fast-growing-trees.com/products/fat-albert-colorado-blue-spruce', 'ProductName': 'Fat Albert Colorado Blue Spruce', 'SubHeading': \"Picea pungens 'Fat Albert'\", 'Availability': 'InStock', 'Category': '2-3 feet', 'Pack': 'Single', 'RegularPrice': None, 'SalePrice': '$149.95', 'ReviewCount': '41 reviews', 'Rating': '4.9'}, {'ProductURL': 'https://www.fast-growing-trees.com/products/fat-albert-colorado-blue-spruce', 'ProductName': 'Fat Albert Colorado Blue Spruce', 'SubHeading': \"Picea pungens 'Fat Albert'\", 'Availability': 'InStock', 'Category': '2-3 feet', 'Pack': '4-Pack', 'RegularPrice': '$599.80', 'SalePrice': '$509.83', 'ReviewCount': '41 reviews', 'Rating': '4.9'}, {'ProductURL': 'https://www.fast-growing-trees.com/products/fat-albert-colorado-blue-spruce', 'ProductName': 'Fat Albert Colorado Blue Spruce', 'SubHeading': \"Picea pungens 'Fat Albert'\", 'Availability': 'InStock', 'Category': '3-4 feet', 'Pack': 'Single', 'RegularPrice': '$199.95', 'SalePrice': '$159.95', 'ReviewCount': '41 reviews', 'Rating': '4.9'}, {'ProductURL': 'https://www.fast-growing-trees.com/products/fat-albert-colorado-blue-spruce', 'ProductName': 'Fat Albert Colorado Blue Spruce', 'SubHeading': \"Picea pungens 'Fat Albert'\", 'Availability': 'InStock', 'Category': '3-4 feet', 'Pack': '4-Pack', 'RegularPrice': '$799.80', 'SalePrice': '$511.84', 'ReviewCount': '41 reviews', 'Rating': '4.9'}]\n",
      "https://www.fast-growing-trees.com/products/flavor-queen-pluot\n"
     ]
    },
    {
     "name": "stderr",
     "output_type": "stream",
     "text": [
      "\r",
      "GettingInfo:  59%|███████████████████████████████████████▌                           | 59/100 [07:54<06:20,  9.28s/URL]"
     ]
    },
    {
     "name": "stdout",
     "output_type": "stream",
     "text": [
      "[{'ProductURL': 'https://www.fast-growing-trees.com/products/flavor-queen-pluot', 'ProductName': 'Flavor Queen Pluot®', 'SubHeading': \"Prunus x 'Flavor Queen'\", 'Availability': 'InStock', 'Category': '5-6 feet', 'Pack': None, 'RegularPrice': '$149.95', 'SalePrice': '$99.95', 'ReviewCount': '3 reviews', 'Rating': '4.7'}]\n",
      "https://www.fast-growing-trees.com/products/weeping-white-spruce-tree\n"
     ]
    },
    {
     "name": "stderr",
     "output_type": "stream",
     "text": [
      "\r",
      "GettingInfo:  60%|████████████████████████████████████████▏                          | 60/100 [08:04<06:11,  9.28s/URL]"
     ]
    },
    {
     "name": "stdout",
     "output_type": "stream",
     "text": [
      "[{'ProductURL': 'https://www.fast-growing-trees.com/products/weeping-white-spruce-tree', 'ProductName': 'Weeping White Spruce Tree', 'SubHeading': \"Picea glauca 'Pendula'\", 'Availability': 'InStock', 'Category': '1-2 feet', 'Pack': None, 'RegularPrice': None, 'SalePrice': '$79.95', 'ReviewCount': '1 reviews', 'Rating': '5.0'}]\n",
      "https://www.fast-growing-trees.com/products/blue-enchantress-hydrangea\n"
     ]
    },
    {
     "name": "stderr",
     "output_type": "stream",
     "text": [
      "\r",
      "GettingInfo:  61%|████████████████████████████████████████▊                          | 61/100 [08:10<05:28,  8.42s/URL]"
     ]
    },
    {
     "name": "stdout",
     "output_type": "stream",
     "text": [
      "[{'ProductURL': 'https://www.fast-growing-trees.com/products/blue-enchantress-hydrangea', 'ProductName': 'Blue Enchantress® Hydrangea', 'SubHeading': \"Hydrangea macrophylla 'Monmar'\", 'Availability': 'SoldOut', 'Category': None, 'Pack': None, 'RegularPrice': None, 'SalePrice': None, 'ReviewCount': '0 reviews', 'Rating': '0.0'}]\n",
      "https://www.fast-growing-trees.com/products/blue-star-juniper-shrub\n"
     ]
    },
    {
     "name": "stderr",
     "output_type": "stream",
     "text": [
      "\r",
      "GettingInfo:  62%|█████████████████████████████████████████▌                         | 62/100 [08:25<06:34, 10.38s/URL]"
     ]
    },
    {
     "name": "stdout",
     "output_type": "stream",
     "text": [
      "[{'ProductURL': 'https://www.fast-growing-trees.com/products/blue-star-juniper-shrub', 'ProductName': 'Blue Star Juniper Shrub', 'SubHeading': \"Juniperus squamata 'Blue Star'\", 'Availability': 'InStock', 'Category': '1 gallon', 'Pack': 'Single', 'RegularPrice': None, 'SalePrice': '$54.95', 'ReviewCount': '16 reviews', 'Rating': '5.0'}, {'ProductURL': 'https://www.fast-growing-trees.com/products/blue-star-juniper-shrub', 'ProductName': 'Blue Star Juniper Shrub', 'SubHeading': \"Juniperus squamata 'Blue Star'\", 'Availability': 'InStock', 'Category': '1 gallon', 'Pack': '4-Pack', 'RegularPrice': '$219.80', 'SalePrice': '$186.83', 'ReviewCount': '16 reviews', 'Rating': '5.0'}, {'ProductURL': 'https://www.fast-growing-trees.com/products/blue-star-juniper-shrub', 'ProductName': 'Blue Star Juniper Shrub', 'SubHeading': \"Juniperus squamata 'Blue Star'\", 'Availability': 'InStock', 'Category': '2 gallon', 'Pack': 'Single', 'RegularPrice': None, 'SalePrice': '$89.95', 'ReviewCount': '16 reviews', 'Rating': '5.0'}, {'ProductURL': 'https://www.fast-growing-trees.com/products/blue-star-juniper-shrub', 'ProductName': 'Blue Star Juniper Shrub', 'SubHeading': \"Juniperus squamata 'Blue Star'\", 'Availability': 'InStock', 'Category': '2 gallon', 'Pack': '4-Pack', 'RegularPrice': '$359.80', 'SalePrice': '$305.83', 'ReviewCount': '16 reviews', 'Rating': '5.0'}, {'ProductURL': 'https://www.fast-growing-trees.com/products/blue-star-juniper-shrub', 'ProductName': 'Blue Star Juniper Shrub', 'SubHeading': \"Juniperus squamata 'Blue Star'\", 'Availability': 'InStock', 'Category': '5 gallon', 'Pack': None, 'RegularPrice': None, 'SalePrice': '$179.95', 'ReviewCount': '16 reviews', 'Rating': '5.0'}]\n",
      "https://www.fast-growing-trees.com/products/horseradish-plant\n"
     ]
    },
    {
     "name": "stderr",
     "output_type": "stream",
     "text": [
      "\r",
      "GettingInfo:  63%|██████████████████████████████████████████▏                        | 63/100 [08:32<05:47,  9.39s/URL]"
     ]
    },
    {
     "name": "stdout",
     "output_type": "stream",
     "text": [
      "[{'ProductURL': 'https://www.fast-growing-trees.com/products/horseradish-plant', 'ProductName': 'Horseradish Plant', 'SubHeading': 'Armoracia rusticana', 'Availability': 'SoldOut', 'Category': None, 'Pack': None, 'RegularPrice': None, 'SalePrice': None, 'ReviewCount': '1 reviews', 'Rating': '5.0'}]\n",
      "https://www.fast-growing-trees.com/products/all-in-one-house-plant-starter-kit\n"
     ]
    },
    {
     "name": "stderr",
     "output_type": "stream",
     "text": [
      "\r",
      "GettingInfo:  64%|██████████████████████████████████████████▉                        | 64/100 [08:42<05:43,  9.55s/URL]"
     ]
    },
    {
     "name": "stdout",
     "output_type": "stream",
     "text": [
      "[{'ProductURL': 'https://www.fast-growing-trees.com/products/all-in-one-house-plant-starter-kit', 'ProductName': 'All-in-One House Plant Starter Kit', 'SubHeading': 'Monstera deliciosa, Ficus benjamina', 'Availability': 'InStock', 'Category': 'All-In-One Houseplant Starter Kit', 'Pack': None, 'RegularPrice': None, 'SalePrice': '$209.95', 'ReviewCount': '5 reviews', 'Rating': '4.6'}]\n",
      "https://www.fast-growing-trees.com/products/little-kitten-maiden-grass\n"
     ]
    },
    {
     "name": "stderr",
     "output_type": "stream",
     "text": [
      "\r",
      "GettingInfo:  65%|███████████████████████████████████████████▌                       | 65/100 [08:52<05:34,  9.56s/URL]"
     ]
    },
    {
     "name": "stdout",
     "output_type": "stream",
     "text": [
      "[{'ProductURL': 'https://www.fast-growing-trees.com/products/little-kitten-maiden-grass', 'ProductName': 'Little Kitten Maiden Grass', 'SubHeading': \"Miscanthus sinensis 'Little Kitten'\", 'Availability': 'InStock', 'Category': '3 gallon', 'Pack': 'Single', 'RegularPrice': None, 'SalePrice': '$89.95', 'ReviewCount': '4 reviews', 'Rating': '4.8'}, {'ProductURL': 'https://www.fast-growing-trees.com/products/little-kitten-maiden-grass', 'ProductName': 'Little Kitten Maiden Grass', 'SubHeading': \"Miscanthus sinensis 'Little Kitten'\", 'Availability': 'InStock', 'Category': '3 gallon', 'Pack': '4-Pack', 'RegularPrice': '$359.80', 'SalePrice': '$305.83', 'ReviewCount': '4 reviews', 'Rating': '4.8'}]\n",
      "https://www.fast-growing-trees.com/products/powwow-wild-berry-coneflower\n"
     ]
    },
    {
     "name": "stderr",
     "output_type": "stream",
     "text": [
      "\r",
      "GettingInfo:  66%|████████████████████████████████████████████▏                      | 66/100 [08:57<04:46,  8.43s/URL]"
     ]
    },
    {
     "name": "stdout",
     "output_type": "stream",
     "text": [
      "[{'ProductURL': 'https://www.fast-growing-trees.com/products/powwow-wild-berry-coneflower', 'ProductName': 'PowWow® Wild Berry Coneflower (Echinacea)', 'SubHeading': \"Echinacea purpurea 'PAS702917'\", 'Availability': 'SoldOut', 'Category': None, 'Pack': None, 'RegularPrice': None, 'SalePrice': None, 'ReviewCount': '3 reviews', 'Rating': '3.7'}]\n",
      "https://www.fast-growing-trees.com/products/powwow-white-coneflower\n"
     ]
    },
    {
     "name": "stderr",
     "output_type": "stream",
     "text": [
      "\r",
      "GettingInfo:  67%|████████████████████████████████████████████▉                      | 67/100 [09:05<04:24,  8.02s/URL]"
     ]
    },
    {
     "name": "stdout",
     "output_type": "stream",
     "text": [
      "[{'ProductURL': 'https://www.fast-growing-trees.com/products/powwow-white-coneflower', 'ProductName': 'PowWow® White Coneflower (Echinacea)', 'SubHeading': \"Echinacea purpurea 'PAS702918'\", 'Availability': 'SoldOut', 'Category': None, 'Pack': None, 'RegularPrice': None, 'SalePrice': None, 'ReviewCount': '4 reviews', 'Rating': '5.0'}]\n",
      "https://www.fast-growing-trees.com/products/durian-fruit\n"
     ]
    },
    {
     "name": "stderr",
     "output_type": "stream",
     "text": [
      "\r",
      "GettingInfo:  68%|█████████████████████████████████████████████▌                     | 68/100 [09:12<04:08,  7.77s/URL]"
     ]
    },
    {
     "name": "stdout",
     "output_type": "stream",
     "text": [
      "[{'ProductURL': 'https://www.fast-growing-trees.com/products/durian-fruit', 'ProductName': 'Durian Fruit', 'SubHeading': 'Durio zibethinus', 'Availability': 'SoldOut', 'Category': None, 'Pack': None, 'RegularPrice': None, 'SalePrice': None, 'ReviewCount': '2 reviews', 'Rating': '5.0'}]\n",
      "https://www.fast-growing-trees.com/products/lo-and-behold-blue-chip-butterfly-bush\n"
     ]
    },
    {
     "name": "stderr",
     "output_type": "stream",
     "text": [
      "\r",
      "GettingInfo:  69%|██████████████████████████████████████████████▏                    | 69/100 [09:22<04:23,  8.51s/URL]"
     ]
    },
    {
     "name": "stdout",
     "output_type": "stream",
     "text": [
      "[{'ProductURL': 'https://www.fast-growing-trees.com/products/lo-and-behold-blue-chip-butterfly-bush', 'ProductName': \"Lo and Behold® 'Blue Chip' Butterfly Bush\", 'SubHeading': \"Buddleia x 'Blue Chip'\", 'Availability': 'InStock', 'Category': '3 gallon', 'Pack': 'Single', 'RegularPrice': None, 'SalePrice': '$139.95', 'ReviewCount': '0 reviews', 'Rating': '0.0'}, {'ProductURL': 'https://www.fast-growing-trees.com/products/lo-and-behold-blue-chip-butterfly-bush', 'ProductName': \"Lo and Behold® 'Blue Chip' Butterfly Bush\", 'SubHeading': \"Buddleia x 'Blue Chip'\", 'Availability': 'InStock', 'Category': '3 gallon', 'Pack': '4-Pack', 'RegularPrice': '$559.80', 'SalePrice': '$475.83', 'ReviewCount': '0 reviews', 'Rating': '0.0'}]\n",
      "https://www.fast-growing-trees.com/products/ficus-triangularis\n"
     ]
    },
    {
     "name": "stderr",
     "output_type": "stream",
     "text": [
      "\r",
      "GettingInfo:  70%|██████████████████████████████████████████████▉                    | 70/100 [09:38<05:24, 10.82s/URL]"
     ]
    },
    {
     "name": "stdout",
     "output_type": "stream",
     "text": [
      "[{'ProductURL': 'https://www.fast-growing-trees.com/products/ficus-triangularis', 'ProductName': 'Variegated Ficus Triangularis', 'SubHeading': \"Ficus triangularis 'Variegata'\", 'Availability': 'InStock', 'Category': '6 inch', 'Pack': 'No Pot', 'RegularPrice': None, 'SalePrice': '$44.95', 'ReviewCount': '13 reviews', 'Rating': '4.7'}, {'ProductURL': 'https://www.fast-growing-trees.com/products/ficus-triangularis', 'ProductName': 'Variegated Ficus Triangularis', 'SubHeading': \"Ficus triangularis 'Variegata'\", 'Availability': 'InStock', 'Category': '6 inch', 'Pack': 'White Delilah', 'RegularPrice': None, 'SalePrice': '$64.95', 'ReviewCount': '13 reviews', 'Rating': '4.7'}, {'ProductURL': 'https://www.fast-growing-trees.com/products/ficus-triangularis', 'ProductName': 'Variegated Ficus Triangularis', 'SubHeading': \"Ficus triangularis 'Variegata'\", 'Availability': 'InStock', 'Category': '1 gallon', 'Pack': None, 'RegularPrice': None, 'SalePrice': '$49.95', 'ReviewCount': '13 reviews', 'Rating': '4.7'}, {'ProductURL': 'https://www.fast-growing-trees.com/products/ficus-triangularis', 'ProductName': 'Variegated Ficus Triangularis', 'SubHeading': \"Ficus triangularis 'Variegata'\", 'Availability': 'InStock', 'Category': '3 gallon', 'Pack': None, 'RegularPrice': '$129.95', 'SalePrice': '$69.95', 'ReviewCount': '13 reviews', 'Rating': '4.7'}]\n",
      "https://www.fast-growing-trees.com/products/purple-pixie-loropetalum\n"
     ]
    },
    {
     "name": "stderr",
     "output_type": "stream",
     "text": [
      "\r",
      "GettingInfo:  71%|███████████████████████████████████████████████▌                   | 71/100 [09:46<04:44,  9.81s/URL]"
     ]
    },
    {
     "name": "stdout",
     "output_type": "stream",
     "text": [
      "[{'ProductURL': 'https://www.fast-growing-trees.com/products/purple-pixie-loropetalum', 'ProductName': 'Purple Pixie® Dwarf Weeping Loropetalum', 'SubHeading': \"Loropetalum chinense 'Peack' PP18441\", 'Availability': 'SoldOut', 'Category': None, 'Pack': None, 'RegularPrice': None, 'SalePrice': None, 'ReviewCount': '0 reviews', 'Rating': '0.0'}]\n",
      "https://www.fast-growing-trees.com/products/blue-dune-lyme-grass\n"
     ]
    },
    {
     "name": "stderr",
     "output_type": "stream",
     "text": [
      "\r",
      "GettingInfo:  72%|████████████████████████████████████████████████▏                  | 72/100 [09:53<04:13,  9.06s/URL]"
     ]
    },
    {
     "name": "stdout",
     "output_type": "stream",
     "text": [
      "[{'ProductURL': 'https://www.fast-growing-trees.com/products/blue-dune-lyme-grass', 'ProductName': 'Blue Dune Lyme Grass', 'SubHeading': \"Elymus arenarius 'Blue Dune'\", 'Availability': 'SoldOut', 'Category': None, 'Pack': None, 'RegularPrice': None, 'SalePrice': None, 'ReviewCount': '0 reviews', 'Rating': '5.0'}]\n",
      "https://www.fast-growing-trees.com/products/scentsation-honeysuckle-vine\n"
     ]
    },
    {
     "name": "stderr",
     "output_type": "stream",
     "text": [
      "\r",
      "GettingInfo:  73%|████████████████████████████████████████████████▉                  | 73/100 [10:00<03:48,  8.46s/URL]"
     ]
    },
    {
     "name": "stdout",
     "output_type": "stream",
     "text": [
      "[{'ProductURL': 'https://www.fast-growing-trees.com/products/scentsation-honeysuckle-vine', 'ProductName': \"Scentsation' Honeysuckle Vine\", 'SubHeading': 'Lonicera periclymenum', 'Availability': 'SoldOut', 'Category': None, 'Pack': None, 'RegularPrice': None, 'SalePrice': None, 'ReviewCount': '29 reviews', 'Rating': '4.8'}]\n",
      "https://www.fast-growing-trees.com/products/multicolor-angel-trumpet-tree\n"
     ]
    },
    {
     "name": "stderr",
     "output_type": "stream",
     "text": [
      "\r",
      "GettingInfo:  74%|█████████████████████████████████████████████████▌                 | 74/100 [10:06<03:20,  7.71s/URL]"
     ]
    },
    {
     "name": "stdout",
     "output_type": "stream",
     "text": [
      "[{'ProductURL': 'https://www.fast-growing-trees.com/products/multicolor-angel-trumpet-tree', 'ProductName': 'Multicolor Angel Trumpet Tree', 'SubHeading': 'Brugmansia suaveolens', 'Availability': 'SoldOut', 'Category': None, 'Pack': None, 'RegularPrice': None, 'SalePrice': None, 'ReviewCount': '5 reviews', 'Rating': '4.2'}]\n",
      "https://www.fast-growing-trees.com/products/blue-ginger\n"
     ]
    },
    {
     "name": "stderr",
     "output_type": "stream",
     "text": [
      "\r",
      "GettingInfo:  75%|██████████████████████████████████████████████████▎                | 75/100 [10:14<03:16,  7.88s/URL]"
     ]
    },
    {
     "name": "stdout",
     "output_type": "stream",
     "text": [
      "[{'ProductURL': 'https://www.fast-growing-trees.com/products/blue-ginger', 'ProductName': 'Weeping Blue Ginger Plant', 'SubHeading': 'Dichorisandra pendulafiora', 'Availability': 'InStock', 'Category': '3 gallon', 'Pack': None, 'RegularPrice': None, 'SalePrice': '$139.95', 'ReviewCount': '6 reviews', 'Rating': '5.0'}]\n",
      "https://www.fast-growing-trees.com/products/sugar-cane\n"
     ]
    },
    {
     "name": "stderr",
     "output_type": "stream",
     "text": [
      "\r",
      "GettingInfo:  76%|██████████████████████████████████████████████████▉                | 76/100 [10:24<03:20,  8.37s/URL]"
     ]
    },
    {
     "name": "stdout",
     "output_type": "stream",
     "text": [
      "[{'ProductURL': 'https://www.fast-growing-trees.com/products/sugar-cane', 'ProductName': 'Sugar Cane', 'SubHeading': 'Saccharum officinarum', 'Availability': 'InStock', 'Category': '3 gallon', 'Pack': None, 'RegularPrice': None, 'SalePrice': '$94.95', 'ReviewCount': '7 reviews', 'Rating': '5.0'}]\n",
      "https://www.fast-growing-trees.com/products/hummingbird-tree\n"
     ]
    },
    {
     "name": "stderr",
     "output_type": "stream",
     "text": [
      "\r",
      "GettingInfo:  77%|███████████████████████████████████████████████████▌               | 77/100 [10:33<03:19,  8.69s/URL]"
     ]
    },
    {
     "name": "stdout",
     "output_type": "stream",
     "text": [
      "[{'ProductURL': 'https://www.fast-growing-trees.com/products/hummingbird-tree', 'ProductName': 'Red Hummingbird Tree (Sesbania Grandiflora)', 'SubHeading': 'Sesbania grandiflora', 'Availability': 'InStock', 'Category': '3-4 feet', 'Pack': None, 'RegularPrice': None, 'SalePrice': '$159.95', 'ReviewCount': '15 reviews', 'Rating': '4.6'}]\n",
      "https://www.fast-growing-trees.com/products/american-beauty-dragon-fruit\n"
     ]
    },
    {
     "name": "stderr",
     "output_type": "stream",
     "text": [
      "\r",
      "GettingInfo:  78%|████████████████████████████████████████████████████▎              | 78/100 [10:44<03:25,  9.35s/URL]"
     ]
    },
    {
     "name": "stdout",
     "output_type": "stream",
     "text": [
      "[{'ProductURL': 'https://www.fast-growing-trees.com/products/american-beauty-dragon-fruit', 'ProductName': 'American Beauty Dragon Fruit', 'SubHeading': 'Hylocereus guatemalensis', 'Availability': 'InStock', 'Category': '6 inch', 'Pack': None, 'RegularPrice': None, 'SalePrice': '$64.95', 'ReviewCount': '33 reviews', 'Rating': '4.6'}, {'ProductURL': 'https://www.fast-growing-trees.com/products/american-beauty-dragon-fruit', 'ProductName': 'American Beauty Dragon Fruit', 'SubHeading': 'Hylocereus guatemalensis', 'Availability': 'InStock', 'Category': '3 gallon', 'Pack': None, 'RegularPrice': None, 'SalePrice': '$84.95', 'ReviewCount': '33 reviews', 'Rating': '4.6'}]\n",
      "https://www.fast-growing-trees.com/products/loring-peach-tree-organic\n"
     ]
    },
    {
     "name": "stderr",
     "output_type": "stream",
     "text": [
      "\r",
      "GettingInfo:  79%|████████████████████████████████████████████████████▉              | 79/100 [10:51<03:03,  8.74s/URL]"
     ]
    },
    {
     "name": "stdout",
     "output_type": "stream",
     "text": [
      "[{'ProductURL': 'https://www.fast-growing-trees.com/products/loring-peach-tree-organic', 'ProductName': 'Loring Peach Tree (USDA Organic)', 'SubHeading': \"Prunus persica 'Loring'\", 'Availability': 'SoldOut', 'Category': None, 'Pack': None, 'RegularPrice': None, 'SalePrice': None, 'ReviewCount': '0 reviews', 'Rating': '0.0'}]\n",
      "https://www.fast-growing-trees.com/products/belle-of-georgia-peach-tree-organic\n"
     ]
    },
    {
     "name": "stderr",
     "output_type": "stream",
     "text": [
      "\r",
      "GettingInfo:  80%|█████████████████████████████████████████████████████▌             | 80/100 [10:59<02:46,  8.32s/URL]"
     ]
    },
    {
     "name": "stdout",
     "output_type": "stream",
     "text": [
      "[{'ProductURL': 'https://www.fast-growing-trees.com/products/belle-of-georgia-peach-tree-organic', 'ProductName': 'Belle of Georgia Peach Tree (USDA Organic)', 'SubHeading': 'Prunus persica ‘Belle of Georgia’', 'Availability': 'SoldOut', 'Category': None, 'Pack': None, 'RegularPrice': None, 'SalePrice': None, 'ReviewCount': '0 reviews', 'Rating': '0.0'}]\n",
      "https://www.fast-growing-trees.com/products/chastity-pear-tree\n"
     ]
    },
    {
     "name": "stderr",
     "output_type": "stream",
     "text": [
      "\r",
      "GettingInfo:  81%|██████████████████████████████████████████████████████▎            | 81/100 [11:05<02:23,  7.58s/URL]"
     ]
    },
    {
     "name": "stdout",
     "output_type": "stream",
     "text": [
      "[{'ProductURL': 'https://www.fast-growing-trees.com/products/chastity-pear-tree', 'ProductName': 'Chastity® Pear Tree', 'SubHeading': \"Pyrus x triploida 'NCPX2' P.A.F.\", 'Availability': 'SoldOut', 'Category': None, 'Pack': None, 'RegularPrice': None, 'SalePrice': None, 'ReviewCount': '0 reviews', 'Rating': '4.5'}]\n",
      "https://www.fast-growing-trees.com/products/yellow-trumpet-tree\n"
     ]
    },
    {
     "name": "stderr",
     "output_type": "stream",
     "text": [
      "\r",
      "GettingInfo:  82%|██████████████████████████████████████████████████████▉            | 82/100 [11:13<02:19,  7.77s/URL]"
     ]
    },
    {
     "name": "stdout",
     "output_type": "stream",
     "text": [
      "[{'ProductURL': 'https://www.fast-growing-trees.com/products/yellow-trumpet-tree', 'ProductName': 'Yellow Trumpet Tree', 'SubHeading': 'Tabebuia caraiba', 'Availability': 'InStock', 'Category': '1-2 feet', 'Pack': None, 'RegularPrice': None, 'SalePrice': '$129.95', 'ReviewCount': '6 reviews', 'Rating': '4.7'}]\n",
      "https://www.fast-growing-trees.com/products/pink-trumpet-tree\n"
     ]
    },
    {
     "name": "stderr",
     "output_type": "stream",
     "text": [
      "\r",
      "GettingInfo:  83%|███████████████████████████████████████████████████████▌           | 83/100 [11:19<02:03,  7.25s/URL]"
     ]
    },
    {
     "name": "stdout",
     "output_type": "stream",
     "text": [
      "[{'ProductURL': 'https://www.fast-growing-trees.com/products/pink-trumpet-tree', 'ProductName': 'Pink Trumpet Tree', 'SubHeading': 'Tabebuia heterophylla', 'Availability': 'SoldOut', 'Category': None, 'Pack': None, 'RegularPrice': None, 'SalePrice': None, 'ReviewCount': '13 reviews', 'Rating': '4.8'}]\n",
      "https://www.fast-growing-trees.com/products/lecciana-olive-tree\n"
     ]
    },
    {
     "name": "stderr",
     "output_type": "stream",
     "text": [
      "\r",
      "GettingInfo:  84%|████████████████████████████████████████████████████████▎          | 84/100 [11:32<02:23,  8.96s/URL]"
     ]
    },
    {
     "name": "stdout",
     "output_type": "stream",
     "text": [
      "[{'ProductURL': 'https://www.fast-growing-trees.com/products/lecciana-olive-tree', 'ProductName': 'Lecciana Olive Tree', 'SubHeading': \"Olea europaea 'Lecciana'\", 'Availability': 'InStock', 'Category': '2-3 feet', 'Pack': None, 'RegularPrice': None, 'SalePrice': '$99.95', 'ReviewCount': '10 reviews', 'Rating': '4.9'}, {'ProductURL': 'https://www.fast-growing-trees.com/products/lecciana-olive-tree', 'ProductName': 'Lecciana Olive Tree', 'SubHeading': \"Olea europaea 'Lecciana'\", 'Availability': 'InStock', 'Category': '3-4 feet', 'Pack': None, 'RegularPrice': None, 'SalePrice': '$119.95', 'ReviewCount': '10 reviews', 'Rating': '4.9'}, {'ProductURL': 'https://www.fast-growing-trees.com/products/lecciana-olive-tree', 'ProductName': 'Lecciana Olive Tree', 'SubHeading': \"Olea europaea 'Lecciana'\", 'Availability': 'InStock', 'Category': '4-5 feet', 'Pack': None, 'RegularPrice': '$159.95', 'SalePrice': '$129.95', 'ReviewCount': '10 reviews', 'Rating': '4.9'}]\n",
      "https://www.fast-growing-trees.com/products/koroneiki-olive-tree-organic\n"
     ]
    },
    {
     "name": "stderr",
     "output_type": "stream",
     "text": [
      "\r",
      "GettingInfo:  85%|████████████████████████████████████████████████████████▉          | 85/100 [11:39<02:05,  8.37s/URL]"
     ]
    },
    {
     "name": "stdout",
     "output_type": "stream",
     "text": [
      "[{'ProductURL': 'https://www.fast-growing-trees.com/products/koroneiki-olive-tree-organic', 'ProductName': 'Koroneiki Greek Olive Tree - USDA Organic', 'SubHeading': \"Olea europaea 'Koroneiki'\", 'Availability': 'SoldOut', 'Category': None, 'Pack': None, 'RegularPrice': None, 'SalePrice': None, 'ReviewCount': '0 reviews', 'Rating': '0.0'}]\n",
      "https://www.fast-growing-trees.com/products/fox-tail-agave\n"
     ]
    },
    {
     "name": "stderr",
     "output_type": "stream",
     "text": [
      "\r",
      "GettingInfo:  86%|█████████████████████████████████████████████████████████▌         | 86/100 [11:47<01:57,  8.38s/URL]"
     ]
    },
    {
     "name": "stdout",
     "output_type": "stream",
     "text": [
      "[{'ProductURL': 'https://www.fast-growing-trees.com/products/fox-tail-agave', 'ProductName': 'Fox Tail Agave', 'SubHeading': 'Agave attenuata', 'Availability': 'InStock', 'Category': '3 gallon', 'Pack': 'Single', 'RegularPrice': '$139.95', 'SalePrice': '$109.95', 'ReviewCount': '0 reviews', 'Rating': '0.0'}, {'ProductURL': 'https://www.fast-growing-trees.com/products/fox-tail-agave', 'ProductName': 'Fox Tail Agave', 'SubHeading': 'Agave attenuata', 'Availability': 'InStock', 'Category': '3 gallon', 'Pack': '4-Pack', 'RegularPrice': '$559.80', 'SalePrice': '$373.83', 'ReviewCount': '0 reviews', 'Rating': '0.0'}]\n",
      "https://www.fast-growing-trees.com/products/meyer-lemon-key-lime-bush-pack\n"
     ]
    },
    {
     "name": "stderr",
     "output_type": "stream",
     "text": [
      "\r",
      "GettingInfo:  87%|██████████████████████████████████████████████████████████▎        | 87/100 [11:58<01:59,  9.20s/URL]"
     ]
    },
    {
     "name": "stdout",
     "output_type": "stream",
     "text": [
      "[{'ProductURL': 'https://www.fast-growing-trees.com/products/meyer-lemon-key-lime-bush-pack', 'ProductName': 'Meyer Lemon + Key Lime Bush Pack', 'SubHeading': 'Citrus x meyeri, Citrus aurantifolia', 'Availability': 'InStock', 'Category': '1 Gallon', 'Pack': None, 'RegularPrice': '$89.95', 'SalePrice': '$76.95', 'ReviewCount': '28 reviews', 'Rating': '4.8'}, {'ProductURL': 'https://www.fast-growing-trees.com/products/meyer-lemon-key-lime-bush-pack', 'ProductName': 'Meyer Lemon + Key Lime Bush Pack', 'SubHeading': 'Citrus x meyeri, Citrus aurantifolia', 'Availability': 'InStock', 'Category': '1 Gallon Lemon / Lime with Citrus Care Kit', 'Pack': None, 'RegularPrice': None, 'SalePrice': '$119.95', 'ReviewCount': '28 reviews', 'Rating': '4.8'}]\n",
      "https://www.fast-growing-trees.com/products/meyer-lemon-key-lime-tree-pack\n"
     ]
    },
    {
     "name": "stderr",
     "output_type": "stream",
     "text": [
      "\r",
      "GettingInfo:  88%|██████████████████████████████████████████████████████████▉        | 88/100 [12:10<01:57,  9.83s/URL]"
     ]
    },
    {
     "name": "stdout",
     "output_type": "stream",
     "text": [
      "[{'ProductURL': 'https://www.fast-growing-trees.com/products/meyer-lemon-key-lime-tree-pack', 'ProductName': 'Meyer Lemon + Key Lime Tree Pack', 'SubHeading': \"Citrus × meyeri 'Improved,' Citrus aurantifolia\", 'Availability': 'InStock', 'Category': '2-3 ft. Lemon / Lime Pack', 'Pack': None, 'RegularPrice': None, 'SalePrice': '$229.95', 'ReviewCount': '3 reviews', 'Rating': '5.0'}, {'ProductURL': 'https://www.fast-growing-trees.com/products/meyer-lemon-key-lime-tree-pack', 'ProductName': 'Meyer Lemon + Key Lime Tree Pack', 'SubHeading': \"Citrus × meyeri 'Improved,' Citrus aurantifolia\", 'Availability': 'InStock', 'Category': '3-4 ft. Lemon / Lime Pack', 'Pack': None, 'RegularPrice': '$199.95', 'SalePrice': '$123.95', 'ReviewCount': '3 reviews', 'Rating': '5.0'}]\n",
      "https://www.fast-growing-trees.com/products/green-rocket-leyland-cypress\n"
     ]
    },
    {
     "name": "stderr",
     "output_type": "stream",
     "text": [
      "\r",
      "GettingInfo:  89%|███████████████████████████████████████████████████████████▋       | 89/100 [12:23<02:00, 10.92s/URL]"
     ]
    },
    {
     "name": "stdout",
     "output_type": "stream",
     "text": [
      "[{'ProductURL': 'https://www.fast-growing-trees.com/products/green-rocket-leyland-cypress', 'ProductName': 'Green Rocket Leyland Cypress', 'SubHeading': \"Cupressocyparis leylandii 'Green Rocket'\", 'Availability': 'InStock', 'Category': '2-3 feet', 'Pack': 'Single', 'RegularPrice': None, 'SalePrice': '$59.95', 'ReviewCount': '30 reviews', 'Rating': '4.8'}, {'ProductURL': 'https://www.fast-growing-trees.com/products/green-rocket-leyland-cypress', 'ProductName': 'Green Rocket Leyland Cypress', 'SubHeading': \"Cupressocyparis leylandii 'Green Rocket'\", 'Availability': 'InStock', 'Category': '2-3 feet', 'Pack': '6-Pack', 'RegularPrice': '$359.70', 'SalePrice': '$305.75', 'ReviewCount': '30 reviews', 'Rating': '4.8'}, {'ProductURL': 'https://www.fast-growing-trees.com/products/green-rocket-leyland-cypress', 'ProductName': 'Green Rocket Leyland Cypress', 'SubHeading': \"Cupressocyparis leylandii 'Green Rocket'\", 'Availability': 'InStock', 'Category': '3-4 feet', 'Pack': 'Single', 'RegularPrice': None, 'SalePrice': '$94.95', 'ReviewCount': '30 reviews', 'Rating': '4.8'}, {'ProductURL': 'https://www.fast-growing-trees.com/products/green-rocket-leyland-cypress', 'ProductName': 'Green Rocket Leyland Cypress', 'SubHeading': \"Cupressocyparis leylandii 'Green Rocket'\", 'Availability': 'InStock', 'Category': '3-4 feet', 'Pack': '6-Pack', 'RegularPrice': '$569.70', 'SalePrice': '$484.25', 'ReviewCount': '30 reviews', 'Rating': '4.8'}]\n",
      "https://www.fast-growing-trees.com/products/purple-diamond-loropetalum\n"
     ]
    },
    {
     "name": "stderr",
     "output_type": "stream",
     "text": [
      "\r",
      "GettingInfo:  90%|████████████████████████████████████████████████████████████▎      | 90/100 [12:31<01:38,  9.90s/URL]"
     ]
    },
    {
     "name": "stdout",
     "output_type": "stream",
     "text": [
      "[{'ProductURL': 'https://www.fast-growing-trees.com/products/purple-diamond-loropetalum', 'ProductName': 'Purple Diamond® Semi-Dwarf Loropetalum', 'SubHeading': \"Loropetalum chinense 'Shang-hi' PP18331\", 'Availability': 'SoldOut', 'Category': None, 'Pack': None, 'RegularPrice': None, 'SalePrice': None, 'ReviewCount': '1 reviews', 'Rating': '5.0'}]\n",
      "https://www.fast-growing-trees.com/products/purple-daydream-loropetalum\n"
     ]
    },
    {
     "name": "stderr",
     "output_type": "stream",
     "text": [
      "\r",
      "GettingInfo:  91%|████████████████████████████████████████████████████████████▉      | 91/100 [12:37<01:20,  9.00s/URL]"
     ]
    },
    {
     "name": "stdout",
     "output_type": "stream",
     "text": [
      "[{'ProductURL': 'https://www.fast-growing-trees.com/products/purple-daydream-loropetalum', 'ProductName': 'Purple Daydream® Dwarf Loropetalum', 'SubHeading': 'Loropetalum chinense ‘PIILC-III’ PP25471', 'Availability': 'InStock', 'Category': '3 gallon', 'Pack': 'Single', 'RegularPrice': '$129.95', 'SalePrice': '$99.95', 'ReviewCount': '3 reviews', 'Rating': '3.7'}, {'ProductURL': 'https://www.fast-growing-trees.com/products/purple-daydream-loropetalum', 'ProductName': 'Purple Daydream® Dwarf Loropetalum', 'SubHeading': 'Loropetalum chinense ‘PIILC-III’ PP25471', 'Availability': 'InStock', 'Category': '3 gallon', 'Pack': '6-Pack', 'RegularPrice': '$779.70', 'SalePrice': '$509.75', 'ReviewCount': '3 reviews', 'Rating': '3.7'}]\n",
      "https://www.fast-growing-trees.com/products/pugster-amethyst-butterfly-bush\n"
     ]
    },
    {
     "name": "stderr",
     "output_type": "stream",
     "text": [
      "\r",
      "GettingInfo:  92%|█████████████████████████████████████████████████████████████▋     | 92/100 [12:44<01:05,  8.24s/URL]"
     ]
    },
    {
     "name": "stdout",
     "output_type": "stream",
     "text": [
      "[{'ProductURL': 'https://www.fast-growing-trees.com/products/pugster-amethyst-butterfly-bush', 'ProductName': 'Pugster® Amethyst Butterfly Bush', 'SubHeading': \"Buddleia x 'Pugster'\", 'Availability': 'SoldOut', 'Category': None, 'Pack': None, 'RegularPrice': None, 'SalePrice': None, 'ReviewCount': '11 reviews', 'Rating': '4.9'}]\n",
      "https://www.fast-growing-trees.com/products/berckmans-gold-arborvitae\n"
     ]
    },
    {
     "name": "stderr",
     "output_type": "stream",
     "text": [
      "\r",
      "GettingInfo:  93%|██████████████████████████████████████████████████████████████▎    | 93/100 [12:56<01:05,  9.29s/URL]"
     ]
    },
    {
     "name": "stdout",
     "output_type": "stream",
     "text": [
      "[{'ProductURL': 'https://www.fast-growing-trees.com/products/berckmans-gold-arborvitae', 'ProductName': \"Berckman's Gold Arborvitae\", 'SubHeading': 'Platycladus orientalis ‘Aurea Nana’ ', 'Availability': 'InStock', 'Category': '1-2 feet', 'Pack': 'Single', 'RegularPrice': None, 'SalePrice': '$69.95', 'ReviewCount': '11 reviews', 'Rating': '4.9'}, {'ProductURL': 'https://www.fast-growing-trees.com/products/berckmans-gold-arborvitae', 'ProductName': \"Berckman's Gold Arborvitae\", 'SubHeading': 'Platycladus orientalis ‘Aurea Nana’ ', 'Availability': 'InStock', 'Category': '1-2 feet', 'Pack': '4-Pack', 'RegularPrice': '$279.80', 'SalePrice': '$237.83', 'ReviewCount': '11 reviews', 'Rating': '4.9'}, {'ProductURL': 'https://www.fast-growing-trees.com/products/berckmans-gold-arborvitae', 'ProductName': \"Berckman's Gold Arborvitae\", 'SubHeading': 'Platycladus orientalis ‘Aurea Nana’ ', 'Availability': 'InStock', 'Category': '2-3 feet', 'Pack': 'Single', 'RegularPrice': None, 'SalePrice': '$129.95', 'ReviewCount': '11 reviews', 'Rating': '4.9'}, {'ProductURL': 'https://www.fast-growing-trees.com/products/berckmans-gold-arborvitae', 'ProductName': \"Berckman's Gold Arborvitae\", 'SubHeading': 'Platycladus orientalis ‘Aurea Nana’ ', 'Availability': 'InStock', 'Category': '2-3 feet', 'Pack': '4-Pack', 'RegularPrice': '$519.80', 'SalePrice': '$441.83', 'ReviewCount': '11 reviews', 'Rating': '4.9'}]\n",
      "https://www.fast-growing-trees.com/products/mickey-mouse-alocasia\n"
     ]
    },
    {
     "name": "stderr",
     "output_type": "stream",
     "text": [
      "\r",
      "GettingInfo:  94%|██████████████████████████████████████████████████████████████▉    | 94/100 [13:09<01:02, 10.47s/URL]"
     ]
    },
    {
     "name": "stdout",
     "output_type": "stream",
     "text": [
      "[{'ProductURL': 'https://www.fast-growing-trees.com/products/mickey-mouse-alocasia', 'ProductName': 'Mickey Mouse Alocasia (Alocasia Xanthosoma Variegata)', 'SubHeading': 'Xanthosoma variegata', 'Availability': 'InStock', 'Category': '3 gallon', 'Pack': 'No Pot', 'RegularPrice': None, 'SalePrice': '$109.95', 'ReviewCount': '5 reviews', 'Rating': '5.0'}, {'ProductURL': 'https://www.fast-growing-trees.com/products/mickey-mouse-alocasia', 'ProductName': 'Mickey Mouse Alocasia (Alocasia Xanthosoma Variegata)', 'SubHeading': 'Xanthosoma variegata', 'Availability': 'InStock', 'Category': '3 gallon', 'Pack': 'White Delilah', 'RegularPrice': None, 'SalePrice': '$119.95', 'ReviewCount': '5 reviews', 'Rating': '5.0'}, {'ProductURL': 'https://www.fast-growing-trees.com/products/mickey-mouse-alocasia', 'ProductName': 'Mickey Mouse Alocasia (Alocasia Xanthosoma Variegata)', 'SubHeading': 'Xanthosoma variegata', 'Availability': 'InStock', 'Category': '3 gallon', 'Pack': 'Beige Delilah', 'RegularPrice': None, 'SalePrice': '$129.95', 'ReviewCount': '5 reviews', 'Rating': '5.0'}]\n",
      "https://www.fast-growing-trees.com/products/yoshino-japanese-cedar\n"
     ]
    },
    {
     "name": "stderr",
     "output_type": "stream",
     "text": [
      "\r",
      "GettingInfo:  95%|███████████████████████████████████████████████████████████████▋   | 95/100 [13:16<00:47,  9.58s/URL]"
     ]
    },
    {
     "name": "stdout",
     "output_type": "stream",
     "text": [
      "[{'ProductURL': 'https://www.fast-growing-trees.com/products/yoshino-japanese-cedar', 'ProductName': 'Yoshino Japanese Cedar', 'SubHeading': \"Cryptomeria japonica 'Yoshino'\", 'Availability': 'SoldOut', 'Category': None, 'Pack': None, 'RegularPrice': None, 'SalePrice': None, 'ReviewCount': '2 reviews', 'Rating': '4.5'}]\n",
      "https://www.fast-growing-trees.com/products/milky-way-dogwood\n"
     ]
    },
    {
     "name": "stderr",
     "output_type": "stream",
     "text": [
      "\r",
      "GettingInfo:  96%|████████████████████████████████████████████████████████████████▎  | 96/100 [13:24<00:35,  8.93s/URL]"
     ]
    },
    {
     "name": "stdout",
     "output_type": "stream",
     "text": [
      "[{'ProductURL': 'https://www.fast-growing-trees.com/products/milky-way-dogwood', 'ProductName': 'Milky Way Chinese Dogwood Tree', 'SubHeading': \"Cornus kousa var. chinensis 'Milky Way'\", 'Availability': 'SoldOut', 'Category': None, 'Pack': None, 'RegularPrice': None, 'SalePrice': None, 'ReviewCount': '8 reviews', 'Rating': '4.9'}]\n",
      "https://www.fast-growing-trees.com/products/carex-evergold\n"
     ]
    },
    {
     "name": "stderr",
     "output_type": "stream",
     "text": [
      "\r",
      "GettingInfo:  97%|████████████████████████████████████████████████████████████████▉  | 97/100 [13:31<00:25,  8.40s/URL]"
     ]
    },
    {
     "name": "stdout",
     "output_type": "stream",
     "text": [
      "[{'ProductURL': 'https://www.fast-growing-trees.com/products/carex-evergold', 'ProductName': 'Carex Evergold (Japanese Sedge)', 'SubHeading': 'Carex hachijoensis', 'Availability': 'SoldOut', 'Category': None, 'Pack': None, 'RegularPrice': None, 'SalePrice': None, 'ReviewCount': '5 reviews', 'Rating': '5.0'}]\n",
      "https://www.fast-growing-trees.com/products/all-in-one-citrus-starter-kit\n"
     ]
    },
    {
     "name": "stderr",
     "output_type": "stream",
     "text": [
      "\r",
      "GettingInfo:  98%|█████████████████████████████████████████████████████████████████▋ | 98/100 [13:40<00:17,  8.62s/URL]"
     ]
    },
    {
     "name": "stdout",
     "output_type": "stream",
     "text": [
      "[{'ProductURL': 'https://www.fast-growing-trees.com/products/all-in-one-citrus-starter-kit', 'ProductName': 'All-in-One Citrus Starter Kit', 'SubHeading': 'Citrus x meyeri; Citrus aurantifolia; Citrus mitis', 'Availability': 'InStock', 'Category': '1 Gallon Citrus Starter Kit', 'Pack': None, 'RegularPrice': None, 'SalePrice': '$219.95', 'ReviewCount': '12 reviews', 'Rating': '4.6'}, {'ProductURL': 'https://www.fast-growing-trees.com/products/all-in-one-citrus-starter-kit', 'ProductName': 'All-in-One Citrus Starter Kit', 'SubHeading': 'Citrus x meyeri; Citrus aurantifolia; Citrus mitis', 'Availability': 'InStock', 'Category': '1 Gallon Citrus Starter Kit with Citrus Care Kit', 'Pack': None, 'RegularPrice': '$169.95', 'SalePrice': '$159.95', 'ReviewCount': '12 reviews', 'Rating': '4.6'}]\n",
      "https://www.fast-growing-trees.com/products/ficus-ruby-variegated-rubber-plant\n"
     ]
    },
    {
     "name": "stderr",
     "output_type": "stream",
     "text": [
      "\r",
      "GettingInfo:  99%|██████████████████████████████████████████████████████████████████▎| 99/100 [13:51<00:09,  9.29s/URL]"
     ]
    },
    {
     "name": "stdout",
     "output_type": "stream",
     "text": [
      "[{'ProductURL': 'https://www.fast-growing-trees.com/products/ficus-ruby-variegated-rubber-plant', 'ProductName': 'Ficus Ruby (Variegated Rubber Plant)', 'SubHeading': \"Ficus elastica 'Ruby'\", 'Availability': 'InStock', 'Category': '6 inch', 'Pack': None, 'RegularPrice': None, 'SalePrice': '$34.95', 'ReviewCount': '30 reviews', 'Rating': '3.7'}, {'ProductURL': 'https://www.fast-growing-trees.com/products/ficus-ruby-variegated-rubber-plant', 'ProductName': 'Ficus Ruby (Variegated Rubber Plant)', 'SubHeading': \"Ficus elastica 'Ruby'\", 'Availability': 'InStock', 'Category': '3 gallon', 'Pack': None, 'RegularPrice': None, 'SalePrice': '$69.95', 'ReviewCount': '30 reviews', 'Rating': '3.7'}]\n",
      "https://www.fast-growing-trees.com/products/prairie-fire-sedge\n"
     ]
    },
    {
     "name": "stderr",
     "output_type": "stream",
     "text": [
      "GettingInfo: 100%|██████████████████████████████████████████████████████████████████| 100/100 [13:57<00:00,  8.37s/URL]"
     ]
    },
    {
     "name": "stdout",
     "output_type": "stream",
     "text": [
      "[{'ProductURL': 'https://www.fast-growing-trees.com/products/prairie-fire-sedge', 'ProductName': 'Prairie Fire Sedge', 'SubHeading': 'Carex testacea', 'Availability': 'SoldOut', 'Category': None, 'Pack': None, 'RegularPrice': None, 'SalePrice': None, 'ReviewCount': '0 reviews', 'Rating': '0.0'}]\n"
     ]
    },
    {
     "name": "stderr",
     "output_type": "stream",
     "text": [
      "\n"
     ]
    }
   ],
   "source": [
    "user_agents = random.choice(allowed_user_agents)\n",
    "headers = {'User-Agent': user_agents}\n",
    "chrome_options = webdriver.ChromeOptions()\n",
    "chrome_options.add_argument(f\"user-agent={headers['User-Agent']}\")\n",
    "chrome_options.add_argument('--headless')\n",
    "driver = webdriver.Chrome(options=chrome_options)\n",
    "for i in tqdm(Pro_URL[1000:1100], desc=\"GettingInfo\", unit=\"URL\"):\n",
    "    print(i)\n",
    "    df = get_product_info(i)\n",
    "    Product_details11.extend(df)\n",
    "    print(df)\n",
    "daf = pd.DataFrame(Product_details11)\n",
    "daf.to_csv('FastGrowingTrees11.csv',index=False)\n",
    "driver.quit()"
   ]
  },
  {
   "cell_type": "code",
   "execution_count": 28,
   "id": "9c9b9b1f",
   "metadata": {},
   "outputs": [
    {
     "name": "stderr",
     "output_type": "stream",
     "text": [
      "\r",
      "GettingInfo:   0%|                                                                            | 0/100 [00:00<?, ?URL/s]"
     ]
    },
    {
     "name": "stdout",
     "output_type": "stream",
     "text": [
      "https://www.fast-growing-trees.com/products/free-berry-bush-care-kit\n"
     ]
    },
    {
     "name": "stderr",
     "output_type": "stream",
     "text": [
      "\r",
      "GettingInfo:   1%|▋                                                                   | 1/100 [00:07<13:05,  7.94s/URL]"
     ]
    },
    {
     "name": "stdout",
     "output_type": "stream",
     "text": [
      "[{'ProductURL': 'https://www.fast-growing-trees.com/products/free-berry-bush-care-kit', 'ProductName': 'Free Berry Bush Care Kit', 'SubHeading': '', 'Availability': 'SoldOut', 'Category': None, 'Pack': None, 'RegularPrice': None, 'SalePrice': None, 'ReviewCount': '0 reviews', 'Rating': '0.0'}]\n",
      "https://www.fast-growing-trees.com/products/monstera-and-fiddle-leaf-fig-combo\n"
     ]
    },
    {
     "name": "stderr",
     "output_type": "stream",
     "text": [
      "\r",
      "GettingInfo:   2%|█▎                                                                  | 2/100 [00:14<11:40,  7.14s/URL]"
     ]
    },
    {
     "name": "stdout",
     "output_type": "stream",
     "text": [
      "[{'ProductURL': 'https://www.fast-growing-trees.com/products/monstera-and-fiddle-leaf-fig-combo', 'ProductName': 'Monstera Deliciosa and Fiddle Leaf Fig Combo', 'SubHeading': 'Monstera deliciosa; Ficus lyrata', 'Availability': 'SoldOut', 'Category': None, 'Pack': None, 'RegularPrice': None, 'SalePrice': None, 'ReviewCount': '11 reviews', 'Rating': '4.8'}]\n",
      "https://www.fast-growing-trees.com/products/avondale-redbud-tree\n"
     ]
    },
    {
     "name": "stderr",
     "output_type": "stream",
     "text": [
      "\r",
      "GettingInfo:   3%|██                                                                  | 3/100 [00:21<11:27,  7.09s/URL]"
     ]
    },
    {
     "name": "stdout",
     "output_type": "stream",
     "text": [
      "[{'ProductURL': 'https://www.fast-growing-trees.com/products/avondale-redbud-tree', 'ProductName': 'Avondale Redbud Tree', 'SubHeading': \"Cercis chinensis 'Avondale'\", 'Availability': 'SoldOut', 'Category': None, 'Pack': None, 'RegularPrice': None, 'SalePrice': None, 'ReviewCount': '7 reviews', 'Rating': '4.9'}]\n",
      "https://www.fast-growing-trees.com/products/white-cloud-muhly-grass\n"
     ]
    },
    {
     "name": "stderr",
     "output_type": "stream",
     "text": [
      "\r",
      "GettingInfo:   4%|██▋                                                                 | 4/100 [00:33<14:41,  9.19s/URL]"
     ]
    },
    {
     "name": "stdout",
     "output_type": "stream",
     "text": [
      "[{'ProductURL': 'https://www.fast-growing-trees.com/products/white-cloud-muhly-grass', 'ProductName': 'White Cloud Muhly Grass', 'SubHeading': \"Muhlenbergia capillaris 'White Cloud'\", 'Availability': 'InStock', 'Category': '1 gallon', 'Pack': 'Single', 'RegularPrice': None, 'SalePrice': '$59.95', 'ReviewCount': '12 reviews', 'Rating': '4.7'}, {'ProductURL': 'https://www.fast-growing-trees.com/products/white-cloud-muhly-grass', 'ProductName': 'White Cloud Muhly Grass', 'SubHeading': \"Muhlenbergia capillaris 'White Cloud'\", 'Availability': 'InStock', 'Category': '1 gallon', 'Pack': '4-Pack', 'RegularPrice': '$239.80', 'SalePrice': '$203.83', 'ReviewCount': '12 reviews', 'Rating': '4.7'}, {'ProductURL': 'https://www.fast-growing-trees.com/products/white-cloud-muhly-grass', 'ProductName': 'White Cloud Muhly Grass', 'SubHeading': \"Muhlenbergia capillaris 'White Cloud'\", 'Availability': 'InStock', 'Category': '3 gallon', 'Pack': 'Single', 'RegularPrice': None, 'SalePrice': '$74.95', 'ReviewCount': '12 reviews', 'Rating': '4.7'}, {'ProductURL': 'https://www.fast-growing-trees.com/products/white-cloud-muhly-grass', 'ProductName': 'White Cloud Muhly Grass', 'SubHeading': \"Muhlenbergia capillaris 'White Cloud'\", 'Availability': 'InStock', 'Category': '3 gallon', 'Pack': '4-Pack', 'RegularPrice': '$299.80', 'SalePrice': '$254.83', 'ReviewCount': '12 reviews', 'Rating': '4.7'}]\n",
      "https://www.fast-growing-trees.com/products/blue-pacific-juniper\n"
     ]
    },
    {
     "name": "stderr",
     "output_type": "stream",
     "text": [
      "\r",
      "GettingInfo:   5%|███▍                                                                | 5/100 [00:43<14:49,  9.36s/URL]"
     ]
    },
    {
     "name": "stdout",
     "output_type": "stream",
     "text": [
      "[{'ProductURL': 'https://www.fast-growing-trees.com/products/blue-pacific-juniper', 'ProductName': 'Blue Pacific Juniper', 'SubHeading': \"Juniperus conferta 'Blue Pacific'\", 'Availability': 'InStock', 'Category': '1 gallon', 'Pack': 'Single', 'RegularPrice': None, 'SalePrice': '$74.95', 'ReviewCount': '5 reviews', 'Rating': '4.6'}, {'ProductURL': 'https://www.fast-growing-trees.com/products/blue-pacific-juniper', 'ProductName': 'Blue Pacific Juniper', 'SubHeading': \"Juniperus conferta 'Blue Pacific'\", 'Availability': 'InStock', 'Category': '1 gallon', 'Pack': '6-Pack', 'RegularPrice': '$449.70', 'SalePrice': '$382.25', 'ReviewCount': '5 reviews', 'Rating': '4.6'}, {'ProductURL': 'https://www.fast-growing-trees.com/products/blue-pacific-juniper', 'ProductName': 'Blue Pacific Juniper', 'SubHeading': \"Juniperus conferta 'Blue Pacific'\", 'Availability': 'InStock', 'Category': '3 gallon', 'Pack': 'Single', 'RegularPrice': '$139.95', 'SalePrice': '$109.95', 'ReviewCount': '5 reviews', 'Rating': '4.6'}, {'ProductURL': 'https://www.fast-growing-trees.com/products/blue-pacific-juniper', 'ProductName': 'Blue Pacific Juniper', 'SubHeading': \"Juniperus conferta 'Blue Pacific'\", 'Availability': 'InStock', 'Category': '3 gallon', 'Pack': '6-Pack', 'RegularPrice': '$839.70', 'SalePrice': '$560.75', 'ReviewCount': '5 reviews', 'Rating': '4.6'}]\n",
      "https://www.fast-growing-trees.com/products/texas-pink-pomegranate-tree\n"
     ]
    },
    {
     "name": "stderr",
     "output_type": "stream",
     "text": [
      "\r",
      "GettingInfo:   6%|████                                                                | 6/100 [00:50<13:23,  8.55s/URL]"
     ]
    },
    {
     "name": "stdout",
     "output_type": "stream",
     "text": [
      "[{'ProductURL': 'https://www.fast-growing-trees.com/products/texas-pink-pomegranate-tree', 'ProductName': 'Texas Pink Pomegranate Tree', 'SubHeading': \"Punica granatum 'Texas Pink'\", 'Availability': 'InStock', 'Category': '2-3 feet', 'Pack': None, 'RegularPrice': '$219.95', 'SalePrice': '$109.95', 'ReviewCount': '12 reviews', 'Rating': '4.4'}]\n",
      "https://www.fast-growing-trees.com/products/pampas-grass\n"
     ]
    },
    {
     "name": "stderr",
     "output_type": "stream",
     "text": [
      "\r",
      "GettingInfo:   7%|████▊                                                               | 7/100 [00:56<12:04,  7.79s/URL]"
     ]
    },
    {
     "name": "stdout",
     "output_type": "stream",
     "text": [
      "[{'ProductURL': 'https://www.fast-growing-trees.com/products/pampas-grass', 'ProductName': 'Pampas Grass', 'SubHeading': 'Cortaderia selloana', 'Availability': 'SoldOut', 'Category': None, 'Pack': None, 'RegularPrice': None, 'SalePrice': None, 'ReviewCount': '39 reviews', 'Rating': '4.6'}]\n",
      "https://www.fast-growing-trees.com/products/power-planter-planting-auger\n"
     ]
    },
    {
     "name": "stderr",
     "output_type": "stream",
     "text": [
      "\r",
      "GettingInfo:   8%|█████▍                                                              | 8/100 [01:05<12:18,  8.02s/URL]"
     ]
    },
    {
     "name": "stdout",
     "output_type": "stream",
     "text": [
      "[{'ProductURL': 'https://www.fast-growing-trees.com/products/power-planter-planting-auger', 'ProductName': 'Power Planter® Planting Auger', 'SubHeading': '', 'Availability': 'InStock', 'Category': 'Power Planter Auger', 'Pack': None, 'RegularPrice': None, 'SalePrice': '$29.95', 'ReviewCount': '14 reviews', 'Rating': '4.5'}]\n",
      "https://www.fast-growing-trees.com/products/royal-white-redbud-tree\n"
     ]
    },
    {
     "name": "stderr",
     "output_type": "stream",
     "text": [
      "\r",
      "GettingInfo:   9%|██████                                                              | 9/100 [01:11<11:22,  7.50s/URL]"
     ]
    },
    {
     "name": "stdout",
     "output_type": "stream",
     "text": [
      "[{'ProductURL': 'https://www.fast-growing-trees.com/products/royal-white-redbud-tree', 'ProductName': 'Royal White Redbud Tree', 'SubHeading': \"Cercis canadensis 'Royal White'\", 'Availability': 'SoldOut', 'Category': None, 'Pack': None, 'RegularPrice': None, 'SalePrice': None, 'ReviewCount': '1 reviews', 'Rating': '5.0'}]\n",
      "https://www.fast-growing-trees.com/products/barista-kit\n"
     ]
    },
    {
     "name": "stderr",
     "output_type": "stream",
     "text": [
      "\r",
      "GettingInfo:  10%|██████▋                                                            | 10/100 [01:18<10:42,  7.14s/URL]"
     ]
    },
    {
     "name": "stdout",
     "output_type": "stream",
     "text": [
      "[{'ProductURL': 'https://www.fast-growing-trees.com/products/barista-kit', 'ProductName': 'Barista Kit', 'SubHeading': 'Coffee arabica; Camellia sinensis var. sinensis f. macrophylla; Saccharum officinarum', 'Availability': 'SoldOut', 'Category': None, 'Pack': None, 'RegularPrice': None, 'SalePrice': None, 'ReviewCount': '2 reviews', 'Rating': '5.0'}]\n",
      "https://www.fast-growing-trees.com/products/salsa-kit\n"
     ]
    },
    {
     "name": "stderr",
     "output_type": "stream",
     "text": [
      "\r",
      "GettingInfo:  11%|███████▎                                                           | 11/100 [01:25<10:33,  7.12s/URL]"
     ]
    },
    {
     "name": "stdout",
     "output_type": "stream",
     "text": [
      "[{'ProductURL': 'https://www.fast-growing-trees.com/products/salsa-kit', 'ProductName': 'Salsa Kit', 'SubHeading': \"Mangifera indica 'Glenn'; Ananas comosus 'Florida Special'\", 'Availability': 'SoldOut', 'Category': None, 'Pack': None, 'RegularPrice': None, 'SalePrice': None, 'ReviewCount': '0 reviews', 'Rating': '0.0'}]\n",
      "https://www.fast-growing-trees.com/products/mango-kit\n"
     ]
    },
    {
     "name": "stderr",
     "output_type": "stream",
     "text": [
      "\r",
      "GettingInfo:  12%|████████                                                           | 12/100 [01:31<10:02,  6.85s/URL]"
     ]
    },
    {
     "name": "stdout",
     "output_type": "stream",
     "text": [
      "[{'ProductURL': 'https://www.fast-growing-trees.com/products/mango-kit', 'ProductName': 'Mango Kit', 'SubHeading': \"Mangifera indica; Mangifera indica 'Glenn'\", 'Availability': 'SoldOut', 'Category': None, 'Pack': None, 'RegularPrice': None, 'SalePrice': None, 'ReviewCount': '0 reviews', 'Rating': '0.0'}]\n",
      "https://www.fast-growing-trees.com/products/healthy-superfoods-kit\n"
     ]
    },
    {
     "name": "stderr",
     "output_type": "stream",
     "text": [
      "\r",
      "GettingInfo:  13%|████████▋                                                          | 13/100 [01:37<09:44,  6.71s/URL]"
     ]
    },
    {
     "name": "stdout",
     "output_type": "stream",
     "text": [
      "[{'ProductURL': 'https://www.fast-growing-trees.com/products/healthy-superfoods-kit', 'ProductName': 'Healthy Superfoods Kit', 'SubHeading': 'Hylocereus undatus; Lycium barbarum', 'Availability': 'SoldOut', 'Category': None, 'Pack': None, 'RegularPrice': None, 'SalePrice': None, 'ReviewCount': '2 reviews', 'Rating': '5.0'}]\n",
      "https://www.fast-growing-trees.com/products/wine-lovers-kit\n"
     ]
    },
    {
     "name": "stderr",
     "output_type": "stream",
     "text": [
      "\r",
      "GettingInfo:  14%|█████████▍                                                         | 14/100 [01:43<09:22,  6.54s/URL]"
     ]
    },
    {
     "name": "stdout",
     "output_type": "stream",
     "text": [
      "[{'ProductURL': 'https://www.fast-growing-trees.com/products/wine-lovers-kit', 'ProductName': \"Wine Lover's Kit\", 'SubHeading': \"Vitis rotundifolia 'Carlos'; Vitis rotundifolia 'Summit'\", 'Availability': 'SoldOut', 'Category': None, 'Pack': None, 'RegularPrice': None, 'SalePrice': None, 'ReviewCount': '2 reviews', 'Rating': '4.8'}]\n",
      "https://www.fast-growing-trees.com/products/smoothie-kit\n"
     ]
    },
    {
     "name": "stderr",
     "output_type": "stream",
     "text": [
      "\r",
      "GettingInfo:  15%|██████████                                                         | 15/100 [01:50<09:11,  6.49s/URL]"
     ]
    },
    {
     "name": "stdout",
     "output_type": "stream",
     "text": [
      "[{'ProductURL': 'https://www.fast-growing-trees.com/products/smoothie-kit', 'ProductName': 'Smoothie Kit', 'SubHeading': \"Persea americana 'Hass'; Musa acuminata; Mangifera indica 'Glenn'; Carica papaya 'Red Lady'\", 'Availability': 'SoldOut', 'Category': None, 'Pack': None, 'RegularPrice': None, 'SalePrice': None, 'ReviewCount': '0 reviews', 'Rating': '4.0'}]\n",
      "https://www.fast-growing-trees.com/products/rare-house-plant-kit\n"
     ]
    },
    {
     "name": "stderr",
     "output_type": "stream",
     "text": [
      "\r",
      "GettingInfo:  16%|██████████▋                                                        | 16/100 [01:56<09:06,  6.50s/URL]"
     ]
    },
    {
     "name": "stdout",
     "output_type": "stream",
     "text": [
      "[{'ProductURL': 'https://www.fast-growing-trees.com/products/rare-house-plant-kit', 'ProductName': 'Rare House Plant Kit', 'SubHeading': \"Xanthosoma variegata; Chlorophytum amaniense ‘Fire Flash’; Philodendron 'Birkin'; Alocasia\", 'Availability': 'SoldOut', 'Category': None, 'Pack': None, 'RegularPrice': None, 'SalePrice': None, 'ReviewCount': '1 reviews', 'Rating': '5.0'}]\n",
      "https://www.fast-growing-trees.com/products/olive-kit\n"
     ]
    },
    {
     "name": "stderr",
     "output_type": "stream",
     "text": [
      "\r",
      "GettingInfo:  17%|███████████▍                                                       | 17/100 [02:03<08:53,  6.42s/URL]"
     ]
    },
    {
     "name": "stdout",
     "output_type": "stream",
     "text": [
      "[{'ProductURL': 'https://www.fast-growing-trees.com/products/olive-kit', 'ProductName': 'Olive Starter Kit', 'SubHeading': \"Olea europaea 'Arbequina'\", 'Availability': 'SoldOut', 'Category': None, 'Pack': None, 'RegularPrice': None, 'SalePrice': None, 'ReviewCount': '3 reviews', 'Rating': '5.0'}]\n",
      "https://www.fast-growing-trees.com/products/free-root-rocket-rose-rocket-tablets\n"
     ]
    },
    {
     "name": "stderr",
     "output_type": "stream",
     "text": [
      "\r",
      "GettingInfo:  18%|████████████                                                       | 18/100 [02:09<08:46,  6.43s/URL]"
     ]
    },
    {
     "name": "stdout",
     "output_type": "stream",
     "text": [
      "[{'ProductURL': 'https://www.fast-growing-trees.com/products/free-root-rocket-rose-rocket-tablets', 'ProductName': 'Free Root Rocket® Rose Rocket Tablets', 'SubHeading': '', 'Availability': 'SoldOut', 'Category': None, 'Pack': None, 'RegularPrice': None, 'SalePrice': None, 'ReviewCount': '0 reviews', 'Rating': '0.0'}]\n",
      "https://www.fast-growing-trees.com/products/green-mound-juniper-topiary\n"
     ]
    },
    {
     "name": "stderr",
     "output_type": "stream",
     "text": [
      "\r",
      "GettingInfo:  19%|████████████▋                                                      | 19/100 [02:16<08:43,  6.47s/URL]"
     ]
    },
    {
     "name": "stdout",
     "output_type": "stream",
     "text": [
      "[{'ProductURL': 'https://www.fast-growing-trees.com/products/green-mound-juniper-topiary', 'ProductName': 'Green Mound Juniper Topiary', 'SubHeading': \"Juniperus procumbens 'Green Mound'\", 'Availability': 'SoldOut', 'Category': None, 'Pack': None, 'RegularPrice': None, 'SalePrice': None, 'ReviewCount': '8 reviews', 'Rating': '5.0'}]\n",
      "https://www.fast-growing-trees.com/products/guacamole-hosta\n"
     ]
    },
    {
     "name": "stderr",
     "output_type": "stream",
     "text": [
      "\r",
      "GettingInfo:  20%|█████████████▍                                                     | 20/100 [02:22<08:44,  6.55s/URL]"
     ]
    },
    {
     "name": "stdout",
     "output_type": "stream",
     "text": [
      "[{'ProductURL': 'https://www.fast-growing-trees.com/products/guacamole-hosta', 'ProductName': 'Guacamole Hosta', 'SubHeading': \"Hosta 'Guacamole'\", 'Availability': 'SoldOut', 'Category': None, 'Pack': None, 'RegularPrice': None, 'SalePrice': None, 'ReviewCount': '5 reviews', 'Rating': '5.0'}]\n",
      "https://www.fast-growing-trees.com/products/red-and-white-amaryllis-trio\n"
     ]
    },
    {
     "name": "stderr",
     "output_type": "stream",
     "text": [
      "\r",
      "GettingInfo:  21%|██████████████                                                     | 21/100 [02:31<09:24,  7.15s/URL]"
     ]
    },
    {
     "name": "stdout",
     "output_type": "stream",
     "text": [
      "[{'ProductURL': 'https://www.fast-growing-trees.com/products/red-and-white-amaryllis-trio', 'ProductName': 'Red and White Amaryllis Trio', 'SubHeading': \"Hippeastrum 'Miracle'; Hippeastrum 'Wedding Dance'\", 'Availability': 'InStock', 'Category': '8 inch', 'Pack': None, 'RegularPrice': None, 'SalePrice': '$109.95', 'ReviewCount': '0 reviews', 'Rating': '0.0'}]\n",
      "https://www.fast-growing-trees.com/products/liquid-copper-fungicide-spray\n"
     ]
    },
    {
     "name": "stderr",
     "output_type": "stream",
     "text": [
      "\r",
      "GettingInfo:  22%|██████████████▋                                                    | 22/100 [02:37<08:55,  6.86s/URL]"
     ]
    },
    {
     "name": "stdout",
     "output_type": "stream",
     "text": [
      "[{'ProductURL': 'https://www.fast-growing-trees.com/products/liquid-copper-fungicide-spray', 'ProductName': 'Liqui-Cop® Copper Fungicide Spray', 'SubHeading': '', 'Availability': 'SoldOut', 'Category': None, 'Pack': None, 'RegularPrice': None, 'SalePrice': None, 'ReviewCount': '1 reviews', 'Rating': '5.0'}]\n",
      "https://www.fast-growing-trees.com/products/recurve-ligustrum-shrub\n"
     ]
    },
    {
     "name": "stderr",
     "output_type": "stream",
     "text": [
      "\r",
      "GettingInfo:  23%|███████████████▍                                                   | 23/100 [02:47<10:01,  7.81s/URL]"
     ]
    },
    {
     "name": "stdout",
     "output_type": "stream",
     "text": [
      "[{'ProductURL': 'https://www.fast-growing-trees.com/products/recurve-ligustrum-shrub', 'ProductName': 'Recurve Ligustrum Shrub (Ligustrum Recurvifolium)', 'SubHeading': \"Ligustrum japonicum 'Recurvifolium'\", 'Availability': 'InStock', 'Category': '3 gallon', 'Pack': 'Single', 'RegularPrice': None, 'SalePrice': '$79.95', 'ReviewCount': '5 reviews', 'Rating': '5.0'}, {'ProductURL': 'https://www.fast-growing-trees.com/products/recurve-ligustrum-shrub', 'ProductName': 'Recurve Ligustrum Shrub (Ligustrum Recurvifolium)', 'SubHeading': \"Ligustrum japonicum 'Recurvifolium'\", 'Availability': 'InStock', 'Category': '3 gallon', 'Pack': '6-Pack', 'RegularPrice': '$479.70', 'SalePrice': '$407.75', 'ReviewCount': '5 reviews', 'Rating': '5.0'}]\n",
      "https://www.fast-growing-trees.com/products/columnar-goldenchain-tree\n"
     ]
    },
    {
     "name": "stderr",
     "output_type": "stream",
     "text": [
      "\r",
      "GettingInfo:  24%|████████████████                                                   | 24/100 [02:53<09:22,  7.40s/URL]"
     ]
    },
    {
     "name": "stdout",
     "output_type": "stream",
     "text": [
      "[{'ProductURL': 'https://www.fast-growing-trees.com/products/columnar-goldenchain-tree', 'ProductName': 'Columnar Goldenchain Tree', 'SubHeading': 'Laburnum anagyroides ‘Fastigiata’', 'Availability': 'SoldOut', 'Category': None, 'Pack': None, 'RegularPrice': None, 'SalePrice': None, 'ReviewCount': '5 reviews', 'Rating': '5.0'}]\n",
      "https://www.fast-growing-trees.com/products/bandwidth-miscanthus-chinese-silver-grass\n"
     ]
    },
    {
     "name": "stderr",
     "output_type": "stream",
     "text": [
      "\r",
      "GettingInfo:  25%|████████████████▊                                                  | 25/100 [03:01<09:29,  7.59s/URL]"
     ]
    },
    {
     "name": "stdout",
     "output_type": "stream",
     "text": [
      "[{'ProductURL': 'https://www.fast-growing-trees.com/products/bandwidth-miscanthus-chinese-silver-grass', 'ProductName': 'Miscanthus Bandwidth (Chinese Silver Grass)', 'SubHeading': 'Miscanthus sinensis Bandwidth', 'Availability': 'InStock', 'Category': '2 gallon', 'Pack': 'Single', 'RegularPrice': '$69.95', 'SalePrice': '$34.95', 'ReviewCount': '0 reviews', 'Rating': '0.0'}, {'ProductURL': 'https://www.fast-growing-trees.com/products/bandwidth-miscanthus-chinese-silver-grass', 'ProductName': 'Miscanthus Bandwidth (Chinese Silver Grass)', 'SubHeading': 'Miscanthus sinensis Bandwidth', 'Availability': 'InStock', 'Category': '2 gallon', 'Pack': '4-Pack', 'RegularPrice': '$279.80', 'SalePrice': '$118.83', 'ReviewCount': '0 reviews', 'Rating': '0.0'}, {'ProductURL': 'https://www.fast-growing-trees.com/products/bandwidth-miscanthus-chinese-silver-grass', 'ProductName': 'Miscanthus Bandwidth (Chinese Silver Grass)', 'SubHeading': 'Miscanthus sinensis Bandwidth', 'Availability': 'InStock', 'Category': '3 gallon', 'Pack': 'Single', 'RegularPrice': '$99.95', 'SalePrice': '$59.95', 'ReviewCount': '0 reviews', 'Rating': '0.0'}, {'ProductURL': 'https://www.fast-growing-trees.com/products/bandwidth-miscanthus-chinese-silver-grass', 'ProductName': 'Miscanthus Bandwidth (Chinese Silver Grass)', 'SubHeading': 'Miscanthus sinensis Bandwidth', 'Availability': 'InStock', 'Category': '3 gallon', 'Pack': '4-Pack', 'RegularPrice': '$399.80', 'SalePrice': '$203.83', 'ReviewCount': '0 reviews', 'Rating': '0.0'}]\n",
      "https://www.fast-growing-trees.com/products/needlepoint-holly\n"
     ]
    },
    {
     "name": "stderr",
     "output_type": "stream",
     "text": [
      "\r",
      "GettingInfo:  26%|█████████████████▍                                                 | 26/100 [03:14<11:00,  8.93s/URL]"
     ]
    },
    {
     "name": "stdout",
     "output_type": "stream",
     "text": [
      "[{'ProductURL': 'https://www.fast-growing-trees.com/products/needlepoint-holly', 'ProductName': 'Needlepoint Holly', 'SubHeading': \"Ilex cornuta 'Needlepoint'\", 'Availability': 'InStock', 'Category': '1 gallon', 'Pack': 'Single', 'RegularPrice': None, 'SalePrice': '$35.95', 'ReviewCount': '2 reviews', 'Rating': '5.0'}, {'ProductURL': 'https://www.fast-growing-trees.com/products/needlepoint-holly', 'ProductName': 'Needlepoint Holly', 'SubHeading': \"Ilex cornuta 'Needlepoint'\", 'Availability': 'InStock', 'Category': '1 gallon', 'Pack': '6-Pack', 'RegularPrice': '$215.70', 'SalePrice': '$183.35', 'ReviewCount': '2 reviews', 'Rating': '5.0'}, {'ProductURL': 'https://www.fast-growing-trees.com/products/needlepoint-holly', 'ProductName': 'Needlepoint Holly', 'SubHeading': \"Ilex cornuta 'Needlepoint'\", 'Availability': 'InStock', 'Category': '3 gallon', 'Pack': 'Single', 'RegularPrice': None, 'SalePrice': '$99.95', 'ReviewCount': '2 reviews', 'Rating': '5.0'}, {'ProductURL': 'https://www.fast-growing-trees.com/products/needlepoint-holly', 'ProductName': 'Needlepoint Holly', 'SubHeading': \"Ilex cornuta 'Needlepoint'\", 'Availability': 'InStock', 'Category': '3 gallon', 'Pack': '6-Pack', 'RegularPrice': '$599.70', 'SalePrice': '$509.75', 'ReviewCount': '2 reviews', 'Rating': '5.0'}]\n",
      "https://www.fast-growing-trees.com/products/fernleaf-bamboo\n"
     ]
    },
    {
     "name": "stderr",
     "output_type": "stream",
     "text": [
      "\r",
      "GettingInfo:  27%|██████████████████                                                 | 27/100 [03:20<09:53,  8.13s/URL]"
     ]
    },
    {
     "name": "stdout",
     "output_type": "stream",
     "text": [
      "[{'ProductURL': 'https://www.fast-growing-trees.com/products/fernleaf-bamboo', 'ProductName': 'Fernleaf Bamboo', 'SubHeading': 'Bambusa multiplex ‘Fernleaf’', 'Availability': 'SoldOut', 'Category': None, 'Pack': None, 'RegularPrice': None, 'SalePrice': None, 'ReviewCount': '0 reviews', 'Rating': '5.0'}]\n",
      "https://www.fast-growing-trees.com/products/mexican-flowering-dogwood\n"
     ]
    },
    {
     "name": "stderr",
     "output_type": "stream",
     "text": [
      "\r",
      "GettingInfo:  28%|██████████████████▊                                                | 28/100 [03:29<09:59,  8.33s/URL]"
     ]
    },
    {
     "name": "stdout",
     "output_type": "stream",
     "text": [
      "[{'ProductURL': 'https://www.fast-growing-trees.com/products/mexican-flowering-dogwood', 'ProductName': 'Mexican Flowering Dogwood Tree', 'SubHeading': 'Cornus florida var. urbiniana', 'Availability': 'InStock', 'Category': '3-4 feet', 'Pack': None, 'RegularPrice': None, 'SalePrice': '$139.95', 'ReviewCount': '7 reviews', 'Rating': '5.0'}]\n",
      "https://www.fast-growing-trees.com/products/autumn-bonfire-encore-azalea\n"
     ]
    },
    {
     "name": "stderr",
     "output_type": "stream",
     "text": [
      "\r",
      "GettingInfo:  29%|███████████████████▍                                               | 29/100 [03:35<09:18,  7.87s/URL]"
     ]
    },
    {
     "name": "stdout",
     "output_type": "stream",
     "text": [
      "[{'ProductURL': 'https://www.fast-growing-trees.com/products/autumn-bonfire-encore-azalea', 'ProductName': 'Autumn Bonfire® Encore® Azalea', 'SubHeading': \"Rhododendron 'Robleza'\", 'Availability': 'InStock', 'Category': '1 gallon', 'Pack': 'Single', 'RegularPrice': '$54.95', 'SalePrice': '$44.95', 'ReviewCount': '25 reviews', 'Rating': '4.9'}, {'ProductURL': 'https://www.fast-growing-trees.com/products/autumn-bonfire-encore-azalea', 'ProductName': 'Autumn Bonfire® Encore® Azalea', 'SubHeading': \"Rhododendron 'Robleza'\", 'Availability': 'InStock', 'Category': '1 gallon', 'Pack': '4-Pack', 'RegularPrice': '$219.80', 'SalePrice': '$152.83', 'ReviewCount': '25 reviews', 'Rating': '4.9'}]\n",
      "https://www.fast-growing-trees.com/products/emerald-blue-creeping-phlox\n"
     ]
    },
    {
     "name": "stderr",
     "output_type": "stream",
     "text": [
      "\r",
      "GettingInfo:  30%|████████████████████                                               | 30/100 [03:42<08:42,  7.46s/URL]"
     ]
    },
    {
     "name": "stdout",
     "output_type": "stream",
     "text": [
      "[{'ProductURL': 'https://www.fast-growing-trees.com/products/emerald-blue-creeping-phlox', 'ProductName': 'Emerald Blue Creeping Phlox', 'SubHeading': \"Phlox subulata 'Emerald Blue'\", 'Availability': 'SoldOut', 'Category': None, 'Pack': None, 'RegularPrice': None, 'SalePrice': None, 'ReviewCount': '8 reviews', 'Rating': '4.4'}]\n",
      "https://www.fast-growing-trees.com/products/pugster-pink-butterfly-bush\n"
     ]
    },
    {
     "name": "stderr",
     "output_type": "stream",
     "text": [
      "\r",
      "GettingInfo:  31%|████████████████████▊                                              | 31/100 [03:50<08:55,  7.76s/URL]"
     ]
    },
    {
     "name": "stdout",
     "output_type": "stream",
     "text": [
      "[{'ProductURL': 'https://www.fast-growing-trees.com/products/pugster-pink-butterfly-bush', 'ProductName': 'Pugster Pink® Butterfly Bush', 'SubHeading': \"Buddleia x 'Pugster'\", 'Availability': 'InStock', 'Category': '3 gallon', 'Pack': None, 'RegularPrice': None, 'SalePrice': '$129.95', 'ReviewCount': '2 reviews', 'Rating': '3.0'}]\n",
      "https://www.fast-growing-trees.com/products/emerald-n-gold-wintercreeper\n"
     ]
    },
    {
     "name": "stderr",
     "output_type": "stream",
     "text": [
      "\r",
      "GettingInfo:  32%|█████████████████████▍                                             | 32/100 [03:57<08:18,  7.33s/URL]"
     ]
    },
    {
     "name": "stdout",
     "output_type": "stream",
     "text": [
      "[{'ProductURL': 'https://www.fast-growing-trees.com/products/emerald-n-gold-wintercreeper', 'ProductName': \"Emerald N' Gold Wintercreeper Euonymus\", 'SubHeading': 'Eunonymus fortuneli ‘Emerald ‘n’ Gold’', 'Availability': 'SoldOut', 'Category': None, 'Pack': None, 'RegularPrice': None, 'SalePrice': None, 'ReviewCount': '0 reviews', 'Rating': '0.0'}]\n",
      "https://www.fast-growing-trees.com/products/3-in-1-blueberry-bush\n"
     ]
    },
    {
     "name": "stderr",
     "output_type": "stream",
     "text": [
      "\r",
      "GettingInfo:  33%|██████████████████████                                             | 33/100 [04:03<07:57,  7.13s/URL]"
     ]
    },
    {
     "name": "stdout",
     "output_type": "stream",
     "text": [
      "[{'ProductURL': 'https://www.fast-growing-trees.com/products/3-in-1-blueberry-bush', 'ProductName': '3-in-1 Blueberry Bush', 'SubHeading': 'Vaccinium sp. ‘Legacy’ ‘Sweetheart’ ‘Sunshine Blue’', 'Availability': 'SoldOut', 'Category': None, 'Pack': None, 'RegularPrice': None, 'SalePrice': None, 'ReviewCount': '1 reviews', 'Rating': '5.0'}]\n",
      "https://www.fast-growing-trees.com/products/cool-climate-privacy-kit\n"
     ]
    },
    {
     "name": "stderr",
     "output_type": "stream",
     "text": [
      "\r",
      "GettingInfo:  34%|██████████████████████▊                                            | 34/100 [04:13<08:37,  7.84s/URL]"
     ]
    },
    {
     "name": "stdout",
     "output_type": "stream",
     "text": [
      "[{'ProductURL': 'https://www.fast-growing-trees.com/products/cool-climate-privacy-kit', 'ProductName': 'Cool-Climate Privacy Kit', 'SubHeading': \"Thuja occidentalis 'Emerald Green'; Weigela florida 'Alexandra'\", 'Availability': 'InStock', 'Category': '4-5 ft. Privacy Kit', 'Pack': None, 'RegularPrice': None, 'SalePrice': '$2,309.95', 'ReviewCount': '0 reviews', 'Rating': '0.0'}]\n",
      "https://www.fast-growing-trees.com/products/rapitest-digital-soil-ph-meter\n"
     ]
    },
    {
     "name": "stderr",
     "output_type": "stream",
     "text": [
      "\r",
      "GettingInfo:  35%|███████████████████████▍                                           | 35/100 [04:22<08:47,  8.12s/URL]"
     ]
    },
    {
     "name": "stdout",
     "output_type": "stream",
     "text": [
      "[{'ProductURL': 'https://www.fast-growing-trees.com/products/rapitest-digital-soil-ph-meter', 'ProductName': 'Rapitest Digital Soil pH Meter', 'SubHeading': '', 'Availability': 'InStock', 'Category': 'PH Meter', 'Pack': None, 'RegularPrice': None, 'SalePrice': '$24.95', 'ReviewCount': '0 reviews', 'Rating': '0.0'}]\n",
      "https://www.fast-growing-trees.com/products/rapitest-soil-moisture-tester\n"
     ]
    },
    {
     "name": "stderr",
     "output_type": "stream",
     "text": [
      "\r",
      "GettingInfo:  36%|████████████████████████                                           | 36/100 [04:30<08:49,  8.28s/URL]"
     ]
    },
    {
     "name": "stdout",
     "output_type": "stream",
     "text": [
      "[{'ProductURL': 'https://www.fast-growing-trees.com/products/rapitest-soil-moisture-tester', 'ProductName': 'Rapitest Soil Moisture Tester', 'SubHeading': '', 'Availability': 'InStock', 'Category': 'Soil Moisture Tester', 'Pack': None, 'RegularPrice': None, 'SalePrice': '$11.95', 'ReviewCount': '6 reviews', 'Rating': '4.7'}]\n",
      "https://www.fast-growing-trees.com/products/lemon-lime-citrus-bush\n"
     ]
    },
    {
     "name": "stderr",
     "output_type": "stream",
     "text": [
      "\r",
      "GettingInfo:  37%|████████████████████████▊                                          | 37/100 [04:39<08:52,  8.46s/URL]"
     ]
    },
    {
     "name": "stdout",
     "output_type": "stream",
     "text": [
      "[{'ProductURL': 'https://www.fast-growing-trees.com/products/lemon-lime-citrus-bush', 'ProductName': 'Lemon-Lime Citrus Bush', 'SubHeading': \"Citrus x 'Meyeri'; Citrus aurantifolia\", 'Availability': 'InStock', 'Category': '2 gallon', 'Pack': None, 'RegularPrice': None, 'SalePrice': '$119.95', 'ReviewCount': '42 reviews', 'Rating': '4.7'}]\n",
      "https://www.fast-growing-trees.com/products/cool-climate-shade-garden-kit\n"
     ]
    },
    {
     "name": "stderr",
     "output_type": "stream",
     "text": [
      "\r",
      "GettingInfo:  38%|█████████████████████████▍                                         | 38/100 [04:46<08:06,  7.85s/URL]"
     ]
    },
    {
     "name": "stdout",
     "output_type": "stream",
     "text": [
      "[{'ProductURL': 'https://www.fast-growing-trees.com/products/cool-climate-shade-garden-kit', 'ProductName': 'Cool-Climate Shade Garden Kit', 'SubHeading': \"Prunus laurocerasus; Hydrangea macrophylla 'Balimer'; Dryopteris erythrosora 'Brilliance'\", 'Availability': 'SoldOut', 'Category': None, 'Pack': None, 'RegularPrice': None, 'SalePrice': None, 'ReviewCount': '0 reviews', 'Rating': '0.0'}]\n",
      "https://www.fast-growing-trees.com/products/warm-climate-privacy-kit\n"
     ]
    },
    {
     "name": "stderr",
     "output_type": "stream",
     "text": [
      "\r",
      "GettingInfo:  39%|██████████████████████████▏                                        | 39/100 [04:55<08:22,  8.24s/URL]"
     ]
    },
    {
     "name": "stdout",
     "output_type": "stream",
     "text": [
      "[{'ProductURL': 'https://www.fast-growing-trees.com/products/warm-climate-privacy-kit', 'ProductName': 'Warm-Climate Privacy Kit', 'SubHeading': \"Thuja plicata x standishii 'Green Giant'; Ligustrum sinense\", 'Availability': 'InStock', 'Category': 'Warm-Climate Privacy Kit', 'Pack': None, 'RegularPrice': None, 'SalePrice': '$1,869.95', 'ReviewCount': '2 reviews', 'Rating': '4.5'}]\n",
      "https://www.fast-growing-trees.com/products/warm-climate-shade-garden-kit\n"
     ]
    },
    {
     "name": "stderr",
     "output_type": "stream",
     "text": [
      "\r",
      "GettingInfo:  40%|██████████████████████████▊                                        | 40/100 [05:01<07:40,  7.68s/URL]"
     ]
    },
    {
     "name": "stdout",
     "output_type": "stream",
     "text": [
      "[{'ProductURL': 'https://www.fast-growing-trees.com/products/warm-climate-shade-garden-kit', 'ProductName': 'Warm-Climate Shade Garden Kit', 'SubHeading': \"Aucuba japonica 'Gold Dust'; Rhododendron 'Delaware Valley White'; Carex hachijoensis\", 'Availability': 'SoldOut', 'Category': None, 'Pack': None, 'RegularPrice': None, 'SalePrice': None, 'ReviewCount': '0 reviews', 'Rating': '0.0'}]\n",
      "https://www.fast-growing-trees.com/products/blue-rug-juniper\n"
     ]
    },
    {
     "name": "stderr",
     "output_type": "stream",
     "text": [
      "\r",
      "GettingInfo:  41%|███████████████████████████▍                                       | 41/100 [05:10<07:57,  8.09s/URL]"
     ]
    },
    {
     "name": "stdout",
     "output_type": "stream",
     "text": [
      "[{'ProductURL': 'https://www.fast-growing-trees.com/products/blue-rug-juniper', 'ProductName': 'Blue Rug Juniper', 'SubHeading': \"Juniperus horizontalis 'Wiltonii'\", 'Availability': 'InStock', 'Category': '3 gallon', 'Pack': 'Single', 'RegularPrice': None, 'SalePrice': '$119.95', 'ReviewCount': '15 reviews', 'Rating': '5.0'}, {'ProductURL': 'https://www.fast-growing-trees.com/products/blue-rug-juniper', 'ProductName': 'Blue Rug Juniper', 'SubHeading': \"Juniperus horizontalis 'Wiltonii'\", 'Availability': 'InStock', 'Category': '3 gallon', 'Pack': '6-Pack', 'RegularPrice': '$719.70', 'SalePrice': '$611.75', 'ReviewCount': '15 reviews', 'Rating': '5.0'}]\n",
      "https://www.fast-growing-trees.com/products/shenandoah-switch-grass\n"
     ]
    },
    {
     "name": "stderr",
     "output_type": "stream",
     "text": [
      "\r",
      "GettingInfo:  42%|████████████████████████████▏                                      | 42/100 [05:17<07:18,  7.57s/URL]"
     ]
    },
    {
     "name": "stdout",
     "output_type": "stream",
     "text": [
      "[{'ProductURL': 'https://www.fast-growing-trees.com/products/shenandoah-switch-grass', 'ProductName': 'Shenandoah Switch Grass', 'SubHeading': '<p style=\"margin-left:0px;\">Panicum virgatum \\'Shenandoah\\'</p>', 'Availability': 'SoldOut', 'Category': None, 'Pack': None, 'RegularPrice': None, 'SalePrice': None, 'ReviewCount': '10 reviews', 'Rating': '4.3'}]\n",
      "https://www.fast-growing-trees.com/products/green-mountain-boxwood-shrub\n"
     ]
    },
    {
     "name": "stderr",
     "output_type": "stream",
     "text": [
      "\r",
      "GettingInfo:  43%|████████████████████████████▊                                      | 43/100 [05:28<08:23,  8.84s/URL]"
     ]
    },
    {
     "name": "stdout",
     "output_type": "stream",
     "text": [
      "[{'ProductURL': 'https://www.fast-growing-trees.com/products/green-mountain-boxwood-shrub', 'ProductName': 'Green Mountain Boxwood Shrub', 'SubHeading': \"Buxus x 'Green Mountain'\", 'Availability': 'InStock', 'Category': '1 gallon', 'Pack': 'Single', 'RegularPrice': None, 'SalePrice': '$49.95', 'ReviewCount': '7 reviews', 'Rating': '4.1'}, {'ProductURL': 'https://www.fast-growing-trees.com/products/green-mountain-boxwood-shrub', 'ProductName': 'Green Mountain Boxwood Shrub', 'SubHeading': \"Buxus x 'Green Mountain'\", 'Availability': 'InStock', 'Category': '1 gallon', 'Pack': '10-Pack', 'RegularPrice': '$499.50', 'SalePrice': '$414.59', 'ReviewCount': '7 reviews', 'Rating': '4.1'}, {'ProductURL': 'https://www.fast-growing-trees.com/products/green-mountain-boxwood-shrub', 'ProductName': 'Green Mountain Boxwood Shrub', 'SubHeading': \"Buxus x 'Green Mountain'\", 'Availability': 'InStock', 'Category': '3 gallon', 'Pack': 'Single', 'RegularPrice': None, 'SalePrice': '$119.95', 'ReviewCount': '7 reviews', 'Rating': '4.1'}, {'ProductURL': 'https://www.fast-growing-trees.com/products/green-mountain-boxwood-shrub', 'ProductName': 'Green Mountain Boxwood Shrub', 'SubHeading': \"Buxus x 'Green Mountain'\", 'Availability': 'InStock', 'Category': '3 gallon', 'Pack': '6-Pack', 'RegularPrice': '$719.70', 'SalePrice': '$611.75', 'ReviewCount': '7 reviews', 'Rating': '4.1'}]\n",
      "https://www.fast-growing-trees.com/products/arctic-fire-red-twig-dogwood\n"
     ]
    },
    {
     "name": "stderr",
     "output_type": "stream",
     "text": [
      "\r",
      "GettingInfo:  44%|█████████████████████████████▍                                     | 44/100 [05:34<07:30,  8.04s/URL]"
     ]
    },
    {
     "name": "stdout",
     "output_type": "stream",
     "text": [
      "[{'ProductURL': 'https://www.fast-growing-trees.com/products/arctic-fire-red-twig-dogwood', 'ProductName': 'Arctic Fire® Red Twig Dogwood', 'SubHeading': \"Cornus stolonifera 'Farrow'\", 'Availability': 'SoldOut', 'Category': None, 'Pack': None, 'RegularPrice': None, 'SalePrice': None, 'ReviewCount': '0 reviews', 'Rating': '5.0'}]\n",
      "https://www.fast-growing-trees.com/products/autumn-amethyst-encore-azalea\n"
     ]
    },
    {
     "name": "stderr",
     "output_type": "stream",
     "text": [
      "\r",
      "GettingInfo:  45%|██████████████████████████████▏                                    | 45/100 [05:44<07:45,  8.46s/URL]"
     ]
    },
    {
     "name": "stdout",
     "output_type": "stream",
     "text": [
      "[{'ProductURL': 'https://www.fast-growing-trees.com/products/autumn-amethyst-encore-azalea', 'ProductName': 'Autumn Amethyst® Encore® Azalea', 'SubHeading': \"Rhododendron 'Conlee'\", 'Availability': 'InStock', 'Category': '3 gallon', 'Pack': 'Single', 'RegularPrice': None, 'SalePrice': '$159.95', 'ReviewCount': '6 reviews', 'Rating': '4.3'}, {'ProductURL': 'https://www.fast-growing-trees.com/products/autumn-amethyst-encore-azalea', 'ProductName': 'Autumn Amethyst® Encore® Azalea', 'SubHeading': \"Rhododendron 'Conlee'\", 'Availability': 'InStock', 'Category': '3 gallon', 'Pack': '4-Pack', 'RegularPrice': '$639.80', 'SalePrice': '$543.83', 'ReviewCount': '6 reviews', 'Rating': '4.3'}]\n",
      "https://www.fast-growing-trees.com/products/crimson-queen-japanese-maple\n"
     ]
    },
    {
     "name": "stderr",
     "output_type": "stream",
     "text": [
      "\r",
      "GettingInfo:  46%|██████████████████████████████▊                                    | 46/100 [05:53<07:47,  8.65s/URL]"
     ]
    },
    {
     "name": "stdout",
     "output_type": "stream",
     "text": [
      "[{'ProductURL': 'https://www.fast-growing-trees.com/products/crimson-queen-japanese-maple', 'ProductName': 'Crimson Queen Japanese Maple', 'SubHeading': \"Acer palmatum 'Crimson Queen'\", 'Availability': 'InStock', 'Category': '1-2 feet', 'Pack': None, 'RegularPrice': '$129.95', 'SalePrice': '$89.95', 'ReviewCount': '5 reviews', 'Rating': '3.6'}, {'ProductURL': 'https://www.fast-growing-trees.com/products/crimson-queen-japanese-maple', 'ProductName': 'Crimson Queen Japanese Maple', 'SubHeading': \"Acer palmatum 'Crimson Queen'\", 'Availability': 'InStock', 'Category': '2-3 feet', 'Pack': None, 'RegularPrice': None, 'SalePrice': '$249.95', 'ReviewCount': '5 reviews', 'Rating': '3.6'}]\n",
      "https://www.fast-growing-trees.com/products/red-amaryllis-with-white-tulip-and-star-of-bethlehem\n"
     ]
    },
    {
     "name": "stderr",
     "output_type": "stream",
     "text": [
      "\r",
      "GettingInfo:  47%|███████████████████████████████▍                                   | 47/100 [05:59<07:01,  7.94s/URL]"
     ]
    },
    {
     "name": "stdout",
     "output_type": "stream",
     "text": [
      "[{'ProductURL': 'https://www.fast-growing-trees.com/products/red-amaryllis-with-white-tulip-and-star-of-bethlehem', 'ProductName': 'Red Amaryllis with White Tulips and Star of Bethlehem', 'SubHeading': \"Hipppeastrum 'Bright Spark'; Tulipa 'White Marvel'; Ornithogalum\", 'Availability': 'SoldOut', 'Category': None, 'Pack': None, 'RegularPrice': None, 'SalePrice': None, 'ReviewCount': '1 reviews', 'Rating': '4.0'}]\n",
      "https://www.fast-growing-trees.com/products/fresh-cut-christmas-tree-kit\n"
     ]
    },
    {
     "name": "stderr",
     "output_type": "stream",
     "text": [
      "\r",
      "GettingInfo:  48%|████████████████████████████████▏                                  | 48/100 [06:07<06:45,  7.80s/URL]"
     ]
    },
    {
     "name": "stdout",
     "output_type": "stream",
     "text": [
      "[{'ProductURL': 'https://www.fast-growing-trees.com/products/fresh-cut-christmas-tree-kit', 'ProductName': 'Fresh Cut Christmas Tree Kit', 'SubHeading': 'Fraser Fir', 'Availability': 'SoldOut', 'Category': None, 'Pack': None, 'RegularPrice': None, 'SalePrice': None, 'ReviewCount': '0 reviews', 'Rating': '0.0'}]\n",
      "https://www.fast-growing-trees.com/products/columnar-sargent-cherry-tree\n"
     ]
    },
    {
     "name": "stderr",
     "output_type": "stream",
     "text": [
      "\r",
      "GettingInfo:  49%|████████████████████████████████▊                                  | 49/100 [06:13<06:17,  7.40s/URL]"
     ]
    },
    {
     "name": "stdout",
     "output_type": "stream",
     "text": [
      "[{'ProductURL': 'https://www.fast-growing-trees.com/products/columnar-sargent-cherry-tree', 'ProductName': 'Columnar Sargent Cherry Tree', 'SubHeading': \"Prunus sargentii 'Columnaris'\", 'Availability': 'SoldOut', 'Category': None, 'Pack': None, 'RegularPrice': None, 'SalePrice': None, 'ReviewCount': '0 reviews', 'Rating': '0.0'}]\n",
      "https://www.fast-growing-trees.com/products/brooks-cherry-tree\n"
     ]
    },
    {
     "name": "stderr",
     "output_type": "stream",
     "text": [
      "\r",
      "GettingInfo:  50%|█████████████████████████████████▌                                 | 50/100 [06:20<06:02,  7.25s/URL]"
     ]
    },
    {
     "name": "stdout",
     "output_type": "stream",
     "text": [
      "[{'ProductURL': 'https://www.fast-growing-trees.com/products/brooks-cherry-tree', 'ProductName': 'Brooks Cherry Tree', 'SubHeading': \"Prunus avium 'Brooks'\", 'Availability': 'InStock', 'Category': '5-6 feet', 'Pack': None, 'RegularPrice': '$169.95', 'SalePrice': '$159.95', 'ReviewCount': '2 reviews', 'Rating': '5.0'}]\n",
      "https://www.fast-growing-trees.com/products/coral-champagne-cherry-tree\n"
     ]
    },
    {
     "name": "stderr",
     "output_type": "stream",
     "text": [
      "\r",
      "GettingInfo:  51%|██████████████████████████████████▏                                | 51/100 [06:32<07:01,  8.61s/URL]"
     ]
    },
    {
     "name": "stdout",
     "output_type": "stream",
     "text": [
      "[{'ProductURL': 'https://www.fast-growing-trees.com/products/coral-champagne-cherry-tree', 'ProductName': 'Coral Champagne Cherry Tree', 'SubHeading': \"Prunus avium 'Coral Champagne'\", 'Availability': 'InStock', 'Category': '5-6 feet', 'Pack': None, 'RegularPrice': None, 'SalePrice': '$219.95', 'ReviewCount': '7 reviews', 'Rating': '5.0'}, {'ProductURL': 'https://www.fast-growing-trees.com/products/coral-champagne-cherry-tree', 'ProductName': 'Coral Champagne Cherry Tree', 'SubHeading': \"Prunus avium 'Coral Champagne'\", 'Availability': 'InStock', 'Category': '6-7 feet', 'Pack': None, 'RegularPrice': None, 'SalePrice': '$229.95', 'ReviewCount': '7 reviews', 'Rating': '5.0'}]\n",
      "https://www.fast-growing-trees.com/products/palace-purple-heuchera\n"
     ]
    },
    {
     "name": "stderr",
     "output_type": "stream",
     "text": [
      "\r",
      "GettingInfo:  52%|██████████████████████████████████▊                                | 52/100 [06:38<06:12,  7.76s/URL]"
     ]
    },
    {
     "name": "stdout",
     "output_type": "stream",
     "text": [
      "[{'ProductURL': 'https://www.fast-growing-trees.com/products/palace-purple-heuchera', 'ProductName': 'Palace Purple Heuchera', 'SubHeading': \"Heuchera micrantha 'Palace Purple'\", 'Availability': 'SoldOut', 'Category': None, 'Pack': None, 'RegularPrice': None, 'SalePrice': None, 'ReviewCount': '5 reviews', 'Rating': '4.2'}]\n",
      "https://www.fast-growing-trees.com/products/ponderosa-lemon-bush-fl\n"
     ]
    },
    {
     "name": "stderr",
     "output_type": "stream",
     "text": [
      "\r",
      "GettingInfo:  53%|███████████████████████████████████▌                               | 53/100 [06:45<05:51,  7.48s/URL]"
     ]
    },
    {
     "name": "stdout",
     "output_type": "stream",
     "text": [
      "[{'ProductURL': 'https://www.fast-growing-trees.com/products/ponderosa-lemon-bush-fl', 'ProductName': 'Ponderosa Lemon Bush', 'SubHeading': \"Citrus x limon 'Ponderosa'\", 'Availability': 'SoldOut', 'Category': None, 'Pack': None, 'RegularPrice': None, 'SalePrice': None, 'ReviewCount': '0 reviews', 'Rating': '5.0'}]\n",
      "https://www.fast-growing-trees.com/products/calathea-ornata\n"
     ]
    },
    {
     "name": "stderr",
     "output_type": "stream",
     "text": [
      "\r",
      "GettingInfo:  54%|████████████████████████████████████▏                              | 54/100 [06:56<06:32,  8.53s/URL]"
     ]
    },
    {
     "name": "stdout",
     "output_type": "stream",
     "text": [
      "[{'ProductURL': 'https://www.fast-growing-trees.com/products/calathea-ornata', 'ProductName': 'Calathea Ornata', 'SubHeading': 'Calathea ornata', 'Availability': 'InStock', 'Category': '6 inch', 'Pack': 'No Pot', 'RegularPrice': None, 'SalePrice': '$34.95', 'ReviewCount': '2 reviews', 'Rating': '5.0'}, {'ProductURL': 'https://www.fast-growing-trees.com/products/calathea-ornata', 'ProductName': 'Calathea Ornata', 'SubHeading': 'Calathea ornata', 'Availability': 'InStock', 'Category': '6 inch', 'Pack': 'White Delilah', 'RegularPrice': None, 'SalePrice': '$44.95', 'ReviewCount': '2 reviews', 'Rating': '5.0'}]\n",
      "https://www.fast-growing-trees.com/products/calathea-medallion\n"
     ]
    },
    {
     "name": "stderr",
     "output_type": "stream",
     "text": [
      "\r",
      "GettingInfo:  55%|████████████████████████████████████▊                              | 55/100 [07:02<05:55,  7.90s/URL]"
     ]
    },
    {
     "name": "stdout",
     "output_type": "stream",
     "text": [
      "[{'ProductURL': 'https://www.fast-growing-trees.com/products/calathea-medallion', 'ProductName': 'Calathea Medallion', 'SubHeading': \"Calathea veitchiana 'Medallion'\", 'Availability': 'SoldOut', 'Category': None, 'Pack': None, 'RegularPrice': None, 'SalePrice': None, 'ReviewCount': '3 reviews', 'Rating': '4.3'}]\n",
      "https://www.fast-growing-trees.com/products/colocasia-hilo-beauty\n"
     ]
    },
    {
     "name": "stderr",
     "output_type": "stream",
     "text": [
      "\r",
      "GettingInfo:  56%|█████████████████████████████████████▌                             | 56/100 [07:13<06:32,  8.91s/URL]"
     ]
    },
    {
     "name": "stdout",
     "output_type": "stream",
     "text": [
      "[{'ProductURL': 'https://www.fast-growing-trees.com/products/colocasia-hilo-beauty', 'ProductName': \"Colocasia 'Hilo Beauty'\", 'SubHeading': 'Colocasia esculenta ‘Hilo Beauty’', 'Availability': 'InStock', 'Category': '6 inch', 'Pack': None, 'RegularPrice': None, 'SalePrice': '$49.95', 'ReviewCount': '10 reviews', 'Rating': '3.9'}, {'ProductURL': 'https://www.fast-growing-trees.com/products/colocasia-hilo-beauty', 'ProductName': \"Colocasia 'Hilo Beauty'\", 'SubHeading': 'Colocasia esculenta ‘Hilo Beauty’', 'Availability': 'InStock', 'Category': '1 gallon', 'Pack': None, 'RegularPrice': None, 'SalePrice': '$84.95', 'ReviewCount': '10 reviews', 'Rating': '3.9'}]\n",
      "https://www.fast-growing-trees.com/products/alocasia-black-velvet\n"
     ]
    },
    {
     "name": "stderr",
     "output_type": "stream",
     "text": [
      "\r",
      "GettingInfo:  57%|██████████████████████████████████████▏                            | 57/100 [07:22<06:25,  8.97s/URL]"
     ]
    },
    {
     "name": "stdout",
     "output_type": "stream",
     "text": [
      "[{'ProductURL': 'https://www.fast-growing-trees.com/products/alocasia-black-velvet', 'ProductName': 'Alocasia Black Velvet', 'SubHeading': 'Alocasia ‘Black Velvet’', 'Availability': 'InStock', 'Category': '6 inch', 'Pack': None, 'RegularPrice': None, 'SalePrice': '$44.95', 'ReviewCount': '5 reviews', 'Rating': '4.0'}]\n",
      "https://www.fast-growing-trees.com/products/raven-zz-plant\n"
     ]
    },
    {
     "name": "stderr",
     "output_type": "stream",
     "text": [
      "\r",
      "GettingInfo:  58%|██████████████████████████████████████▊                            | 58/100 [07:32<06:20,  9.05s/URL]"
     ]
    },
    {
     "name": "stdout",
     "output_type": "stream",
     "text": [
      "[{'ProductURL': 'https://www.fast-growing-trees.com/products/raven-zz-plant', 'ProductName': 'Raven ZZ Plant', 'SubHeading': 'Zamioculcas zamiifolia ‘Dowon’', 'Availability': 'InStock', 'Category': '6 inch', 'Pack': None, 'RegularPrice': None, 'SalePrice': '$99.95', 'ReviewCount': '1 reviews', 'Rating': '3.0'}, {'ProductURL': 'https://www.fast-growing-trees.com/products/raven-zz-plant', 'ProductName': 'Raven ZZ Plant', 'SubHeading': 'Zamioculcas zamiifolia ‘Dowon’', 'Availability': 'InStock', 'Category': '3 gallon', 'Pack': None, 'RegularPrice': '$249.95', 'SalePrice': '$199.95', 'ReviewCount': '1 reviews', 'Rating': '3.0'}]\n",
      "https://www.fast-growing-trees.com/products/crocodile-fern\n"
     ]
    },
    {
     "name": "stderr",
     "output_type": "stream",
     "text": [
      "\r",
      "GettingInfo:  59%|███████████████████████████████████████▌                           | 59/100 [07:42<06:27,  9.46s/URL]"
     ]
    },
    {
     "name": "stdout",
     "output_type": "stream",
     "text": [
      "[{'ProductURL': 'https://www.fast-growing-trees.com/products/crocodile-fern', 'ProductName': 'Crocodile Fern', 'SubHeading': 'Microsorum musifolium', 'Availability': 'InStock', 'Category': '6 inch', 'Pack': 'No Pot', 'RegularPrice': None, 'SalePrice': '$64.95', 'ReviewCount': '6 reviews', 'Rating': '3.5'}, {'ProductURL': 'https://www.fast-growing-trees.com/products/crocodile-fern', 'ProductName': 'Crocodile Fern', 'SubHeading': 'Microsorum musifolium', 'Availability': 'InStock', 'Category': '6 inch', 'Pack': 'White Delilah', 'RegularPrice': None, 'SalePrice': '$74.95', 'ReviewCount': '6 reviews', 'Rating': '3.5'}]\n",
      "https://www.fast-growing-trees.com/products/red-abyssinian-banana-tree\n"
     ]
    },
    {
     "name": "stderr",
     "output_type": "stream",
     "text": [
      "\r",
      "GettingInfo:  60%|████████████████████████████████████████▏                          | 60/100 [07:49<05:52,  8.80s/URL]"
     ]
    },
    {
     "name": "stdout",
     "output_type": "stream",
     "text": [
      "[{'ProductURL': 'https://www.fast-growing-trees.com/products/red-abyssinian-banana-tree', 'ProductName': 'Red Abyssinian Banana Tree', 'SubHeading': 'Ensete ventricosum ‘Maurelii’', 'Availability': 'SoldOut', 'Category': None, 'Pack': None, 'RegularPrice': None, 'SalePrice': None, 'ReviewCount': '22 reviews', 'Rating': '4.8'}]\n",
      "https://www.fast-growing-trees.com/products/red-and-white-tulips-with-star-of-bethlehem\n"
     ]
    },
    {
     "name": "stderr",
     "output_type": "stream",
     "text": [
      "\r",
      "GettingInfo:  61%|████████████████████████████████████████▊                          | 61/100 [07:56<05:24,  8.31s/URL]"
     ]
    },
    {
     "name": "stdout",
     "output_type": "stream",
     "text": [
      "[{'ProductURL': 'https://www.fast-growing-trees.com/products/red-and-white-tulips-with-star-of-bethlehem', 'ProductName': 'Red and White Tulips with Star of Bethlehem', 'SubHeading': \"Tulipa 'Leen van der Mark'; Ornithogalum\", 'Availability': 'SoldOut', 'Category': None, 'Pack': None, 'RegularPrice': None, 'SalePrice': None, 'ReviewCount': '0 reviews', 'Rating': '0.0'}]\n",
      "https://www.fast-growing-trees.com/products/nancy-garrison-passion-fruit-vine\n"
     ]
    },
    {
     "name": "stderr",
     "output_type": "stream",
     "text": [
      "\r",
      "GettingInfo:  62%|█████████████████████████████████████████▌                         | 62/100 [08:05<05:22,  8.48s/URL]"
     ]
    },
    {
     "name": "stdout",
     "output_type": "stream",
     "text": [
      "[{'ProductURL': 'https://www.fast-growing-trees.com/products/nancy-garrison-passion-fruit-vine', 'ProductName': 'Nancy Garrison Passion Fruit Vine', 'SubHeading': 'Passiflora edulis ‘Nancy Garrison’', 'Availability': 'InStock', 'Category': '2-3 feet', 'Pack': None, 'RegularPrice': None, 'SalePrice': '$94.95', 'ReviewCount': '4 reviews', 'Rating': '5.0'}]\n",
      "https://www.fast-growing-trees.com/products/tropical-pink-guava-tree\n"
     ]
    },
    {
     "name": "stderr",
     "output_type": "stream",
     "text": [
      "\r",
      "GettingInfo:  63%|██████████████████████████████████████████▏                        | 63/100 [08:14<05:18,  8.62s/URL]"
     ]
    },
    {
     "name": "stdout",
     "output_type": "stream",
     "text": [
      "[{'ProductURL': 'https://www.fast-growing-trees.com/products/tropical-pink-guava-tree', 'ProductName': 'Tropical Pink Guava Tree', 'SubHeading': 'Psidium guajava ‘Tropic Pink’', 'Availability': 'InStock', 'Category': '2-3 feet', 'Pack': None, 'RegularPrice': None, 'SalePrice': '$109.95', 'ReviewCount': '10 reviews', 'Rating': '4.8'}]\n",
      "https://www.fast-growing-trees.com/products/euphoria-rose-shrub\n"
     ]
    },
    {
     "name": "stderr",
     "output_type": "stream",
     "text": [
      "\r",
      "GettingInfo:  64%|██████████████████████████████████████████▉                        | 64/100 [08:21<04:49,  8.03s/URL]"
     ]
    },
    {
     "name": "stdout",
     "output_type": "stream",
     "text": [
      "[{'ProductURL': 'https://www.fast-growing-trees.com/products/euphoria-rose-shrub', 'ProductName': 'Euphoria® Rose Shrub', 'SubHeading': \"Hybrid Hulthemia persica 'Euphoria'\", 'Availability': 'SoldOut', 'Category': None, 'Pack': None, 'RegularPrice': None, 'SalePrice': None, 'ReviewCount': '2 reviews', 'Rating': '5.0'}]\n",
      "https://www.fast-growing-trees.com/products/bambino-fiddle-leaf-fig\n"
     ]
    },
    {
     "name": "stderr",
     "output_type": "stream",
     "text": [
      "\r",
      "GettingInfo:  65%|███████████████████████████████████████████▌                       | 65/100 [08:33<05:22,  9.21s/URL]"
     ]
    },
    {
     "name": "stdout",
     "output_type": "stream",
     "text": [
      "[{'ProductURL': 'https://www.fast-growing-trees.com/products/bambino-fiddle-leaf-fig', 'ProductName': 'Bambino Fiddle Leaf Fig', 'SubHeading': 'Ficus lyrata bambino', 'Availability': 'InStock', 'Category': '6 inch', 'Pack': None, 'RegularPrice': None, 'SalePrice': '$29.95', 'ReviewCount': '13 reviews', 'Rating': '4.9'}]\n",
      "https://www.fast-growing-trees.com/products/flavor-king-pluot\n"
     ]
    },
    {
     "name": "stderr",
     "output_type": "stream",
     "text": [
      "\r",
      "GettingInfo:  66%|████████████████████████████████████████████▏                      | 66/100 [08:41<05:04,  8.94s/URL]"
     ]
    },
    {
     "name": "stdout",
     "output_type": "stream",
     "text": [
      "[{'ProductURL': 'https://www.fast-growing-trees.com/products/flavor-king-pluot', 'ProductName': 'Flavor King® Pluot Tree', 'SubHeading': \"Prunus x 'Flavor King'\", 'Availability': 'InStock', 'Category': '5-6 feet', 'Pack': None, 'RegularPrice': None, 'SalePrice': '$149.95', 'ReviewCount': '3 reviews', 'Rating': '3.0'}]\n",
      "https://www.fast-growing-trees.com/products/ohenry-peach-tree\n"
     ]
    },
    {
     "name": "stderr",
     "output_type": "stream",
     "text": [
      "\r",
      "GettingInfo:  67%|████████████████████████████████████████████▉                      | 67/100 [08:48<04:33,  8.30s/URL]"
     ]
    },
    {
     "name": "stdout",
     "output_type": "stream",
     "text": [
      "[{'ProductURL': 'https://www.fast-growing-trees.com/products/ohenry-peach-tree', 'ProductName': \"O'Henry Peach Tree\", 'SubHeading': \"Prunus persica 'O'Henry'\", 'Availability': 'InStock', 'Category': '4-5 feet', 'Pack': None, 'RegularPrice': '$149.95', 'SalePrice': '$95.95', 'ReviewCount': '4 reviews', 'Rating': '5.0'}]\n",
      "https://www.fast-growing-trees.com/products/pink-bloom-garden\n"
     ]
    },
    {
     "name": "stderr",
     "output_type": "stream",
     "text": [
      "\r",
      "GettingInfo:  68%|█████████████████████████████████████████████▌                     | 68/100 [08:55<04:15,  7.97s/URL]"
     ]
    },
    {
     "name": "stdout",
     "output_type": "stream",
     "text": [
      "[{'ProductURL': 'https://www.fast-growing-trees.com/products/pink-bloom-garden', 'ProductName': 'Pink Bloom Garden With Seagrass Pot', 'SubHeading': \"Hyacinthus 'Jan Bos' & Tulipa 'Innuendo'\", 'Availability': 'SoldOut', 'Category': None, 'Pack': None, 'RegularPrice': None, 'SalePrice': None, 'ReviewCount': '3 reviews', 'Rating': '5.0'}]\n",
      "https://www.fast-growing-trees.com/products/dapple-dandy-pluot-tree\n"
     ]
    },
    {
     "name": "stderr",
     "output_type": "stream",
     "text": [
      "\r",
      "GettingInfo:  69%|██████████████████████████████████████████████▏                    | 69/100 [09:01<03:48,  7.38s/URL]"
     ]
    },
    {
     "name": "stdout",
     "output_type": "stream",
     "text": [
      "[{'ProductURL': 'https://www.fast-growing-trees.com/products/dapple-dandy-pluot-tree', 'ProductName': 'Dapple Dandy Pluot Tree', 'SubHeading': \"Prunus x 'Dapple Dandy'\", 'Availability': 'SoldOut', 'Category': None, 'Pack': None, 'RegularPrice': None, 'SalePrice': None, 'ReviewCount': '0 reviews', 'Rating': '0.0'}]\n",
      "https://www.fast-growing-trees.com/products/perfume-breeze-rose-tree\n"
     ]
    },
    {
     "name": "stderr",
     "output_type": "stream",
     "text": [
      "\r",
      "GettingInfo:  70%|██████████████████████████████████████████████▉                    | 70/100 [09:07<03:27,  6.90s/URL]"
     ]
    },
    {
     "name": "stdout",
     "output_type": "stream",
     "text": [
      "[{'ProductURL': 'https://www.fast-growing-trees.com/products/perfume-breeze-rose-tree', 'ProductName': 'Perfume Breeze™ Rose Tree', 'SubHeading': 'Rosa ‘BARise’', 'Availability': 'SoldOut', 'Category': None, 'Pack': None, 'RegularPrice': None, 'SalePrice': None, 'ReviewCount': '5 reviews', 'Rating': '4.8'}]\n",
      "https://www.fast-growing-trees.com/products/raspberry-kiss-rose-tree\n"
     ]
    },
    {
     "name": "stderr",
     "output_type": "stream",
     "text": [
      "\r",
      "GettingInfo:  71%|███████████████████████████████████████████████▌                   | 71/100 [09:14<03:23,  7.00s/URL]"
     ]
    },
    {
     "name": "stdout",
     "output_type": "stream",
     "text": [
      "[{'ProductURL': 'https://www.fast-growing-trees.com/products/raspberry-kiss-rose-tree', 'ProductName': 'Raspberry Kiss™ Rose Tree', 'SubHeading': \"Rosa 'CHEwsumsigns'\", 'Availability': 'SoldOut', 'Category': None, 'Pack': None, 'RegularPrice': None, 'SalePrice': None, 'ReviewCount': '5 reviews', 'Rating': '5.0'}]\n",
      "https://www.fast-growing-trees.com/products/cathedral-bells-rose\n"
     ]
    },
    {
     "name": "stderr",
     "output_type": "stream",
     "text": [
      "\r",
      "GettingInfo:  72%|████████████████████████████████████████████████▏                  | 72/100 [09:21<03:16,  7.02s/URL]"
     ]
    },
    {
     "name": "stdout",
     "output_type": "stream",
     "text": [
      "[{'ProductURL': 'https://www.fast-growing-trees.com/products/cathedral-bells-rose', 'ProductName': 'Cathedral Bells Rose', 'SubHeading': 'Rosa ‘DelAMO’', 'Availability': 'SoldOut', 'Category': None, 'Pack': None, 'RegularPrice': None, 'SalePrice': None, 'ReviewCount': '4 reviews', 'Rating': '5.0'}]\n",
      "https://www.fast-growing-trees.com/products/oversized-handling-fee\n"
     ]
    },
    {
     "name": "stderr",
     "output_type": "stream",
     "text": [
      "\r",
      "GettingInfo:  73%|████████████████████████████████████████████████▉                  | 73/100 [09:29<03:17,  7.32s/URL]"
     ]
    },
    {
     "name": "stdout",
     "output_type": "stream",
     "text": [
      "[{'ProductURL': 'https://www.fast-growing-trees.com/products/oversized-handling-fee', 'ProductName': 'Oversize Handling Fee', 'SubHeading': '', 'Availability': 'InStock', 'Category': 'Default Title', 'Pack': None, 'RegularPrice': None, 'SalePrice': '$8.99', 'ReviewCount': '32 reviews', 'Rating': '3.6'}]\n",
      "https://www.fast-growing-trees.com/products/1-year-warranty-1\n"
     ]
    },
    {
     "name": "stderr",
     "output_type": "stream",
     "text": [
      "\r",
      "GettingInfo:  74%|█████████████████████████████████████████████████▌                 | 74/100 [13:40<34:49, 80.36s/URL]"
     ]
    },
    {
     "name": "stdout",
     "output_type": "stream",
     "text": [
      "[{'ProductURL': 'https://www.fast-growing-trees.com/products/1-year-warranty-1', 'ProductName': '1 Year Warranty', 'SubHeading': '', 'Availability': 'InStock', 'Category': '0-30', 'Pack': None, 'RegularPrice': None, 'SalePrice': '$3.95', 'ReviewCount': '198 reviews', 'Rating': '4.4'}, {'ProductURL': 'https://www.fast-growing-trees.com/products/1-year-warranty-1', 'ProductName': '1 Year Warranty', 'SubHeading': '', 'Availability': 'InStock', 'Category': '30-60', 'Pack': None, 'RegularPrice': None, 'SalePrice': '$6.95', 'ReviewCount': '198 reviews', 'Rating': '4.4'}, {'ProductURL': 'https://www.fast-growing-trees.com/products/1-year-warranty-1', 'ProductName': '1 Year Warranty', 'SubHeading': '', 'Availability': 'InStock', 'Category': '60-90', 'Pack': None, 'RegularPrice': None, 'SalePrice': '$9.95', 'ReviewCount': '198 reviews', 'Rating': '4.4'}, {'ProductURL': 'https://www.fast-growing-trees.com/products/1-year-warranty-1', 'ProductName': '1 Year Warranty', 'SubHeading': '', 'Availability': 'InStock', 'Category': '90-120', 'Pack': None, 'RegularPrice': None, 'SalePrice': '$12.95', 'ReviewCount': '198 reviews', 'Rating': '4.4'}, {'ProductURL': 'https://www.fast-growing-trees.com/products/1-year-warranty-1', 'ProductName': '1 Year Warranty', 'SubHeading': '', 'Availability': 'InStock', 'Category': '120-150', 'Pack': None, 'RegularPrice': None, 'SalePrice': '$15.95', 'ReviewCount': '198 reviews', 'Rating': '4.4'}, {'ProductURL': 'https://www.fast-growing-trees.com/products/1-year-warranty-1', 'ProductName': '1 Year Warranty', 'SubHeading': '', 'Availability': 'InStock', 'Category': '150-180', 'Pack': None, 'RegularPrice': None, 'SalePrice': '$18.95', 'ReviewCount': '198 reviews', 'Rating': '4.4'}, {'ProductURL': 'https://www.fast-growing-trees.com/products/1-year-warranty-1', 'ProductName': '1 Year Warranty', 'SubHeading': '', 'Availability': 'InStock', 'Category': '180-210', 'Pack': None, 'RegularPrice': None, 'SalePrice': '$21.95', 'ReviewCount': '198 reviews', 'Rating': '4.4'}, {'ProductURL': 'https://www.fast-growing-trees.com/products/1-year-warranty-1', 'ProductName': '1 Year Warranty', 'SubHeading': '', 'Availability': 'InStock', 'Category': '210-240', 'Pack': None, 'RegularPrice': None, 'SalePrice': '$24.95', 'ReviewCount': '198 reviews', 'Rating': '4.4'}, {'ProductURL': 'https://www.fast-growing-trees.com/products/1-year-warranty-1', 'ProductName': '1 Year Warranty', 'SubHeading': '', 'Availability': 'InStock', 'Category': '240-270', 'Pack': None, 'RegularPrice': None, 'SalePrice': '$27.95', 'ReviewCount': '198 reviews', 'Rating': '4.4'}, {'ProductURL': 'https://www.fast-growing-trees.com/products/1-year-warranty-1', 'ProductName': '1 Year Warranty', 'SubHeading': '', 'Availability': 'InStock', 'Category': '270-300', 'Pack': None, 'RegularPrice': None, 'SalePrice': '$30.95', 'ReviewCount': '198 reviews', 'Rating': '4.4'}, {'ProductURL': 'https://www.fast-growing-trees.com/products/1-year-warranty-1', 'ProductName': '1 Year Warranty', 'SubHeading': '', 'Availability': 'InStock', 'Category': '300-330', 'Pack': None, 'RegularPrice': None, 'SalePrice': '$33.95', 'ReviewCount': '198 reviews', 'Rating': '4.4'}, {'ProductURL': 'https://www.fast-growing-trees.com/products/1-year-warranty-1', 'ProductName': '1 Year Warranty', 'SubHeading': '', 'Availability': 'InStock', 'Category': '330-360', 'Pack': None, 'RegularPrice': None, 'SalePrice': '$36.95', 'ReviewCount': '198 reviews', 'Rating': '4.4'}, {'ProductURL': 'https://www.fast-growing-trees.com/products/1-year-warranty-1', 'ProductName': '1 Year Warranty', 'SubHeading': '', 'Availability': 'InStock', 'Category': '360-390', 'Pack': None, 'RegularPrice': None, 'SalePrice': '$39.95', 'ReviewCount': '198 reviews', 'Rating': '4.4'}, {'ProductURL': 'https://www.fast-growing-trees.com/products/1-year-warranty-1', 'ProductName': '1 Year Warranty', 'SubHeading': '', 'Availability': 'InStock', 'Category': '390-420', 'Pack': None, 'RegularPrice': None, 'SalePrice': '$42.95', 'ReviewCount': '198 reviews', 'Rating': '4.4'}, {'ProductURL': 'https://www.fast-growing-trees.com/products/1-year-warranty-1', 'ProductName': '1 Year Warranty', 'SubHeading': '', 'Availability': 'InStock', 'Category': '420-450', 'Pack': None, 'RegularPrice': None, 'SalePrice': '$45.95', 'ReviewCount': '198 reviews', 'Rating': '4.4'}, {'ProductURL': 'https://www.fast-growing-trees.com/products/1-year-warranty-1', 'ProductName': '1 Year Warranty', 'SubHeading': '', 'Availability': 'InStock', 'Category': '450-480', 'Pack': None, 'RegularPrice': None, 'SalePrice': '$48.95', 'ReviewCount': '198 reviews', 'Rating': '4.4'}, {'ProductURL': 'https://www.fast-growing-trees.com/products/1-year-warranty-1', 'ProductName': '1 Year Warranty', 'SubHeading': '', 'Availability': 'InStock', 'Category': '480-510', 'Pack': None, 'RegularPrice': None, 'SalePrice': '$51.95', 'ReviewCount': '198 reviews', 'Rating': '4.4'}, {'ProductURL': 'https://www.fast-growing-trees.com/products/1-year-warranty-1', 'ProductName': '1 Year Warranty', 'SubHeading': '', 'Availability': 'InStock', 'Category': '510-540', 'Pack': None, 'RegularPrice': None, 'SalePrice': '$54.95', 'ReviewCount': '198 reviews', 'Rating': '4.4'}, {'ProductURL': 'https://www.fast-growing-trees.com/products/1-year-warranty-1', 'ProductName': '1 Year Warranty', 'SubHeading': '', 'Availability': 'InStock', 'Category': '540-570', 'Pack': None, 'RegularPrice': None, 'SalePrice': '$57.95', 'ReviewCount': '198 reviews', 'Rating': '4.4'}, {'ProductURL': 'https://www.fast-growing-trees.com/products/1-year-warranty-1', 'ProductName': '1 Year Warranty', 'SubHeading': '', 'Availability': 'InStock', 'Category': '570-600', 'Pack': None, 'RegularPrice': None, 'SalePrice': '$60.95', 'ReviewCount': '198 reviews', 'Rating': '4.4'}, {'ProductURL': 'https://www.fast-growing-trees.com/products/1-year-warranty-1', 'ProductName': '1 Year Warranty', 'SubHeading': '', 'Availability': 'InStock', 'Category': '600-630', 'Pack': None, 'RegularPrice': None, 'SalePrice': '$63.95', 'ReviewCount': '198 reviews', 'Rating': '4.4'}, {'ProductURL': 'https://www.fast-growing-trees.com/products/1-year-warranty-1', 'ProductName': '1 Year Warranty', 'SubHeading': '', 'Availability': 'InStock', 'Category': '630-660', 'Pack': None, 'RegularPrice': None, 'SalePrice': '$66.95', 'ReviewCount': '198 reviews', 'Rating': '4.4'}, {'ProductURL': 'https://www.fast-growing-trees.com/products/1-year-warranty-1', 'ProductName': '1 Year Warranty', 'SubHeading': '', 'Availability': 'InStock', 'Category': '660-690', 'Pack': None, 'RegularPrice': None, 'SalePrice': '$69.95', 'ReviewCount': '198 reviews', 'Rating': '4.4'}, {'ProductURL': 'https://www.fast-growing-trees.com/products/1-year-warranty-1', 'ProductName': '1 Year Warranty', 'SubHeading': '', 'Availability': 'InStock', 'Category': '690-720', 'Pack': None, 'RegularPrice': None, 'SalePrice': '$72.95', 'ReviewCount': '198 reviews', 'Rating': '4.4'}, {'ProductURL': 'https://www.fast-growing-trees.com/products/1-year-warranty-1', 'ProductName': '1 Year Warranty', 'SubHeading': '', 'Availability': 'InStock', 'Category': '720-750', 'Pack': None, 'RegularPrice': None, 'SalePrice': '$75.95', 'ReviewCount': '198 reviews', 'Rating': '4.4'}, {'ProductURL': 'https://www.fast-growing-trees.com/products/1-year-warranty-1', 'ProductName': '1 Year Warranty', 'SubHeading': '', 'Availability': 'InStock', 'Category': '750-780', 'Pack': None, 'RegularPrice': None, 'SalePrice': '$78.95', 'ReviewCount': '198 reviews', 'Rating': '4.4'}, {'ProductURL': 'https://www.fast-growing-trees.com/products/1-year-warranty-1', 'ProductName': '1 Year Warranty', 'SubHeading': '', 'Availability': 'InStock', 'Category': '780-810', 'Pack': None, 'RegularPrice': None, 'SalePrice': '$81.95', 'ReviewCount': '198 reviews', 'Rating': '4.4'}, {'ProductURL': 'https://www.fast-growing-trees.com/products/1-year-warranty-1', 'ProductName': '1 Year Warranty', 'SubHeading': '', 'Availability': 'InStock', 'Category': '810-840', 'Pack': None, 'RegularPrice': None, 'SalePrice': '$84.95', 'ReviewCount': '198 reviews', 'Rating': '4.4'}, {'ProductURL': 'https://www.fast-growing-trees.com/products/1-year-warranty-1', 'ProductName': '1 Year Warranty', 'SubHeading': '', 'Availability': 'InStock', 'Category': '840-870', 'Pack': None, 'RegularPrice': None, 'SalePrice': '$87.95', 'ReviewCount': '198 reviews', 'Rating': '4.4'}, {'ProductURL': 'https://www.fast-growing-trees.com/products/1-year-warranty-1', 'ProductName': '1 Year Warranty', 'SubHeading': '', 'Availability': 'InStock', 'Category': '870-900', 'Pack': None, 'RegularPrice': None, 'SalePrice': '$90.95', 'ReviewCount': '198 reviews', 'Rating': '4.4'}, {'ProductURL': 'https://www.fast-growing-trees.com/products/1-year-warranty-1', 'ProductName': '1 Year Warranty', 'SubHeading': '', 'Availability': 'InStock', 'Category': '900-930', 'Pack': None, 'RegularPrice': None, 'SalePrice': '$93.95', 'ReviewCount': '198 reviews', 'Rating': '4.4'}, {'ProductURL': 'https://www.fast-growing-trees.com/products/1-year-warranty-1', 'ProductName': '1 Year Warranty', 'SubHeading': '', 'Availability': 'InStock', 'Category': '930-960', 'Pack': None, 'RegularPrice': None, 'SalePrice': '$96.95', 'ReviewCount': '198 reviews', 'Rating': '4.4'}, {'ProductURL': 'https://www.fast-growing-trees.com/products/1-year-warranty-1', 'ProductName': '1 Year Warranty', 'SubHeading': '', 'Availability': 'InStock', 'Category': '960-990', 'Pack': None, 'RegularPrice': None, 'SalePrice': '$99.95', 'ReviewCount': '198 reviews', 'Rating': '4.4'}, {'ProductURL': 'https://www.fast-growing-trees.com/products/1-year-warranty-1', 'ProductName': '1 Year Warranty', 'SubHeading': '', 'Availability': 'InStock', 'Category': '990-1020', 'Pack': None, 'RegularPrice': None, 'SalePrice': '$102.95', 'ReviewCount': '198 reviews', 'Rating': '4.4'}, {'ProductURL': 'https://www.fast-growing-trees.com/products/1-year-warranty-1', 'ProductName': '1 Year Warranty', 'SubHeading': '', 'Availability': 'InStock', 'Category': '1020-1050', 'Pack': None, 'RegularPrice': None, 'SalePrice': '$105.95', 'ReviewCount': '198 reviews', 'Rating': '4.4'}, {'ProductURL': 'https://www.fast-growing-trees.com/products/1-year-warranty-1', 'ProductName': '1 Year Warranty', 'SubHeading': '', 'Availability': 'InStock', 'Category': '1050-1080', 'Pack': None, 'RegularPrice': None, 'SalePrice': '$108.95', 'ReviewCount': '198 reviews', 'Rating': '4.4'}, {'ProductURL': 'https://www.fast-growing-trees.com/products/1-year-warranty-1', 'ProductName': '1 Year Warranty', 'SubHeading': '', 'Availability': 'InStock', 'Category': '1080-1110', 'Pack': None, 'RegularPrice': None, 'SalePrice': '$111.95', 'ReviewCount': '198 reviews', 'Rating': '4.4'}, {'ProductURL': 'https://www.fast-growing-trees.com/products/1-year-warranty-1', 'ProductName': '1 Year Warranty', 'SubHeading': '', 'Availability': 'InStock', 'Category': '1110-1140', 'Pack': None, 'RegularPrice': None, 'SalePrice': '$114.95', 'ReviewCount': '198 reviews', 'Rating': '4.4'}, {'ProductURL': 'https://www.fast-growing-trees.com/products/1-year-warranty-1', 'ProductName': '1 Year Warranty', 'SubHeading': '', 'Availability': 'InStock', 'Category': '1140-1170', 'Pack': None, 'RegularPrice': None, 'SalePrice': '$117.95', 'ReviewCount': '198 reviews', 'Rating': '4.4'}, {'ProductURL': 'https://www.fast-growing-trees.com/products/1-year-warranty-1', 'ProductName': '1 Year Warranty', 'SubHeading': '', 'Availability': 'InStock', 'Category': '1170-1200', 'Pack': None, 'RegularPrice': None, 'SalePrice': '$120.95', 'ReviewCount': '198 reviews', 'Rating': '4.4'}, {'ProductURL': 'https://www.fast-growing-trees.com/products/1-year-warranty-1', 'ProductName': '1 Year Warranty', 'SubHeading': '', 'Availability': 'InStock', 'Category': '1200-1230', 'Pack': None, 'RegularPrice': None, 'SalePrice': '$123.95', 'ReviewCount': '198 reviews', 'Rating': '4.4'}, {'ProductURL': 'https://www.fast-growing-trees.com/products/1-year-warranty-1', 'ProductName': '1 Year Warranty', 'SubHeading': '', 'Availability': 'InStock', 'Category': '1230-1260', 'Pack': None, 'RegularPrice': None, 'SalePrice': '$126.95', 'ReviewCount': '198 reviews', 'Rating': '4.4'}, {'ProductURL': 'https://www.fast-growing-trees.com/products/1-year-warranty-1', 'ProductName': '1 Year Warranty', 'SubHeading': '', 'Availability': 'InStock', 'Category': '1260-1290', 'Pack': None, 'RegularPrice': None, 'SalePrice': '$129.95', 'ReviewCount': '198 reviews', 'Rating': '4.4'}, {'ProductURL': 'https://www.fast-growing-trees.com/products/1-year-warranty-1', 'ProductName': '1 Year Warranty', 'SubHeading': '', 'Availability': 'InStock', 'Category': '1290-1320', 'Pack': None, 'RegularPrice': None, 'SalePrice': '$132.95', 'ReviewCount': '198 reviews', 'Rating': '4.4'}, {'ProductURL': 'https://www.fast-growing-trees.com/products/1-year-warranty-1', 'ProductName': '1 Year Warranty', 'SubHeading': '', 'Availability': 'InStock', 'Category': '1320-1350', 'Pack': None, 'RegularPrice': None, 'SalePrice': '$135.95', 'ReviewCount': '198 reviews', 'Rating': '4.4'}, {'ProductURL': 'https://www.fast-growing-trees.com/products/1-year-warranty-1', 'ProductName': '1 Year Warranty', 'SubHeading': '', 'Availability': 'InStock', 'Category': '1350-1380', 'Pack': None, 'RegularPrice': None, 'SalePrice': '$138.95', 'ReviewCount': '198 reviews', 'Rating': '4.4'}, {'ProductURL': 'https://www.fast-growing-trees.com/products/1-year-warranty-1', 'ProductName': '1 Year Warranty', 'SubHeading': '', 'Availability': 'InStock', 'Category': '1380-1410', 'Pack': None, 'RegularPrice': None, 'SalePrice': '$141.95', 'ReviewCount': '198 reviews', 'Rating': '4.4'}, {'ProductURL': 'https://www.fast-growing-trees.com/products/1-year-warranty-1', 'ProductName': '1 Year Warranty', 'SubHeading': '', 'Availability': 'InStock', 'Category': '1410-1440', 'Pack': None, 'RegularPrice': None, 'SalePrice': '$144.95', 'ReviewCount': '198 reviews', 'Rating': '4.4'}, {'ProductURL': 'https://www.fast-growing-trees.com/products/1-year-warranty-1', 'ProductName': '1 Year Warranty', 'SubHeading': '', 'Availability': 'InStock', 'Category': '1440-1470', 'Pack': None, 'RegularPrice': None, 'SalePrice': '$147.95', 'ReviewCount': '198 reviews', 'Rating': '4.4'}, {'ProductURL': 'https://www.fast-growing-trees.com/products/1-year-warranty-1', 'ProductName': '1 Year Warranty', 'SubHeading': '', 'Availability': 'InStock', 'Category': '1470-1500', 'Pack': None, 'RegularPrice': None, 'SalePrice': '$150.95', 'ReviewCount': '198 reviews', 'Rating': '4.4'}, {'ProductURL': 'https://www.fast-growing-trees.com/products/1-year-warranty-1', 'ProductName': '1 Year Warranty', 'SubHeading': '', 'Availability': 'InStock', 'Category': '1500-1530', 'Pack': None, 'RegularPrice': None, 'SalePrice': '$153.95', 'ReviewCount': '198 reviews', 'Rating': '4.4'}, {'ProductURL': 'https://www.fast-growing-trees.com/products/1-year-warranty-1', 'ProductName': '1 Year Warranty', 'SubHeading': '', 'Availability': 'InStock', 'Category': '1530-1560', 'Pack': None, 'RegularPrice': None, 'SalePrice': '$156.95', 'ReviewCount': '198 reviews', 'Rating': '4.4'}, {'ProductURL': 'https://www.fast-growing-trees.com/products/1-year-warranty-1', 'ProductName': '1 Year Warranty', 'SubHeading': '', 'Availability': 'InStock', 'Category': '1560-1590', 'Pack': None, 'RegularPrice': None, 'SalePrice': '$159.95', 'ReviewCount': '198 reviews', 'Rating': '4.4'}, {'ProductURL': 'https://www.fast-growing-trees.com/products/1-year-warranty-1', 'ProductName': '1 Year Warranty', 'SubHeading': '', 'Availability': 'InStock', 'Category': '1590-1620', 'Pack': None, 'RegularPrice': None, 'SalePrice': '$162.95', 'ReviewCount': '198 reviews', 'Rating': '4.4'}, {'ProductURL': 'https://www.fast-growing-trees.com/products/1-year-warranty-1', 'ProductName': '1 Year Warranty', 'SubHeading': '', 'Availability': 'InStock', 'Category': '1620-1650', 'Pack': None, 'RegularPrice': None, 'SalePrice': '$165.95', 'ReviewCount': '198 reviews', 'Rating': '4.4'}, {'ProductURL': 'https://www.fast-growing-trees.com/products/1-year-warranty-1', 'ProductName': '1 Year Warranty', 'SubHeading': '', 'Availability': 'InStock', 'Category': '1650-1680', 'Pack': None, 'RegularPrice': None, 'SalePrice': '$168.95', 'ReviewCount': '198 reviews', 'Rating': '4.4'}, {'ProductURL': 'https://www.fast-growing-trees.com/products/1-year-warranty-1', 'ProductName': '1 Year Warranty', 'SubHeading': '', 'Availability': 'InStock', 'Category': '1680-1710', 'Pack': None, 'RegularPrice': None, 'SalePrice': '$171.95', 'ReviewCount': '198 reviews', 'Rating': '4.4'}, {'ProductURL': 'https://www.fast-growing-trees.com/products/1-year-warranty-1', 'ProductName': '1 Year Warranty', 'SubHeading': '', 'Availability': 'InStock', 'Category': '1710-1740', 'Pack': None, 'RegularPrice': None, 'SalePrice': '$174.95', 'ReviewCount': '198 reviews', 'Rating': '4.4'}, {'ProductURL': 'https://www.fast-growing-trees.com/products/1-year-warranty-1', 'ProductName': '1 Year Warranty', 'SubHeading': '', 'Availability': 'InStock', 'Category': '1740-1770', 'Pack': None, 'RegularPrice': None, 'SalePrice': '$177.95', 'ReviewCount': '198 reviews', 'Rating': '4.4'}, {'ProductURL': 'https://www.fast-growing-trees.com/products/1-year-warranty-1', 'ProductName': '1 Year Warranty', 'SubHeading': '', 'Availability': 'InStock', 'Category': '1770-1800', 'Pack': None, 'RegularPrice': None, 'SalePrice': '$180.95', 'ReviewCount': '198 reviews', 'Rating': '4.4'}, {'ProductURL': 'https://www.fast-growing-trees.com/products/1-year-warranty-1', 'ProductName': '1 Year Warranty', 'SubHeading': '', 'Availability': 'InStock', 'Category': '1800-1830', 'Pack': None, 'RegularPrice': None, 'SalePrice': '$183.95', 'ReviewCount': '198 reviews', 'Rating': '4.4'}, {'ProductURL': 'https://www.fast-growing-trees.com/products/1-year-warranty-1', 'ProductName': '1 Year Warranty', 'SubHeading': '', 'Availability': 'InStock', 'Category': '1830-1860', 'Pack': None, 'RegularPrice': None, 'SalePrice': '$186.95', 'ReviewCount': '198 reviews', 'Rating': '4.4'}, {'ProductURL': 'https://www.fast-growing-trees.com/products/1-year-warranty-1', 'ProductName': '1 Year Warranty', 'SubHeading': '', 'Availability': 'InStock', 'Category': '1860-1890', 'Pack': None, 'RegularPrice': None, 'SalePrice': '$189.95', 'ReviewCount': '198 reviews', 'Rating': '4.4'}, {'ProductURL': 'https://www.fast-growing-trees.com/products/1-year-warranty-1', 'ProductName': '1 Year Warranty', 'SubHeading': '', 'Availability': 'InStock', 'Category': '1890-1920', 'Pack': None, 'RegularPrice': None, 'SalePrice': '$192.95', 'ReviewCount': '198 reviews', 'Rating': '4.4'}, {'ProductURL': 'https://www.fast-growing-trees.com/products/1-year-warranty-1', 'ProductName': '1 Year Warranty', 'SubHeading': '', 'Availability': 'InStock', 'Category': '1920-1950', 'Pack': None, 'RegularPrice': None, 'SalePrice': '$195.95', 'ReviewCount': '198 reviews', 'Rating': '4.4'}, {'ProductURL': 'https://www.fast-growing-trees.com/products/1-year-warranty-1', 'ProductName': '1 Year Warranty', 'SubHeading': '', 'Availability': 'InStock', 'Category': '1950-1980', 'Pack': None, 'RegularPrice': None, 'SalePrice': '$198.95', 'ReviewCount': '198 reviews', 'Rating': '4.4'}, {'ProductURL': 'https://www.fast-growing-trees.com/products/1-year-warranty-1', 'ProductName': '1 Year Warranty', 'SubHeading': '', 'Availability': 'InStock', 'Category': '1980-2010', 'Pack': None, 'RegularPrice': None, 'SalePrice': '$201.95', 'ReviewCount': '198 reviews', 'Rating': '4.4'}, {'ProductURL': 'https://www.fast-growing-trees.com/products/1-year-warranty-1', 'ProductName': '1 Year Warranty', 'SubHeading': '', 'Availability': 'InStock', 'Category': '2010-2040', 'Pack': None, 'RegularPrice': None, 'SalePrice': '$204.95', 'ReviewCount': '198 reviews', 'Rating': '4.4'}, {'ProductURL': 'https://www.fast-growing-trees.com/products/1-year-warranty-1', 'ProductName': '1 Year Warranty', 'SubHeading': '', 'Availability': 'InStock', 'Category': '2040-2070', 'Pack': None, 'RegularPrice': None, 'SalePrice': '$207.95', 'ReviewCount': '198 reviews', 'Rating': '4.4'}, {'ProductURL': 'https://www.fast-growing-trees.com/products/1-year-warranty-1', 'ProductName': '1 Year Warranty', 'SubHeading': '', 'Availability': 'InStock', 'Category': '2070-2100', 'Pack': None, 'RegularPrice': None, 'SalePrice': '$210.95', 'ReviewCount': '198 reviews', 'Rating': '4.4'}, {'ProductURL': 'https://www.fast-growing-trees.com/products/1-year-warranty-1', 'ProductName': '1 Year Warranty', 'SubHeading': '', 'Availability': 'InStock', 'Category': '2100-2130', 'Pack': None, 'RegularPrice': None, 'SalePrice': '$213.95', 'ReviewCount': '198 reviews', 'Rating': '4.4'}, {'ProductURL': 'https://www.fast-growing-trees.com/products/1-year-warranty-1', 'ProductName': '1 Year Warranty', 'SubHeading': '', 'Availability': 'InStock', 'Category': '2130-2160', 'Pack': None, 'RegularPrice': None, 'SalePrice': '$216.95', 'ReviewCount': '198 reviews', 'Rating': '4.4'}, {'ProductURL': 'https://www.fast-growing-trees.com/products/1-year-warranty-1', 'ProductName': '1 Year Warranty', 'SubHeading': '', 'Availability': 'InStock', 'Category': '2160-2190', 'Pack': None, 'RegularPrice': None, 'SalePrice': '$219.95', 'ReviewCount': '198 reviews', 'Rating': '4.4'}, {'ProductURL': 'https://www.fast-growing-trees.com/products/1-year-warranty-1', 'ProductName': '1 Year Warranty', 'SubHeading': '', 'Availability': 'InStock', 'Category': '2190-2220', 'Pack': None, 'RegularPrice': None, 'SalePrice': '$222.95', 'ReviewCount': '198 reviews', 'Rating': '4.4'}, {'ProductURL': 'https://www.fast-growing-trees.com/products/1-year-warranty-1', 'ProductName': '1 Year Warranty', 'SubHeading': '', 'Availability': 'InStock', 'Category': '2220-2250', 'Pack': None, 'RegularPrice': None, 'SalePrice': '$225.95', 'ReviewCount': '198 reviews', 'Rating': '4.4'}, {'ProductURL': 'https://www.fast-growing-trees.com/products/1-year-warranty-1', 'ProductName': '1 Year Warranty', 'SubHeading': '', 'Availability': 'InStock', 'Category': '2250-2280', 'Pack': None, 'RegularPrice': None, 'SalePrice': '$228.95', 'ReviewCount': '198 reviews', 'Rating': '4.4'}, {'ProductURL': 'https://www.fast-growing-trees.com/products/1-year-warranty-1', 'ProductName': '1 Year Warranty', 'SubHeading': '', 'Availability': 'InStock', 'Category': '2280-2310', 'Pack': None, 'RegularPrice': None, 'SalePrice': '$231.95', 'ReviewCount': '198 reviews', 'Rating': '4.4'}, {'ProductURL': 'https://www.fast-growing-trees.com/products/1-year-warranty-1', 'ProductName': '1 Year Warranty', 'SubHeading': '', 'Availability': 'InStock', 'Category': '2310-2340', 'Pack': None, 'RegularPrice': None, 'SalePrice': '$234.95', 'ReviewCount': '198 reviews', 'Rating': '4.4'}, {'ProductURL': 'https://www.fast-growing-trees.com/products/1-year-warranty-1', 'ProductName': '1 Year Warranty', 'SubHeading': '', 'Availability': 'InStock', 'Category': '2340-2370', 'Pack': None, 'RegularPrice': None, 'SalePrice': '$237.95', 'ReviewCount': '198 reviews', 'Rating': '4.4'}, {'ProductURL': 'https://www.fast-growing-trees.com/products/1-year-warranty-1', 'ProductName': '1 Year Warranty', 'SubHeading': '', 'Availability': 'InStock', 'Category': '2370-2400', 'Pack': None, 'RegularPrice': None, 'SalePrice': '$240.95', 'ReviewCount': '198 reviews', 'Rating': '4.4'}, {'ProductURL': 'https://www.fast-growing-trees.com/products/1-year-warranty-1', 'ProductName': '1 Year Warranty', 'SubHeading': '', 'Availability': 'InStock', 'Category': '2400-2430', 'Pack': None, 'RegularPrice': None, 'SalePrice': '$243.95', 'ReviewCount': '198 reviews', 'Rating': '4.4'}, {'ProductURL': 'https://www.fast-growing-trees.com/products/1-year-warranty-1', 'ProductName': '1 Year Warranty', 'SubHeading': '', 'Availability': 'InStock', 'Category': '2430-2460', 'Pack': None, 'RegularPrice': None, 'SalePrice': '$246.95', 'ReviewCount': '198 reviews', 'Rating': '4.4'}, {'ProductURL': 'https://www.fast-growing-trees.com/products/1-year-warranty-1', 'ProductName': '1 Year Warranty', 'SubHeading': '', 'Availability': 'InStock', 'Category': '2460-2490', 'Pack': None, 'RegularPrice': None, 'SalePrice': '$249.95', 'ReviewCount': '198 reviews', 'Rating': '4.4'}, {'ProductURL': 'https://www.fast-growing-trees.com/products/1-year-warranty-1', 'ProductName': '1 Year Warranty', 'SubHeading': '', 'Availability': 'InStock', 'Category': '2490-2520', 'Pack': None, 'RegularPrice': None, 'SalePrice': '$252.95', 'ReviewCount': '198 reviews', 'Rating': '4.4'}, {'ProductURL': 'https://www.fast-growing-trees.com/products/1-year-warranty-1', 'ProductName': '1 Year Warranty', 'SubHeading': '', 'Availability': 'InStock', 'Category': '2520-2550', 'Pack': None, 'RegularPrice': None, 'SalePrice': '$255.95', 'ReviewCount': '198 reviews', 'Rating': '4.4'}, {'ProductURL': 'https://www.fast-growing-trees.com/products/1-year-warranty-1', 'ProductName': '1 Year Warranty', 'SubHeading': '', 'Availability': 'InStock', 'Category': '2550-2580', 'Pack': None, 'RegularPrice': None, 'SalePrice': '$258.95', 'ReviewCount': '198 reviews', 'Rating': '4.4'}, {'ProductURL': 'https://www.fast-growing-trees.com/products/1-year-warranty-1', 'ProductName': '1 Year Warranty', 'SubHeading': '', 'Availability': 'InStock', 'Category': '2580-2610', 'Pack': None, 'RegularPrice': None, 'SalePrice': '$261.95', 'ReviewCount': '198 reviews', 'Rating': '4.4'}, {'ProductURL': 'https://www.fast-growing-trees.com/products/1-year-warranty-1', 'ProductName': '1 Year Warranty', 'SubHeading': '', 'Availability': 'InStock', 'Category': '2610-2640', 'Pack': None, 'RegularPrice': None, 'SalePrice': '$264.95', 'ReviewCount': '198 reviews', 'Rating': '4.4'}, {'ProductURL': 'https://www.fast-growing-trees.com/products/1-year-warranty-1', 'ProductName': '1 Year Warranty', 'SubHeading': '', 'Availability': 'InStock', 'Category': '2640-2670', 'Pack': None, 'RegularPrice': None, 'SalePrice': '$267.95', 'ReviewCount': '198 reviews', 'Rating': '4.4'}, {'ProductURL': 'https://www.fast-growing-trees.com/products/1-year-warranty-1', 'ProductName': '1 Year Warranty', 'SubHeading': '', 'Availability': 'InStock', 'Category': '2670-2700', 'Pack': None, 'RegularPrice': None, 'SalePrice': '$270.95', 'ReviewCount': '198 reviews', 'Rating': '4.4'}, {'ProductURL': 'https://www.fast-growing-trees.com/products/1-year-warranty-1', 'ProductName': '1 Year Warranty', 'SubHeading': '', 'Availability': 'InStock', 'Category': '2700-2730', 'Pack': None, 'RegularPrice': None, 'SalePrice': '$273.95', 'ReviewCount': '198 reviews', 'Rating': '4.4'}, {'ProductURL': 'https://www.fast-growing-trees.com/products/1-year-warranty-1', 'ProductName': '1 Year Warranty', 'SubHeading': '', 'Availability': 'InStock', 'Category': '2730-2760', 'Pack': None, 'RegularPrice': None, 'SalePrice': '$276.95', 'ReviewCount': '198 reviews', 'Rating': '4.4'}, {'ProductURL': 'https://www.fast-growing-trees.com/products/1-year-warranty-1', 'ProductName': '1 Year Warranty', 'SubHeading': '', 'Availability': 'InStock', 'Category': '2760-2790', 'Pack': None, 'RegularPrice': None, 'SalePrice': '$279.95', 'ReviewCount': '198 reviews', 'Rating': '4.4'}, {'ProductURL': 'https://www.fast-growing-trees.com/products/1-year-warranty-1', 'ProductName': '1 Year Warranty', 'SubHeading': '', 'Availability': 'InStock', 'Category': '2790-2820', 'Pack': None, 'RegularPrice': None, 'SalePrice': '$282.95', 'ReviewCount': '198 reviews', 'Rating': '4.4'}, {'ProductURL': 'https://www.fast-growing-trees.com/products/1-year-warranty-1', 'ProductName': '1 Year Warranty', 'SubHeading': '', 'Availability': 'InStock', 'Category': '2820-2850', 'Pack': None, 'RegularPrice': None, 'SalePrice': '$285.95', 'ReviewCount': '198 reviews', 'Rating': '4.4'}, {'ProductURL': 'https://www.fast-growing-trees.com/products/1-year-warranty-1', 'ProductName': '1 Year Warranty', 'SubHeading': '', 'Availability': 'InStock', 'Category': '2850-2880', 'Pack': None, 'RegularPrice': None, 'SalePrice': '$288.95', 'ReviewCount': '198 reviews', 'Rating': '4.4'}, {'ProductURL': 'https://www.fast-growing-trees.com/products/1-year-warranty-1', 'ProductName': '1 Year Warranty', 'SubHeading': '', 'Availability': 'InStock', 'Category': '2880-2910', 'Pack': None, 'RegularPrice': None, 'SalePrice': '$291.95', 'ReviewCount': '198 reviews', 'Rating': '4.4'}, {'ProductURL': 'https://www.fast-growing-trees.com/products/1-year-warranty-1', 'ProductName': '1 Year Warranty', 'SubHeading': '', 'Availability': 'InStock', 'Category': '2910-2970', 'Pack': None, 'RegularPrice': None, 'SalePrice': '$294.95', 'ReviewCount': '198 reviews', 'Rating': '4.4'}, {'ProductURL': 'https://www.fast-growing-trees.com/products/1-year-warranty-1', 'ProductName': '1 Year Warranty', 'SubHeading': '', 'Availability': 'InStock', 'Category': '2970-99999999', 'Pack': None, 'RegularPrice': None, 'SalePrice': '$300.95', 'ReviewCount': '198 reviews', 'Rating': '4.4'}, {'ProductURL': 'https://www.fast-growing-trees.com/products/1-year-warranty-1', 'ProductName': '1 Year Warranty', 'SubHeading': '', 'Availability': 'InStock', 'Category': 'FREE-FREE', 'Pack': None, 'RegularPrice': None, 'SalePrice': '$0.00', 'ReviewCount': '198 reviews', 'Rating': '4.4'}]\n",
      "https://www.fast-growing-trees.com/products/eyeconic-mango-lemonade-rose\n"
     ]
    },
    {
     "name": "stderr",
     "output_type": "stream",
     "text": [
      "\r",
      "GettingInfo:  75%|██████████████████████████████████████████████████▎                | 75/100 [13:48<24:29, 58.78s/URL]"
     ]
    },
    {
     "name": "stdout",
     "output_type": "stream",
     "text": [
      "[{'ProductURL': 'https://www.fast-growing-trees.com/products/eyeconic-mango-lemonade-rose', 'ProductName': 'Eyeconic® Mango Lemonade Rose', 'SubHeading': 'Rosa ‘Sprolemango’', 'Availability': 'SoldOut', 'Category': None, 'Pack': None, 'RegularPrice': None, 'SalePrice': None, 'ReviewCount': '3 reviews', 'Rating': '5.0'}]\n",
      "https://www.fast-growing-trees.com/products/eyeconic-plum-lemonade-rose\n"
     ]
    },
    {
     "name": "stderr",
     "output_type": "stream",
     "text": [
      "\r",
      "GettingInfo:  76%|██████████████████████████████████████████████████▉                | 76/100 [13:54<17:10, 42.93s/URL]"
     ]
    },
    {
     "name": "stdout",
     "output_type": "stream",
     "text": [
      "[{'ProductURL': 'https://www.fast-growing-trees.com/products/eyeconic-plum-lemonade-rose', 'ProductName': 'Eyeconic® Plum Lemonade Rose', 'SubHeading': 'Rosa ‘Sprolemlav’', 'Availability': 'SoldOut', 'Category': None, 'Pack': None, 'RegularPrice': None, 'SalePrice': None, 'ReviewCount': '0 reviews', 'Rating': '5.0'}]\n",
      "https://www.fast-growing-trees.com/products/maurice-utrillo-rose-tree\n"
     ]
    },
    {
     "name": "stderr",
     "output_type": "stream",
     "text": [
      "\r",
      "GettingInfo:  77%|███████████████████████████████████████████████████▌               | 77/100 [14:02<12:20, 32.18s/URL]"
     ]
    },
    {
     "name": "stdout",
     "output_type": "stream",
     "text": [
      "[{'ProductURL': 'https://www.fast-growing-trees.com/products/maurice-utrillo-rose-tree', 'ProductName': 'Maurice Utrillo™ Rose Tree', 'SubHeading': \"‘Rosa DELstavo'\", 'Availability': 'SoldOut', 'Category': None, 'Pack': None, 'RegularPrice': None, 'SalePrice': None, 'ReviewCount': '1 reviews', 'Rating': '5.0'}]\n",
      "https://www.fast-growing-trees.com/products/hazelnut-pollinator-pack\n"
     ]
    },
    {
     "name": "stderr",
     "output_type": "stream",
     "text": [
      "\r",
      "GettingInfo:  78%|████████████████████████████████████████████████████▎              | 78/100 [14:08<08:56, 24.38s/URL]"
     ]
    },
    {
     "name": "stdout",
     "output_type": "stream",
     "text": [
      "[{'ProductURL': 'https://www.fast-growing-trees.com/products/hazelnut-pollinator-pack', 'ProductName': 'Hazelnut Pollinator Pack', 'SubHeading': \"Corylus avellana 'Jefferson'; Corylus avellana 'Theta'\", 'Availability': 'SoldOut', 'Category': None, 'Pack': None, 'RegularPrice': None, 'SalePrice': None, 'ReviewCount': '6 reviews', 'Rating': '5.0'}]\n",
      "https://www.fast-growing-trees.com/products/manzanillo-olive-tree\n"
     ]
    },
    {
     "name": "stderr",
     "output_type": "stream",
     "text": [
      "\r",
      "GettingInfo:  79%|████████████████████████████████████████████████████▉              | 79/100 [14:15<06:43, 19.23s/URL]"
     ]
    },
    {
     "name": "stdout",
     "output_type": "stream",
     "text": [
      "[{'ProductURL': 'https://www.fast-growing-trees.com/products/manzanillo-olive-tree', 'ProductName': 'Manzanillo Olive Tree', 'SubHeading': \"Olea europaea 'Manzanillo’\", 'Availability': 'SoldOut', 'Category': None, 'Pack': None, 'RegularPrice': None, 'SalePrice': None, 'ReviewCount': '6 reviews', 'Rating': '4.8'}]\n",
      "https://www.fast-growing-trees.com/products/endless-summer-pop-star-hydrangea\n"
     ]
    },
    {
     "name": "stderr",
     "output_type": "stream",
     "text": [
      "\r",
      "GettingInfo:  80%|█████████████████████████████████████████████████████▌             | 80/100 [14:24<05:21, 16.08s/URL]"
     ]
    },
    {
     "name": "stdout",
     "output_type": "stream",
     "text": [
      "[{'ProductURL': 'https://www.fast-growing-trees.com/products/endless-summer-pop-star-hydrangea', 'ProductName': 'Endless Summer® Pop Star® Bigleaf Hydrangea', 'SubHeading': 'Hydrangea macrophylla ‘Bailmacsix”', 'Availability': 'InStock', 'Category': '2 gallon', 'Pack': 'Single', 'RegularPrice': None, 'SalePrice': '$89.95', 'ReviewCount': '0 reviews', 'Rating': '4.5'}, {'ProductURL': 'https://www.fast-growing-trees.com/products/endless-summer-pop-star-hydrangea', 'ProductName': 'Endless Summer® Pop Star® Bigleaf Hydrangea', 'SubHeading': 'Hydrangea macrophylla ‘Bailmacsix”', 'Availability': 'InStock', 'Category': '2 gallon', 'Pack': '4-Pack', 'RegularPrice': '$359.80', 'SalePrice': '$305.83', 'ReviewCount': '0 reviews', 'Rating': '4.5'}]\n",
      "https://www.fast-growing-trees.com/products/variegated-ficus-triangularis-tree\n"
     ]
    },
    {
     "name": "stderr",
     "output_type": "stream",
     "text": [
      "\r",
      "GettingInfo:  81%|██████████████████████████████████████████████████████▎            | 81/100 [14:35<04:36, 14.56s/URL]"
     ]
    },
    {
     "name": "stdout",
     "output_type": "stream",
     "text": [
      "[{'ProductURL': 'https://www.fast-growing-trees.com/products/variegated-ficus-triangularis-tree', 'ProductName': 'Variegated Ficus Triangularis Tree', 'SubHeading': \"Ficus triangularis 'Variegata'\", 'Availability': 'InStock', 'Category': '1-2 feet', 'Pack': None, 'RegularPrice': '$109.95', 'SalePrice': '$64.95', 'ReviewCount': '10 reviews', 'Rating': '4.8'}, {'ProductURL': 'https://www.fast-growing-trees.com/products/variegated-ficus-triangularis-tree', 'ProductName': 'Variegated Ficus Triangularis Tree', 'SubHeading': \"Ficus triangularis 'Variegata'\", 'Availability': 'InStock', 'Category': '2-3 feet', 'Pack': None, 'RegularPrice': None, 'SalePrice': '$119.95', 'ReviewCount': '10 reviews', 'Rating': '4.8'}]\n",
      "https://www.fast-growing-trees.com/products/wasabi-plant\n"
     ]
    },
    {
     "name": "stderr",
     "output_type": "stream",
     "text": [
      "\r",
      "GettingInfo:  82%|██████████████████████████████████████████████████████▉            | 82/100 [14:41<03:35, 11.96s/URL]"
     ]
    },
    {
     "name": "stdout",
     "output_type": "stream",
     "text": [
      "[{'ProductURL': 'https://www.fast-growing-trees.com/products/wasabi-plant', 'ProductName': 'Wasabi Plant', 'SubHeading': \"Wasabia japonica 'Daruma'\", 'Availability': 'SoldOut', 'Category': None, 'Pack': None, 'RegularPrice': None, 'SalePrice': None, 'ReviewCount': '11 reviews', 'Rating': '4.9'}]\n",
      "https://www.fast-growing-trees.com/products/turboturf-bermudagrass-seed\n"
     ]
    },
    {
     "name": "stderr",
     "output_type": "stream",
     "text": [
      "\r",
      "GettingInfo:  83%|███████████████████████████████████████████████████████▌           | 83/100 [14:53<03:28, 12.25s/URL]"
     ]
    },
    {
     "name": "stdout",
     "output_type": "stream",
     "text": [
      "[{'ProductURL': 'https://www.fast-growing-trees.com/products/turboturf-bermudagrass-seed', 'ProductName': 'TurboTurf™ Bermudagrass Seed', 'SubHeading': '', 'Availability': 'InStock', 'Category': '5 lb Bag', 'Pack': None, 'RegularPrice': None, 'SalePrice': '$64.95', 'ReviewCount': '6 reviews', 'Rating': '4.2'}, {'ProductURL': 'https://www.fast-growing-trees.com/products/turboturf-bermudagrass-seed', 'ProductName': 'TurboTurf™ Bermudagrass Seed', 'SubHeading': '', 'Availability': 'InStock', 'Category': '10 lb. Bag', 'Pack': None, 'RegularPrice': '$149.95', 'SalePrice': '$99.95', 'ReviewCount': '6 reviews', 'Rating': '4.2'}]\n",
      "https://www.fast-growing-trees.com/products/turboturf-sun-shade-grass-seed\n"
     ]
    },
    {
     "name": "stderr",
     "output_type": "stream",
     "text": [
      "\r",
      "GettingInfo:  84%|████████████████████████████████████████████████████████▎          | 84/100 [15:08<03:25, 12.87s/URL]"
     ]
    },
    {
     "name": "stdout",
     "output_type": "stream",
     "text": [
      "[{'ProductURL': 'https://www.fast-growing-trees.com/products/turboturf-sun-shade-grass-seed', 'ProductName': 'TurboTurf™ Sun & Shade Grass Seed', 'SubHeading': '', 'Availability': 'InStock', 'Category': '7 lb. Bag', 'Pack': None, 'RegularPrice': None, 'SalePrice': '$64.95', 'ReviewCount': '0 reviews', 'Rating': '4.0'}, {'ProductURL': 'https://www.fast-growing-trees.com/products/turboturf-sun-shade-grass-seed', 'ProductName': 'TurboTurf™ Sun & Shade Grass Seed', 'SubHeading': '', 'Availability': 'InStock', 'Category': '25 lb. Bag', 'Pack': None, 'RegularPrice': None, 'SalePrice': '$119.95', 'ReviewCount': '0 reviews', 'Rating': '4.0'}]\n",
      "https://www.fast-growing-trees.com/products/turboturf-tall-fescue-grass-seed\n"
     ]
    },
    {
     "name": "stderr",
     "output_type": "stream",
     "text": [
      "\r",
      "GettingInfo:  85%|████████████████████████████████████████████████████████▉          | 85/100 [15:22<03:18, 13.20s/URL]"
     ]
    },
    {
     "name": "stdout",
     "output_type": "stream",
     "text": [
      "[{'ProductURL': 'https://www.fast-growing-trees.com/products/turboturf-tall-fescue-grass-seed', 'ProductName': 'TurboTurf™ Tall Fescue Grass Seed', 'SubHeading': '', 'Availability': 'InStock', 'Category': '7 lb. Bag', 'Pack': None, 'RegularPrice': None, 'SalePrice': '$64.95', 'ReviewCount': '4 reviews', 'Rating': '4.5'}, {'ProductURL': 'https://www.fast-growing-trees.com/products/turboturf-tall-fescue-grass-seed', 'ProductName': 'TurboTurf™ Tall Fescue Grass Seed', 'SubHeading': '', 'Availability': 'InStock', 'Category': '25 lb. Bag', 'Pack': None, 'RegularPrice': None, 'SalePrice': '$109.95', 'ReviewCount': '4 reviews', 'Rating': '4.5'}]\n",
      "https://www.fast-growing-trees.com/products/corinthian-rose-double-flowering-peach-tree\n"
     ]
    },
    {
     "name": "stderr",
     "output_type": "stream",
     "text": [
      "\r",
      "GettingInfo:  86%|█████████████████████████████████████████████████████████▌         | 86/100 [15:29<02:39, 11.37s/URL]"
     ]
    },
    {
     "name": "stdout",
     "output_type": "stream",
     "text": [
      "[{'ProductURL': 'https://www.fast-growing-trees.com/products/corinthian-rose-double-flowering-peach-tree', 'ProductName': 'Corinthian Rose Double Flowering Peach Tree', 'SubHeading': \"Prunus persica ‘Corinthian Rose'\", 'Availability': 'SoldOut', 'Category': None, 'Pack': None, 'RegularPrice': None, 'SalePrice': None, 'ReviewCount': '1 reviews', 'Rating': '5.0'}]\n",
      "https://www.fast-growing-trees.com/products/ruby-ruffle-patio-peach-tree\n"
     ]
    },
    {
     "name": "stderr",
     "output_type": "stream",
     "text": [
      "\r",
      "GettingInfo:  87%|██████████████████████████████████████████████████████████▎        | 87/100 [15:38<02:18, 10.66s/URL]"
     ]
    },
    {
     "name": "stdout",
     "output_type": "stream",
     "text": [
      "[{'ProductURL': 'https://www.fast-growing-trees.com/products/ruby-ruffle-patio-peach-tree', 'ProductName': 'Ruby Ruffle™ Patio Peach Tree', 'SubHeading': 'Prunus persica ‘NC Peach-6’', 'Availability': 'InStock', 'Category': '2-3 ft.', 'Pack': None, 'RegularPrice': None, 'SalePrice': '$119.95', 'ReviewCount': '5 reviews', 'Rating': '4.8'}]\n",
      "https://www.fast-growing-trees.com/products/coral-charm-peony\n"
     ]
    },
    {
     "name": "stderr",
     "output_type": "stream",
     "text": [
      "\r",
      "GettingInfo:  88%|██████████████████████████████████████████████████████████▉        | 88/100 [15:44<01:51,  9.30s/URL]"
     ]
    },
    {
     "name": "stdout",
     "output_type": "stream",
     "text": [
      "[{'ProductURL': 'https://www.fast-growing-trees.com/products/coral-charm-peony', 'ProductName': 'Coral Charm Peony', 'SubHeading': \"Paeonia lactiflora 'Coral Charm'\", 'Availability': 'SoldOut', 'Category': None, 'Pack': None, 'RegularPrice': None, 'SalePrice': None, 'ReviewCount': '4 reviews', 'Rating': '5.0'}]\n",
      "https://www.fast-growing-trees.com/products/karl-rosenfield-peony\n"
     ]
    },
    {
     "name": "stderr",
     "output_type": "stream",
     "text": [
      "\r",
      "GettingInfo:  89%|███████████████████████████████████████████████████████████▋       | 89/100 [15:51<01:33,  8.49s/URL]"
     ]
    },
    {
     "name": "stdout",
     "output_type": "stream",
     "text": [
      "[{'ProductURL': 'https://www.fast-growing-trees.com/products/karl-rosenfield-peony', 'ProductName': 'Karl Rosenfield Peony', 'SubHeading': \"Paeonia x 'Karl Rosenfield'\", 'Availability': 'SoldOut', 'Category': None, 'Pack': None, 'RegularPrice': None, 'SalePrice': None, 'ReviewCount': '2 reviews', 'Rating': '5.0'}]\n",
      "https://www.fast-growing-trees.com/products/sarah-bernhardt-peony\n"
     ]
    },
    {
     "name": "stderr",
     "output_type": "stream",
     "text": [
      "\r",
      "GettingInfo:  90%|████████████████████████████████████████████████████████████▎      | 90/100 [15:58<01:21,  8.15s/URL]"
     ]
    },
    {
     "name": "stdout",
     "output_type": "stream",
     "text": [
      "[{'ProductURL': 'https://www.fast-growing-trees.com/products/sarah-bernhardt-peony', 'ProductName': 'Sarah Bernhardt Peony', 'SubHeading': \"Paeonia lactiflora 'Sarah Bernhardt'\", 'Availability': 'SoldOut', 'Category': None, 'Pack': None, 'RegularPrice': None, 'SalePrice': None, 'ReviewCount': '7 reviews', 'Rating': '4.9'}]\n",
      "https://www.fast-growing-trees.com/products/mr-ed-peony\n"
     ]
    },
    {
     "name": "stderr",
     "output_type": "stream",
     "text": [
      "\r",
      "GettingInfo:  91%|████████████████████████████████████████████████████████████▉      | 91/100 [16:05<01:10,  7.88s/URL]"
     ]
    },
    {
     "name": "stdout",
     "output_type": "stream",
     "text": [
      "[{'ProductURL': 'https://www.fast-growing-trees.com/products/mr-ed-peony', 'ProductName': 'Mr. Ed Peony', 'SubHeading': \"Paeonia lactiflora 'Mr. Ed'\", 'Availability': 'SoldOut', 'Category': None, 'Pack': None, 'RegularPrice': None, 'SalePrice': None, 'ReviewCount': '2 reviews', 'Rating': '5.0'}]\n",
      "https://www.fast-growing-trees.com/products/felix-crousse-peony\n"
     ]
    },
    {
     "name": "stderr",
     "output_type": "stream",
     "text": [
      "\r",
      "GettingInfo:  92%|█████████████████████████████████████████████████████████████▋     | 92/100 [16:13<01:01,  7.74s/URL]"
     ]
    },
    {
     "name": "stdout",
     "output_type": "stream",
     "text": [
      "[{'ProductURL': 'https://www.fast-growing-trees.com/products/felix-crousse-peony', 'ProductName': 'Felix Crousse Peony', 'SubHeading': 'Paeonia lactiflora ‘Felix Crousse’', 'Availability': 'SoldOut', 'Category': None, 'Pack': None, 'RegularPrice': None, 'SalePrice': None, 'ReviewCount': '4 reviews', 'Rating': '3.8'}]\n",
      "https://www.fast-growing-trees.com/products/corinthian-white-double-flowering-peach-tree\n"
     ]
    },
    {
     "name": "stderr",
     "output_type": "stream",
     "text": [
      "\r",
      "GettingInfo:  93%|██████████████████████████████████████████████████████████████▎    | 93/100 [16:22<00:58,  8.35s/URL]"
     ]
    },
    {
     "name": "stdout",
     "output_type": "stream",
     "text": [
      "[{'ProductURL': 'https://www.fast-growing-trees.com/products/corinthian-white-double-flowering-peach-tree', 'ProductName': 'Corinthian White Double Flowering Peach Tree', 'SubHeading': \"Prunus persica ‘Corinthian White'\", 'Availability': 'InStock', 'Category': '6-7 feet', 'Pack': None, 'RegularPrice': None, 'SalePrice': '$129.95', 'ReviewCount': '9 reviews', 'Rating': '4.8'}]\n",
      "https://www.fast-growing-trees.com/products/corinthian-pink-double-flowering-peach-tree\n"
     ]
    },
    {
     "name": "stderr",
     "output_type": "stream",
     "text": [
      "\r",
      "GettingInfo:  94%|██████████████████████████████████████████████████████████████▉    | 94/100 [16:33<00:54,  9.04s/URL]"
     ]
    },
    {
     "name": "stdout",
     "output_type": "stream",
     "text": [
      "[{'ProductURL': 'https://www.fast-growing-trees.com/products/corinthian-pink-double-flowering-peach-tree', 'ProductName': 'Corinthian Pink Double Flowering Peach Tree', 'SubHeading': \"Prunus persica ‘Corinthian Pink'\", 'Availability': 'InStock', 'Category': '4-5 feet', 'Pack': None, 'RegularPrice': None, 'SalePrice': '$129.95', 'ReviewCount': '1 reviews', 'Rating': '5.0'}, {'ProductURL': 'https://www.fast-growing-trees.com/products/corinthian-pink-double-flowering-peach-tree', 'ProductName': 'Corinthian Pink Double Flowering Peach Tree', 'SubHeading': \"Prunus persica ‘Corinthian Pink'\", 'Availability': 'InStock', 'Category': '5-6 ft.', 'Pack': None, 'RegularPrice': None, 'SalePrice': '$159.95', 'ReviewCount': '1 reviews', 'Rating': '5.0'}]\n",
      "https://www.fast-growing-trees.com/products/garden-gems-emerald-redbud-tree\n"
     ]
    },
    {
     "name": "stderr",
     "output_type": "stream",
     "text": [
      "\r",
      "GettingInfo:  95%|███████████████████████████████████████████████████████████████▋   | 95/100 [16:39<00:40,  8.09s/URL]"
     ]
    },
    {
     "name": "stdout",
     "output_type": "stream",
     "text": [
      "[{'ProductURL': 'https://www.fast-growing-trees.com/products/garden-gems-emerald-redbud-tree', 'ProductName': 'Garden Gems® Emerald Redbud Tree', 'SubHeading': 'Cercis canadensis ‘NC2014-5’ PPAF', 'Availability': 'SoldOut', 'Category': None, 'Pack': None, 'RegularPrice': None, 'SalePrice': None, 'ReviewCount': '3 reviews', 'Rating': '5.0'}]\n",
      "https://www.fast-growing-trees.com/products/garden-gems-amethyst-redbud-tree\n"
     ]
    },
    {
     "name": "stderr",
     "output_type": "stream",
     "text": [
      "\r",
      "GettingInfo:  96%|████████████████████████████████████████████████████████████████▎  | 96/100 [16:45<00:29,  7.43s/URL]"
     ]
    },
    {
     "name": "stdout",
     "output_type": "stream",
     "text": [
      "[{'ProductURL': 'https://www.fast-growing-trees.com/products/garden-gems-amethyst-redbud-tree', 'ProductName': 'Garden Gems® Amethyst Redbud Tree', 'SubHeading': 'Cercis canadensis ‘NC2017-6’', 'Availability': 'SoldOut', 'Category': None, 'Pack': None, 'RegularPrice': None, 'SalePrice': None, 'ReviewCount': '2 reviews', 'Rating': '5.0'}]\n",
      "https://www.fast-growing-trees.com/products/parsons-juniper\n"
     ]
    },
    {
     "name": "stderr",
     "output_type": "stream",
     "text": [
      "\r",
      "GettingInfo:  97%|████████████████████████████████████████████████████████████████▉  | 97/100 [16:56<00:25,  8.65s/URL]"
     ]
    },
    {
     "name": "stdout",
     "output_type": "stream",
     "text": [
      "[{'ProductURL': 'https://www.fast-growing-trees.com/products/parsons-juniper', 'ProductName': 'Parson’s Juniper', 'SubHeading': \"Juniperus squamata expansa 'Parsonii'\", 'Availability': 'InStock', 'Category': '1 gallon', 'Pack': 'Single', 'RegularPrice': None, 'SalePrice': '$39.95', 'ReviewCount': '4 reviews', 'Rating': '5.0'}, {'ProductURL': 'https://www.fast-growing-trees.com/products/parsons-juniper', 'ProductName': 'Parson’s Juniper', 'SubHeading': \"Juniperus squamata expansa 'Parsonii'\", 'Availability': 'InStock', 'Category': '1 gallon', 'Pack': '6-Pack', 'RegularPrice': '$239.70', 'SalePrice': '$203.75', 'ReviewCount': '4 reviews', 'Rating': '5.0'}, {'ProductURL': 'https://www.fast-growing-trees.com/products/parsons-juniper', 'ProductName': 'Parson’s Juniper', 'SubHeading': \"Juniperus squamata expansa 'Parsonii'\", 'Availability': 'InStock', 'Category': '3 gallon', 'Pack': 'Single', 'RegularPrice': None, 'SalePrice': '$139.95', 'ReviewCount': '4 reviews', 'Rating': '5.0'}, {'ProductURL': 'https://www.fast-growing-trees.com/products/parsons-juniper', 'ProductName': 'Parson’s Juniper', 'SubHeading': \"Juniperus squamata expansa 'Parsonii'\", 'Availability': 'InStock', 'Category': '3 gallon', 'Pack': '6-Pack', 'RegularPrice': '$839.70', 'SalePrice': '$713.75', 'ReviewCount': '4 reviews', 'Rating': '5.0'}]\n",
      "https://www.fast-growing-trees.com/products/black-dragon-cryptomeria\n"
     ]
    },
    {
     "name": "stderr",
     "output_type": "stream",
     "text": [
      "\r",
      "GettingInfo:  98%|█████████████████████████████████████████████████████████████████▋ | 98/100 [17:05<00:17,  8.75s/URL]"
     ]
    },
    {
     "name": "stdout",
     "output_type": "stream",
     "text": [
      "[{'ProductURL': 'https://www.fast-growing-trees.com/products/black-dragon-cryptomeria', 'ProductName': 'Black Dragon Cryptomeria', 'SubHeading': \"Cryptomeria japonica 'Black Dragon'\", 'Availability': 'InStock', 'Category': '1 gallon', 'Pack': 'Single', 'RegularPrice': None, 'SalePrice': '$69.95', 'ReviewCount': '6 reviews', 'Rating': '4.7'}, {'ProductURL': 'https://www.fast-growing-trees.com/products/black-dragon-cryptomeria', 'ProductName': 'Black Dragon Cryptomeria', 'SubHeading': \"Cryptomeria japonica 'Black Dragon'\", 'Availability': 'InStock', 'Category': '1 gallon', 'Pack': '4-Pack', 'RegularPrice': '$279.80', 'SalePrice': '$237.83', 'ReviewCount': '6 reviews', 'Rating': '4.7'}]\n",
      "https://www.fast-growing-trees.com/products/morning-light-miscanthus\n"
     ]
    },
    {
     "name": "stderr",
     "output_type": "stream",
     "text": [
      "\r",
      "GettingInfo:  99%|██████████████████████████████████████████████████████████████████▎| 99/100 [17:15<00:09,  9.18s/URL]"
     ]
    },
    {
     "name": "stdout",
     "output_type": "stream",
     "text": [
      "[{'ProductURL': 'https://www.fast-growing-trees.com/products/morning-light-miscanthus', 'ProductName': 'Morning Light Miscanthus', 'SubHeading': \"Miscanthus sinensis 'Morning Light'\", 'Availability': 'InStock', 'Category': '3 gallon', 'Pack': 'Single', 'RegularPrice': None, 'SalePrice': '$84.95', 'ReviewCount': '2 reviews', 'Rating': '4.0'}, {'ProductURL': 'https://www.fast-growing-trees.com/products/morning-light-miscanthus', 'ProductName': 'Morning Light Miscanthus', 'SubHeading': \"Miscanthus sinensis 'Morning Light'\", 'Availability': 'InStock', 'Category': '3 gallon', 'Pack': '4-Pack', 'RegularPrice': '$339.80', 'SalePrice': '$288.83', 'ReviewCount': '2 reviews', 'Rating': '4.0'}]\n",
      "https://www.fast-growing-trees.com/products/chandler-walnut-tree\n"
     ]
    },
    {
     "name": "stderr",
     "output_type": "stream",
     "text": [
      "GettingInfo: 100%|██████████████████████████████████████████████████████████████████| 100/100 [17:27<00:00, 10.47s/URL]"
     ]
    },
    {
     "name": "stdout",
     "output_type": "stream",
     "text": [
      "[{'ProductURL': 'https://www.fast-growing-trees.com/products/chandler-walnut-tree', 'ProductName': 'Chandler Walnut Tree', 'SubHeading': 'Juglans regia ‘Chandler’', 'Availability': 'InStock', 'Category': '3-4 feet', 'Pack': None, 'RegularPrice': None, 'SalePrice': '$229.95', 'ReviewCount': '21 reviews', 'Rating': '4.9'}, {'ProductURL': 'https://www.fast-growing-trees.com/products/chandler-walnut-tree', 'ProductName': 'Chandler Walnut Tree', 'SubHeading': 'Juglans regia ‘Chandler’', 'Availability': 'InStock', 'Category': '4-5 feet', 'Pack': None, 'RegularPrice': None, 'SalePrice': '$249.95', 'ReviewCount': '21 reviews', 'Rating': '4.9'}]\n"
     ]
    },
    {
     "name": "stderr",
     "output_type": "stream",
     "text": [
      "\n"
     ]
    }
   ],
   "source": [
    "user_agents = random.choice(allowed_user_agents)\n",
    "headers = {'User-Agent': user_agents}\n",
    "chrome_options = webdriver.ChromeOptions()\n",
    "chrome_options.add_argument(f\"user-agent={headers['User-Agent']}\")\n",
    "chrome_options.add_argument('--headless')\n",
    "driver = webdriver.Chrome(options=chrome_options)\n",
    "for i in tqdm(Pro_URL[1100:1200], desc=\"GettingInfo\", unit=\"URL\"):\n",
    "    print(i)\n",
    "    df = get_product_info(i)\n",
    "    Product_details12.extend(df)\n",
    "    print(df)\n",
    "daf = pd.DataFrame(Product_details12)\n",
    "daf.to_csv('FastGrowingTrees12.csv',index=False)\n",
    "driver.quit()"
   ]
  },
  {
   "cell_type": "code",
   "execution_count": 29,
   "id": "eed205f6",
   "metadata": {},
   "outputs": [
    {
     "name": "stderr",
     "output_type": "stream",
     "text": [
      "\r",
      "GettingInfo:   0%|                                                                            | 0/100 [00:00<?, ?URL/s]"
     ]
    },
    {
     "name": "stdout",
     "output_type": "stream",
     "text": [
      "https://www.fast-growing-trees.com/products/carolina-jasmine\n"
     ]
    },
    {
     "name": "stderr",
     "output_type": "stream",
     "text": [
      "\r",
      "GettingInfo:   1%|▋                                                                   | 1/100 [00:13<22:21, 13.55s/URL]"
     ]
    },
    {
     "name": "stdout",
     "output_type": "stream",
     "text": [
      "[{'ProductURL': 'https://www.fast-growing-trees.com/products/carolina-jasmine', 'ProductName': 'Carolina Jasmine', 'SubHeading': 'Gelsemium sempervirens', 'Availability': 'InStock', 'Category': '3 gallon', 'Pack': 'Single', 'RegularPrice': None, 'SalePrice': '$129.95', 'ReviewCount': '42 reviews', 'Rating': '4.9'}, {'ProductURL': 'https://www.fast-growing-trees.com/products/carolina-jasmine', 'ProductName': 'Carolina Jasmine', 'SubHeading': 'Gelsemium sempervirens', 'Availability': 'InStock', 'Category': '3 gallon', 'Pack': '4-Pack', 'RegularPrice': '$519.80', 'SalePrice': '$436.63', 'ReviewCount': '42 reviews', 'Rating': '4.9'}, {'ProductURL': 'https://www.fast-growing-trees.com/products/carolina-jasmine', 'ProductName': 'Carolina Jasmine', 'SubHeading': 'Gelsemium sempervirens', 'Availability': 'InStock', 'Category': '3 gallon with Trellis', 'Pack': 'Single', 'RegularPrice': None, 'SalePrice': '$109.95', 'ReviewCount': '42 reviews', 'Rating': '4.9'}, {'ProductURL': 'https://www.fast-growing-trees.com/products/carolina-jasmine', 'ProductName': 'Carolina Jasmine', 'SubHeading': 'Gelsemium sempervirens', 'Availability': 'InStock', 'Category': '3 gallon with Trellis', 'Pack': '4-Pack', 'RegularPrice': '$439.80', 'SalePrice': '$373.83', 'ReviewCount': '42 reviews', 'Rating': '4.9'}]\n",
      "https://www.fast-growing-trees.com/products/weeping-blue-atlas-cedar-tree\n"
     ]
    },
    {
     "name": "stderr",
     "output_type": "stream",
     "text": [
      "\r",
      "GettingInfo:   2%|█▎                                                                  | 2/100 [00:20<16:07,  9.87s/URL]"
     ]
    },
    {
     "name": "stdout",
     "output_type": "stream",
     "text": [
      "[{'ProductURL': 'https://www.fast-growing-trees.com/products/weeping-blue-atlas-cedar-tree', 'ProductName': 'Weeping Blue Atlas Cedar Tree', 'SubHeading': \"Cedrus atlantica 'Glauca Pendula'\", 'Availability': 'SoldOut', 'Category': None, 'Pack': None, 'RegularPrice': None, 'SalePrice': None, 'ReviewCount': '2 reviews', 'Rating': '5.0'}]\n",
      "https://www.fast-growing-trees.com/products/variegated-boxwood-shrub\n"
     ]
    },
    {
     "name": "stderr",
     "output_type": "stream",
     "text": [
      "\r",
      "GettingInfo:   3%|██                                                                  | 3/100 [00:27<13:16,  8.21s/URL]"
     ]
    },
    {
     "name": "stdout",
     "output_type": "stream",
     "text": [
      "[{'ProductURL': 'https://www.fast-growing-trees.com/products/variegated-boxwood-shrub', 'ProductName': 'Variegated Boxwood Shrub', 'SubHeading': \"Buxus sempervirens 'Aureo-variegata'\", 'Availability': 'SoldOut', 'Category': None, 'Pack': None, 'RegularPrice': None, 'SalePrice': None, 'ReviewCount': '4 reviews', 'Rating': '4.2'}]\n",
      "https://www.fast-growing-trees.com/products/jubilation-gardenia-shrub\n"
     ]
    },
    {
     "name": "stderr",
     "output_type": "stream",
     "text": [
      "\r",
      "GettingInfo:   4%|██▋                                                                 | 4/100 [00:33<12:13,  7.64s/URL]"
     ]
    },
    {
     "name": "stdout",
     "output_type": "stream",
     "text": [
      "[{'ProductURL': 'https://www.fast-growing-trees.com/products/jubilation-gardenia-shrub', 'ProductName': 'Jubilation™ Gardenia Shrub', 'SubHeading': \"Gardenia jasminoides 'Leeone'\", 'Availability': 'SoldOut', 'Category': None, 'Pack': None, 'RegularPrice': None, 'SalePrice': None, 'ReviewCount': '8 reviews', 'Rating': '4.4'}]\n",
      "https://www.fast-growing-trees.com/products/australian-finger-lime-tree-ga\n"
     ]
    },
    {
     "name": "stderr",
     "output_type": "stream",
     "text": [
      "\r",
      "GettingInfo:   5%|███▍                                                                | 5/100 [00:43<12:58,  8.19s/URL]"
     ]
    },
    {
     "name": "stdout",
     "output_type": "stream",
     "text": [
      "[{'ProductURL': 'https://www.fast-growing-trees.com/products/australian-finger-lime-tree-ga', 'ProductName': 'Australian Finger Lime Tree', 'SubHeading': 'Citrus australasica', 'Availability': 'InStock', 'Category': '1-2 feet', 'Pack': None, 'RegularPrice': '$79.95', 'SalePrice': '$74.95', 'ReviewCount': '3 reviews', 'Rating': '3.7'}, {'ProductURL': 'https://www.fast-growing-trees.com/products/australian-finger-lime-tree-ga', 'ProductName': 'Australian Finger Lime Tree', 'SubHeading': 'Citrus australasica', 'Availability': 'InStock', 'Category': '2-3 feet', 'Pack': None, 'RegularPrice': None, 'SalePrice': '$139.95', 'ReviewCount': '3 reviews', 'Rating': '3.7'}]\n",
      "https://www.fast-growing-trees.com/products/limequat-tree-ga\n"
     ]
    },
    {
     "name": "stderr",
     "output_type": "stream",
     "text": [
      "\r",
      "GettingInfo:   6%|████                                                                | 6/100 [00:51<13:14,  8.45s/URL]"
     ]
    },
    {
     "name": "stdout",
     "output_type": "stream",
     "text": [
      "[{'ProductURL': 'https://www.fast-growing-trees.com/products/limequat-tree-ga', 'ProductName': 'Limequat Tree', 'SubHeading': 'Citrus × floridana', 'Availability': 'InStock', 'Category': '1-2 feet', 'Pack': None, 'RegularPrice': None, 'SalePrice': '$109.95', 'ReviewCount': '2 reviews', 'Rating': '5.0'}]\n",
      "https://www.fast-growing-trees.com/products/red-yucca-plant\n"
     ]
    },
    {
     "name": "stderr",
     "output_type": "stream",
     "text": [
      "\r",
      "GettingInfo:   7%|████▊                                                               | 7/100 [01:00<13:18,  8.59s/URL]"
     ]
    },
    {
     "name": "stdout",
     "output_type": "stream",
     "text": [
      "[{'ProductURL': 'https://www.fast-growing-trees.com/products/red-yucca-plant', 'ProductName': 'Red Yucca Plant', 'SubHeading': 'Hesperaloe parviflora', 'Availability': 'InStock', 'Category': '5 gallon', 'Pack': None, 'RegularPrice': None, 'SalePrice': '$189.95', 'ReviewCount': '6 reviews', 'Rating': '4.3'}]\n",
      "https://www.fast-growing-trees.com/products/twin-flower-agave-plant-az\n"
     ]
    },
    {
     "name": "stderr",
     "output_type": "stream",
     "text": [
      "\r",
      "GettingInfo:   8%|█████▍                                                              | 8/100 [01:09<13:11,  8.60s/URL]"
     ]
    },
    {
     "name": "stdout",
     "output_type": "stream",
     "text": [
      "[{'ProductURL': 'https://www.fast-growing-trees.com/products/twin-flower-agave-plant-az', 'ProductName': 'Twin Flower Agave Plant', 'SubHeading': 'Agave geminiflora', 'Availability': 'InStock', 'Category': '5 gallon', 'Pack': None, 'RegularPrice': None, 'SalePrice': '$179.95', 'ReviewCount': '0 reviews', 'Rating': '0.0'}]\n",
      "https://www.fast-growing-trees.com/products/barbara-karst-bougainvillea-az\n"
     ]
    },
    {
     "name": "stderr",
     "output_type": "stream",
     "text": [
      "\r",
      "GettingInfo:   9%|██████                                                              | 9/100 [01:18<13:14,  8.73s/URL]"
     ]
    },
    {
     "name": "stdout",
     "output_type": "stream",
     "text": [
      "[{'ProductURL': 'https://www.fast-growing-trees.com/products/barbara-karst-bougainvillea-az', 'ProductName': 'Barbara Karst Bougainvillea', 'SubHeading': 'Bougainvillea', 'Availability': 'InStock', 'Category': '5 gallon', 'Pack': None, 'RegularPrice': None, 'SalePrice': '$139.95', 'ReviewCount': '9 reviews', 'Rating': '5.0'}]\n",
      "https://www.fast-growing-trees.com/products/la-jolla-bougainvillea\n"
     ]
    },
    {
     "name": "stderr",
     "output_type": "stream",
     "text": [
      "\r",
      "GettingInfo:  10%|██████▋                                                            | 10/100 [01:27<13:10,  8.78s/URL]"
     ]
    },
    {
     "name": "stdout",
     "output_type": "stream",
     "text": [
      "[{'ProductURL': 'https://www.fast-growing-trees.com/products/la-jolla-bougainvillea', 'ProductName': 'La Jolla Bougainvillea', 'SubHeading': 'Bougainvillea ‘La Jolla’', 'Availability': 'InStock', 'Category': '5 gallon', 'Pack': None, 'RegularPrice': None, 'SalePrice': '$149.95', 'ReviewCount': '2 reviews', 'Rating': '5.0'}]\n",
      "https://www.fast-growing-trees.com/products/majestic-purple-bougainvillea\n"
     ]
    },
    {
     "name": "stderr",
     "output_type": "stream",
     "text": [
      "\r",
      "GettingInfo:  11%|███████▎                                                           | 11/100 [01:35<12:46,  8.61s/URL]"
     ]
    },
    {
     "name": "stdout",
     "output_type": "stream",
     "text": [
      "[{'ProductURL': 'https://www.fast-growing-trees.com/products/majestic-purple-bougainvillea', 'ProductName': 'Majestic Purple Bougainvillea', 'SubHeading': \"Bougainvillea 'Majestic Purple'\", 'Availability': 'InStock', 'Category': '5 gallon', 'Pack': None, 'RegularPrice': None, 'SalePrice': '$149.95', 'ReviewCount': '5 reviews', 'Rating': '4.6'}]\n",
      "https://www.fast-growing-trees.com/products/pink-pixie-bougainvillea\n"
     ]
    },
    {
     "name": "stderr",
     "output_type": "stream",
     "text": [
      "\r",
      "GettingInfo:  12%|████████                                                           | 12/100 [01:44<12:32,  8.55s/URL]"
     ]
    },
    {
     "name": "stdout",
     "output_type": "stream",
     "text": [
      "[{'ProductURL': 'https://www.fast-growing-trees.com/products/pink-pixie-bougainvillea', 'ProductName': 'Pink Pixie Bougainvillea', 'SubHeading': \"Bougainvillea 'Pink Pixie'\", 'Availability': 'InStock', 'Category': '5 gallon', 'Pack': None, 'RegularPrice': None, 'SalePrice': '$159.95', 'ReviewCount': '1 reviews', 'Rating': '5.0'}]\n",
      "https://www.fast-growing-trees.com/products/gardenia-veitchii-az\n"
     ]
    },
    {
     "name": "stderr",
     "output_type": "stream",
     "text": [
      "\r",
      "GettingInfo:  13%|████████▋                                                          | 13/100 [01:54<13:23,  9.23s/URL]"
     ]
    },
    {
     "name": "stdout",
     "output_type": "stream",
     "text": [
      "[{'ProductURL': 'https://www.fast-growing-trees.com/products/gardenia-veitchii-az', 'ProductName': \"Gardenia 'Veitchii' Shrub\", 'SubHeading': \"Gardenia jasminoides 'Veitchii'\", 'Availability': 'InStock', 'Category': '5 gallon', 'Pack': None, 'RegularPrice': None, 'SalePrice': '$144.95', 'ReviewCount': '0 reviews', 'Rating': '5.0'}, {'ProductURL': 'https://www.fast-growing-trees.com/products/gardenia-veitchii-az', 'ProductName': \"Gardenia 'Veitchii' Shrub\", 'SubHeading': \"Gardenia jasminoides 'Veitchii'\", 'Availability': 'InStock', 'Category': '3 gallon', 'Pack': None, 'RegularPrice': None, 'SalePrice': '$179.95', 'ReviewCount': '0 reviews', 'Rating': '5.0'}]\n",
      "https://www.fast-growing-trees.com/products/dallas-red-lantana\n"
     ]
    },
    {
     "name": "stderr",
     "output_type": "stream",
     "text": [
      "\r",
      "GettingInfo:  14%|█████████▍                                                         | 14/100 [02:03<12:58,  9.06s/URL]"
     ]
    },
    {
     "name": "stdout",
     "output_type": "stream",
     "text": [
      "[{'ProductURL': 'https://www.fast-growing-trees.com/products/dallas-red-lantana', 'ProductName': 'Dallas Red Lantana', 'SubHeading': 'Lantana camara ‘Dallas Red’', 'Availability': 'InStock', 'Category': '3 gallon', 'Pack': None, 'RegularPrice': None, 'SalePrice': '$89.95', 'ReviewCount': '1 reviews', 'Rating': '4.5'}]\n",
      "https://www.fast-growing-trees.com/products/shazam-lantana\n"
     ]
    },
    {
     "name": "stderr",
     "output_type": "stream",
     "text": [
      "\r",
      "GettingInfo:  15%|██████████                                                         | 15/100 [02:12<12:38,  8.92s/URL]"
     ]
    },
    {
     "name": "stdout",
     "output_type": "stream",
     "text": [
      "[{'ProductURL': 'https://www.fast-growing-trees.com/products/shazam-lantana', 'ProductName': 'Shazam Lantana', 'SubHeading': \"Lantana camara 'Shazam'\", 'Availability': 'InStock', 'Category': '3 gallon', 'Pack': None, 'RegularPrice': None, 'SalePrice': '$94.95', 'ReviewCount': '4 reviews', 'Rating': '4.2'}]\n",
      "https://www.fast-growing-trees.com/products/purple-lantana\n"
     ]
    },
    {
     "name": "stderr",
     "output_type": "stream",
     "text": [
      "\r",
      "GettingInfo:  16%|██████████▋                                                        | 16/100 [02:23<13:27,  9.62s/URL]"
     ]
    },
    {
     "name": "stdout",
     "output_type": "stream",
     "text": [
      "[{'ProductURL': 'https://www.fast-growing-trees.com/products/purple-lantana', 'ProductName': 'Purple Lantana', 'SubHeading': 'Lantana montevidensis', 'Availability': 'InStock', 'Category': '3 gallon', 'Pack': None, 'RegularPrice': None, 'SalePrice': '$119.95', 'ReviewCount': '2 reviews', 'Rating': '5.0'}, {'ProductURL': 'https://www.fast-growing-trees.com/products/purple-lantana', 'ProductName': 'Purple Lantana', 'SubHeading': 'Lantana montevidensis', 'Availability': 'InStock', 'Category': '5 gallon', 'Pack': None, 'RegularPrice': None, 'SalePrice': '$149.95', 'ReviewCount': '2 reviews', 'Rating': '5.0'}]\n",
      "https://www.fast-growing-trees.com/products/bells-of-fire-tecoma\n"
     ]
    },
    {
     "name": "stderr",
     "output_type": "stream",
     "text": [
      "\r",
      "GettingInfo:  17%|███████████▍                                                       | 17/100 [02:32<13:05,  9.46s/URL]"
     ]
    },
    {
     "name": "stdout",
     "output_type": "stream",
     "text": [
      "[{'ProductURL': 'https://www.fast-growing-trees.com/products/bells-of-fire-tecoma', 'ProductName': 'Bells of Fire™ Tecoma', 'SubHeading': \"Tecoma stans 'Bells of Fire'\", 'Availability': 'InStock', 'Category': '3 gallon', 'Pack': None, 'RegularPrice': None, 'SalePrice': '$129.95', 'ReviewCount': '2 reviews', 'Rating': '5.0'}]\n",
      "https://www.fast-growing-trees.com/products/sundance-tecoma\n"
     ]
    },
    {
     "name": "stderr",
     "output_type": "stream",
     "text": [
      "\r",
      "GettingInfo:  18%|████████████                                                       | 18/100 [02:40<12:28,  9.12s/URL]"
     ]
    },
    {
     "name": "stdout",
     "output_type": "stream",
     "text": [
      "[{'ProductURL': 'https://www.fast-growing-trees.com/products/sundance-tecoma', 'ProductName': 'Sundance Tecoma', 'SubHeading': 'Tecoma stans ‘Sundance’', 'Availability': 'InStock', 'Category': '5 gallon', 'Pack': None, 'RegularPrice': None, 'SalePrice': '$109.95', 'ReviewCount': '7 reviews', 'Rating': '3.6'}]\n",
      "https://www.fast-growing-trees.com/products/cape-honeysuckle\n"
     ]
    },
    {
     "name": "stderr",
     "output_type": "stream",
     "text": [
      "\r",
      "GettingInfo:  19%|████████████▋                                                      | 19/100 [02:49<12:00,  8.90s/URL]"
     ]
    },
    {
     "name": "stdout",
     "output_type": "stream",
     "text": [
      "[{'ProductURL': 'https://www.fast-growing-trees.com/products/cape-honeysuckle', 'ProductName': 'Cape Honeysuckle', 'SubHeading': 'Tecoma capensis', 'Availability': 'InStock', 'Category': '5 gallon', 'Pack': None, 'RegularPrice': None, 'SalePrice': '$99.95', 'ReviewCount': '8 reviews', 'Rating': '5.0'}]\n",
      "https://www.fast-growing-trees.com/products/pink-rose-of-sharon-althea-az\n"
     ]
    },
    {
     "name": "stderr",
     "output_type": "stream",
     "text": [
      "\r",
      "GettingInfo:  20%|█████████████▍                                                     | 20/100 [02:58<12:03,  9.05s/URL]"
     ]
    },
    {
     "name": "stdout",
     "output_type": "stream",
     "text": [
      "[{'ProductURL': 'https://www.fast-growing-trees.com/products/pink-rose-of-sharon-althea-az', 'ProductName': 'Pink Rose of Sharon Althea', 'SubHeading': \"Hibiscus syriacus 'Pink'\", 'Availability': 'InStock', 'Category': '5 gallon', 'Pack': None, 'RegularPrice': None, 'SalePrice': '$129.95', 'ReviewCount': '0 reviews', 'Rating': '5.0'}]\n",
      "https://www.fast-growing-trees.com/products/carolina-jasmine-az\n"
     ]
    },
    {
     "name": "stderr",
     "output_type": "stream",
     "text": [
      "\r",
      "GettingInfo:  21%|██████████████                                                     | 21/100 [03:07<11:42,  8.89s/URL]"
     ]
    },
    {
     "name": "stdout",
     "output_type": "stream",
     "text": [
      "[{'ProductURL': 'https://www.fast-growing-trees.com/products/carolina-jasmine-az', 'ProductName': 'Carolina Jasmine', 'SubHeading': 'Gelsemium sempervirens', 'Availability': 'InStock', 'Category': '5 gallon', 'Pack': None, 'RegularPrice': None, 'SalePrice': '$149.95', 'ReviewCount': '2 reviews', 'Rating': '5.0'}]\n",
      "https://www.fast-growing-trees.com/products/little-john-dwarf-bottlebrush-az\n"
     ]
    },
    {
     "name": "stderr",
     "output_type": "stream",
     "text": [
      "\r",
      "GettingInfo:  22%|██████████████▋                                                    | 22/100 [03:15<11:23,  8.77s/URL]"
     ]
    },
    {
     "name": "stdout",
     "output_type": "stream",
     "text": [
      "[{'ProductURL': 'https://www.fast-growing-trees.com/products/little-john-dwarf-bottlebrush-az', 'ProductName': 'Little John Dwarf Bottlebrush', 'SubHeading': \"Callistemon citrinus 'Little John'\", 'Availability': 'InStock', 'Category': '5 gallon', 'Pack': None, 'RegularPrice': None, 'SalePrice': '$149.95', 'ReviewCount': '4 reviews', 'Rating': '5.0'}]\n",
      "https://www.fast-growing-trees.com/products/little-ollie-dwarf-olive-tree-az\n"
     ]
    },
    {
     "name": "stderr",
     "output_type": "stream",
     "text": [
      "\r",
      "GettingInfo:  23%|███████████████▍                                                   | 23/100 [03:24<11:18,  8.81s/URL]"
     ]
    },
    {
     "name": "stdout",
     "output_type": "stream",
     "text": [
      "[{'ProductURL': 'https://www.fast-growing-trees.com/products/little-ollie-dwarf-olive-tree-az', 'ProductName': \"Little Ollie' Dwarf Olive Tree\", 'SubHeading': 'Olea ‘Little Ollie’', 'Availability': 'InStock', 'Category': '5 gallon', 'Pack': None, 'RegularPrice': None, 'SalePrice': '$149.95', 'ReviewCount': '0 reviews', 'Rating': '0.0'}]\n",
      "https://www.fast-growing-trees.com/products/italian-cypress-az\n"
     ]
    },
    {
     "name": "stderr",
     "output_type": "stream",
     "text": [
      "\r",
      "GettingInfo:  24%|████████████████                                                   | 24/100 [03:31<10:30,  8.30s/URL]"
     ]
    },
    {
     "name": "stdout",
     "output_type": "stream",
     "text": [
      "[{'ProductURL': 'https://www.fast-growing-trees.com/products/italian-cypress-az', 'ProductName': 'Italian Cypress Tree', 'SubHeading': 'Cupressus sempervirens', 'Availability': 'InStock', 'Category': '4-5 feet', 'Pack': None, 'RegularPrice': '$249.95', 'SalePrice': '$199.95', 'ReviewCount': '0 reviews', 'Rating': '0.0'}]\n",
      "https://www.fast-growing-trees.com/products/century-plant-az\n"
     ]
    },
    {
     "name": "stderr",
     "output_type": "stream",
     "text": [
      "\r",
      "GettingInfo:  25%|████████████████▊                                                  | 25/100 [03:40<10:30,  8.41s/URL]"
     ]
    },
    {
     "name": "stdout",
     "output_type": "stream",
     "text": [
      "[{'ProductURL': 'https://www.fast-growing-trees.com/products/century-plant-az', 'ProductName': 'Century Plant', 'SubHeading': 'Agave americana', 'Availability': 'InStock', 'Category': '5 gallon', 'Pack': None, 'RegularPrice': None, 'SalePrice': '$159.95', 'ReviewCount': '0 reviews', 'Rating': '5.0'}]\n",
      "https://www.fast-growing-trees.com/products/variegated-century-plant\n"
     ]
    },
    {
     "name": "stderr",
     "output_type": "stream",
     "text": [
      "\r",
      "GettingInfo:  26%|█████████████████▍                                                 | 26/100 [03:48<10:25,  8.46s/URL]"
     ]
    },
    {
     "name": "stdout",
     "output_type": "stream",
     "text": [
      "[{'ProductURL': 'https://www.fast-growing-trees.com/products/variegated-century-plant', 'ProductName': 'Variegated Century Plant', 'SubHeading': 'Agave americana marginata', 'Availability': 'InStock', 'Category': '5 gallon', 'Pack': None, 'RegularPrice': None, 'SalePrice': '$149.95', 'ReviewCount': '3 reviews', 'Rating': '5.0'}]\n",
      "https://www.fast-growing-trees.com/products/vanilla-treat-butterfly-bush\n"
     ]
    },
    {
     "name": "stderr",
     "output_type": "stream",
     "text": [
      "\r",
      "GettingInfo:  27%|██████████████████                                                 | 27/100 [03:55<09:31,  7.83s/URL]"
     ]
    },
    {
     "name": "stdout",
     "output_type": "stream",
     "text": [
      "[{'ProductURL': 'https://www.fast-growing-trees.com/products/vanilla-treat-butterfly-bush', 'ProductName': 'Vanilla Treat™ Butterfly Bush (Tree Form)', 'SubHeading': \"Buddleia x 'Grevantrt'\", 'Availability': 'SoldOut', 'Category': None, 'Pack': None, 'RegularPrice': None, 'SalePrice': None, 'ReviewCount': '4 reviews', 'Rating': '4.8'}]\n",
      "https://www.fast-growing-trees.com/products/jazz-hands-loropetalum\n"
     ]
    },
    {
     "name": "stderr",
     "output_type": "stream",
     "text": [
      "\r",
      "GettingInfo:  28%|██████████████████▊                                                | 28/100 [04:03<09:45,  8.13s/URL]"
     ]
    },
    {
     "name": "stdout",
     "output_type": "stream",
     "text": [
      "[{'ProductURL': 'https://www.fast-growing-trees.com/products/jazz-hands-loropetalum', 'ProductName': 'Jazz Hands® Variegated Loropetalum', 'SubHeading': \"Loropetalum chinense 'Irodori'\", 'Availability': 'InStock', 'Category': '2 gallon', 'Pack': 'Single', 'RegularPrice': None, 'SalePrice': '$109.95', 'ReviewCount': '3 reviews', 'Rating': '5.0'}, {'ProductURL': 'https://www.fast-growing-trees.com/products/jazz-hands-loropetalum', 'ProductName': 'Jazz Hands® Variegated Loropetalum', 'SubHeading': \"Loropetalum chinense 'Irodori'\", 'Availability': 'InStock', 'Category': '2 gallon', 'Pack': '4-Pack', 'RegularPrice': '$439.80', 'SalePrice': '$373.83', 'ReviewCount': '3 reviews', 'Rating': '5.0'}]\n",
      "https://www.fast-growing-trees.com/products/bismarck-palm-tree\n"
     ]
    },
    {
     "name": "stderr",
     "output_type": "stream",
     "text": [
      "\r",
      "GettingInfo:  29%|███████████████████▍                                               | 29/100 [04:13<10:04,  8.52s/URL]"
     ]
    },
    {
     "name": "stdout",
     "output_type": "stream",
     "text": [
      "[{'ProductURL': 'https://www.fast-growing-trees.com/products/bismarck-palm-tree', 'ProductName': 'Bismarck Palm Tree', 'SubHeading': 'Bismarckia nobilis', 'Availability': 'InStock', 'Category': '3 gallon', 'Pack': None, 'RegularPrice': '$149.95', 'SalePrice': '$119.95', 'ReviewCount': '3 reviews', 'Rating': '5.0'}, {'ProductURL': 'https://www.fast-growing-trees.com/products/bismarck-palm-tree', 'ProductName': 'Bismarck Palm Tree', 'SubHeading': 'Bismarckia nobilis', 'Availability': 'InStock', 'Category': '7 gallon', 'Pack': None, 'RegularPrice': None, 'SalePrice': '$179.95', 'ReviewCount': '3 reviews', 'Rating': '5.0'}]\n",
      "https://www.fast-growing-trees.com/products/5-in-1-peach-tree\n"
     ]
    },
    {
     "name": "stderr",
     "output_type": "stream",
     "text": [
      "\r",
      "GettingInfo:  30%|████████████████████                                               | 30/100 [04:22<10:10,  8.72s/URL]"
     ]
    },
    {
     "name": "stdout",
     "output_type": "stream",
     "text": [
      "[{'ProductURL': 'https://www.fast-growing-trees.com/products/5-in-1-peach-tree', 'ProductName': '5-in-1 Peach Tree', 'SubHeading': 'Prunus persica', 'Availability': 'InStock', 'Category': '5-6 feet', 'Pack': None, 'RegularPrice': None, 'SalePrice': '$159.95', 'ReviewCount': '9 reviews', 'Rating': '4.3'}]\n",
      "https://www.fast-growing-trees.com/products/peony-cage\n"
     ]
    },
    {
     "name": "stderr",
     "output_type": "stream",
     "text": [
      "\r",
      "GettingInfo:  31%|████████████████████▊                                              | 31/100 [04:31<10:01,  8.71s/URL]"
     ]
    },
    {
     "name": "stdout",
     "output_type": "stream",
     "text": [
      "[{'ProductURL': 'https://www.fast-growing-trees.com/products/peony-cage', 'ProductName': 'Peony Cage', 'SubHeading': '', 'Availability': 'InStock', 'Category': 'Medium', 'Pack': None, 'RegularPrice': None, 'SalePrice': '$9.95', 'ReviewCount': '4 reviews', 'Rating': '5.0'}]\n",
      "https://www.fast-growing-trees.com/products/white-agapanthus\n"
     ]
    },
    {
     "name": "stderr",
     "output_type": "stream",
     "text": [
      "\r",
      "GettingInfo:  32%|█████████████████████▍                                             | 32/100 [04:37<09:09,  8.08s/URL]"
     ]
    },
    {
     "name": "stdout",
     "output_type": "stream",
     "text": [
      "[{'ProductURL': 'https://www.fast-growing-trees.com/products/white-agapanthus', 'ProductName': 'White Agapanthus', 'SubHeading': 'Agapanthus', 'Availability': 'SoldOut', 'Category': None, 'Pack': None, 'RegularPrice': None, 'SalePrice': None, 'ReviewCount': '0 reviews', 'Rating': '0.0'}]\n",
      "https://www.fast-growing-trees.com/products/goldsturm-black-eyed-susan\n"
     ]
    },
    {
     "name": "stderr",
     "output_type": "stream",
     "text": [
      "\r",
      "GettingInfo:  33%|██████████████████████                                             | 33/100 [04:44<08:32,  7.65s/URL]"
     ]
    },
    {
     "name": "stdout",
     "output_type": "stream",
     "text": [
      "[{'ProductURL': 'https://www.fast-growing-trees.com/products/goldsturm-black-eyed-susan', 'ProductName': 'Goldsturm Black-Eyed Susan', 'SubHeading': \"Rudbeckia fulgida var. sullivantii 'Goldsturm'\", 'Availability': 'SoldOut', 'Category': None, 'Pack': None, 'RegularPrice': None, 'SalePrice': None, 'ReviewCount': '17 reviews', 'Rating': '4.2'}]\n",
      "https://www.fast-growing-trees.com/products/becky-shasta-daisy\n"
     ]
    },
    {
     "name": "stderr",
     "output_type": "stream",
     "text": [
      "\r",
      "GettingInfo:  34%|██████████████████████▊                                            | 34/100 [04:50<08:00,  7.28s/URL]"
     ]
    },
    {
     "name": "stdout",
     "output_type": "stream",
     "text": [
      "[{'ProductURL': 'https://www.fast-growing-trees.com/products/becky-shasta-daisy', 'ProductName': 'Becky Shasta Daisy', 'SubHeading': \"Leucanthemum superbum 'Becky'\", 'Availability': 'SoldOut', 'Category': None, 'Pack': None, 'RegularPrice': None, 'SalePrice': None, 'ReviewCount': '5 reviews', 'Rating': '5.0'}]\n",
      "https://www.fast-growing-trees.com/products/cranrazz-butterfly-bush\n"
     ]
    },
    {
     "name": "stderr",
     "output_type": "stream",
     "text": [
      "\r",
      "GettingInfo:  35%|███████████████████████▍                                           | 35/100 [04:59<08:17,  7.65s/URL]"
     ]
    },
    {
     "name": "stdout",
     "output_type": "stream",
     "text": [
      "[{'ProductURL': 'https://www.fast-growing-trees.com/products/cranrazz-butterfly-bush', 'ProductName': 'CranRazz™ Butterfly Bush', 'SubHeading': \"Buddleia 'Boscranz'\", 'Availability': 'InStock', 'Category': '3 gallon', 'Pack': None, 'RegularPrice': None, 'SalePrice': '$129.95', 'ReviewCount': '8 reviews', 'Rating': '5.0'}]\n",
      "https://www.fast-growing-trees.com/products/true-blue-butterfly-bush\n"
     ]
    },
    {
     "name": "stderr",
     "output_type": "stream",
     "text": [
      "\r",
      "GettingInfo:  36%|████████████████████████                                           | 36/100 [05:06<07:48,  7.33s/URL]"
     ]
    },
    {
     "name": "stdout",
     "output_type": "stream",
     "text": [
      "[{'ProductURL': 'https://www.fast-growing-trees.com/products/true-blue-butterfly-bush', 'ProductName': 'True Blue Butterfly Bush (Tree Form)', 'SubHeading': \"Buddleia 'Bostulu'\", 'Availability': 'SoldOut', 'Category': None, 'Pack': None, 'RegularPrice': None, 'SalePrice': None, 'ReviewCount': '5 reviews', 'Rating': '5.0'}]\n",
      "https://www.fast-growing-trees.com/products/hot-wings-maple-tree\n"
     ]
    },
    {
     "name": "stderr",
     "output_type": "stream",
     "text": [
      "\r",
      "GettingInfo:  37%|████████████████████████▊                                          | 37/100 [05:12<07:28,  7.12s/URL]"
     ]
    },
    {
     "name": "stdout",
     "output_type": "stream",
     "text": [
      "[{'ProductURL': 'https://www.fast-growing-trees.com/products/hot-wings-maple-tree', 'ProductName': 'Hot Wings® Maple Tree', 'SubHeading': 'Acer tataricum ‘Garann’', 'Availability': 'SoldOut', 'Category': None, 'Pack': None, 'RegularPrice': None, 'SalePrice': None, 'ReviewCount': '0 reviews', 'Rating': '0.0'}]\n",
      "https://www.fast-growing-trees.com/products/hand-spreader\n"
     ]
    },
    {
     "name": "stderr",
     "output_type": "stream",
     "text": [
      "\r",
      "GettingInfo:  38%|█████████████████████████▍                                         | 38/100 [05:21<07:50,  7.58s/URL]"
     ]
    },
    {
     "name": "stdout",
     "output_type": "stream",
     "text": [
      "[{'ProductURL': 'https://www.fast-growing-trees.com/products/hand-spreader', 'ProductName': 'Hand Spreader', 'SubHeading': '', 'Availability': 'InStock', 'Category': 'Handheld Spreader', 'Pack': None, 'RegularPrice': None, 'SalePrice': '$19.95', 'ReviewCount': '0 reviews', 'Rating': '0.0'}]\n",
      "https://www.fast-growing-trees.com/products/bartzella-peony\n"
     ]
    },
    {
     "name": "stderr",
     "output_type": "stream",
     "text": [
      "\r",
      "GettingInfo:  39%|██████████████████████████▏                                        | 39/100 [05:28<07:25,  7.30s/URL]"
     ]
    },
    {
     "name": "stdout",
     "output_type": "stream",
     "text": [
      "[{'ProductURL': 'https://www.fast-growing-trees.com/products/bartzella-peony', 'ProductName': 'Bartzella Peony', 'SubHeading': \"Paeonia x  'Bartzella'\", 'Availability': 'SoldOut', 'Category': None, 'Pack': None, 'RegularPrice': None, 'SalePrice': None, 'ReviewCount': '3 reviews', 'Rating': '4.7'}]\n",
      "https://www.fast-growing-trees.com/products/graceful-bamboo\n"
     ]
    },
    {
     "name": "stderr",
     "output_type": "stream",
     "text": [
      "\r",
      "GettingInfo:  40%|██████████████████████████▊                                        | 40/100 [05:39<08:32,  8.54s/URL]"
     ]
    },
    {
     "name": "stdout",
     "output_type": "stream",
     "text": [
      "[{'ProductURL': 'https://www.fast-growing-trees.com/products/graceful-bamboo', 'ProductName': 'Graceful Bamboo', 'SubHeading': 'Bambusa textilis gracilis', 'Availability': 'InStock', 'Category': '4-5 ft.', 'Pack': None, 'RegularPrice': None, 'SalePrice': '$279.95', 'ReviewCount': '7 reviews', 'Rating': '4.7'}, {'ProductURL': 'https://www.fast-growing-trees.com/products/graceful-bamboo', 'ProductName': 'Graceful Bamboo', 'SubHeading': 'Bambusa textilis gracilis', 'Availability': 'InStock', 'Category': '5-6 feet', 'Pack': None, 'RegularPrice': None, 'SalePrice': '$299.95', 'ReviewCount': '7 reviews', 'Rating': '4.7'}]\n",
      "https://www.fast-growing-trees.com/products/japanese-painted-fern\n"
     ]
    },
    {
     "name": "stderr",
     "output_type": "stream",
     "text": [
      "\r",
      "GettingInfo:  41%|███████████████████████████▍                                       | 41/100 [05:46<07:50,  7.98s/URL]"
     ]
    },
    {
     "name": "stdout",
     "output_type": "stream",
     "text": [
      "[{'ProductURL': 'https://www.fast-growing-trees.com/products/japanese-painted-fern', 'ProductName': 'Japanese Painted Fern', 'SubHeading': \"Athyrium niponicum 'Pictum'\", 'Availability': 'SoldOut', 'Category': None, 'Pack': None, 'RegularPrice': None, 'SalePrice': None, 'ReviewCount': '1 reviews', 'Rating': '4.0'}]\n",
      "https://www.fast-growing-trees.com/products/prairie-expedition-elm-tree\n"
     ]
    },
    {
     "name": "stderr",
     "output_type": "stream",
     "text": [
      "\r",
      "GettingInfo:  42%|████████████████████████████▏                                      | 42/100 [05:57<08:41,  8.99s/URL]"
     ]
    },
    {
     "name": "stdout",
     "output_type": "stream",
     "text": [
      "[{'ProductURL': 'https://www.fast-growing-trees.com/products/prairie-expedition-elm-tree', 'ProductName': 'Prairie Expedition® Elm Tree', 'SubHeading': \"Ulmus americana 'Lewis & Clark'\", 'Availability': 'InStock', 'Category': '4-5 feet', 'Pack': None, 'RegularPrice': None, 'SalePrice': '$139.95', 'ReviewCount': '9 reviews', 'Rating': '5.0'}, {'ProductURL': 'https://www.fast-growing-trees.com/products/prairie-expedition-elm-tree', 'ProductName': 'Prairie Expedition® Elm Tree', 'SubHeading': \"Ulmus americana 'Lewis & Clark'\", 'Availability': 'InStock', 'Category': '5-6 feet', 'Pack': None, 'RegularPrice': None, 'SalePrice': '$149.95', 'ReviewCount': '9 reviews', 'Rating': '5.0'}]\n",
      "https://www.fast-growing-trees.com/products/emerald-sunshine-elm-tree\n"
     ]
    },
    {
     "name": "stderr",
     "output_type": "stream",
     "text": [
      "\r",
      "GettingInfo:  43%|████████████████████████████▊                                      | 43/100 [06:10<09:35, 10.09s/URL]"
     ]
    },
    {
     "name": "stdout",
     "output_type": "stream",
     "text": [
      "[{'ProductURL': 'https://www.fast-growing-trees.com/products/emerald-sunshine-elm-tree', 'ProductName': 'Emerald Sunshine® Elm Tree', 'SubHeading': 'Ulmus propinqua ‘JFS-Bieberich’', 'Availability': 'InStock', 'Category': '4-5 feet', 'Pack': 'Single', 'RegularPrice': None, 'SalePrice': '$149.95', 'ReviewCount': '10 reviews', 'Rating': '4.8'}, {'ProductURL': 'https://www.fast-growing-trees.com/products/emerald-sunshine-elm-tree', 'ProductName': 'Emerald Sunshine® Elm Tree', 'SubHeading': 'Ulmus propinqua ‘JFS-Bieberich’', 'Availability': 'InStock', 'Category': '4-5 feet', 'Pack': '4-Pack', 'RegularPrice': '$599.80', 'SalePrice': '$569.81', 'ReviewCount': '10 reviews', 'Rating': '4.8'}, {'ProductURL': 'https://www.fast-growing-trees.com/products/emerald-sunshine-elm-tree', 'ProductName': 'Emerald Sunshine® Elm Tree', 'SubHeading': 'Ulmus propinqua ‘JFS-Bieberich’', 'Availability': 'InStock', 'Category': '5-6 feet', 'Pack': 'Single', 'RegularPrice': '$149.95', 'SalePrice': '$99.95', 'ReviewCount': '10 reviews', 'Rating': '4.8'}, {'ProductURL': 'https://www.fast-growing-trees.com/products/emerald-sunshine-elm-tree', 'ProductName': 'Emerald Sunshine® Elm Tree', 'SubHeading': 'Ulmus propinqua ‘JFS-Bieberich’', 'Availability': 'InStock', 'Category': '5-6 feet', 'Pack': '4-Pack', 'RegularPrice': '$599.80', 'SalePrice': '$379.81', 'ReviewCount': '10 reviews', 'Rating': '4.8'}, {'ProductURL': 'https://www.fast-growing-trees.com/products/emerald-sunshine-elm-tree', 'ProductName': 'Emerald Sunshine® Elm Tree', 'SubHeading': 'Ulmus propinqua ‘JFS-Bieberich’', 'Availability': 'InStock', 'Category': '6-7 feet', 'Pack': 'Single', 'RegularPrice': None, 'SalePrice': '$189.95', 'ReviewCount': '10 reviews', 'Rating': '4.8'}, {'ProductURL': 'https://www.fast-growing-trees.com/products/emerald-sunshine-elm-tree', 'ProductName': 'Emerald Sunshine® Elm Tree', 'SubHeading': 'Ulmus propinqua ‘JFS-Bieberich’', 'Availability': 'InStock', 'Category': '6-7 feet', 'Pack': '4-Pack', 'RegularPrice': '$759.80', 'SalePrice': '$645.83', 'ReviewCount': '10 reviews', 'Rating': '4.8'}]\n",
      "https://www.fast-growing-trees.com/products/cheyenne-spirit-echinacea\n"
     ]
    },
    {
     "name": "stderr",
     "output_type": "stream",
     "text": [
      "\r",
      "GettingInfo:  44%|█████████████████████████████▍                                     | 44/100 [06:16<08:23,  8.99s/URL]"
     ]
    },
    {
     "name": "stdout",
     "output_type": "stream",
     "text": [
      "[{'ProductURL': 'https://www.fast-growing-trees.com/products/cheyenne-spirit-echinacea', 'ProductName': 'Cheyenne Spirit Echinacea (Coneflower)', 'SubHeading': \"Echinacea 'Cheyenne Spirit'\", 'Availability': 'SoldOut', 'Category': None, 'Pack': None, 'RegularPrice': None, 'SalePrice': None, 'ReviewCount': '5 reviews', 'Rating': '4.2'}]\n",
      "https://www.fast-growing-trees.com/products/caesars-brother-siberian-iris\n"
     ]
    },
    {
     "name": "stderr",
     "output_type": "stream",
     "text": [
      "\r",
      "GettingInfo:  45%|██████████████████████████████▏                                    | 45/100 [06:22<07:27,  8.14s/URL]"
     ]
    },
    {
     "name": "stdout",
     "output_type": "stream",
     "text": [
      "[{'ProductURL': 'https://www.fast-growing-trees.com/products/caesars-brother-siberian-iris', 'ProductName': \"Caesar's Brother Siberian Iris\", 'SubHeading': \"Iris sibirica 'Caesar's Brother'\", 'Availability': 'SoldOut', 'Category': None, 'Pack': None, 'RegularPrice': None, 'SalePrice': None, 'ReviewCount': '3 reviews', 'Rating': '5.0'}]\n",
      "https://www.fast-growing-trees.com/products/raspberry-lemonade-ninebark\n"
     ]
    },
    {
     "name": "stderr",
     "output_type": "stream",
     "text": [
      "\r",
      "GettingInfo:  46%|██████████████████████████████▊                                    | 46/100 [06:29<06:51,  7.62s/URL]"
     ]
    },
    {
     "name": "stdout",
     "output_type": "stream",
     "text": [
      "[{'ProductURL': 'https://www.fast-growing-trees.com/products/raspberry-lemonade-ninebark', 'ProductName': 'Raspberry Lemonade™ Ninebark', 'SubHeading': \"Physocarpus opulifolius 'ZLEYel2'\", 'Availability': 'SoldOut', 'Category': None, 'Pack': None, 'RegularPrice': None, 'SalePrice': None, 'ReviewCount': '8 reviews', 'Rating': '4.4'}]\n",
      "https://www.fast-growing-trees.com/products/greenfinity-cherry-laurel\n"
     ]
    },
    {
     "name": "stderr",
     "output_type": "stream",
     "text": [
      "\r",
      "GettingInfo:  47%|███████████████████████████████▍                                   | 47/100 [06:35<06:30,  7.38s/URL]"
     ]
    },
    {
     "name": "stdout",
     "output_type": "stream",
     "text": [
      "[{'ProductURL': 'https://www.fast-growing-trees.com/products/greenfinity-cherry-laurel', 'ProductName': 'Greenfinity Cherry Laurel', 'SubHeading': \"Prunus laurocerasus 'Jong 2'\", 'Availability': 'SoldOut', 'Category': None, 'Pack': None, 'RegularPrice': None, 'SalePrice': None, 'ReviewCount': '2 reviews', 'Rating': '5.0'}]\n",
      "https://www.fast-growing-trees.com/products/volcano-cherry-laurel\n"
     ]
    },
    {
     "name": "stderr",
     "output_type": "stream",
     "text": [
      "\r",
      "GettingInfo:  48%|████████████████████████████████▏                                  | 48/100 [06:45<06:56,  8.01s/URL]"
     ]
    },
    {
     "name": "stdout",
     "output_type": "stream",
     "text": [
      "[{'ProductURL': 'https://www.fast-growing-trees.com/products/volcano-cherry-laurel', 'ProductName': 'Volcano Cherry Laurel', 'SubHeading': 'Prunus laurocerasus ‘Jong1’', 'Availability': 'InStock', 'Category': '5 gallon', 'Pack': None, 'RegularPrice': None, 'SalePrice': '$129.95', 'ReviewCount': '10 reviews', 'Rating': '4.9'}]\n",
      "https://www.fast-growing-trees.com/products/green-goblet-cherry-laurel\n"
     ]
    },
    {
     "name": "stderr",
     "output_type": "stream",
     "text": [
      "\r",
      "GettingInfo:  49%|████████████████████████████████▊                                  | 49/100 [06:52<06:37,  7.80s/URL]"
     ]
    },
    {
     "name": "stdout",
     "output_type": "stream",
     "text": [
      "[{'ProductURL': 'https://www.fast-growing-trees.com/products/green-goblet-cherry-laurel', 'ProductName': 'Green Goblet Cherry Laurel', 'SubHeading': 'Prunus laurocerasus ‘Jong3’', 'Availability': 'SoldOut', 'Category': None, 'Pack': None, 'RegularPrice': None, 'SalePrice': None, 'ReviewCount': '4 reviews', 'Rating': '5.0'}]\n",
      "https://www.fast-growing-trees.com/products/russian-sage\n"
     ]
    },
    {
     "name": "stderr",
     "output_type": "stream",
     "text": [
      "\r",
      "GettingInfo:  50%|█████████████████████████████████▌                                 | 50/100 [07:02<06:55,  8.32s/URL]"
     ]
    },
    {
     "name": "stdout",
     "output_type": "stream",
     "text": [
      "[{'ProductURL': 'https://www.fast-growing-trees.com/products/russian-sage', 'ProductName': 'Russian Sage', 'SubHeading': 'Perovskia atriplicifolia', 'Availability': 'InStock', 'Category': '3 gallon', 'Pack': 'Single', 'RegularPrice': None, 'SalePrice': '$139.95', 'ReviewCount': '12 reviews', 'Rating': '4.8'}, {'ProductURL': 'https://www.fast-growing-trees.com/products/russian-sage', 'ProductName': 'Russian Sage', 'SubHeading': 'Perovskia atriplicifolia', 'Availability': 'InStock', 'Category': '3 gallon', 'Pack': '4-Pack', 'RegularPrice': '$559.80', 'SalePrice': '$475.83', 'ReviewCount': '12 reviews', 'Rating': '4.8'}]\n",
      "https://www.fast-growing-trees.com/products/sombrero-salsa-red-coneflower\n"
     ]
    },
    {
     "name": "stderr",
     "output_type": "stream",
     "text": [
      "\r",
      "GettingInfo:  51%|██████████████████████████████████▏                                | 51/100 [07:08<06:18,  7.72s/URL]"
     ]
    },
    {
     "name": "stdout",
     "output_type": "stream",
     "text": [
      "[{'ProductURL': 'https://www.fast-growing-trees.com/products/sombrero-salsa-red-coneflower', 'ProductName': 'Sombrero® Salsa Red Coneflower', 'SubHeading': \"Echinacea x 'Balsomsed'\", 'Availability': 'SoldOut', 'Category': None, 'Pack': None, 'RegularPrice': None, 'SalePrice': None, 'ReviewCount': '2 reviews', 'Rating': '4.0'}]\n",
      "https://www.fast-growing-trees.com/products/lacey-blue-russian-sage\n"
     ]
    },
    {
     "name": "stderr",
     "output_type": "stream",
     "text": [
      "\r",
      "GettingInfo:  52%|██████████████████████████████████▊                                | 52/100 [07:14<05:51,  7.33s/URL]"
     ]
    },
    {
     "name": "stdout",
     "output_type": "stream",
     "text": [
      "[{'ProductURL': 'https://www.fast-growing-trees.com/products/lacey-blue-russian-sage', 'ProductName': 'Lacey Blue Russian Sage', 'SubHeading': \"Perovskia atriplicifolia 'Lisslitt'\", 'Availability': 'SoldOut', 'Category': None, 'Pack': None, 'RegularPrice': None, 'SalePrice': None, 'ReviewCount': '0 reviews', 'Rating': '5.0'}]\n",
      "https://www.fast-growing-trees.com/products/geranium-rozanne\n"
     ]
    },
    {
     "name": "stderr",
     "output_type": "stream",
     "text": [
      "\r",
      "GettingInfo:  53%|███████████████████████████████████▌                               | 53/100 [07:21<05:35,  7.15s/URL]"
     ]
    },
    {
     "name": "stdout",
     "output_type": "stream",
     "text": [
      "[{'ProductURL': 'https://www.fast-growing-trees.com/products/geranium-rozanne', 'ProductName': 'Geranium Rozanne', 'SubHeading': \"Geranium x 'Rozanne'\", 'Availability': 'SoldOut', 'Category': None, 'Pack': None, 'RegularPrice': None, 'SalePrice': None, 'ReviewCount': '1 reviews', 'Rating': '5.0'}]\n",
      "https://www.fast-growing-trees.com/products/super-ka-pow-white-phlox\n"
     ]
    },
    {
     "name": "stderr",
     "output_type": "stream",
     "text": [
      "\r",
      "GettingInfo:  54%|████████████████████████████████████▏                              | 54/100 [07:27<05:16,  6.88s/URL]"
     ]
    },
    {
     "name": "stdout",
     "output_type": "stream",
     "text": [
      "[{'ProductURL': 'https://www.fast-growing-trees.com/products/super-ka-pow-white-phlox', 'ProductName': 'Super Ka-Pow™ White Phlox', 'SubHeading': 'Phlox paniculata ‘Balsukawi’', 'Availability': 'SoldOut', 'Category': None, 'Pack': None, 'RegularPrice': None, 'SalePrice': None, 'ReviewCount': '0 reviews', 'Rating': '0.0'}]\n",
      "https://www.fast-growing-trees.com/products/super-ka-pow-coral-phlox\n"
     ]
    },
    {
     "name": "stderr",
     "output_type": "stream",
     "text": [
      "\r",
      "GettingInfo:  55%|████████████████████████████████████▊                              | 55/100 [07:34<05:00,  6.68s/URL]"
     ]
    },
    {
     "name": "stdout",
     "output_type": "stream",
     "text": [
      "[{'ProductURL': 'https://www.fast-growing-trees.com/products/super-ka-pow-coral-phlox', 'ProductName': 'Super Ka-Pow™ Coral Phlox', 'SubHeading': \"Phlox paniculata 'Balsukaco'\", 'Availability': 'SoldOut', 'Category': None, 'Pack': None, 'RegularPrice': None, 'SalePrice': None, 'ReviewCount': '0 reviews', 'Rating': '0.0'}]\n",
      "https://www.fast-growing-trees.com/products/miss-huff-lantana\n"
     ]
    },
    {
     "name": "stderr",
     "output_type": "stream",
     "text": [
      "\r",
      "GettingInfo:  56%|█████████████████████████████████████▌                             | 56/100 [07:40<04:51,  6.62s/URL]"
     ]
    },
    {
     "name": "stdout",
     "output_type": "stream",
     "text": [
      "[{'ProductURL': 'https://www.fast-growing-trees.com/products/miss-huff-lantana', 'ProductName': 'Miss Huff Lantana', 'SubHeading': 'Lantana camara ‘Miss Huff’', 'Availability': 'SoldOut', 'Category': None, 'Pack': None, 'RegularPrice': None, 'SalePrice': None, 'ReviewCount': '7 reviews', 'Rating': '4.4'}]\n",
      "https://www.fast-growing-trees.com/products/chapel-hill-yellow-lantana\n"
     ]
    },
    {
     "name": "stderr",
     "output_type": "stream",
     "text": [
      "\r",
      "GettingInfo:  57%|██████████████████████████████████████▏                            | 57/100 [07:47<04:44,  6.61s/URL]"
     ]
    },
    {
     "name": "stdout",
     "output_type": "stream",
     "text": [
      "[{'ProductURL': 'https://www.fast-growing-trees.com/products/chapel-hill-yellow-lantana', 'ProductName': 'Chapel Hill Yellow Lantana', 'SubHeading': \"Lantana camara 'Chapel Hill Gold'\", 'Availability': 'SoldOut', 'Category': None, 'Pack': None, 'RegularPrice': None, 'SalePrice': None, 'ReviewCount': '6 reviews', 'Rating': '4.8'}]\n",
      "https://www.fast-growing-trees.com/products/pyromania-orange-blaze-red-hot-poker-plant\n"
     ]
    },
    {
     "name": "stderr",
     "output_type": "stream",
     "text": [
      "\r",
      "GettingInfo:  58%|██████████████████████████████████████▊                            | 58/100 [07:53<04:28,  6.39s/URL]"
     ]
    },
    {
     "name": "stdout",
     "output_type": "stream",
     "text": [
      "[{'ProductURL': 'https://www.fast-growing-trees.com/products/pyromania-orange-blaze-red-hot-poker-plant', 'ProductName': 'Pyromania® ‘Orange Blaze’ Red Hot Poker Plant', 'SubHeading': \"Kniphofia 'Orange Blaze'\", 'Availability': 'SoldOut', 'Category': None, 'Pack': None, 'RegularPrice': None, 'SalePrice': None, 'ReviewCount': '0 reviews', 'Rating': '0.0'}]\n",
      "https://www.fast-growing-trees.com/products/sunfinity-sunflower\n"
     ]
    },
    {
     "name": "stderr",
     "output_type": "stream",
     "text": [
      "\r",
      "GettingInfo:  59%|███████████████████████████████████████▌                           | 59/100 [07:59<04:22,  6.39s/URL]"
     ]
    },
    {
     "name": "stdout",
     "output_type": "stream",
     "text": [
      "[{'ProductURL': 'https://www.fast-growing-trees.com/products/sunfinity-sunflower', 'ProductName': \"'Sunfinity' Sunflower\", 'SubHeading': \"Helianthus 'Sunfinity'\", 'Availability': 'SoldOut', 'Category': None, 'Pack': None, 'RegularPrice': None, 'SalePrice': None, 'ReviewCount': '1 reviews', 'Rating': '4.0'}]\n",
      "https://www.fast-growing-trees.com/products/denim-n-lace-russian-sage\n"
     ]
    },
    {
     "name": "stderr",
     "output_type": "stream",
     "text": [
      "\r",
      "GettingInfo:  60%|████████████████████████████████████████▏                          | 60/100 [08:05<04:16,  6.42s/URL]"
     ]
    },
    {
     "name": "stdout",
     "output_type": "stream",
     "text": [
      "[{'ProductURL': 'https://www.fast-growing-trees.com/products/denim-n-lace-russian-sage', 'ProductName': \"Denim 'n Lace Russian Sage\", 'SubHeading': \"Perovskia atriplicifolia ‘Denim 'n Lace’\", 'Availability': 'SoldOut', 'Category': None, 'Pack': None, 'RegularPrice': None, 'SalePrice': None, 'ReviewCount': '0 reviews', 'Rating': '4.0'}]\n",
      "https://www.fast-growing-trees.com/products/leading-lady-razzberry-bee-balm\n"
     ]
    },
    {
     "name": "stderr",
     "output_type": "stream",
     "text": [
      "\r",
      "GettingInfo:  61%|████████████████████████████████████████▊                          | 61/100 [08:12<04:10,  6.43s/URL]"
     ]
    },
    {
     "name": "stdout",
     "output_type": "stream",
     "text": [
      "[{'ProductURL': 'https://www.fast-growing-trees.com/products/leading-lady-razzberry-bee-balm', 'ProductName': '‘Leading Lady Razzberry’ Bee Balm', 'SubHeading': 'Monarda hybrid ‘Leading Lady Razzberry’', 'Availability': 'SoldOut', 'Category': None, 'Pack': None, 'RegularPrice': None, 'SalePrice': None, 'ReviewCount': '0 reviews', 'Rating': '0.0'}]\n",
      "https://www.fast-growing-trees.com/products/dragons-breath-celosia\n"
     ]
    },
    {
     "name": "stderr",
     "output_type": "stream",
     "text": [
      "\r",
      "GettingInfo:  62%|█████████████████████████████████████████▌                         | 62/100 [08:18<04:03,  6.41s/URL]"
     ]
    },
    {
     "name": "stdout",
     "output_type": "stream",
     "text": [
      "[{'ProductURL': 'https://www.fast-growing-trees.com/products/dragons-breath-celosia', 'ProductName': \"Dragon's Breath® Celosia\", 'SubHeading': 'Celosia argentea plumosa', 'Availability': 'SoldOut', 'Category': None, 'Pack': None, 'RegularPrice': None, 'SalePrice': None, 'ReviewCount': '2 reviews', 'Rating': '5.0'}]\n",
      "https://www.fast-growing-trees.com/products/persian-shield\n"
     ]
    },
    {
     "name": "stderr",
     "output_type": "stream",
     "text": [
      "\r",
      "GettingInfo:  63%|██████████████████████████████████████████▏                        | 63/100 [08:27<04:23,  7.11s/URL]"
     ]
    },
    {
     "name": "stdout",
     "output_type": "stream",
     "text": [
      "[{'ProductURL': 'https://www.fast-growing-trees.com/products/persian-shield', 'ProductName': 'Persian Shield', 'SubHeading': 'Strobilanthes dyerianus', 'Availability': 'SoldOut', 'Category': None, 'Pack': None, 'RegularPrice': None, 'SalePrice': None, 'ReviewCount': '2 reviews', 'Rating': '4.5'}]\n",
      "https://www.fast-growing-trees.com/products/nepeta-cats-pajamas-catmint\n"
     ]
    },
    {
     "name": "stderr",
     "output_type": "stream",
     "text": [
      "\r",
      "GettingInfo:  64%|██████████████████████████████████████████▉                        | 64/100 [08:34<04:09,  6.92s/URL]"
     ]
    },
    {
     "name": "stdout",
     "output_type": "stream",
     "text": [
      "[{'ProductURL': 'https://www.fast-growing-trees.com/products/nepeta-cats-pajamas-catmint', 'ProductName': \"Nepeta 'Cat’s Pajamas' Catmint\", 'SubHeading': \"Nepeta cataria 'Cat's Pajamas'\", 'Availability': 'SoldOut', 'Category': None, 'Pack': None, 'RegularPrice': None, 'SalePrice': None, 'ReviewCount': '6 reviews', 'Rating': '4.8'}]\n",
      "https://www.fast-growing-trees.com/products/fruit-punch-maraschino-dianthus\n"
     ]
    },
    {
     "name": "stderr",
     "output_type": "stream",
     "text": [
      "\r",
      "GettingInfo:  65%|███████████████████████████████████████████▌                       | 65/100 [08:39<03:50,  6.58s/URL]"
     ]
    },
    {
     "name": "stdout",
     "output_type": "stream",
     "text": [
      "[{'ProductURL': 'https://www.fast-growing-trees.com/products/fruit-punch-maraschino-dianthus', 'ProductName': 'Fruit Punch® ‘Maraschino’ Dianthus', 'SubHeading': \"Dianthus x 'Maraschino'\", 'Availability': 'SoldOut', 'Category': None, 'Pack': None, 'RegularPrice': None, 'SalePrice': None, 'ReviewCount': '0 reviews', 'Rating': '0.0'}]\n",
      "https://www.fast-growing-trees.com/products/mixmasters-tea-party-calibrachoa\n"
     ]
    },
    {
     "name": "stderr",
     "output_type": "stream",
     "text": [
      "\r",
      "GettingInfo:  66%|████████████████████████████████████████████▏                      | 66/100 [08:46<03:45,  6.63s/URL]"
     ]
    },
    {
     "name": "stdout",
     "output_type": "stream",
     "text": [
      "[{'ProductURL': 'https://www.fast-growing-trees.com/products/mixmasters-tea-party-calibrachoa', 'ProductName': 'MixMasters™ Tea Party Calibrachoa', 'SubHeading': 'Calibrachoa', 'Availability': 'SoldOut', 'Category': None, 'Pack': None, 'RegularPrice': None, 'SalePrice': None, 'ReviewCount': '1 reviews', 'Rating': '5.0'}]\n",
      "https://www.fast-growing-trees.com/products/red-vinca\n"
     ]
    },
    {
     "name": "stderr",
     "output_type": "stream",
     "text": [
      "\r",
      "GettingInfo:  67%|████████████████████████████████████████████▉                      | 67/100 [08:53<03:41,  6.72s/URL]"
     ]
    },
    {
     "name": "stdout",
     "output_type": "stream",
     "text": [
      "[{'ProductURL': 'https://www.fast-growing-trees.com/products/red-vinca', 'ProductName': 'Red Vinca', 'SubHeading': 'Catharanthus roseus', 'Availability': 'SoldOut', 'Category': None, 'Pack': None, 'RegularPrice': None, 'SalePrice': None, 'ReviewCount': '1 reviews', 'Rating': '5.0'}]\n",
      "https://www.fast-growing-trees.com/products/blue-vinca\n"
     ]
    },
    {
     "name": "stderr",
     "output_type": "stream",
     "text": [
      "\r",
      "GettingInfo:  68%|█████████████████████████████████████████████▌                     | 68/100 [08:59<03:24,  6.38s/URL]"
     ]
    },
    {
     "name": "stdout",
     "output_type": "stream",
     "text": [
      "[{'ProductURL': 'https://www.fast-growing-trees.com/products/blue-vinca', 'ProductName': 'Blue Vinca', 'SubHeading': 'Catharanthus roseus', 'Availability': 'SoldOut', 'Category': None, 'Pack': None, 'RegularPrice': None, 'SalePrice': None, 'ReviewCount': '0 reviews', 'Rating': '0'}]\n",
      "https://www.fast-growing-trees.com/products/red-white-and-blue-petunia\n"
     ]
    },
    {
     "name": "stderr",
     "output_type": "stream",
     "text": [
      "\r",
      "GettingInfo:  69%|██████████████████████████████████████████████▏                    | 69/100 [09:05<03:18,  6.42s/URL]"
     ]
    },
    {
     "name": "stdout",
     "output_type": "stream",
     "text": [
      "[{'ProductURL': 'https://www.fast-growing-trees.com/products/red-white-and-blue-petunia', 'ProductName': 'Red, White, and Blue Petunias', 'SubHeading': 'Petunia axillaris Mixed Combination', 'Availability': 'SoldOut', 'Category': None, 'Pack': None, 'RegularPrice': None, 'SalePrice': None, 'ReviewCount': '0 reviews', 'Rating': '0.0'}]\n",
      "https://www.fast-growing-trees.com/products/white-vinca\n"
     ]
    },
    {
     "name": "stderr",
     "output_type": "stream",
     "text": [
      "\r",
      "GettingInfo:  70%|██████████████████████████████████████████████▉                    | 70/100 [09:12<03:16,  6.55s/URL]"
     ]
    },
    {
     "name": "stdout",
     "output_type": "stream",
     "text": [
      "[{'ProductURL': 'https://www.fast-growing-trees.com/products/white-vinca', 'ProductName': 'White Vinca', 'SubHeading': 'Catharanthus roseus', 'Availability': 'SoldOut', 'Category': None, 'Pack': None, 'RegularPrice': None, 'SalePrice': None, 'ReviewCount': '1 reviews', 'Rating': '5.0'}]\n",
      "https://www.fast-growing-trees.com/products/podocarpus\n"
     ]
    },
    {
     "name": "stderr",
     "output_type": "stream",
     "text": [
      "\r",
      "GettingInfo:  71%|███████████████████████████████████████████████▌                   | 71/100 [09:21<03:28,  7.19s/URL]"
     ]
    },
    {
     "name": "stdout",
     "output_type": "stream",
     "text": [
      "[{'ProductURL': 'https://www.fast-growing-trees.com/products/podocarpus', 'ProductName': 'Podocarpus', 'SubHeading': 'Podocarpus macrophyllus', 'Availability': 'InStock', 'Category': '3 gallon', 'Pack': 'Single', 'RegularPrice': None, 'SalePrice': '$79.95', 'ReviewCount': '4 reviews', 'Rating': '4.0'}, {'ProductURL': 'https://www.fast-growing-trees.com/products/podocarpus', 'ProductName': 'Podocarpus', 'SubHeading': 'Podocarpus macrophyllus', 'Availability': 'InStock', 'Category': '3 gallon', 'Pack': '6-Pack', 'RegularPrice': '$479.70', 'SalePrice': '$407.75', 'ReviewCount': '4 reviews', 'Rating': '4.0'}]\n",
      "https://www.fast-growing-trees.com/products/blue-fescue-grass\n"
     ]
    },
    {
     "name": "stderr",
     "output_type": "stream",
     "text": [
      "\r",
      "GettingInfo:  72%|████████████████████████████████████████████████▏                  | 72/100 [09:29<03:31,  7.55s/URL]"
     ]
    },
    {
     "name": "stdout",
     "output_type": "stream",
     "text": [
      "[{'ProductURL': 'https://www.fast-growing-trees.com/products/blue-fescue-grass', 'ProductName': 'Blue Fescue Grass', 'SubHeading': '<p><span style=\"background-color:transparent;color:#000000;\">Festuca glauca \\'Elijah Blue\\'</span></p>', 'Availability': 'InStock', 'Category': '1 gallon', 'Pack': 'Single', 'RegularPrice': None, 'SalePrice': '$54.95', 'ReviewCount': '1 reviews', 'Rating': '5.0'}, {'ProductURL': 'https://www.fast-growing-trees.com/products/blue-fescue-grass', 'ProductName': 'Blue Fescue Grass', 'SubHeading': '<p><span style=\"background-color:transparent;color:#000000;\">Festuca glauca \\'Elijah Blue\\'</span></p>', 'Availability': 'InStock', 'Category': '1 gallon', 'Pack': '4-Pack', 'RegularPrice': '$219.80', 'SalePrice': '$164.85', 'ReviewCount': '1 reviews', 'Rating': '5.0'}]\n",
      "https://www.fast-growing-trees.com/products/ruby-red-grapefruit-tree-ga\n"
     ]
    },
    {
     "name": "stderr",
     "output_type": "stream",
     "text": [
      "\r",
      "GettingInfo:  73%|████████████████████████████████████████████████▉                  | 73/100 [09:37<03:28,  7.71s/URL]"
     ]
    },
    {
     "name": "stdout",
     "output_type": "stream",
     "text": [
      "[{'ProductURL': 'https://www.fast-growing-trees.com/products/ruby-red-grapefruit-tree-ga', 'ProductName': 'Ruby Red Grapefruit Tree', 'SubHeading': \"Citrus x paradise 'Ruby Red'\", 'Availability': 'InStock', 'Category': '2-3 feet', 'Pack': None, 'RegularPrice': None, 'SalePrice': '$109.95', 'ReviewCount': '0 reviews', 'Rating': '0.0'}]\n",
      "https://www.fast-growing-trees.com/products/tuscan-rosemary-az\n"
     ]
    },
    {
     "name": "stderr",
     "output_type": "stream",
     "text": [
      "\r",
      "GettingInfo:  74%|█████████████████████████████████████████████████▌                 | 74/100 [09:45<03:25,  7.91s/URL]"
     ]
    },
    {
     "name": "stdout",
     "output_type": "stream",
     "text": [
      "[{'ProductURL': 'https://www.fast-growing-trees.com/products/tuscan-rosemary-az', 'ProductName': 'Tuscan Rosemary', 'SubHeading': \"Rosmarinus officinalis 'Tuscan Blue'\", 'Availability': 'InStock', 'Category': '5 gallon', 'Pack': None, 'RegularPrice': None, 'SalePrice': '$139.95', 'ReviewCount': '0 reviews', 'Rating': '0.0'}]\n",
      "https://www.fast-growing-trees.com/products/iceberg-rose-az\n"
     ]
    },
    {
     "name": "stderr",
     "output_type": "stream",
     "text": [
      "\r",
      "GettingInfo:  75%|██████████████████████████████████████████████████▎                | 75/100 [09:54<03:20,  8.00s/URL]"
     ]
    },
    {
     "name": "stdout",
     "output_type": "stream",
     "text": [
      "[{'ProductURL': 'https://www.fast-growing-trees.com/products/iceberg-rose-az', 'ProductName': 'Iceberg Rose', 'SubHeading': 'Rosa Iceberg', 'Availability': 'InStock', 'Category': '5 gallon', 'Pack': None, 'RegularPrice': None, 'SalePrice': '$149.95', 'ReviewCount': '0 reviews', 'Rating': '0.0'}]\n",
      "https://www.fast-growing-trees.com/products/live-oak-tree-az\n"
     ]
    },
    {
     "name": "stderr",
     "output_type": "stream",
     "text": [
      "\r",
      "GettingInfo:  76%|██████████████████████████████████████████████████▉                | 76/100 [09:59<02:56,  7.34s/URL]"
     ]
    },
    {
     "name": "stdout",
     "output_type": "stream",
     "text": [
      "[{'ProductURL': 'https://www.fast-growing-trees.com/products/live-oak-tree-az', 'ProductName': 'Live Oak Tree', 'SubHeading': 'Quercus virginiana', 'Availability': 'SoldOut', 'Category': None, 'Pack': None, 'RegularPrice': None, 'SalePrice': None, 'ReviewCount': '0 reviews', 'Rating': '0.0'}]\n",
      "https://www.fast-growing-trees.com/products/jacaranda-tree-az\n"
     ]
    },
    {
     "name": "stderr",
     "output_type": "stream",
     "text": [
      "\r",
      "GettingInfo:  77%|███████████████████████████████████████████████████▌               | 77/100 [10:10<03:12,  8.35s/URL]"
     ]
    },
    {
     "name": "stdout",
     "output_type": "stream",
     "text": [
      "[{'ProductURL': 'https://www.fast-growing-trees.com/products/jacaranda-tree-az', 'ProductName': 'Jacaranda Tree', 'SubHeading': 'Jacaranda mimosifolia', 'Availability': 'InStock', 'Category': '5 gallon', 'Pack': None, 'RegularPrice': None, 'SalePrice': '$179.95', 'ReviewCount': '17 reviews', 'Rating': '4.9'}, {'ProductURL': 'https://www.fast-growing-trees.com/products/jacaranda-tree-az', 'ProductName': 'Jacaranda Tree', 'SubHeading': 'Jacaranda mimosifolia', 'Availability': 'InStock', 'Category': '3-4 feet', 'Pack': None, 'RegularPrice': None, 'SalePrice': '$174.95', 'ReviewCount': '17 reviews', 'Rating': '4.9'}]\n",
      "https://www.fast-growing-trees.com/products/star-jasmine-az\n"
     ]
    },
    {
     "name": "stderr",
     "output_type": "stream",
     "text": [
      "\r",
      "GettingInfo:  78%|████████████████████████████████████████████████████▎              | 78/100 [10:18<03:02,  8.31s/URL]"
     ]
    },
    {
     "name": "stdout",
     "output_type": "stream",
     "text": [
      "[{'ProductURL': 'https://www.fast-growing-trees.com/products/star-jasmine-az', 'ProductName': 'Star Jasmine', 'SubHeading': 'Trachelospermum jasminoides', 'Availability': 'InStock', 'Category': '5 gallon', 'Pack': None, 'RegularPrice': None, 'SalePrice': '$159.95', 'ReviewCount': '0 reviews', 'Rating': '0.0'}]\n",
      "https://www.fast-growing-trees.com/products/verbena-purple-homestead\n"
     ]
    },
    {
     "name": "stderr",
     "output_type": "stream",
     "text": [
      "\r",
      "GettingInfo:  79%|████████████████████████████████████████████████████▉              | 79/100 [10:26<02:47,  7.99s/URL]"
     ]
    },
    {
     "name": "stdout",
     "output_type": "stream",
     "text": [
      "[{'ProductURL': 'https://www.fast-growing-trees.com/products/verbena-purple-homestead', 'ProductName': 'Verbena Purple Homestead', 'SubHeading': \"Verbena canadensis 'Homestead Purple'\", 'Availability': 'SoldOut', 'Category': None, 'Pack': None, 'RegularPrice': None, 'SalePrice': None, 'ReviewCount': '10 reviews', 'Rating': '3.9'}]\n",
      "https://www.fast-growing-trees.com/products/mexican-petunia\n"
     ]
    },
    {
     "name": "stderr",
     "output_type": "stream",
     "text": [
      "\r",
      "GettingInfo:  80%|█████████████████████████████████████████████████████▌             | 80/100 [10:35<02:49,  8.49s/URL]"
     ]
    },
    {
     "name": "stdout",
     "output_type": "stream",
     "text": [
      "[{'ProductURL': 'https://www.fast-growing-trees.com/products/mexican-petunia', 'ProductName': 'Mexican Petunia', 'SubHeading': 'Ruellia simplex', 'Availability': 'InStock', 'Category': '5 gallon', 'Pack': None, 'RegularPrice': None, 'SalePrice': '$109.95', 'ReviewCount': '1 reviews', 'Rating': '5.0'}]\n",
      "https://www.fast-growing-trees.com/products/desert-ruellia\n"
     ]
    },
    {
     "name": "stderr",
     "output_type": "stream",
     "text": [
      "\r",
      "GettingInfo:  81%|██████████████████████████████████████████████████████▎            | 81/100 [10:45<02:49,  8.91s/URL]"
     ]
    },
    {
     "name": "stdout",
     "output_type": "stream",
     "text": [
      "[{'ProductURL': 'https://www.fast-growing-trees.com/products/desert-ruellia', 'ProductName': 'Desert Ruellia', 'SubHeading': 'Ruellia peninsularis', 'Availability': 'InStock', 'Category': '5 gallon', 'Pack': None, 'RegularPrice': None, 'SalePrice': '$129.95', 'ReviewCount': '0 reviews', 'Rating': '0.0'}]\n",
      "https://www.fast-growing-trees.com/products/shiranui-tree-ga\n"
     ]
    },
    {
     "name": "stderr",
     "output_type": "stream",
     "text": [
      "\r",
      "GettingInfo:  82%|██████████████████████████████████████████████████████▉            | 82/100 [10:56<02:49,  9.42s/URL]"
     ]
    },
    {
     "name": "stdout",
     "output_type": "stream",
     "text": [
      "[{'ProductURL': 'https://www.fast-growing-trees.com/products/shiranui-tree-ga', 'ProductName': 'Shiranui Mandarin Tree', 'SubHeading': \"Citrus reticulata 'Shiranui'\", 'Availability': 'InStock', 'Category': '1-2 feet', 'Pack': None, 'RegularPrice': None, 'SalePrice': '$89.95', 'ReviewCount': '5 reviews', 'Rating': '4.4'}, {'ProductURL': 'https://www.fast-growing-trees.com/products/shiranui-tree-ga', 'ProductName': 'Shiranui Mandarin Tree', 'SubHeading': \"Citrus reticulata 'Shiranui'\", 'Availability': 'InStock', 'Category': '2-3 feet', 'Pack': None, 'RegularPrice': None, 'SalePrice': '$99.95', 'ReviewCount': '5 reviews', 'Rating': '4.4'}]\n",
      "https://www.fast-growing-trees.com/products/creeping-rosemary-az\n"
     ]
    },
    {
     "name": "stderr",
     "output_type": "stream",
     "text": [
      "\r",
      "GettingInfo:  83%|███████████████████████████████████████████████████████▌           | 83/100 [11:02<02:22,  8.40s/URL]"
     ]
    },
    {
     "name": "stdout",
     "output_type": "stream",
     "text": [
      "[{'ProductURL': 'https://www.fast-growing-trees.com/products/creeping-rosemary-az', 'ProductName': 'Creeping Rosemary', 'SubHeading': \"Rosmarinus officinalis 'Prostratus'\", 'Availability': 'SoldOut', 'Category': None, 'Pack': None, 'RegularPrice': None, 'SalePrice': None, 'ReviewCount': '1 reviews', 'Rating': '5.0'}]\n",
      "https://www.fast-growing-trees.com/products/orange-jubilee-tecoma\n"
     ]
    },
    {
     "name": "stderr",
     "output_type": "stream",
     "text": [
      "\r",
      "GettingInfo:  84%|████████████████████████████████████████████████████████▎          | 84/100 [11:12<02:21,  8.86s/URL]"
     ]
    },
    {
     "name": "stdout",
     "output_type": "stream",
     "text": [
      "[{'ProductURL': 'https://www.fast-growing-trees.com/products/orange-jubilee-tecoma', 'ProductName': 'Orange Jubilee Tecoma', 'SubHeading': 'Tecoma x ‘Orange Jubilee’', 'Availability': 'InStock', 'Category': '5 gallon', 'Pack': None, 'RegularPrice': None, 'SalePrice': '$129.95', 'ReviewCount': '2 reviews', 'Rating': '4.0'}]\n",
      "https://www.fast-growing-trees.com/products/alexandra-bougainvillea\n"
     ]
    },
    {
     "name": "stderr",
     "output_type": "stream",
     "text": [
      "\r",
      "GettingInfo:  85%|████████████████████████████████████████████████████████▉          | 85/100 [11:20<02:10,  8.70s/URL]"
     ]
    },
    {
     "name": "stdout",
     "output_type": "stream",
     "text": [
      "[{'ProductURL': 'https://www.fast-growing-trees.com/products/alexandra-bougainvillea', 'ProductName': 'Alexandra Bougainvillea', 'SubHeading': 'Bougainvillea Alexandra', 'Availability': 'InStock', 'Category': '3 gallon', 'Pack': None, 'RegularPrice': None, 'SalePrice': '$129.95', 'ReviewCount': '1 reviews', 'Rating': '3.0'}]\n",
      "https://www.fast-growing-trees.com/products/sparky-tecoma\n"
     ]
    },
    {
     "name": "stderr",
     "output_type": "stream",
     "text": [
      "\r",
      "GettingInfo:  86%|█████████████████████████████████████████████████████████▌         | 86/100 [11:29<02:01,  8.67s/URL]"
     ]
    },
    {
     "name": "stdout",
     "output_type": "stream",
     "text": [
      "[{'ProductURL': 'https://www.fast-growing-trees.com/products/sparky-tecoma', 'ProductName': 'Sparky Tecoma', 'SubHeading': \"Tecoma 'Sparky'\", 'Availability': 'InStock', 'Category': '3 gallon', 'Pack': None, 'RegularPrice': None, 'SalePrice': '$139.95', 'ReviewCount': '1 reviews', 'Rating': '3.0'}]\n",
      "https://www.fast-growing-trees.com/products/lynns-legacy-sage\n"
     ]
    },
    {
     "name": "stderr",
     "output_type": "stream",
     "text": [
      "\r",
      "GettingInfo:  87%|██████████████████████████████████████████████████████████▎        | 87/100 [11:37<01:52,  8.62s/URL]"
     ]
    },
    {
     "name": "stdout",
     "output_type": "stream",
     "text": [
      "[{'ProductURL': 'https://www.fast-growing-trees.com/products/lynns-legacy-sage', 'ProductName': \"Lynn's Legacy Texas Sage\", 'SubHeading': 'Leucophyllum langmaniae ‘Lynn’s Legacy’', 'Availability': 'InStock', 'Category': '3 gallon', 'Pack': None, 'RegularPrice': None, 'SalePrice': '$119.95', 'ReviewCount': '1 reviews', 'Rating': '5.0'}]\n",
      "https://www.fast-growing-trees.com/products/new-gold-lantana\n"
     ]
    },
    {
     "name": "stderr",
     "output_type": "stream",
     "text": [
      "\r",
      "GettingInfo:  88%|██████████████████████████████████████████████████████████▉        | 88/100 [11:46<01:43,  8.65s/URL]"
     ]
    },
    {
     "name": "stdout",
     "output_type": "stream",
     "text": [
      "[{'ProductURL': 'https://www.fast-growing-trees.com/products/new-gold-lantana', 'ProductName': 'New Gold Lantana', 'SubHeading': \"Lantana x 'New Gold'\", 'Availability': 'InStock', 'Category': '3 gallon', 'Pack': None, 'RegularPrice': None, 'SalePrice': '$129.95', 'ReviewCount': '3 reviews', 'Rating': '4.3'}]\n",
      "https://www.fast-growing-trees.com/products/sikitita-olive-tree\n"
     ]
    },
    {
     "name": "stderr",
     "output_type": "stream",
     "text": [
      "\r",
      "GettingInfo:  89%|███████████████████████████████████████████████████████████▋       | 89/100 [11:57<01:42,  9.36s/URL]"
     ]
    },
    {
     "name": "stdout",
     "output_type": "stream",
     "text": [
      "[{'ProductURL': 'https://www.fast-growing-trees.com/products/sikitita-olive-tree', 'ProductName': 'Sikitita Olive Tree', 'SubHeading': 'Olea europaea ‘Picual’ x ‘Arbequina’', 'Availability': 'InStock', 'Category': '2-3 feet', 'Pack': None, 'RegularPrice': None, 'SalePrice': '$54.95', 'ReviewCount': '7 reviews', 'Rating': '4.0'}, {'ProductURL': 'https://www.fast-growing-trees.com/products/sikitita-olive-tree', 'ProductName': 'Sikitita Olive Tree', 'SubHeading': 'Olea europaea ‘Picual’ x ‘Arbequina’', 'Availability': 'InStock', 'Category': '3-4 feet', 'Pack': None, 'RegularPrice': None, 'SalePrice': '$69.95', 'ReviewCount': '7 reviews', 'Rating': '4.0'}]\n",
      "https://www.fast-growing-trees.com/products/desert-spoon\n"
     ]
    },
    {
     "name": "stderr",
     "output_type": "stream",
     "text": [
      "\r",
      "GettingInfo:  90%|████████████████████████████████████████████████████████████▎      | 90/100 [12:05<01:30,  9.10s/URL]"
     ]
    },
    {
     "name": "stdout",
     "output_type": "stream",
     "text": [
      "[{'ProductURL': 'https://www.fast-growing-trees.com/products/desert-spoon', 'ProductName': 'Desert Spoon', 'SubHeading': 'Dasylirion wheeleri', 'Availability': 'InStock', 'Category': '5 gallon', 'Pack': None, 'RegularPrice': None, 'SalePrice': '$129.95', 'ReviewCount': '1 reviews', 'Rating': '5.0'}]\n",
      "https://www.fast-growing-trees.com/products/navaho-blackberry\n"
     ]
    },
    {
     "name": "stderr",
     "output_type": "stream",
     "text": [
      "\r",
      "GettingInfo:  91%|████████████████████████████████████████████████████████████▉      | 91/100 [12:13<01:16,  8.55s/URL]"
     ]
    },
    {
     "name": "stdout",
     "output_type": "stream",
     "text": [
      "[{'ProductURL': 'https://www.fast-growing-trees.com/products/navaho-blackberry', 'ProductName': 'Navaho Blackberry', 'SubHeading': \"Rubus fruticosus 'Navaho'\", 'Availability': 'SoldOut', 'Category': None, 'Pack': None, 'RegularPrice': None, 'SalePrice': None, 'ReviewCount': '2 reviews', 'Rating': '5.0'}]\n",
      "https://www.fast-growing-trees.com/products/eldarica-pine\n"
     ]
    },
    {
     "name": "stderr",
     "output_type": "stream",
     "text": [
      "\r",
      "GettingInfo:  92%|█████████████████████████████████████████████████████████████▋     | 92/100 [12:23<01:13,  9.23s/URL]"
     ]
    },
    {
     "name": "stdout",
     "output_type": "stream",
     "text": [
      "[{'ProductURL': 'https://www.fast-growing-trees.com/products/eldarica-pine', 'ProductName': 'Eldarica Pine', 'SubHeading': 'Pinus eldarica', 'Availability': 'InStock', 'Category': '5 gallon', 'Pack': None, 'RegularPrice': None, 'SalePrice': '$174.95', 'ReviewCount': '0 reviews', 'Rating': '0.0'}, {'ProductURL': 'https://www.fast-growing-trees.com/products/eldarica-pine', 'ProductName': 'Eldarica Pine', 'SubHeading': 'Pinus eldarica', 'Availability': 'InStock', 'Category': '4-5 feet', 'Pack': None, 'RegularPrice': None, 'SalePrice': '$179.95', 'ReviewCount': '0 reviews', 'Rating': '0.0'}]\n",
      "https://www.fast-growing-trees.com/products/kay-parris-magnolia\n"
     ]
    },
    {
     "name": "stderr",
     "output_type": "stream",
     "text": [
      "\r",
      "GettingInfo:  93%|██████████████████████████████████████████████████████████████▎    | 93/100 [12:31<01:00,  8.65s/URL]"
     ]
    },
    {
     "name": "stdout",
     "output_type": "stream",
     "text": [
      "[{'ProductURL': 'https://www.fast-growing-trees.com/products/kay-parris-magnolia', 'ProductName': 'Kay Parris Magnolia', 'SubHeading': \"Magnolia grandiflora 'Kay Parris'\", 'Availability': 'SoldOut', 'Category': None, 'Pack': None, 'RegularPrice': None, 'SalePrice': None, 'ReviewCount': '3 reviews', 'Rating': '5.0'}]\n",
      "https://www.fast-growing-trees.com/products/oliana-olive-tree\n"
     ]
    },
    {
     "name": "stderr",
     "output_type": "stream",
     "text": [
      "\r",
      "GettingInfo:  94%|██████████████████████████████████████████████████████████████▉    | 94/100 [12:38<00:49,  8.29s/URL]"
     ]
    },
    {
     "name": "stdout",
     "output_type": "stream",
     "text": [
      "[{'ProductURL': 'https://www.fast-growing-trees.com/products/oliana-olive-tree', 'ProductName': 'Oliana Olive Tree', 'SubHeading': \"Olea europaea 'Oliana' \", 'Availability': 'SoldOut', 'Category': None, 'Pack': None, 'RegularPrice': None, 'SalePrice': None, 'ReviewCount': '2 reviews', 'Rating': '5.0'}]\n",
      "https://www.fast-growing-trees.com/products/toyo-nishiki-flowering-quince\n"
     ]
    },
    {
     "name": "stderr",
     "output_type": "stream",
     "text": [
      "\r",
      "GettingInfo:  95%|███████████████████████████████████████████████████████████████▋   | 95/100 [12:45<00:39,  7.89s/URL]"
     ]
    },
    {
     "name": "stdout",
     "output_type": "stream",
     "text": [
      "[{'ProductURL': 'https://www.fast-growing-trees.com/products/toyo-nishiki-flowering-quince', 'ProductName': 'Toyo-Nishiki Flowering Quince', 'SubHeading': \"Chaenomeles speciosa 'Toyo-Nishiki'\", 'Availability': 'SoldOut', 'Category': None, 'Pack': None, 'RegularPrice': None, 'SalePrice': None, 'ReviewCount': '1 reviews', 'Rating': '5.0'}]\n",
      "https://www.fast-growing-trees.com/products/saucer-magnolia\n"
     ]
    },
    {
     "name": "stderr",
     "output_type": "stream",
     "text": [
      "\r",
      "GettingInfo:  96%|████████████████████████████████████████████████████████████████▎  | 96/100 [12:53<00:32,  8.01s/URL]"
     ]
    },
    {
     "name": "stdout",
     "output_type": "stream",
     "text": [
      "[{'ProductURL': 'https://www.fast-growing-trees.com/products/saucer-magnolia', 'ProductName': 'Saucer Magnolia Tree', 'SubHeading': 'Magnolia x soulangeana', 'Availability': 'SoldOut', 'Category': None, 'Pack': None, 'RegularPrice': None, 'SalePrice': None, 'ReviewCount': '6 reviews', 'Rating': '5.0'}]\n",
      "https://www.fast-growing-trees.com/products/yankee-point-california-lilac\n"
     ]
    },
    {
     "name": "stderr",
     "output_type": "stream",
     "text": [
      "\r",
      "GettingInfo:  97%|████████████████████████████████████████████████████████████████▉  | 97/100 [13:01<00:23,  7.92s/URL]"
     ]
    },
    {
     "name": "stdout",
     "output_type": "stream",
     "text": [
      "[{'ProductURL': 'https://www.fast-growing-trees.com/products/yankee-point-california-lilac', 'ProductName': 'Yankee Point California Lilac', 'SubHeading': \"Ceanothus griseus var. horizontalis 'Yankee Point'\", 'Availability': 'SoldOut', 'Category': None, 'Pack': None, 'RegularPrice': None, 'SalePrice': None, 'ReviewCount': '0 reviews', 'Rating': '0.0'}]\n",
      "https://www.fast-growing-trees.com/products/yuzu-tree\n"
     ]
    },
    {
     "name": "stderr",
     "output_type": "stream",
     "text": [
      "\r",
      "GettingInfo:  98%|█████████████████████████████████████████████████████████████████▋ | 98/100 [13:14<00:18,  9.38s/URL]"
     ]
    },
    {
     "name": "stdout",
     "output_type": "stream",
     "text": [
      "[{'ProductURL': 'https://www.fast-growing-trees.com/products/yuzu-tree', 'ProductName': 'Yuzu Tree', 'SubHeading': 'Citrus junos', 'Availability': 'InStock', 'Category': '1-2 feet', 'Pack': None, 'RegularPrice': None, 'SalePrice': '$129.95', 'ReviewCount': '0 reviews', 'Rating': '5.0'}, {'ProductURL': 'https://www.fast-growing-trees.com/products/yuzu-tree', 'ProductName': 'Yuzu Tree', 'SubHeading': 'Citrus junos', 'Availability': 'InStock', 'Category': '2-3 feet', 'Pack': None, 'RegularPrice': None, 'SalePrice': '$139.95', 'ReviewCount': '0 reviews', 'Rating': '5.0'}]\n",
      "https://www.fast-growing-trees.com/products/baby-blue-spruce-tree\n"
     ]
    },
    {
     "name": "stderr",
     "output_type": "stream",
     "text": [
      "\r",
      "GettingInfo:  99%|██████████████████████████████████████████████████████████████████▎| 99/100 [13:22<00:08,  8.87s/URL]"
     ]
    },
    {
     "name": "stdout",
     "output_type": "stream",
     "text": [
      "[{'ProductURL': 'https://www.fast-growing-trees.com/products/baby-blue-spruce-tree', 'ProductName': 'Baby Blue Spruce Tree', 'SubHeading': \"Picea pungens 'Baby Blue'\", 'Availability': 'SoldOut', 'Category': None, 'Pack': None, 'RegularPrice': None, 'SalePrice': None, 'ReviewCount': '27 reviews', 'Rating': '5.0'}]\n",
      "https://www.fast-growing-trees.com/products/skylark-california-lilac\n"
     ]
    },
    {
     "name": "stderr",
     "output_type": "stream",
     "text": [
      "GettingInfo: 100%|██████████████████████████████████████████████████████████████████| 100/100 [13:29<00:00,  8.10s/URL]"
     ]
    },
    {
     "name": "stdout",
     "output_type": "stream",
     "text": [
      "[{'ProductURL': 'https://www.fast-growing-trees.com/products/skylark-california-lilac', 'ProductName': 'Skylark California Lilac', 'SubHeading': \"Ceanothus thyrsiflorus 'Skylark'\", 'Availability': 'SoldOut', 'Category': None, 'Pack': None, 'RegularPrice': None, 'SalePrice': None, 'ReviewCount': '0 reviews', 'Rating': '0.0'}]\n"
     ]
    },
    {
     "name": "stderr",
     "output_type": "stream",
     "text": [
      "\n"
     ]
    }
   ],
   "source": [
    "Product_details8=[]\n",
    "user_agents = random.choice(allowed_user_agents)\n",
    "headers = {'User-Agent': user_agents}\n",
    "chrome_options = webdriver.ChromeOptions()\n",
    "chrome_options.add_argument(f\"user-agent={headers['User-Agent']}\")\n",
    "chrome_options.add_argument('--headless')\n",
    "driver = webdriver.Chrome(options=chrome_options)\n",
    "for i in tqdm(Pro_URL[1200:1300], desc=\"GettingInfo\", unit=\"URL\"):\n",
    "    print(i)\n",
    "    df = get_product_info(i)\n",
    "    Product_details13.extend(df)\n",
    "    print(df)\n",
    "daf = pd.DataFrame(Product_details13)\n",
    "daf.to_csv('FastGrowingTrees13.csv',index=False)\n",
    "driver.quit()"
   ]
  },
  {
   "cell_type": "code",
   "execution_count": 30,
   "id": "b1727cff",
   "metadata": {},
   "outputs": [
    {
     "name": "stderr",
     "output_type": "stream",
     "text": [
      "\r",
      "GettingInfo:   0%|                                                                            | 0/100 [00:00<?, ?URL/s]"
     ]
    },
    {
     "name": "stdout",
     "output_type": "stream",
     "text": [
      "https://www.fast-growing-trees.com/products/creeping-mountain-lilac\n"
     ]
    },
    {
     "name": "stderr",
     "output_type": "stream",
     "text": [
      "\r",
      "GettingInfo:   1%|▋                                                                   | 1/100 [00:07<13:07,  7.96s/URL]"
     ]
    },
    {
     "name": "stdout",
     "output_type": "stream",
     "text": [
      "[{'ProductURL': 'https://www.fast-growing-trees.com/products/creeping-mountain-lilac', 'ProductName': 'Creeping Mountain Lilac', 'SubHeading': 'Ceanothus ‘Joyce Coulter’', 'Availability': 'SoldOut', 'Category': None, 'Pack': None, 'RegularPrice': None, 'SalePrice': None, 'ReviewCount': '0 reviews', 'Rating': '0.0'}]\n",
      "https://www.fast-growing-trees.com/products/housewarming-kit\n"
     ]
    },
    {
     "name": "stderr",
     "output_type": "stream",
     "text": [
      "\r",
      "GettingInfo:   2%|█▎                                                                  | 2/100 [00:15<13:02,  7.99s/URL]"
     ]
    },
    {
     "name": "stdout",
     "output_type": "stream",
     "text": [
      "[{'ProductURL': 'https://www.fast-growing-trees.com/products/housewarming-kit', 'ProductName': 'Housewarming Kit', 'SubHeading': 'Dracaena fragrans Massangeana, Ficus elastic, Spathiphyllum spp., Aloe humilis ‘Hedgehog’', 'Availability': 'SoldOut', 'Category': None, 'Pack': None, 'RegularPrice': None, 'SalePrice': None, 'ReviewCount': '0 reviews', 'Rating': '0.0'}]\n",
      "https://www.fast-growing-trees.com/products/boho-house-plant-kit\n"
     ]
    },
    {
     "name": "stderr",
     "output_type": "stream",
     "text": [
      "\r",
      "GettingInfo:   3%|██                                                                  | 3/100 [00:23<12:32,  7.76s/URL]"
     ]
    },
    {
     "name": "stdout",
     "output_type": "stream",
     "text": [
      "[{'ProductURL': 'https://www.fast-growing-trees.com/products/boho-house-plant-kit', 'ProductName': 'Boho House Plant Kit', 'SubHeading': \"Epipremnum aureum, Musa acuminata 'Veranda', Monstera deliciosa, Dypsis lutescens\", 'Availability': 'SoldOut', 'Category': None, 'Pack': None, 'RegularPrice': None, 'SalePrice': None, 'ReviewCount': '3 reviews', 'Rating': '4.8'}]\n",
      "https://www.fast-growing-trees.com/products/air-purifying-house-plant-kit\n"
     ]
    },
    {
     "name": "stderr",
     "output_type": "stream",
     "text": [
      "\r",
      "GettingInfo:   4%|██▋                                                                 | 4/100 [00:30<12:00,  7.50s/URL]"
     ]
    },
    {
     "name": "stdout",
     "output_type": "stream",
     "text": [
      "[{'ProductURL': 'https://www.fast-growing-trees.com/products/air-purifying-house-plant-kit', 'ProductName': 'Air-Purifying House Plant Kit', 'SubHeading': 'Chamaedorea elegans, Ficus elastic, Sansevieria, Spathiphyllum spp.', 'Availability': 'SoldOut', 'Category': None, 'Pack': None, 'RegularPrice': None, 'SalePrice': None, 'ReviewCount': '0 reviews', 'Rating': '1.0'}]\n",
      "https://www.fast-growing-trees.com/products/new-apartment-house-plant-kit\n"
     ]
    },
    {
     "name": "stderr",
     "output_type": "stream",
     "text": [
      "\r",
      "GettingInfo:   5%|███▍                                                                | 5/100 [00:37<11:47,  7.45s/URL]"
     ]
    },
    {
     "name": "stdout",
     "output_type": "stream",
     "text": [
      "[{'ProductURL': 'https://www.fast-growing-trees.com/products/new-apartment-house-plant-kit', 'ProductName': 'New Apartment House Plant Kit', 'SubHeading': 'Ficus lyrata bambino, Epipremnum aureum, Spathiphyllum spp., Sansevieria', 'Availability': 'SoldOut', 'Category': None, 'Pack': None, 'RegularPrice': None, 'SalePrice': None, 'ReviewCount': '0 reviews', 'Rating': '0.0'}]\n",
      "https://www.fast-growing-trees.com/products/scarlet-fire-dogwood-tree\n"
     ]
    },
    {
     "name": "stderr",
     "output_type": "stream",
     "text": [
      "\r",
      "GettingInfo:   6%|████                                                                | 6/100 [00:44<11:11,  7.15s/URL]"
     ]
    },
    {
     "name": "stdout",
     "output_type": "stream",
     "text": [
      "[{'ProductURL': 'https://www.fast-growing-trees.com/products/scarlet-fire-dogwood-tree', 'ProductName': 'Scarlet Fire® Dogwood Tree', 'SubHeading': \"Cornus kousa 'Rutpink'\", 'Availability': 'SoldOut', 'Category': None, 'Pack': None, 'RegularPrice': None, 'SalePrice': None, 'ReviewCount': '16 reviews', 'Rating': '5.0'}]\n",
      "https://www.fast-growing-trees.com/products/nordmax21-royal-empress-tree\n"
     ]
    },
    {
     "name": "stderr",
     "output_type": "stream",
     "text": [
      "\r",
      "GettingInfo:   7%|████▊                                                               | 7/100 [00:51<10:48,  6.97s/URL]"
     ]
    },
    {
     "name": "stdout",
     "output_type": "stream",
     "text": [
      "[{'ProductURL': 'https://www.fast-growing-trees.com/products/nordmax21-royal-empress-tree', 'ProductName': 'NordMax21® Royal Empress Tree', 'SubHeading': \"Paulownia x 'NordMax21'\", 'Availability': 'SoldOut', 'Category': None, 'Pack': None, 'RegularPrice': None, 'SalePrice': None, 'ReviewCount': '13 reviews', 'Rating': '4.8'}]\n",
      "https://www.fast-growing-trees.com/products/phoenix-one-royal-empress-tree\n"
     ]
    },
    {
     "name": "stderr",
     "output_type": "stream",
     "text": [
      "\r",
      "GettingInfo:   8%|█████▍                                                              | 8/100 [00:57<10:29,  6.84s/URL]"
     ]
    },
    {
     "name": "stdout",
     "output_type": "stream",
     "text": [
      "[{'ProductURL': 'https://www.fast-growing-trees.com/products/phoenix-one-royal-empress-tree', 'ProductName': 'Phoenix One® Royal Empress Tree', 'SubHeading': \"Paulownia x 'Phoenix One'\", 'Availability': 'SoldOut', 'Category': None, 'Pack': None, 'RegularPrice': None, 'SalePrice': None, 'ReviewCount': '13 reviews', 'Rating': '5.0'}]\n",
      "https://www.fast-growing-trees.com/products/lecciana-olive-tree-ca\n"
     ]
    },
    {
     "name": "stderr",
     "output_type": "stream",
     "text": [
      "\r",
      "GettingInfo:   9%|██████                                                              | 9/100 [01:06<11:30,  7.59s/URL]"
     ]
    },
    {
     "name": "stdout",
     "output_type": "stream",
     "text": [
      "[{'ProductURL': 'https://www.fast-growing-trees.com/products/lecciana-olive-tree-ca', 'ProductName': 'Lecciana Olive Tree', 'SubHeading': \"Olea europaea 'Lecciana'\", 'Availability': 'InStock', 'Category': '4-5 feet', 'Pack': None, 'RegularPrice': None, 'SalePrice': '$139.95', 'ReviewCount': '0 reviews', 'Rating': '0.0'}]\n",
      "https://www.fast-growing-trees.com/products/hass-avocado-tree-az\n"
     ]
    },
    {
     "name": "stderr",
     "output_type": "stream",
     "text": [
      "\r",
      "GettingInfo:  10%|██████▋                                                            | 10/100 [01:14<11:13,  7.49s/URL]"
     ]
    },
    {
     "name": "stdout",
     "output_type": "stream",
     "text": [
      "[{'ProductURL': 'https://www.fast-growing-trees.com/products/hass-avocado-tree-az', 'ProductName': 'Hass Avocado Tree', 'SubHeading': \"Persea americana 'Hass'\", 'Availability': 'SoldOut', 'Category': None, 'Pack': None, 'RegularPrice': None, 'SalePrice': None, 'ReviewCount': '1 reviews', 'Rating': '5.0'}]\n",
      "https://www.fast-growing-trees.com/products/koroneiki-greek-olive-tree-ca\n"
     ]
    },
    {
     "name": "stderr",
     "output_type": "stream",
     "text": [
      "\r",
      "GettingInfo:  11%|███████▎                                                           | 11/100 [01:25<13:02,  8.79s/URL]"
     ]
    },
    {
     "name": "stdout",
     "output_type": "stream",
     "text": [
      "[{'ProductURL': 'https://www.fast-growing-trees.com/products/koroneiki-greek-olive-tree-ca', 'ProductName': 'Koroneiki Greek Olive Tree', 'SubHeading': 'Olea Europea', 'Availability': 'InStock', 'Category': '1-2 feet', 'Pack': None, 'RegularPrice': None, 'SalePrice': '$139.95', 'ReviewCount': '1 reviews', 'Rating': '5.0'}, {'ProductURL': 'https://www.fast-growing-trees.com/products/koroneiki-greek-olive-tree-ca', 'ProductName': 'Koroneiki Greek Olive Tree', 'SubHeading': 'Olea Europea', 'Availability': 'InStock', 'Category': '3-4 feet', 'Pack': None, 'RegularPrice': None, 'SalePrice': '$179.95', 'ReviewCount': '1 reviews', 'Rating': '5.0'}]\n",
      "https://www.fast-growing-trees.com/products/hamlin-sweet-orange-tree-ga\n"
     ]
    },
    {
     "name": "stderr",
     "output_type": "stream",
     "text": [
      "\r",
      "GettingInfo:  12%|████████                                                           | 12/100 [01:34<12:42,  8.67s/URL]"
     ]
    },
    {
     "name": "stdout",
     "output_type": "stream",
     "text": [
      "[{'ProductURL': 'https://www.fast-growing-trees.com/products/hamlin-sweet-orange-tree-ga', 'ProductName': 'Hamlin Sweet Orange Tree', 'SubHeading': \"Citrus sinensis 'Hamlin'\", 'Availability': 'InStock', 'Category': '3-4 feet', 'Pack': None, 'RegularPrice': None, 'SalePrice': '$119.95', 'ReviewCount': '0 reviews', 'Rating': '0.0'}]\n",
      "https://www.fast-growing-trees.com/products/mums\n"
     ]
    },
    {
     "name": "stderr",
     "output_type": "stream",
     "text": [
      "\r",
      "GettingInfo:  13%|████████▋                                                          | 13/100 [01:40<11:33,  7.97s/URL]"
     ]
    },
    {
     "name": "stdout",
     "output_type": "stream",
     "text": [
      "[{'ProductURL': 'https://www.fast-growing-trees.com/products/mums', 'ProductName': 'Fall Mums (Chrysanthemum)', 'SubHeading': 'Chrysanthemum', 'Availability': 'SoldOut', 'Category': None, 'Pack': None, 'RegularPrice': None, 'SalePrice': None, 'ReviewCount': '7 reviews', 'Rating': '5.0'}]\n",
      "https://www.fast-growing-trees.com/products/nonpareil-almond-tree\n"
     ]
    },
    {
     "name": "stderr",
     "output_type": "stream",
     "text": [
      "\r",
      "GettingInfo:  14%|█████████▍                                                         | 14/100 [01:46<10:39,  7.44s/URL]"
     ]
    },
    {
     "name": "stdout",
     "output_type": "stream",
     "text": [
      "[{'ProductURL': 'https://www.fast-growing-trees.com/products/nonpareil-almond-tree', 'ProductName': 'Nonpareil Almond Tree', 'SubHeading': \"Prunus dulcis 'Nonpareil'\", 'Availability': 'SoldOut', 'Category': None, 'Pack': None, 'RegularPrice': None, 'SalePrice': None, 'ReviewCount': '3 reviews', 'Rating': '5.0'}]\n",
      "https://www.fast-growing-trees.com/products/sunset-hues-house-plant-kit\n"
     ]
    },
    {
     "name": "stderr",
     "output_type": "stream",
     "text": [
      "\r",
      "GettingInfo:  15%|██████████                                                         | 15/100 [01:53<10:24,  7.35s/URL]"
     ]
    },
    {
     "name": "stdout",
     "output_type": "stream",
     "text": [
      "[{'ProductURL': 'https://www.fast-growing-trees.com/products/sunset-hues-house-plant-kit', 'ProductName': 'Sunset Hues House Plant Kit', 'SubHeading': \"Ficus elastic, Schefflera arboricola 'Trinette', Dryopteris erythrosora 'Brilliance', Codiaeum variegatum 'Petra'\", 'Availability': 'SoldOut', 'Category': None, 'Pack': None, 'RegularPrice': None, 'SalePrice': None, 'ReviewCount': '2 reviews', 'Rating': '5.0'}]\n",
      "https://www.fast-growing-trees.com/products/citrus-tree-variety-kit\n"
     ]
    },
    {
     "name": "stderr",
     "output_type": "stream",
     "text": [
      "\r",
      "GettingInfo:  16%|██████████▋                                                        | 16/100 [02:00<09:52,  7.06s/URL]"
     ]
    },
    {
     "name": "stdout",
     "output_type": "stream",
     "text": [
      "[{'ProductURL': 'https://www.fast-growing-trees.com/products/citrus-tree-variety-kit', 'ProductName': 'Citrus Tree Variety Kit', 'SubHeading': \"Citrus × meyeri 'Improved', Citrus latifolia, Citrus mitis, Citrus sinesis 'Osbeck'\", 'Availability': 'SoldOut', 'Category': None, 'Pack': None, 'RegularPrice': None, 'SalePrice': None, 'ReviewCount': '0 reviews', 'Rating': '0.0'}]\n",
      "https://www.fast-growing-trees.com/products/heavenly-bamboo-nandina-shrub-ca\n"
     ]
    },
    {
     "name": "stderr",
     "output_type": "stream",
     "text": [
      "\r",
      "GettingInfo:  17%|███████████▍                                                       | 17/100 [02:07<09:36,  6.94s/URL]"
     ]
    },
    {
     "name": "stdout",
     "output_type": "stream",
     "text": [
      "[{'ProductURL': 'https://www.fast-growing-trees.com/products/heavenly-bamboo-nandina-shrub-ca', 'ProductName': 'Heavenly Bamboo Nandina Shrub', 'SubHeading': 'Nandina domestica', 'Availability': 'SoldOut', 'Category': None, 'Pack': None, 'RegularPrice': None, 'SalePrice': None, 'ReviewCount': '0 reviews', 'Rating': '0.0'}]\n",
      "https://www.fast-growing-trees.com/products/citrus-bush-variety-kit\n"
     ]
    },
    {
     "name": "stderr",
     "output_type": "stream",
     "text": [
      "\r",
      "GettingInfo:  18%|████████████                                                       | 18/100 [02:13<09:16,  6.79s/URL]"
     ]
    },
    {
     "name": "stdout",
     "output_type": "stream",
     "text": [
      "[{'ProductURL': 'https://www.fast-growing-trees.com/products/citrus-bush-variety-kit', 'ProductName': 'Citrus Bush Variety Kit', 'SubHeading': \"Citrus × meyeri 'Improved', Citrus latifolia, Citrus aurantifolia, Citrus mitis\", 'Availability': 'SoldOut', 'Category': None, 'Pack': None, 'RegularPrice': None, 'SalePrice': None, 'ReviewCount': '1 reviews', 'Rating': '5.0'}]\n",
      "https://www.fast-growing-trees.com/products/bronze-loquat\n"
     ]
    },
    {
     "name": "stderr",
     "output_type": "stream",
     "text": [
      "\r",
      "GettingInfo:  19%|████████████▋                                                      | 19/100 [02:20<09:17,  6.89s/URL]"
     ]
    },
    {
     "name": "stdout",
     "output_type": "stream",
     "text": [
      "[{'ProductURL': 'https://www.fast-growing-trees.com/products/bronze-loquat', 'ProductName': 'Bronze Loquat', 'SubHeading': 'Eriobotrya deflexa', 'Availability': 'SoldOut', 'Category': None, 'Pack': None, 'RegularPrice': None, 'SalePrice': None, 'ReviewCount': '0 reviews', 'Rating': '0.0'}]\n",
      "https://www.fast-growing-trees.com/products/expandable-garden-hose-with-nozzle\n"
     ]
    },
    {
     "name": "stderr",
     "output_type": "stream",
     "text": [
      "\r",
      "GettingInfo:  20%|█████████████▍                                                     | 20/100 [02:28<09:33,  7.17s/URL]"
     ]
    },
    {
     "name": "stdout",
     "output_type": "stream",
     "text": [
      "[{'ProductURL': 'https://www.fast-growing-trees.com/products/expandable-garden-hose-with-nozzle', 'ProductName': 'Expandable Garden Hose With Nozzle', 'SubHeading': '', 'Availability': 'InStock', 'Category': 'Garden Hose', 'Pack': None, 'RegularPrice': '$54.95', 'SalePrice': '$49.95', 'ReviewCount': '2 reviews', 'Rating': '5.0'}, {'ProductURL': 'https://www.fast-growing-trees.com/products/expandable-garden-hose-with-nozzle', 'ProductName': 'Expandable Garden Hose With Nozzle', 'SubHeading': '', 'Availability': 'InStock', 'Category': 'Garden Hose with Tree Gator', 'Pack': None, 'RegularPrice': '$64.95', 'SalePrice': '$59.95', 'ReviewCount': '2 reviews', 'Rating': '5.0'}, {'ProductURL': 'https://www.fast-growing-trees.com/products/expandable-garden-hose-with-nozzle', 'ProductName': 'Expandable Garden Hose With Nozzle', 'SubHeading': '', 'Availability': 'InStock', 'Category': 'Garden Hose with Rotating Lawn Sprinkler', 'Pack': None, 'RegularPrice': '$74.95', 'SalePrice': '$64.95', 'ReviewCount': '2 reviews', 'Rating': '5.0'}]\n",
      "https://www.fast-growing-trees.com/products/rotating-lawn-sprinkler\n"
     ]
    },
    {
     "name": "stderr",
     "output_type": "stream",
     "text": [
      "\r",
      "GettingInfo:  21%|██████████████                                                     | 21/100 [02:39<10:56,  8.31s/URL]"
     ]
    },
    {
     "name": "stdout",
     "output_type": "stream",
     "text": [
      "[{'ProductURL': 'https://www.fast-growing-trees.com/products/rotating-lawn-sprinkler', 'ProductName': 'Rotating Lawn Sprinkler', 'SubHeading': '', 'Availability': 'InStock', 'Category': 'Rotating Sprinkler', 'Pack': None, 'RegularPrice': None, 'SalePrice': '$34.95', 'ReviewCount': '0 reviews', 'Rating': '0.0'}, {'ProductURL': 'https://www.fast-growing-trees.com/products/rotating-lawn-sprinkler', 'ProductName': 'Rotating Lawn Sprinkler', 'SubHeading': '', 'Availability': 'InStock', 'Category': 'Rotating Sprinkler with 50 ft. Hose', 'Pack': None, 'RegularPrice': None, 'SalePrice': '$74.95', 'ReviewCount': '0 reviews', 'Rating': '0.0'}]\n",
      "https://www.fast-growing-trees.com/products/kay-parris-magnolia-az\n"
     ]
    },
    {
     "name": "stderr",
     "output_type": "stream",
     "text": [
      "\r",
      "GettingInfo:  22%|██████████████▋                                                    | 22/100 [02:45<10:03,  7.74s/URL]"
     ]
    },
    {
     "name": "stdout",
     "output_type": "stream",
     "text": [
      "[{'ProductURL': 'https://www.fast-growing-trees.com/products/kay-parris-magnolia-az', 'ProductName': 'Kay Parris Magnolia', 'SubHeading': \"Magnolia grandiflora 'Kay Parris'\", 'Availability': 'SoldOut', 'Category': None, 'Pack': None, 'RegularPrice': None, 'SalePrice': None, 'ReviewCount': '0 reviews', 'Rating': '5.0'}]\n",
      "https://www.fast-growing-trees.com/products/indian-free-white-peach-tree\n"
     ]
    },
    {
     "name": "stderr",
     "output_type": "stream",
     "text": [
      "\r",
      "GettingInfo:  23%|███████████████▍                                                   | 23/100 [02:52<09:27,  7.37s/URL]"
     ]
    },
    {
     "name": "stdout",
     "output_type": "stream",
     "text": [
      "[{'ProductURL': 'https://www.fast-growing-trees.com/products/indian-free-white-peach-tree', 'ProductName': 'Indian Free White Peach Tree', 'SubHeading': \"Prunus persica 'Indian Free'\", 'Availability': 'SoldOut', 'Category': None, 'Pack': None, 'RegularPrice': None, 'SalePrice': None, 'ReviewCount': '3 reviews', 'Rating': '5.0'}]\n",
      "https://www.fast-growing-trees.com/products/fall-pansies\n"
     ]
    },
    {
     "name": "stderr",
     "output_type": "stream",
     "text": [
      "\r",
      "GettingInfo:  24%|████████████████                                                   | 24/100 [02:58<08:59,  7.11s/URL]"
     ]
    },
    {
     "name": "stdout",
     "output_type": "stream",
     "text": [
      "[{'ProductURL': 'https://www.fast-growing-trees.com/products/fall-pansies', 'ProductName': 'Fall Pansies', 'SubHeading': 'Viola tricolor var. hortensis', 'Availability': 'SoldOut', 'Category': None, 'Pack': None, 'RegularPrice': None, 'SalePrice': None, 'ReviewCount': '0 reviews', 'Rating': '0.0'}]\n",
      "https://www.fast-growing-trees.com/products/ornamental-kale\n"
     ]
    },
    {
     "name": "stderr",
     "output_type": "stream",
     "text": [
      "\r",
      "GettingInfo:  25%|████████████████▊                                                  | 25/100 [03:05<08:38,  6.91s/URL]"
     ]
    },
    {
     "name": "stdout",
     "output_type": "stream",
     "text": [
      "[{'ProductURL': 'https://www.fast-growing-trees.com/products/ornamental-kale', 'ProductName': 'Ornamental Kale', 'SubHeading': 'Brassica oleracea', 'Availability': 'SoldOut', 'Category': None, 'Pack': None, 'RegularPrice': None, 'SalePrice': None, 'ReviewCount': '0 reviews', 'Rating': '5.0'}]\n",
      "https://www.fast-growing-trees.com/products/20-self-watering-dot-planter\n"
     ]
    },
    {
     "name": "stderr",
     "output_type": "stream",
     "text": [
      "\r",
      "GettingInfo:  26%|█████████████████▍                                                 | 26/100 [03:25<13:34, 11.01s/URL]"
     ]
    },
    {
     "name": "stdout",
     "output_type": "stream",
     "text": [
      "[{'ProductURL': 'https://www.fast-growing-trees.com/products/20-self-watering-dot-planter', 'ProductName': 'Self-Watering Dot Planter', 'SubHeading': '', 'Availability': 'InStock', 'Category': '16 inch Ash', 'Pack': None, 'RegularPrice': None, 'SalePrice': '$219.95', 'ReviewCount': '0 reviews', 'Rating': '0.0'}, {'ProductURL': 'https://www.fast-growing-trees.com/products/20-self-watering-dot-planter', 'ProductName': 'Self-Watering Dot Planter', 'SubHeading': '', 'Availability': 'InStock', 'Category': '16 inch Black', 'Pack': None, 'RegularPrice': None, 'SalePrice': '$219.95', 'ReviewCount': '0 reviews', 'Rating': '0.0'}, {'ProductURL': 'https://www.fast-growing-trees.com/products/20-self-watering-dot-planter', 'ProductName': 'Self-Watering Dot Planter', 'SubHeading': '', 'Availability': 'InStock', 'Category': '16 inch Old Bronze', 'Pack': None, 'RegularPrice': None, 'SalePrice': '$219.95', 'ReviewCount': '0 reviews', 'Rating': '0.0'}, {'ProductURL': 'https://www.fast-growing-trees.com/products/20-self-watering-dot-planter', 'ProductName': 'Self-Watering Dot Planter', 'SubHeading': '', 'Availability': 'InStock', 'Category': '20 inch Ash', 'Pack': None, 'RegularPrice': None, 'SalePrice': '$289.95', 'ReviewCount': '0 reviews', 'Rating': '0.0'}, {'ProductURL': 'https://www.fast-growing-trees.com/products/20-self-watering-dot-planter', 'ProductName': 'Self-Watering Dot Planter', 'SubHeading': '', 'Availability': 'InStock', 'Category': '20 inch Black', 'Pack': None, 'RegularPrice': None, 'SalePrice': '$289.95', 'ReviewCount': '0 reviews', 'Rating': '0.0'}, {'ProductURL': 'https://www.fast-growing-trees.com/products/20-self-watering-dot-planter', 'ProductName': 'Self-Watering Dot Planter', 'SubHeading': '', 'Availability': 'InStock', 'Category': '20 inch Old Bronze', 'Pack': None, 'RegularPrice': None, 'SalePrice': '$289.95', 'ReviewCount': '0 reviews', 'Rating': '0.0'}]\n",
      "https://www.fast-growing-trees.com/products/self-watering-mod-planter-slate\n"
     ]
    },
    {
     "name": "stderr",
     "output_type": "stream",
     "text": [
      "\r",
      "GettingInfo:  27%|██████████████████                                                 | 27/100 [03:42<15:16, 12.56s/URL]"
     ]
    },
    {
     "name": "stdout",
     "output_type": "stream",
     "text": [
      "[{'ProductURL': 'https://www.fast-growing-trees.com/products/self-watering-mod-planter-slate', 'ProductName': 'Self-Watering Mod Planter', 'SubHeading': '', 'Availability': 'InStock', 'Category': 'Mini 20\"x14”x12\" Slate', 'Pack': None, 'RegularPrice': None, 'SalePrice': '$199.95', 'ReviewCount': '0 reviews', 'Rating': '0.0'}, {'ProductURL': 'https://www.fast-growing-trees.com/products/self-watering-mod-planter-slate', 'ProductName': 'Self-Watering Mod Planter', 'SubHeading': '', 'Availability': 'InStock', 'Category': 'Mini 20\"x14”x12\" White', 'Pack': None, 'RegularPrice': None, 'SalePrice': '$199.95', 'ReviewCount': '0 reviews', 'Rating': '0.0'}, {'ProductURL': 'https://www.fast-growing-trees.com/products/self-watering-mod-planter-slate', 'ProductName': 'Self-Watering Mod Planter', 'SubHeading': '', 'Availability': 'InStock', 'Category': 'Regular 40\"x20\"x20\" Slate', 'Pack': None, 'RegularPrice': None, 'SalePrice': '$749.95', 'ReviewCount': '0 reviews', 'Rating': '0.0'}, {'ProductURL': 'https://www.fast-growing-trees.com/products/self-watering-mod-planter-slate', 'ProductName': 'Self-Watering Mod Planter', 'SubHeading': '', 'Availability': 'InStock', 'Category': 'Regular 40\"x20\"x20\" White', 'Pack': None, 'RegularPrice': None, 'SalePrice': '$749.95', 'ReviewCount': '0 reviews', 'Rating': '0.0'}]\n",
      "https://www.fast-growing-trees.com/products/animal-repellent\n"
     ]
    },
    {
     "name": "stderr",
     "output_type": "stream",
     "text": [
      "\r",
      "GettingInfo:  28%|██████████████████▊                                                | 28/100 [03:50<13:44, 11.45s/URL]"
     ]
    },
    {
     "name": "stdout",
     "output_type": "stream",
     "text": [
      "[{'ProductURL': 'https://www.fast-growing-trees.com/products/animal-repellent', 'ProductName': 'Ready-to-Use Animal Repellent', 'SubHeading': '', 'Availability': 'InStock', 'Category': '32 oz', 'Pack': None, 'RegularPrice': None, 'SalePrice': '$24.95', 'ReviewCount': '0 reviews', 'Rating': '0.0'}]\n",
      "https://www.fast-growing-trees.com/products/pebble-plant-caddy\n"
     ]
    },
    {
     "name": "stderr",
     "output_type": "stream",
     "text": [
      "\r",
      "GettingInfo:  29%|███████████████████▍                                               | 29/100 [04:18<19:27, 16.44s/URL]"
     ]
    },
    {
     "name": "stdout",
     "output_type": "stream",
     "text": [
      "[{'ProductURL': 'https://www.fast-growing-trees.com/products/pebble-plant-caddy', 'ProductName': 'Pebble Plant Caddy', 'SubHeading': '', 'Availability': 'InStock', 'Category': 'Small Alpine White', 'Pack': None, 'RegularPrice': None, 'SalePrice': '$129.95', 'ReviewCount': '0 reviews', 'Rating': '0.0'}, {'ProductURL': 'https://www.fast-growing-trees.com/products/pebble-plant-caddy', 'ProductName': 'Pebble Plant Caddy', 'SubHeading': '', 'Availability': 'InStock', 'Category': 'Small Slate', 'Pack': None, 'RegularPrice': None, 'SalePrice': '$129.95', 'ReviewCount': '0 reviews', 'Rating': '0.0'}, {'ProductURL': 'https://www.fast-growing-trees.com/products/pebble-plant-caddy', 'ProductName': 'Pebble Plant Caddy', 'SubHeading': '', 'Availability': 'InStock', 'Category': 'Small Black', 'Pack': None, 'RegularPrice': None, 'SalePrice': '$129.95', 'ReviewCount': '0 reviews', 'Rating': '0.0'}, {'ProductURL': 'https://www.fast-growing-trees.com/products/pebble-plant-caddy', 'ProductName': 'Pebble Plant Caddy', 'SubHeading': '', 'Availability': 'InStock', 'Category': 'Medium Alpine White', 'Pack': None, 'RegularPrice': None, 'SalePrice': '$159.95', 'ReviewCount': '0 reviews', 'Rating': '0.0'}, {'ProductURL': 'https://www.fast-growing-trees.com/products/pebble-plant-caddy', 'ProductName': 'Pebble Plant Caddy', 'SubHeading': '', 'Availability': 'InStock', 'Category': 'Medium Slate', 'Pack': None, 'RegularPrice': None, 'SalePrice': '$159.95', 'ReviewCount': '0 reviews', 'Rating': '0.0'}, {'ProductURL': 'https://www.fast-growing-trees.com/products/pebble-plant-caddy', 'ProductName': 'Pebble Plant Caddy', 'SubHeading': '', 'Availability': 'InStock', 'Category': 'Medium Black', 'Pack': None, 'RegularPrice': None, 'SalePrice': '$159.95', 'ReviewCount': '0 reviews', 'Rating': '0.0'}, {'ProductURL': 'https://www.fast-growing-trees.com/products/pebble-plant-caddy', 'ProductName': 'Pebble Plant Caddy', 'SubHeading': '', 'Availability': 'InStock', 'Category': 'Large Alpine White', 'Pack': None, 'RegularPrice': None, 'SalePrice': '$189.95', 'ReviewCount': '0 reviews', 'Rating': '0.0'}, {'ProductURL': 'https://www.fast-growing-trees.com/products/pebble-plant-caddy', 'ProductName': 'Pebble Plant Caddy', 'SubHeading': '', 'Availability': 'InStock', 'Category': 'Large Slate', 'Pack': None, 'RegularPrice': None, 'SalePrice': '$189.95', 'ReviewCount': '0 reviews', 'Rating': '0.0'}, {'ProductURL': 'https://www.fast-growing-trees.com/products/pebble-plant-caddy', 'ProductName': 'Pebble Plant Caddy', 'SubHeading': '', 'Availability': 'InStock', 'Category': 'Large Black', 'Pack': None, 'RegularPrice': None, 'SalePrice': '$189.95', 'ReviewCount': '0 reviews', 'Rating': '0.0'}]\n",
      "https://www.fast-growing-trees.com/products/pinch-planter\n"
     ]
    },
    {
     "name": "stderr",
     "output_type": "stream",
     "text": [
      "\r",
      "GettingInfo:  30%|████████████████████                                               | 30/100 [04:37<19:46, 16.95s/URL]"
     ]
    },
    {
     "name": "stdout",
     "output_type": "stream",
     "text": [
      "[{'ProductURL': 'https://www.fast-growing-trees.com/products/pinch-planter', 'ProductName': 'Pinch Planter', 'SubHeading': '', 'Availability': 'InStock', 'Category': '23\" Caviar Black', 'Pack': None, 'RegularPrice': None, 'SalePrice': '$399.95', 'ReviewCount': '0 reviews', 'Rating': '0.0'}, {'ProductURL': 'https://www.fast-growing-trees.com/products/pinch-planter', 'ProductName': 'Pinch Planter', 'SubHeading': '', 'Availability': 'InStock', 'Category': '23\" White', 'Pack': None, 'RegularPrice': None, 'SalePrice': '$399.95', 'ReviewCount': '0 reviews', 'Rating': '0.0'}, {'ProductURL': 'https://www.fast-growing-trees.com/products/pinch-planter', 'ProductName': 'Pinch Planter', 'SubHeading': '', 'Availability': 'InStock', 'Category': '29\" Ash', 'Pack': None, 'RegularPrice': None, 'SalePrice': '$599.95', 'ReviewCount': '0 reviews', 'Rating': '0.0'}, {'ProductURL': 'https://www.fast-growing-trees.com/products/pinch-planter', 'ProductName': 'Pinch Planter', 'SubHeading': '', 'Availability': 'InStock', 'Category': '29\" Caviar Black', 'Pack': None, 'RegularPrice': None, 'SalePrice': '$599.95', 'ReviewCount': '0 reviews', 'Rating': '0.0'}, {'ProductURL': 'https://www.fast-growing-trees.com/products/pinch-planter', 'ProductName': 'Pinch Planter', 'SubHeading': '', 'Availability': 'InStock', 'Category': '29\" White', 'Pack': None, 'RegularPrice': None, 'SalePrice': '$599.95', 'ReviewCount': '0 reviews', 'Rating': '0.0'}]\n",
      "https://www.fast-growing-trees.com/products/rose-deer-and-insect-repellent-ready-to-use-spray\n"
     ]
    },
    {
     "name": "stderr",
     "output_type": "stream",
     "text": [
      "\r",
      "GettingInfo:  31%|████████████████████▊                                              | 31/100 [04:45<16:40, 14.50s/URL]"
     ]
    },
    {
     "name": "stdout",
     "output_type": "stream",
     "text": [
      "[{'ProductURL': 'https://www.fast-growing-trees.com/products/rose-deer-and-insect-repellent-ready-to-use-spray', 'ProductName': 'Ready-to-Use Rose Repellent', 'SubHeading': '', 'Availability': 'InStock', 'Category': '32 oz', 'Pack': None, 'RegularPrice': None, 'SalePrice': '$19.95', 'ReviewCount': '0 reviews', 'Rating': '0.0'}]\n",
      "https://www.fast-growing-trees.com/products/self-watering-rim-planter\n"
     ]
    },
    {
     "name": "stderr",
     "output_type": "stream",
     "text": [
      "\r",
      "GettingInfo:  32%|█████████████████████▍                                             | 32/100 [05:14<21:11, 18.69s/URL]"
     ]
    },
    {
     "name": "stdout",
     "output_type": "stream",
     "text": [
      "[{'ProductURL': 'https://www.fast-growing-trees.com/products/self-watering-rim-planter', 'ProductName': 'Self-Watering Rim Planter', 'SubHeading': '', 'Availability': 'InStock', 'Category': '18\" Alpine White', 'Pack': None, 'RegularPrice': None, 'SalePrice': '$219.95', 'ReviewCount': '1 reviews', 'Rating': '5.0'}, {'ProductURL': 'https://www.fast-growing-trees.com/products/self-watering-rim-planter', 'ProductName': 'Self-Watering Rim Planter', 'SubHeading': '', 'Availability': 'InStock', 'Category': '18\" Old Bronze', 'Pack': None, 'RegularPrice': None, 'SalePrice': '$219.95', 'ReviewCount': '1 reviews', 'Rating': '5.0'}, {'ProductURL': 'https://www.fast-growing-trees.com/products/self-watering-rim-planter', 'ProductName': 'Self-Watering Rim Planter', 'SubHeading': '', 'Availability': 'InStock', 'Category': '18\" Weathered Terracotta', 'Pack': None, 'RegularPrice': None, 'SalePrice': '$199.95', 'ReviewCount': '1 reviews', 'Rating': '5.0'}, {'ProductURL': 'https://www.fast-growing-trees.com/products/self-watering-rim-planter', 'ProductName': 'Self-Watering Rim Planter', 'SubHeading': '', 'Availability': 'InStock', 'Category': '22\" Alpine White', 'Pack': None, 'RegularPrice': None, 'SalePrice': '$299.95', 'ReviewCount': '1 reviews', 'Rating': '5.0'}, {'ProductURL': 'https://www.fast-growing-trees.com/products/self-watering-rim-planter', 'ProductName': 'Self-Watering Rim Planter', 'SubHeading': '', 'Availability': 'InStock', 'Category': '22\" Old Bronze', 'Pack': None, 'RegularPrice': None, 'SalePrice': '$299.95', 'ReviewCount': '1 reviews', 'Rating': '5.0'}, {'ProductURL': 'https://www.fast-growing-trees.com/products/self-watering-rim-planter', 'ProductName': 'Self-Watering Rim Planter', 'SubHeading': '', 'Availability': 'InStock', 'Category': '22\" Weathered Terracotta', 'Pack': None, 'RegularPrice': None, 'SalePrice': '$299.95', 'ReviewCount': '1 reviews', 'Rating': '5.0'}, {'ProductURL': 'https://www.fast-growing-trees.com/products/self-watering-rim-planter', 'ProductName': 'Self-Watering Rim Planter', 'SubHeading': '', 'Availability': 'InStock', 'Category': '26\" Alpine White', 'Pack': None, 'RegularPrice': None, 'SalePrice': '$349.95', 'ReviewCount': '1 reviews', 'Rating': '5.0'}, {'ProductURL': 'https://www.fast-growing-trees.com/products/self-watering-rim-planter', 'ProductName': 'Self-Watering Rim Planter', 'SubHeading': '', 'Availability': 'InStock', 'Category': '26\" Old Bronze', 'Pack': None, 'RegularPrice': None, 'SalePrice': '$349.95', 'ReviewCount': '1 reviews', 'Rating': '5.0'}, {'ProductURL': 'https://www.fast-growing-trees.com/products/self-watering-rim-planter', 'ProductName': 'Self-Watering Rim Planter', 'SubHeading': '', 'Availability': 'InStock', 'Category': '26\" Weathered Terracotta', 'Pack': None, 'RegularPrice': None, 'SalePrice': '$349.95', 'ReviewCount': '1 reviews', 'Rating': '5.0'}]\n",
      "https://www.fast-growing-trees.com/products/emerald-ice-green-hopbush\n"
     ]
    },
    {
     "name": "stderr",
     "output_type": "stream",
     "text": [
      "\r",
      "GettingInfo:  33%|██████████████████████                                             | 33/100 [05:23<17:31, 15.69s/URL]"
     ]
    },
    {
     "name": "stdout",
     "output_type": "stream",
     "text": [
      "[{'ProductURL': 'https://www.fast-growing-trees.com/products/emerald-ice-green-hopbush', 'ProductName': 'Emerald Ice Green Hopbush', 'SubHeading': \"Dodonaea viscosa 'Emerald Ice'\", 'Availability': 'InStock', 'Category': '5 gallon', 'Pack': None, 'RegularPrice': None, 'SalePrice': '$119.95', 'ReviewCount': '0 reviews', 'Rating': '0.0'}]\n",
      "https://www.fast-growing-trees.com/products/joan-lionetti-texas-live-oak\n"
     ]
    },
    {
     "name": "stderr",
     "output_type": "stream",
     "text": [
      "\r",
      "GettingInfo:  34%|██████████████████████▊                                            | 34/100 [05:34<15:45, 14.32s/URL]"
     ]
    },
    {
     "name": "stdout",
     "output_type": "stream",
     "text": [
      "[{'ProductURL': 'https://www.fast-growing-trees.com/products/joan-lionetti-texas-live-oak', 'ProductName': 'Joan Lionetti Texas Live Oak', 'SubHeading': \"Quercus virginiana x fusiformis 'Joan Lionetti'\", 'Availability': 'InStock', 'Category': '5 gallon', 'Pack': None, 'RegularPrice': None, 'SalePrice': '$309.95', 'ReviewCount': '2 reviews', 'Rating': '3.0'}, {'ProductURL': 'https://www.fast-growing-trees.com/products/joan-lionetti-texas-live-oak', 'ProductName': 'Joan Lionetti Texas Live Oak', 'SubHeading': \"Quercus virginiana x fusiformis 'Joan Lionetti'\", 'Availability': 'InStock', 'Category': '5-6 feet', 'Pack': None, 'RegularPrice': None, 'SalePrice': '$289.95', 'ReviewCount': '2 reviews', 'Rating': '3.0'}]\n",
      "https://www.fast-growing-trees.com/products/red-yucca-stoplights\n"
     ]
    },
    {
     "name": "stderr",
     "output_type": "stream",
     "text": [
      "\r",
      "GettingInfo:  35%|███████████████████████▍                                           | 35/100 [05:42<13:37, 12.57s/URL]"
     ]
    },
    {
     "name": "stdout",
     "output_type": "stream",
     "text": [
      "[{'ProductURL': 'https://www.fast-growing-trees.com/products/red-yucca-stoplights', 'ProductName': 'Dwarf Red Yucca Stoplights', 'SubHeading': \"Hesperaloe parviflora 'Stoplights'\", 'Availability': 'InStock', 'Category': '2 gallon', 'Pack': None, 'RegularPrice': None, 'SalePrice': '$179.95', 'ReviewCount': '0 reviews', 'Rating': '0.0'}]\n",
      "https://www.fast-growing-trees.com/products/tangerine-beauty-crossvine-az\n"
     ]
    },
    {
     "name": "stderr",
     "output_type": "stream",
     "text": [
      "\r",
      "GettingInfo:  36%|████████████████████████                                           | 36/100 [05:51<12:07, 11.37s/URL]"
     ]
    },
    {
     "name": "stdout",
     "output_type": "stream",
     "text": [
      "[{'ProductURL': 'https://www.fast-growing-trees.com/products/tangerine-beauty-crossvine-az', 'ProductName': 'Tangerine Beauty Crossvine', 'SubHeading': \"Bignonia capreolata 'Tangerine Beauty'\", 'Availability': 'InStock', 'Category': '5 gallon', 'Pack': None, 'RegularPrice': None, 'SalePrice': '$229.95', 'ReviewCount': '4 reviews', 'Rating': '5.0'}]\n",
      "https://www.fast-growing-trees.com/products/turboturf-ryegrass-seed\n"
     ]
    },
    {
     "name": "stderr",
     "output_type": "stream",
     "text": [
      "\r",
      "GettingInfo:  37%|████████████████████████▊                                          | 37/100 [05:57<10:26,  9.95s/URL]"
     ]
    },
    {
     "name": "stdout",
     "output_type": "stream",
     "text": [
      "[{'ProductURL': 'https://www.fast-growing-trees.com/products/turboturf-ryegrass-seed', 'ProductName': 'TurboTurf™ Perennial Ryegrass Seed', 'SubHeading': '', 'Availability': 'SoldOut', 'Category': None, 'Pack': None, 'RegularPrice': None, 'SalePrice': None, 'ReviewCount': '0 reviews', 'Rating': '5.0'}]\n",
      "https://www.fast-growing-trees.com/products/little-giant-red-yucca\n"
     ]
    },
    {
     "name": "stderr",
     "output_type": "stream",
     "text": [
      "\r",
      "GettingInfo:  38%|█████████████████████████▍                                         | 38/100 [06:06<09:57,  9.64s/URL]"
     ]
    },
    {
     "name": "stdout",
     "output_type": "stream",
     "text": [
      "[{'ProductURL': 'https://www.fast-growing-trees.com/products/little-giant-red-yucca', 'ProductName': 'Red Yucca Little Giant', 'SubHeading': \"Hesperaloe x funifera 'Little Giant'\", 'Availability': 'InStock', 'Category': '2 gallon', 'Pack': None, 'RegularPrice': None, 'SalePrice': '$179.95', 'ReviewCount': '0 reviews', 'Rating': '5.0'}]\n",
      "https://www.fast-growing-trees.com/products/sunshine-blue-blueberry-bush\n"
     ]
    },
    {
     "name": "stderr",
     "output_type": "stream",
     "text": [
      "\r",
      "GettingInfo:  39%|██████████████████████████▏                                        | 39/100 [06:15<09:30,  9.35s/URL]"
     ]
    },
    {
     "name": "stdout",
     "output_type": "stream",
     "text": [
      "[{'ProductURL': 'https://www.fast-growing-trees.com/products/sunshine-blue-blueberry-bush', 'ProductName': 'Sunshine Blue Blueberry Bush', 'SubHeading': \"Vaccinium x 'Sunshine Blue'\", 'Availability': 'InStock', 'Category': '2 gallon', 'Pack': None, 'RegularPrice': None, 'SalePrice': '$99.95', 'ReviewCount': '11 reviews', 'Rating': '5.0'}]\n",
      "https://www.fast-growing-trees.com/products/outback-sunrise-emu\n"
     ]
    },
    {
     "name": "stderr",
     "output_type": "stream",
     "text": [
      "\r",
      "GettingInfo:  40%|██████████████████████████▊                                        | 40/100 [06:24<09:10,  9.17s/URL]"
     ]
    },
    {
     "name": "stdout",
     "output_type": "stream",
     "text": [
      "[{'ProductURL': 'https://www.fast-growing-trees.com/products/outback-sunrise-emu', 'ProductName': 'Outback Sunrise Emu', 'SubHeading': 'Eremophila glabra ‘Mingenew Gold’', 'Availability': 'InStock', 'Category': '5 gallon', 'Pack': None, 'RegularPrice': None, 'SalePrice': '$119.95', 'ReviewCount': '0 reviews', 'Rating': '0.0'}]\n",
      "https://www.fast-growing-trees.com/products/sweet-bubba-seedless-desert-willow\n"
     ]
    },
    {
     "name": "stderr",
     "output_type": "stream",
     "text": [
      "\r",
      "GettingInfo:  41%|███████████████████████████▍                                       | 41/100 [06:35<09:36,  9.77s/URL]"
     ]
    },
    {
     "name": "stdout",
     "output_type": "stream",
     "text": [
      "[{'ProductURL': 'https://www.fast-growing-trees.com/products/sweet-bubba-seedless-desert-willow', 'ProductName': 'Sweet Bubba Seedless Desert Willow', 'SubHeading': \"Chilopsis linearis 'Sweet Bubba Seedless'\", 'Availability': 'InStock', 'Category': '5 gallon', 'Pack': None, 'RegularPrice': None, 'SalePrice': '$239.95', 'ReviewCount': '1 reviews', 'Rating': '5.0'}, {'ProductURL': 'https://www.fast-growing-trees.com/products/sweet-bubba-seedless-desert-willow', 'ProductName': 'Sweet Bubba Seedless Desert Willow', 'SubHeading': \"Chilopsis linearis 'Sweet Bubba Seedless'\", 'Availability': 'InStock', 'Category': '3-4 feet', 'Pack': None, 'RegularPrice': None, 'SalePrice': '$229.95', 'ReviewCount': '1 reviews', 'Rating': '5.0'}]\n",
      "https://www.fast-growing-trees.com/products/bubba-jones-desert-willow\n"
     ]
    },
    {
     "name": "stderr",
     "output_type": "stream",
     "text": [
      "\r",
      "GettingInfo:  42%|████████████████████████████▏                                      | 42/100 [06:46<09:48, 10.14s/URL]"
     ]
    },
    {
     "name": "stdout",
     "output_type": "stream",
     "text": [
      "[{'ProductURL': 'https://www.fast-growing-trees.com/products/bubba-jones-desert-willow', 'ProductName': 'Bubba Jones Desert Willow', 'SubHeading': \"Chilopsis linearis 'Bubba Jones'\", 'Availability': 'InStock', 'Category': '5 gallon', 'Pack': None, 'RegularPrice': None, 'SalePrice': '$229.95', 'ReviewCount': '0 reviews', 'Rating': '0.0'}, {'ProductURL': 'https://www.fast-growing-trees.com/products/bubba-jones-desert-willow', 'ProductName': 'Bubba Jones Desert Willow', 'SubHeading': \"Chilopsis linearis 'Bubba Jones'\", 'Availability': 'InStock', 'Category': '3-4 feet', 'Pack': None, 'RegularPrice': None, 'SalePrice': '$239.95', 'ReviewCount': '0 reviews', 'Rating': '0.0'}]\n",
      "https://www.fast-growing-trees.com/products/bubba-desert-willow\n"
     ]
    },
    {
     "name": "stderr",
     "output_type": "stream",
     "text": [
      "\r",
      "GettingInfo:  43%|████████████████████████████▊                                      | 43/100 [06:57<09:53, 10.42s/URL]"
     ]
    },
    {
     "name": "stdout",
     "output_type": "stream",
     "text": [
      "[{'ProductURL': 'https://www.fast-growing-trees.com/products/bubba-desert-willow', 'ProductName': 'Bubba Desert Willow', 'SubHeading': \"Chilopsis linearis 'Bubba'\", 'Availability': 'InStock', 'Category': '5 gallon', 'Pack': None, 'RegularPrice': None, 'SalePrice': '$239.95', 'ReviewCount': '0 reviews', 'Rating': '0.0'}, {'ProductURL': 'https://www.fast-growing-trees.com/products/bubba-desert-willow', 'ProductName': 'Bubba Desert Willow', 'SubHeading': \"Chilopsis linearis 'Bubba'\", 'Availability': 'InStock', 'Category': '3-4 feet', 'Pack': None, 'RegularPrice': None, 'SalePrice': '$229.95', 'ReviewCount': '0 reviews', 'Rating': '0.0'}]\n",
      "https://www.fast-growing-trees.com/products/lawn-care-kit\n"
     ]
    },
    {
     "name": "stderr",
     "output_type": "stream",
     "text": [
      "\r",
      "GettingInfo:  44%|█████████████████████████████▍                                     | 44/100 [07:06<09:14,  9.90s/URL]"
     ]
    },
    {
     "name": "stdout",
     "output_type": "stream",
     "text": [
      "[{'ProductURL': 'https://www.fast-growing-trees.com/products/lawn-care-kit', 'ProductName': 'Lawn Care Kit', 'SubHeading': '', 'Availability': 'InStock', 'Category': 'Yard Care Kit', 'Pack': None, 'RegularPrice': None, 'SalePrice': '$119.65', 'ReviewCount': '0 reviews', 'Rating': '0.0'}]\n",
      "https://www.fast-growing-trees.com/products/green-cloud-texas-sage\n"
     ]
    },
    {
     "name": "stderr",
     "output_type": "stream",
     "text": [
      "\r",
      "GettingInfo:  45%|██████████████████████████████▏                                    | 45/100 [07:14<08:45,  9.56s/URL]"
     ]
    },
    {
     "name": "stdout",
     "output_type": "stream",
     "text": [
      "[{'ProductURL': 'https://www.fast-growing-trees.com/products/green-cloud-texas-sage', 'ProductName': 'Green Cloud Texas Sage', 'SubHeading': \"Leucophyllum frutescens 'Green Cloud'\", 'Availability': 'InStock', 'Category': '5 gallon', 'Pack': None, 'RegularPrice': None, 'SalePrice': '$109.95', 'ReviewCount': '0 reviews', 'Rating': '0.0'}]\n",
      "https://www.fast-growing-trees.com/products/purple-rain-texas-sage\n"
     ]
    },
    {
     "name": "stderr",
     "output_type": "stream",
     "text": [
      "\r",
      "GettingInfo:  46%|██████████████████████████████▊                                    | 46/100 [07:26<09:02, 10.04s/URL]"
     ]
    },
    {
     "name": "stdout",
     "output_type": "stream",
     "text": [
      "[{'ProductURL': 'https://www.fast-growing-trees.com/products/purple-rain-texas-sage', 'ProductName': 'Purple Rain Texas Sage', 'SubHeading': \"Leucophyllum x laevigatum 'Purple Rain'\", 'Availability': 'InStock', 'Category': '2 gallon', 'Pack': None, 'RegularPrice': None, 'SalePrice': '$139.95', 'ReviewCount': '2 reviews', 'Rating': '4.5'}, {'ProductURL': 'https://www.fast-growing-trees.com/products/purple-rain-texas-sage', 'ProductName': 'Purple Rain Texas Sage', 'SubHeading': \"Leucophyllum x laevigatum 'Purple Rain'\", 'Availability': 'InStock', 'Category': '5 gallon', 'Pack': None, 'RegularPrice': None, 'SalePrice': '$169.95', 'ReviewCount': '2 reviews', 'Rating': '4.5'}]\n",
      "https://www.fast-growing-trees.com/products/san-antonio-rose-texas-sage\n"
     ]
    },
    {
     "name": "stderr",
     "output_type": "stream",
     "text": [
      "\r",
      "GettingInfo:  47%|███████████████████████████████▍                                   | 47/100 [07:34<08:29,  9.62s/URL]"
     ]
    },
    {
     "name": "stdout",
     "output_type": "stream",
     "text": [
      "[{'ProductURL': 'https://www.fast-growing-trees.com/products/san-antonio-rose-texas-sage', 'ProductName': 'San Antonio Rose Texas Sage', 'SubHeading': \"Leucophyllum frutescens 'San Antonio Rose'\", 'Availability': 'InStock', 'Category': '5 gallon', 'Pack': None, 'RegularPrice': None, 'SalePrice': '$129.95', 'ReviewCount': '0 reviews', 'Rating': '0.0'}]\n",
      "https://www.fast-growing-trees.com/products/house-plant-fertilizer-kit\n"
     ]
    },
    {
     "name": "stderr",
     "output_type": "stream",
     "text": [
      "\r",
      "GettingInfo:  48%|████████████████████████████████▏                                  | 48/100 [07:41<07:36,  8.78s/URL]"
     ]
    },
    {
     "name": "stdout",
     "output_type": "stream",
     "text": [
      "[{'ProductURL': 'https://www.fast-growing-trees.com/products/house-plant-fertilizer-kit', 'ProductName': 'House Plant Fertilizer Kit', 'SubHeading': '', 'Availability': 'InStock', 'Category': 'House Plant Care Kit', 'Pack': None, 'RegularPrice': '$30.80', 'SalePrice': '$29.95', 'ReviewCount': '0 reviews', 'Rating': '0.0'}]\n",
      "https://www.fast-growing-trees.com/products/pink-orchid-garden\n"
     ]
    },
    {
     "name": "stderr",
     "output_type": "stream",
     "text": [
      "\r",
      "GettingInfo:  49%|████████████████████████████████▊                                  | 49/100 [07:50<07:25,  8.73s/URL]"
     ]
    },
    {
     "name": "stdout",
     "output_type": "stream",
     "text": [
      "[{'ProductURL': 'https://www.fast-growing-trees.com/products/pink-orchid-garden', 'ProductName': '4-Inch Pink Orchid Garden', 'SubHeading': 'Phalenopsis', 'Availability': 'InStock', 'Category': '4 inch', 'Pack': None, 'RegularPrice': None, 'SalePrice': '$69.95', 'ReviewCount': '0 reviews', 'Rating': '0.0'}]\n",
      "https://www.fast-growing-trees.com/products/orchid-garden-multi\n"
     ]
    },
    {
     "name": "stderr",
     "output_type": "stream",
     "text": [
      "\r",
      "GettingInfo:  50%|█████████████████████████████████▌                                 | 50/100 [08:06<09:09, 11.00s/URL]"
     ]
    },
    {
     "name": "stdout",
     "output_type": "stream",
     "text": [
      "[{'ProductURL': 'https://www.fast-growing-trees.com/products/orchid-garden-multi', 'ProductName': '10-Inch Orchid Garden', 'SubHeading': 'Phalaenopsis', 'Availability': 'InStock', 'Category': 'Purple', 'Pack': None, 'RegularPrice': None, 'SalePrice': '$109.95', 'ReviewCount': '3 reviews', 'Rating': '5.0'}, {'ProductURL': 'https://www.fast-growing-trees.com/products/orchid-garden-multi', 'ProductName': '10-Inch Orchid Garden', 'SubHeading': 'Phalaenopsis', 'Availability': 'InStock', 'Category': 'White', 'Pack': None, 'RegularPrice': None, 'SalePrice': '$99.95', 'ReviewCount': '3 reviews', 'Rating': '5.0'}, {'ProductURL': 'https://www.fast-growing-trees.com/products/orchid-garden-multi', 'ProductName': '10-Inch Orchid Garden', 'SubHeading': 'Phalaenopsis', 'Availability': 'InStock', 'Category': 'Salmon', 'Pack': None, 'RegularPrice': None, 'SalePrice': '$99.95', 'ReviewCount': '3 reviews', 'Rating': '5.0'}, {'ProductURL': 'https://www.fast-growing-trees.com/products/orchid-garden-multi', 'ProductName': '10-Inch Orchid Garden', 'SubHeading': 'Phalaenopsis', 'Availability': 'InStock', 'Category': 'Blue Watercolor', 'Pack': None, 'RegularPrice': None, 'SalePrice': '$129.95', 'ReviewCount': '3 reviews', 'Rating': '5.0'}]\n",
      "https://www.fast-growing-trees.com/products/apple-pollinator-pack\n"
     ]
    },
    {
     "name": "stderr",
     "output_type": "stream",
     "text": [
      "\r",
      "GettingInfo:  51%|██████████████████████████████████▏                                | 51/100 [08:15<08:26, 10.33s/URL]"
     ]
    },
    {
     "name": "stdout",
     "output_type": "stream",
     "text": [
      "[{'ProductURL': 'https://www.fast-growing-trees.com/products/apple-pollinator-pack', 'ProductName': 'Apple Pollinator Pack', 'SubHeading': \"Malus pumila 'MN#1711', Malus domestica 'Gala', Malus domestica 'Red Delicious'\", 'Availability': 'InStock', 'Category': 'Honeycrisp and Red Delicious Pack', 'Pack': None, 'RegularPrice': None, 'SalePrice': '$279.95', 'ReviewCount': '4 reviews', 'Rating': '5.0'}]\n",
      "https://www.fast-growing-trees.com/products/orchard-kit\n"
     ]
    },
    {
     "name": "stderr",
     "output_type": "stream",
     "text": [
      "\r",
      "GettingInfo:  52%|██████████████████████████████████▊                                | 52/100 [08:21<07:24,  9.25s/URL]"
     ]
    },
    {
     "name": "stdout",
     "output_type": "stream",
     "text": [
      "[{'ProductURL': 'https://www.fast-growing-trees.com/products/orchard-kit', 'ProductName': 'Orchard Kit', 'SubHeading': \"Malus sp., Prunus avium 'Stella', Prunus persica 'Early Elberta', Pyrus serotina 'D'Anjou'\", 'Availability': 'SoldOut', 'Category': None, 'Pack': None, 'RegularPrice': None, 'SalePrice': None, 'ReviewCount': '3 reviews', 'Rating': '4.2'}]\n",
      "https://www.fast-growing-trees.com/products/warm-climate-fall-color-kit\n"
     ]
    },
    {
     "name": "stderr",
     "output_type": "stream",
     "text": [
      "\r",
      "GettingInfo:  53%|███████████████████████████████████▌                               | 53/100 [08:28<06:34,  8.39s/URL]"
     ]
    },
    {
     "name": "stdout",
     "output_type": "stream",
     "text": [
      "[{'ProductURL': 'https://www.fast-growing-trees.com/products/warm-climate-fall-color-kit', 'ProductName': 'Warm-Climate Fall Color Kit', 'SubHeading': \"Euonymus alatus, Pistachia Chinensis, Loropetalum chinense 'Ruby,' Nandina domestica 'Fire Power'\", 'Availability': 'SoldOut', 'Category': None, 'Pack': None, 'RegularPrice': None, 'SalePrice': None, 'ReviewCount': '0 reviews', 'Rating': '0.0'}]\n",
      "https://www.fast-growing-trees.com/products/cherry-pollinator-pack\n"
     ]
    },
    {
     "name": "stderr",
     "output_type": "stream",
     "text": [
      "\r",
      "GettingInfo:  54%|████████████████████████████████████▏                              | 54/100 [08:35<06:06,  7.98s/URL]"
     ]
    },
    {
     "name": "stdout",
     "output_type": "stream",
     "text": [
      "[{'ProductURL': 'https://www.fast-growing-trees.com/products/cherry-pollinator-pack', 'ProductName': 'Cherry Pollinator Pack', 'SubHeading': \"Prunus avium 'Lapins'; Prunus avium 'Bing'\", 'Availability': 'SoldOut', 'Category': None, 'Pack': None, 'RegularPrice': None, 'SalePrice': None, 'ReviewCount': '1 reviews', 'Rating': '5.0'}]\n",
      "https://www.fast-growing-trees.com/products/organic-bay-laurel\n"
     ]
    },
    {
     "name": "stderr",
     "output_type": "stream",
     "text": [
      "\r",
      "GettingInfo:  55%|████████████████████████████████████▊                              | 55/100 [08:43<06:07,  8.16s/URL]"
     ]
    },
    {
     "name": "stdout",
     "output_type": "stream",
     "text": [
      "[{'ProductURL': 'https://www.fast-growing-trees.com/products/organic-bay-laurel', 'ProductName': 'Bay Laurel - USDA Organic', 'SubHeading': 'Laurus nobilis', 'Availability': 'InStock', 'Category': '1 quart', 'Pack': None, 'RegularPrice': None, 'SalePrice': '$44.95', 'ReviewCount': '17 reviews', 'Rating': '4.6'}]\n",
      "https://www.fast-growing-trees.com/products/calathea-rattlesnake\n"
     ]
    },
    {
     "name": "stderr",
     "output_type": "stream",
     "text": [
      "\r",
      "GettingInfo:  56%|█████████████████████████████████████▌                             | 56/100 [08:50<05:44,  7.83s/URL]"
     ]
    },
    {
     "name": "stdout",
     "output_type": "stream",
     "text": [
      "[{'ProductURL': 'https://www.fast-growing-trees.com/products/calathea-rattlesnake', 'ProductName': 'Calathea Rattlesnake with Decorative Pot', 'SubHeading': 'Calathea lancifolia', 'Availability': 'SoldOut', 'Category': None, 'Pack': None, 'RegularPrice': None, 'SalePrice': None, 'ReviewCount': '1 reviews', 'Rating': '5.0'}]\n",
      "https://www.fast-growing-trees.com/products/pink-anthurium\n"
     ]
    },
    {
     "name": "stderr",
     "output_type": "stream",
     "text": [
      "\r",
      "GettingInfo:  57%|██████████████████████████████████████▏                            | 57/100 [08:59<05:44,  8.00s/URL]"
     ]
    },
    {
     "name": "stdout",
     "output_type": "stream",
     "text": [
      "[{'ProductURL': 'https://www.fast-growing-trees.com/products/pink-anthurium', 'ProductName': 'Pink Anthurium', 'SubHeading': \"Anthurium 'Sweet Dream Pink'\", 'Availability': 'InStock', 'Category': 'Pink Anthurium', 'Pack': None, 'RegularPrice': None, 'SalePrice': '$64.95', 'ReviewCount': '0 reviews', 'Rating': '5.0'}]\n",
      "https://www.fast-growing-trees.com/products/mini-orchid\n"
     ]
    },
    {
     "name": "stderr",
     "output_type": "stream",
     "text": [
      "\r",
      "GettingInfo:  58%|██████████████████████████████████████▊                            | 58/100 [09:11<06:25,  9.19s/URL]"
     ]
    },
    {
     "name": "stdout",
     "output_type": "stream",
     "text": [
      "[{'ProductURL': 'https://www.fast-growing-trees.com/products/mini-orchid', 'ProductName': 'Mini Orchid', 'SubHeading': 'Phalaenopsis', 'Availability': 'InStock', 'Category': 'Pink', 'Pack': None, 'RegularPrice': None, 'SalePrice': '$54.95', 'ReviewCount': '0 reviews', 'Rating': '0.0'}, {'ProductURL': 'https://www.fast-growing-trees.com/products/mini-orchid', 'ProductName': 'Mini Orchid', 'SubHeading': 'Phalaenopsis', 'Availability': 'InStock', 'Category': 'Purple', 'Pack': None, 'RegularPrice': None, 'SalePrice': '$59.95', 'ReviewCount': '0 reviews', 'Rating': '0.0'}]\n",
      "https://www.fast-growing-trees.com/products/5-premium-orchid\n"
     ]
    },
    {
     "name": "stderr",
     "output_type": "stream",
     "text": [
      "\r",
      "GettingInfo:  59%|███████████████████████████████████████▌                           | 59/100 [09:25<07:18, 10.69s/URL]"
     ]
    },
    {
     "name": "stdout",
     "output_type": "stream",
     "text": [
      "[{'ProductURL': 'https://www.fast-growing-trees.com/products/5-premium-orchid', 'ProductName': '5-Inch Premium Orchid', 'SubHeading': 'Phalaenopsis', 'Availability': 'InStock', 'Category': 'White Orchid with 2+ Stems', 'Pack': None, 'RegularPrice': None, 'SalePrice': '$69.95', 'ReviewCount': '0 reviews', 'Rating': '0.0'}, {'ProductURL': 'https://www.fast-growing-trees.com/products/5-premium-orchid', 'ProductName': '5-Inch Premium Orchid', 'SubHeading': 'Phalaenopsis', 'Availability': 'InStock', 'Category': 'Purple Orchid with 2+ Stems', 'Pack': None, 'RegularPrice': None, 'SalePrice': '$64.95', 'ReviewCount': '0 reviews', 'Rating': '0.0'}, {'ProductURL': 'https://www.fast-growing-trees.com/products/5-premium-orchid', 'ProductName': '5-Inch Premium Orchid', 'SubHeading': 'Phalaenopsis', 'Availability': 'InStock', 'Category': 'Blue Watercolor Orchid with 2+ Stems', 'Pack': None, 'RegularPrice': None, 'SalePrice': '$94.95', 'ReviewCount': '0 reviews', 'Rating': '0.0'}]\n",
      "https://www.fast-growing-trees.com/products/chelan-cherry-tree\n"
     ]
    },
    {
     "name": "stderr",
     "output_type": "stream",
     "text": [
      "\r",
      "GettingInfo:  60%|████████████████████████████████████████▏                          | 60/100 [09:36<07:08, 10.71s/URL]"
     ]
    },
    {
     "name": "stdout",
     "output_type": "stream",
     "text": [
      "[{'ProductURL': 'https://www.fast-growing-trees.com/products/chelan-cherry-tree', 'ProductName': 'Chelan Cherry Tree', 'SubHeading': \"Prunus avium 'Chelan'\", 'Availability': 'InStock', 'Category': '3-4 feet', 'Pack': None, 'RegularPrice': '$159.95', 'SalePrice': '$109.95', 'ReviewCount': '3 reviews', 'Rating': '5.0'}, {'ProductURL': 'https://www.fast-growing-trees.com/products/chelan-cherry-tree', 'ProductName': 'Chelan Cherry Tree', 'SubHeading': \"Prunus avium 'Chelan'\", 'Availability': 'InStock', 'Category': '4-5 feet', 'Pack': None, 'RegularPrice': None, 'SalePrice': '$219.95', 'ReviewCount': '3 reviews', 'Rating': '5.0'}, {'ProductURL': 'https://www.fast-growing-trees.com/products/chelan-cherry-tree', 'ProductName': 'Chelan Cherry Tree', 'SubHeading': \"Prunus avium 'Chelan'\", 'Availability': 'InStock', 'Category': '5-6 ft.', 'Pack': None, 'RegularPrice': None, 'SalePrice': '$229.95', 'ReviewCount': '3 reviews', 'Rating': '5.0'}]\n",
      "https://www.fast-growing-trees.com/products/zz-plant-decorative\n"
     ]
    },
    {
     "name": "stderr",
     "output_type": "stream",
     "text": [
      "\r",
      "GettingInfo:  61%|████████████████████████████████████████▊                          | 61/100 [09:46<06:57, 10.72s/URL]"
     ]
    },
    {
     "name": "stdout",
     "output_type": "stream",
     "text": [
      "[{'ProductURL': 'https://www.fast-growing-trees.com/products/zz-plant-decorative', 'ProductName': '5-Inch ZZ Plant in Decorative Pot', 'SubHeading': 'Zamioculcas zamiifolia', 'Availability': 'InStock', 'Category': '5 Inch Wood Pot', 'Pack': None, 'RegularPrice': None, 'SalePrice': '$69.95', 'ReviewCount': '1 reviews', 'Rating': '5.0'}, {'ProductURL': 'https://www.fast-growing-trees.com/products/zz-plant-decorative', 'ProductName': '5-Inch ZZ Plant in Decorative Pot', 'SubHeading': 'Zamioculcas zamiifolia', 'Availability': 'InStock', 'Category': '5 Inch Jute Pot', 'Pack': None, 'RegularPrice': None, 'SalePrice': '$64.95', 'ReviewCount': '1 reviews', 'Rating': '5.0'}]\n",
      "https://www.fast-growing-trees.com/products/bromeliad-decorative\n"
     ]
    },
    {
     "name": "stderr",
     "output_type": "stream",
     "text": [
      "\r",
      "GettingInfo:  62%|█████████████████████████████████████████▌                         | 62/100 [09:59<07:08, 11.29s/URL]"
     ]
    },
    {
     "name": "stdout",
     "output_type": "stream",
     "text": [
      "[{'ProductURL': 'https://www.fast-growing-trees.com/products/bromeliad-decorative', 'ProductName': '5-Inch Bromeliad in Decorative Pot', 'SubHeading': \"Tillandsia 'Antonio', Vriesea 'Intenso Orange'\", 'Availability': 'InStock', 'Category': 'Pink Bromeliad', 'Pack': None, 'RegularPrice': None, 'SalePrice': '$69.95', 'ReviewCount': '3 reviews', 'Rating': '5.0'}, {'ProductURL': 'https://www.fast-growing-trees.com/products/bromeliad-decorative', 'ProductName': '5-Inch Bromeliad in Decorative Pot', 'SubHeading': \"Tillandsia 'Antonio', Vriesea 'Intenso Orange'\", 'Availability': 'InStock', 'Category': 'Orange Bromeliad', 'Pack': None, 'RegularPrice': None, 'SalePrice': '$64.95', 'ReviewCount': '3 reviews', 'Rating': '5.0'}]\n",
      "https://www.fast-growing-trees.com/products/penta-almond-tree\n"
     ]
    },
    {
     "name": "stderr",
     "output_type": "stream",
     "text": [
      "\r",
      "GettingInfo:  63%|██████████████████████████████████████████▏                        | 63/100 [10:13<07:22, 11.95s/URL]"
     ]
    },
    {
     "name": "stdout",
     "output_type": "stream",
     "text": [
      "[{'ProductURL': 'https://www.fast-growing-trees.com/products/penta-almond-tree', 'ProductName': 'Penta Almond Tree', 'SubHeading': \"Prunus dulcis 'Penta'\", 'Availability': 'InStock', 'Category': '3-4 feet', 'Pack': None, 'RegularPrice': None, 'SalePrice': '$159.95', 'ReviewCount': '4 reviews', 'Rating': '5.0'}, {'ProductURL': 'https://www.fast-growing-trees.com/products/penta-almond-tree', 'ProductName': 'Penta Almond Tree', 'SubHeading': \"Prunus dulcis 'Penta'\", 'Availability': 'InStock', 'Category': '4-5 feet', 'Pack': None, 'RegularPrice': None, 'SalePrice': '$179.95', 'ReviewCount': '4 reviews', 'Rating': '5.0'}, {'ProductURL': 'https://www.fast-growing-trees.com/products/penta-almond-tree', 'ProductName': 'Penta Almond Tree', 'SubHeading': \"Prunus dulcis 'Penta'\", 'Availability': 'InStock', 'Category': '5-6 feet', 'Pack': None, 'RegularPrice': None, 'SalePrice': '$209.95', 'ReviewCount': '4 reviews', 'Rating': '5.0'}]\n",
      "https://www.fast-growing-trees.com/products/cold-hardy-winter-interest-kit\n"
     ]
    },
    {
     "name": "stderr",
     "output_type": "stream",
     "text": [
      "\r",
      "GettingInfo:  64%|██████████████████████████████████████████▉                        | 64/100 [10:19<06:14, 10.40s/URL]"
     ]
    },
    {
     "name": "stdout",
     "output_type": "stream",
     "text": [
      "[{'ProductURL': 'https://www.fast-growing-trees.com/products/cold-hardy-winter-interest-kit', 'ProductName': 'Cold-Hardy Winter Interest Kit', 'SubHeading': \"Picea pungens 'Fat Albert'; Cornus sericea; Buxus Sinica; Rhododendron x Nova Zembla\", 'Availability': 'SoldOut', 'Category': None, 'Pack': None, 'RegularPrice': None, 'SalePrice': None, 'ReviewCount': '0 reviews', 'Rating': '0.0'}]\n",
      "https://www.fast-growing-trees.com/products/alocasia-with-decorative-pot\n"
     ]
    },
    {
     "name": "stderr",
     "output_type": "stream",
     "text": [
      "\r",
      "GettingInfo:  65%|███████████████████████████████████████████▌                       | 65/100 [10:25<05:14,  8.99s/URL]"
     ]
    },
    {
     "name": "stdout",
     "output_type": "stream",
     "text": [
      "[{'ProductURL': 'https://www.fast-growing-trees.com/products/alocasia-with-decorative-pot', 'ProductName': 'Alocasia Polly with Decorative Pot', 'SubHeading': \"Alocasia amazonica 'Polly'\", 'Availability': 'SoldOut', 'Category': None, 'Pack': None, 'RegularPrice': None, 'SalePrice': None, 'ReviewCount': '1 reviews', 'Rating': '5.0'}]\n",
      "https://www.fast-growing-trees.com/products/splash-amaryllis-in-white-pot\n"
     ]
    },
    {
     "name": "stderr",
     "output_type": "stream",
     "text": [
      "\r",
      "GettingInfo:  66%|████████████████████████████████████████████▏                      | 66/100 [10:33<04:53,  8.65s/URL]"
     ]
    },
    {
     "name": "stdout",
     "output_type": "stream",
     "text": [
      "[{'ProductURL': 'https://www.fast-growing-trees.com/products/splash-amaryllis-in-white-pot', 'ProductName': 'Splash Amaryllis in White Pot', 'SubHeading': 'Hippeastrum ‘Splash’', 'Availability': 'InStock', 'Category': '6 inch', 'Pack': None, 'RegularPrice': None, 'SalePrice': '$54.95', 'ReviewCount': '1 reviews', 'Rating': '5.0'}]\n",
      "https://www.fast-growing-trees.com/products/zebra-plant-decorative\n"
     ]
    },
    {
     "name": "stderr",
     "output_type": "stream",
     "text": [
      "\r",
      "GettingInfo:  67%|████████████████████████████████████████████▉                      | 67/100 [10:43<05:02,  9.16s/URL]"
     ]
    },
    {
     "name": "stdout",
     "output_type": "stream",
     "text": [
      "[{'ProductURL': 'https://www.fast-growing-trees.com/products/zebra-plant-decorative', 'ProductName': 'Zebra Plant in Decorative Pot', 'SubHeading': \"Vriesea 'Splinriet'\", 'Availability': 'InStock', 'Category': 'Wood Pot', 'Pack': None, 'RegularPrice': None, 'SalePrice': '$64.95', 'ReviewCount': '0 reviews', 'Rating': '0.0'}, {'ProductURL': 'https://www.fast-growing-trees.com/products/zebra-plant-decorative', 'ProductName': 'Zebra Plant in Decorative Pot', 'SubHeading': \"Vriesea 'Splinriet'\", 'Availability': 'InStock', 'Category': 'Jute Pot', 'Pack': None, 'RegularPrice': None, 'SalePrice': '$69.95', 'ReviewCount': '0 reviews', 'Rating': '0.0'}]\n",
      "https://www.fast-growing-trees.com/products/5-inch-coffee-plant-in-decorative-pot\n"
     ]
    },
    {
     "name": "stderr",
     "output_type": "stream",
     "text": [
      "\r",
      "GettingInfo:  68%|█████████████████████████████████████████████▌                     | 68/100 [10:49<04:18,  8.09s/URL]"
     ]
    },
    {
     "name": "stdout",
     "output_type": "stream",
     "text": [
      "[{'ProductURL': 'https://www.fast-growing-trees.com/products/5-inch-coffee-plant-in-decorative-pot', 'ProductName': 'Coffee Plant in Decorative Pot', 'SubHeading': 'Coffee arabica', 'Availability': 'SoldOut', 'Category': None, 'Pack': None, 'RegularPrice': None, 'SalePrice': None, 'ReviewCount': '2 reviews', 'Rating': '5.0'}]\n",
      "https://www.fast-growing-trees.com/products/sunshine-nymph-amaryllis-copper\n"
     ]
    },
    {
     "name": "stderr",
     "output_type": "stream",
     "text": [
      "\r",
      "GettingInfo:  69%|██████████████████████████████████████████████▏                    | 69/100 [10:58<04:22,  8.45s/URL]"
     ]
    },
    {
     "name": "stdout",
     "output_type": "stream",
     "text": [
      "[{'ProductURL': 'https://www.fast-growing-trees.com/products/sunshine-nymph-amaryllis-copper', 'ProductName': 'Sunshine Nymph Amaryllis in Copper Pot', 'SubHeading': \"Hippeastrum 'Sunshine Nymph' \", 'Availability': 'InStock', 'Category': '6 inch', 'Pack': None, 'RegularPrice': None, 'SalePrice': '$44.95', 'ReviewCount': '3 reviews', 'Rating': '4.0'}]\n",
      "https://www.fast-growing-trees.com/products/belle-of-georgia-peach-tree\n"
     ]
    },
    {
     "name": "stderr",
     "output_type": "stream",
     "text": [
      "\r",
      "GettingInfo:  70%|██████████████████████████████████████████████▉                    | 70/100 [11:06<04:08,  8.29s/URL]"
     ]
    },
    {
     "name": "stdout",
     "output_type": "stream",
     "text": [
      "[{'ProductURL': 'https://www.fast-growing-trees.com/products/belle-of-georgia-peach-tree', 'ProductName': 'Belle of Georgia Peach Tree', 'SubHeading': 'Prunus persica ‘Belle of Georgia’', 'Availability': 'InStock', 'Category': '4-5 ft.', 'Pack': None, 'RegularPrice': None, 'SalePrice': '$129.95', 'ReviewCount': '0 reviews', 'Rating': '5.0'}]\n",
      "https://www.fast-growing-trees.com/products/harcot-apricot\n"
     ]
    },
    {
     "name": "stderr",
     "output_type": "stream",
     "text": [
      "\r",
      "GettingInfo:  71%|███████████████████████████████████████████████▌                   | 71/100 [11:14<03:58,  8.22s/URL]"
     ]
    },
    {
     "name": "stdout",
     "output_type": "stream",
     "text": [
      "[{'ProductURL': 'https://www.fast-growing-trees.com/products/harcot-apricot', 'ProductName': 'Harcot Apricot Tree', 'SubHeading': \"Prunus armeniaca 'Harcot'\", 'Availability': 'InStock', 'Category': '5-6 feet', 'Pack': None, 'RegularPrice': None, 'SalePrice': '$209.95', 'ReviewCount': '7 reviews', 'Rating': '4.6'}]\n",
      "https://www.fast-growing-trees.com/products/willamette-red-raspberry-bush\n"
     ]
    },
    {
     "name": "stderr",
     "output_type": "stream",
     "text": [
      "\r",
      "GettingInfo:  72%|████████████████████████████████████████████████▏                  | 72/100 [11:24<03:59,  8.56s/URL]"
     ]
    },
    {
     "name": "stdout",
     "output_type": "stream",
     "text": [
      "[{'ProductURL': 'https://www.fast-growing-trees.com/products/willamette-red-raspberry-bush', 'ProductName': 'Willamette Red Raspberry Bush', 'SubHeading': \"Rubus idaeus var. strigosus 'Willamette'\", 'Availability': 'InStock', 'Category': '2 gallon', 'Pack': None, 'RegularPrice': None, 'SalePrice': '$109.95', 'ReviewCount': '3 reviews', 'Rating': '5.0'}]\n",
      "https://www.fast-growing-trees.com/products/black-satin-thornless-blackberry\n"
     ]
    },
    {
     "name": "stderr",
     "output_type": "stream",
     "text": [
      "\r",
      "GettingInfo:  73%|████████████████████████████████████████████████▉                  | 73/100 [11:32<03:47,  8.44s/URL]"
     ]
    },
    {
     "name": "stdout",
     "output_type": "stream",
     "text": [
      "[{'ProductURL': 'https://www.fast-growing-trees.com/products/black-satin-thornless-blackberry', 'ProductName': 'Black Satin Thornless Blackberry', 'SubHeading': \"Rubus 'Black Satin'\", 'Availability': 'InStock', 'Category': '2 gallon', 'Pack': None, 'RegularPrice': None, 'SalePrice': '$109.95', 'ReviewCount': '4 reviews', 'Rating': '5.0'}]\n",
      "https://www.fast-growing-trees.com/products/sharpblue-blueberry-bush\n"
     ]
    },
    {
     "name": "stderr",
     "output_type": "stream",
     "text": [
      "\r",
      "GettingInfo:  74%|█████████████████████████████████████████████████▌                 | 74/100 [11:40<03:36,  8.34s/URL]"
     ]
    },
    {
     "name": "stdout",
     "output_type": "stream",
     "text": [
      "[{'ProductURL': 'https://www.fast-growing-trees.com/products/sharpblue-blueberry-bush', 'ProductName': 'Sharpblue Blueberry Bush', 'SubHeading': \"Vaccinium corymbosum hybrid 'Sharpblue'\", 'Availability': 'InStock', 'Category': '2 gallon', 'Pack': None, 'RegularPrice': None, 'SalePrice': '$109.95', 'ReviewCount': '2 reviews', 'Rating': '5.0'}]\n",
      "https://www.fast-growing-trees.com/products/skeena-cherry-tree\n"
     ]
    },
    {
     "name": "stderr",
     "output_type": "stream",
     "text": [
      "\r",
      "GettingInfo:  75%|██████████████████████████████████████████████████▎                | 75/100 [11:49<03:35,  8.63s/URL]"
     ]
    },
    {
     "name": "stdout",
     "output_type": "stream",
     "text": [
      "[{'ProductURL': 'https://www.fast-growing-trees.com/products/skeena-cherry-tree', 'ProductName': 'Skeena Cherry Tree', 'SubHeading': \"Prunus avium 'Skeena'\", 'Availability': 'InStock', 'Category': '3-4 feet', 'Pack': None, 'RegularPrice': None, 'SalePrice': '$179.95', 'ReviewCount': '4 reviews', 'Rating': '5.0'}, {'ProductURL': 'https://www.fast-growing-trees.com/products/skeena-cherry-tree', 'ProductName': 'Skeena Cherry Tree', 'SubHeading': \"Prunus avium 'Skeena'\", 'Availability': 'InStock', 'Category': '4-5 feet', 'Pack': None, 'RegularPrice': '$179.95', 'SalePrice': '$119.95', 'ReviewCount': '4 reviews', 'Rating': '5.0'}, {'ProductURL': 'https://www.fast-growing-trees.com/products/skeena-cherry-tree', 'ProductName': 'Skeena Cherry Tree', 'SubHeading': \"Prunus avium 'Skeena'\", 'Availability': 'InStock', 'Category': '5-6 feet', 'Pack': None, 'RegularPrice': '$229.95', 'SalePrice': '$179.95', 'ReviewCount': '4 reviews', 'Rating': '5.0'}]\n",
      "https://www.fast-growing-trees.com/products/reveille-blueberry-bush\n"
     ]
    },
    {
     "name": "stderr",
     "output_type": "stream",
     "text": [
      "\r",
      "GettingInfo:  76%|██████████████████████████████████████████████████▉                | 76/100 [11:56<03:16,  8.20s/URL]"
     ]
    },
    {
     "name": "stdout",
     "output_type": "stream",
     "text": [
      "[{'ProductURL': 'https://www.fast-growing-trees.com/products/reveille-blueberry-bush', 'ProductName': 'Reveille Blueberry Bush', 'SubHeading': \"Vaccinium 'Reveille'\", 'Availability': 'SoldOut', 'Category': None, 'Pack': None, 'RegularPrice': None, 'SalePrice': None, 'ReviewCount': '0 reviews', 'Rating': '0.0'}]\n",
      "https://www.fast-growing-trees.com/products/jewel-blueberry-bush\n"
     ]
    },
    {
     "name": "stderr",
     "output_type": "stream",
     "text": [
      "\r",
      "GettingInfo:  77%|███████████████████████████████████████████████████▌               | 77/100 [12:06<03:20,  8.73s/URL]"
     ]
    },
    {
     "name": "stdout",
     "output_type": "stream",
     "text": [
      "[{'ProductURL': 'https://www.fast-growing-trees.com/products/jewel-blueberry-bush', 'ProductName': 'Jewel Blueberry Bush', 'SubHeading': 'Vaccinium corymbosum sp.', 'Availability': 'InStock', 'Category': '2 gallon', 'Pack': None, 'RegularPrice': None, 'SalePrice': '$99.95', 'ReviewCount': '4 reviews', 'Rating': '4.8'}]\n",
      "https://www.fast-growing-trees.com/products/emerald-blueberry-bush\n"
     ]
    },
    {
     "name": "stderr",
     "output_type": "stream",
     "text": [
      "\r",
      "GettingInfo:  78%|████████████████████████████████████████████████████▎              | 78/100 [12:13<02:58,  8.09s/URL]"
     ]
    },
    {
     "name": "stdout",
     "output_type": "stream",
     "text": [
      "[{'ProductURL': 'https://www.fast-growing-trees.com/products/emerald-blueberry-bush', 'ProductName': 'Emerald Blueberry Bush', 'SubHeading': \"Vaccinium x 'Emerald’\", 'Availability': 'InStock', 'Category': '2 gallon', 'Pack': None, 'RegularPrice': '$89.95', 'SalePrice': '$79.95', 'ReviewCount': '4 reviews', 'Rating': '4.8'}]\n",
      "https://www.fast-growing-trees.com/products/biloxi-blueberry-bush\n"
     ]
    },
    {
     "name": "stderr",
     "output_type": "stream",
     "text": [
      "\r",
      "GettingInfo:  79%|████████████████████████████████████████████████████▉              | 79/100 [12:22<02:58,  8.49s/URL]"
     ]
    },
    {
     "name": "stdout",
     "output_type": "stream",
     "text": [
      "[{'ProductURL': 'https://www.fast-growing-trees.com/products/biloxi-blueberry-bush', 'ProductName': 'Biloxi Blueberry Bush', 'SubHeading': \"Vaccinium corymbosum hybrid 'Biloxi'\", 'Availability': 'InStock', 'Category': '2 gallon', 'Pack': None, 'RegularPrice': None, 'SalePrice': '$109.95', 'ReviewCount': '0 reviews', 'Rating': '0.0'}]\n",
      "https://www.fast-growing-trees.com/products/tree-shrub-rose-garden-soil\n"
     ]
    },
    {
     "name": "stderr",
     "output_type": "stream",
     "text": [
      "\r",
      "GettingInfo:  80%|█████████████████████████████████████████████████████▌             | 80/100 [12:28<02:34,  7.73s/URL]"
     ]
    },
    {
     "name": "stdout",
     "output_type": "stream",
     "text": [
      "[{'ProductURL': 'https://www.fast-growing-trees.com/products/tree-shrub-rose-garden-soil', 'ProductName': 'Tree, Shrub & Rose Garden Soil', 'SubHeading': '', 'Availability': 'SoldOut', 'Category': None, 'Pack': None, 'RegularPrice': None, 'SalePrice': None, 'ReviewCount': '3 reviews', 'Rating': '3.7'}]\n",
      "https://www.fast-growing-trees.com/products/zestar-apple-tree\n"
     ]
    },
    {
     "name": "stderr",
     "output_type": "stream",
     "text": [
      "\r",
      "GettingInfo:  81%|██████████████████████████████████████████████████████▎            | 81/100 [12:38<02:38,  8.33s/URL]"
     ]
    },
    {
     "name": "stdout",
     "output_type": "stream",
     "text": [
      "[{'ProductURL': 'https://www.fast-growing-trees.com/products/zestar-apple-tree', 'ProductName': 'Zestar Apple Tree', 'SubHeading': \"MaluMalus x domestica 'Minnewashta'\", 'Availability': 'InStock', 'Category': '6-7 ft.', 'Pack': None, 'RegularPrice': None, 'SalePrice': '$139.95', 'ReviewCount': '0 reviews', 'Rating': '3.0'}]\n",
      "https://www.fast-growing-trees.com/products/polly-peach-tree\n"
     ]
    },
    {
     "name": "stderr",
     "output_type": "stream",
     "text": [
      "\r",
      "GettingInfo:  82%|██████████████████████████████████████████████████████▉            | 82/100 [12:44<02:20,  7.78s/URL]"
     ]
    },
    {
     "name": "stdout",
     "output_type": "stream",
     "text": [
      "[{'ProductURL': 'https://www.fast-growing-trees.com/products/polly-peach-tree', 'ProductName': 'Polly Peach Tree', 'SubHeading': \"Prunus persica 'Polly White'\", 'Availability': 'InStock', 'Category': '5-6 feet', 'Pack': None, 'RegularPrice': '$89.95', 'SalePrice': '$69.95', 'ReviewCount': '0 reviews', 'Rating': '5.0'}]\n",
      "https://www.fast-growing-trees.com/products/red-bartlett-pear-tree\n"
     ]
    },
    {
     "name": "stderr",
     "output_type": "stream",
     "text": [
      "\r",
      "GettingInfo:  83%|███████████████████████████████████████████████████████▌           | 83/100 [12:50<02:02,  7.22s/URL]"
     ]
    },
    {
     "name": "stdout",
     "output_type": "stream",
     "text": [
      "[{'ProductURL': 'https://www.fast-growing-trees.com/products/red-bartlett-pear-tree', 'ProductName': 'Red Bartlett Pear Tree', 'SubHeading': \"Pyrus communis 'Red Bartlett'\", 'Availability': 'SoldOut', 'Category': None, 'Pack': None, 'RegularPrice': None, 'SalePrice': None, 'ReviewCount': '0 reviews', 'Rating': '5.0'}]\n",
      "https://www.fast-growing-trees.com/products/festonada-planter\n"
     ]
    },
    {
     "name": "stderr",
     "output_type": "stream",
     "text": [
      "\r",
      "GettingInfo:  84%|████████████████████████████████████████████████████████▎          | 84/100 [13:07<02:42, 10.13s/URL]"
     ]
    },
    {
     "name": "stdout",
     "output_type": "stream",
     "text": [
      "[{'ProductURL': 'https://www.fast-growing-trees.com/products/festonada-planter', 'ProductName': 'Festonada Planter', 'SubHeading': '', 'Availability': 'InStock', 'Category': '14\" Weathered Terracotta', 'Pack': None, 'RegularPrice': None, 'SalePrice': '$59.95', 'ReviewCount': '1 reviews', 'Rating': '5.0'}, {'ProductURL': 'https://www.fast-growing-trees.com/products/festonada-planter', 'ProductName': 'Festonada Planter', 'SubHeading': '', 'Availability': 'InStock', 'Category': '14\" Rust', 'Pack': None, 'RegularPrice': None, 'SalePrice': '$59.95', 'ReviewCount': '1 reviews', 'Rating': '5.0'}, {'ProductURL': 'https://www.fast-growing-trees.com/products/festonada-planter', 'ProductName': 'Festonada Planter', 'SubHeading': '', 'Availability': 'InStock', 'Category': '16\" Weathered Terracotta', 'Pack': None, 'RegularPrice': None, 'SalePrice': '$79.95', 'ReviewCount': '1 reviews', 'Rating': '5.0'}, {'ProductURL': 'https://www.fast-growing-trees.com/products/festonada-planter', 'ProductName': 'Festonada Planter', 'SubHeading': '', 'Availability': 'InStock', 'Category': '16\" Rust', 'Pack': None, 'RegularPrice': None, 'SalePrice': '$79.95', 'ReviewCount': '1 reviews', 'Rating': '5.0'}]\n",
      "https://www.fast-growing-trees.com/products/madison-planter\n"
     ]
    },
    {
     "name": "stderr",
     "output_type": "stream",
     "text": [
      "\r",
      "GettingInfo:  85%|████████████████████████████████████████████████████████▉          | 85/100 [13:28<03:18, 13.27s/URL]"
     ]
    },
    {
     "name": "stdout",
     "output_type": "stream",
     "text": [
      "[{'ProductURL': 'https://www.fast-growing-trees.com/products/madison-planter', 'ProductName': 'Madison Planter', 'SubHeading': '', 'Availability': 'InStock', 'Category': '14 inch Caviar Black', 'Pack': None, 'RegularPrice': None, 'SalePrice': '$74.95', 'ReviewCount': '0 reviews', 'Rating': '0.0'}, {'ProductURL': 'https://www.fast-growing-trees.com/products/madison-planter', 'ProductName': 'Madison Planter', 'SubHeading': '', 'Availability': 'InStock', 'Category': '14 inch Mocha', 'Pack': None, 'RegularPrice': None, 'SalePrice': '$74.95', 'ReviewCount': '0 reviews', 'Rating': '0.0'}, {'ProductURL': 'https://www.fast-growing-trees.com/products/madison-planter', 'ProductName': 'Madison Planter', 'SubHeading': '', 'Availability': 'InStock', 'Category': '16 inch Caviar Black', 'Pack': None, 'RegularPrice': None, 'SalePrice': '$109.95', 'ReviewCount': '0 reviews', 'Rating': '0.0'}, {'ProductURL': 'https://www.fast-growing-trees.com/products/madison-planter', 'ProductName': 'Madison Planter', 'SubHeading': '', 'Availability': 'InStock', 'Category': '16 inch Mocha', 'Pack': None, 'RegularPrice': None, 'SalePrice': '$109.95', 'ReviewCount': '0 reviews', 'Rating': '0.0'}, {'ProductURL': 'https://www.fast-growing-trees.com/products/madison-planter', 'ProductName': 'Madison Planter', 'SubHeading': '', 'Availability': 'InStock', 'Category': '20 inch Caviar Black', 'Pack': None, 'RegularPrice': None, 'SalePrice': '$169.95', 'ReviewCount': '0 reviews', 'Rating': '0.0'}, {'ProductURL': 'https://www.fast-growing-trees.com/products/madison-planter', 'ProductName': 'Madison Planter', 'SubHeading': '', 'Availability': 'InStock', 'Category': '20 inch Mocha', 'Pack': None, 'RegularPrice': None, 'SalePrice': '$169.95', 'ReviewCount': '0 reviews', 'Rating': '0.0'}]\n",
      "https://www.fast-growing-trees.com/products/agave-planter\n"
     ]
    },
    {
     "name": "stderr",
     "output_type": "stream",
     "text": [
      "\r",
      "GettingInfo:  86%|█████████████████████████████████████████████████████████▌         | 86/100 [13:51<03:46, 16.20s/URL]"
     ]
    },
    {
     "name": "stdout",
     "output_type": "stream",
     "text": [
      "[{'ProductURL': 'https://www.fast-growing-trees.com/products/agave-planter', 'ProductName': 'Agave Planter', 'SubHeading': '', 'Availability': 'InStock', 'Category': '14\" Caviar Black', 'Pack': None, 'RegularPrice': None, 'SalePrice': '$74.95', 'ReviewCount': '0 reviews', 'Rating': '0.0'}, {'ProductURL': 'https://www.fast-growing-trees.com/products/agave-planter', 'ProductName': 'Agave Planter', 'SubHeading': '', 'Availability': 'InStock', 'Category': '14\" Rust', 'Pack': None, 'RegularPrice': None, 'SalePrice': '$74.95', 'ReviewCount': '0 reviews', 'Rating': '0.0'}, {'ProductURL': 'https://www.fast-growing-trees.com/products/agave-planter', 'ProductName': 'Agave Planter', 'SubHeading': '', 'Availability': 'InStock', 'Category': '18\" Caviar Black', 'Pack': None, 'RegularPrice': None, 'SalePrice': '$89.95', 'ReviewCount': '0 reviews', 'Rating': '0.0'}, {'ProductURL': 'https://www.fast-growing-trees.com/products/agave-planter', 'ProductName': 'Agave Planter', 'SubHeading': '', 'Availability': 'InStock', 'Category': '18\" Rust', 'Pack': None, 'RegularPrice': None, 'SalePrice': '$89.95', 'ReviewCount': '0 reviews', 'Rating': '0.0'}, {'ProductURL': 'https://www.fast-growing-trees.com/products/agave-planter', 'ProductName': 'Agave Planter', 'SubHeading': '', 'Availability': 'InStock', 'Category': '21\" Caviar Black', 'Pack': None, 'RegularPrice': None, 'SalePrice': '$139.95', 'ReviewCount': '0 reviews', 'Rating': '0.0'}, {'ProductURL': 'https://www.fast-growing-trees.com/products/agave-planter', 'ProductName': 'Agave Planter', 'SubHeading': '', 'Availability': 'InStock', 'Category': '21\" Rust', 'Pack': None, 'RegularPrice': None, 'SalePrice': '$139.95', 'ReviewCount': '0 reviews', 'Rating': '0.0'}]\n",
      "https://www.fast-growing-trees.com/products/draft-holiday-gift-cup\n"
     ]
    },
    {
     "name": "stderr",
     "output_type": "stream",
     "text": [
      "\r",
      "GettingInfo:  87%|██████████████████████████████████████████████████████████▎        | 87/100 [13:59<02:59, 13.83s/URL]"
     ]
    },
    {
     "name": "stdout",
     "output_type": "stream",
     "text": [
      "[{'ProductURL': 'https://www.fast-growing-trees.com/products/draft-holiday-gift-cup', 'ProductName': 'Holiday Gift Cup', 'SubHeading': '', 'Availability': 'InStock', 'Category': 'Default Title', 'Pack': None, 'RegularPrice': None, 'SalePrice': '$0.00', 'ReviewCount': '0 reviews', 'Rating': '0'}]\n",
      "https://www.fast-growing-trees.com/products/jute-woven-basket-pot-striped\n"
     ]
    },
    {
     "name": "stderr",
     "output_type": "stream",
     "text": [
      "\r",
      "GettingInfo:  88%|██████████████████████████████████████████████████████████▉        | 88/100 [14:09<02:31, 12.59s/URL]"
     ]
    },
    {
     "name": "stdout",
     "output_type": "stream",
     "text": [
      "[{'ProductURL': 'https://www.fast-growing-trees.com/products/jute-woven-basket-pot-striped', 'ProductName': 'Jute Woven Basket Pot - Striped', 'SubHeading': '', 'Availability': 'InStock', 'Category': '2 gallon', 'Pack': None, 'RegularPrice': None, 'SalePrice': '$21.95', 'ReviewCount': '0 reviews', 'Rating': '5.0'}]\n",
      "https://www.fast-growing-trees.com/products/jute-woven-basket-white-rim\n"
     ]
    },
    {
     "name": "stderr",
     "output_type": "stream",
     "text": [
      "\r",
      "GettingInfo:  89%|███████████████████████████████████████████████████████████▋       | 89/100 [14:19<02:09, 11.77s/URL]"
     ]
    },
    {
     "name": "stdout",
     "output_type": "stream",
     "text": [
      "[{'ProductURL': 'https://www.fast-growing-trees.com/products/jute-woven-basket-white-rim', 'ProductName': 'Jute Woven Basket - White Rim', 'SubHeading': '', 'Availability': 'InStock', 'Category': '2 gallon', 'Pack': None, 'RegularPrice': None, 'SalePrice': '$21.95', 'ReviewCount': '0 reviews', 'Rating': '0.0'}]\n",
      "https://www.fast-growing-trees.com/products/pleat-modern-planter\n"
     ]
    },
    {
     "name": "stderr",
     "output_type": "stream",
     "text": [
      "\r",
      "GettingInfo:  90%|████████████████████████████████████████████████████████████▎      | 90/100 [14:40<02:26, 14.64s/URL]"
     ]
    },
    {
     "name": "stdout",
     "output_type": "stream",
     "text": [
      "[{'ProductURL': 'https://www.fast-growing-trees.com/products/pleat-modern-planter', 'ProductName': 'Pleat Modern Planter', 'SubHeading': '', 'Availability': 'InStock', 'Category': '15\" Weathered Terracotta', 'Pack': None, 'RegularPrice': None, 'SalePrice': '$69.95', 'ReviewCount': '0 reviews', 'Rating': '0.0'}, {'ProductURL': 'https://www.fast-growing-trees.com/products/pleat-modern-planter', 'ProductName': 'Pleat Modern Planter', 'SubHeading': '', 'Availability': 'InStock', 'Category': '19\" Weathered Terracotta', 'Pack': None, 'RegularPrice': None, 'SalePrice': '$99.95', 'ReviewCount': '0 reviews', 'Rating': '0.0'}, {'ProductURL': 'https://www.fast-growing-trees.com/products/pleat-modern-planter', 'ProductName': 'Pleat Modern Planter', 'SubHeading': '', 'Availability': 'InStock', 'Category': '19\" Slate', 'Pack': None, 'RegularPrice': None, 'SalePrice': '$99.95', 'ReviewCount': '0 reviews', 'Rating': '0.0'}, {'ProductURL': 'https://www.fast-growing-trees.com/products/pleat-modern-planter', 'ProductName': 'Pleat Modern Planter', 'SubHeading': '', 'Availability': 'InStock', 'Category': '23\" Caviar Black', 'Pack': None, 'RegularPrice': None, 'SalePrice': '$129.95', 'ReviewCount': '0 reviews', 'Rating': '0.0'}, {'ProductURL': 'https://www.fast-growing-trees.com/products/pleat-modern-planter', 'ProductName': 'Pleat Modern Planter', 'SubHeading': '', 'Availability': 'InStock', 'Category': '23\" Weathered Terracotta', 'Pack': None, 'RegularPrice': None, 'SalePrice': '$129.95', 'ReviewCount': '0 reviews', 'Rating': '0.0'}, {'ProductURL': 'https://www.fast-growing-trees.com/products/pleat-modern-planter', 'ProductName': 'Pleat Modern Planter', 'SubHeading': '', 'Availability': 'InStock', 'Category': '23\" Slate', 'Pack': None, 'RegularPrice': None, 'SalePrice': '$129.95', 'ReviewCount': '0 reviews', 'Rating': '0.0'}]\n",
      "https://www.fast-growing-trees.com/products/emerald-flair-elm-tree\n"
     ]
    },
    {
     "name": "stderr",
     "output_type": "stream",
     "text": [
      "\r",
      "GettingInfo:  91%|████████████████████████████████████████████████████████████▉      | 91/100 [14:49<01:56, 12.95s/URL]"
     ]
    },
    {
     "name": "stdout",
     "output_type": "stream",
     "text": [
      "[{'ProductURL': 'https://www.fast-growing-trees.com/products/emerald-flair-elm-tree', 'ProductName': 'Emerald Flair Elm Tree', 'SubHeading': 'Ulmus parvioflia ‘George Barrett’', 'Availability': 'InStock', 'Category': '3-4 feet', 'Pack': None, 'RegularPrice': None, 'SalePrice': '$149.95', 'ReviewCount': '3 reviews', 'Rating': '5.0'}, {'ProductURL': 'https://www.fast-growing-trees.com/products/emerald-flair-elm-tree', 'ProductName': 'Emerald Flair Elm Tree', 'SubHeading': 'Ulmus parvioflia ‘George Barrett’', 'Availability': 'InStock', 'Category': '5-6 feet', 'Pack': None, 'RegularPrice': '$199.95', 'SalePrice': '$125.95', 'ReviewCount': '3 reviews', 'Rating': '5.0'}]\n",
      "https://www.fast-growing-trees.com/products/edith-bogue-magnolia\n"
     ]
    },
    {
     "name": "stderr",
     "output_type": "stream",
     "text": [
      "\r",
      "GettingInfo:  92%|█████████████████████████████████████████████████████████████▋     | 92/100 [14:58<01:33, 11.70s/URL]"
     ]
    },
    {
     "name": "stdout",
     "output_type": "stream",
     "text": [
      "[{'ProductURL': 'https://www.fast-growing-trees.com/products/edith-bogue-magnolia', 'ProductName': 'Edith Bogue Magnolia', 'SubHeading': \"Magnolia grandiflora 'Edith Bogue’\", 'Availability': 'InStock', 'Category': '3-4 feet', 'Pack': None, 'RegularPrice': '$174.95', 'SalePrice': '$130.95', 'ReviewCount': '1 reviews', 'Rating': '4.8'}, {'ProductURL': 'https://www.fast-growing-trees.com/products/edith-bogue-magnolia', 'ProductName': 'Edith Bogue Magnolia', 'SubHeading': \"Magnolia grandiflora 'Edith Bogue’\", 'Availability': 'InStock', 'Category': '4-5 feet', 'Pack': None, 'RegularPrice': None, 'SalePrice': '$209.95', 'ReviewCount': '1 reviews', 'Rating': '4.8'}]\n",
      "https://www.fast-growing-trees.com/products/burgundy-plum-tree-ca\n"
     ]
    },
    {
     "name": "stderr",
     "output_type": "stream",
     "text": [
      "\r",
      "GettingInfo:  93%|██████████████████████████████████████████████████████████████▎    | 93/100 [15:08<01:18, 11.22s/URL]"
     ]
    },
    {
     "name": "stdout",
     "output_type": "stream",
     "text": [
      "[{'ProductURL': 'https://www.fast-growing-trees.com/products/burgundy-plum-tree-ca', 'ProductName': 'Burgundy Plum Tree', 'SubHeading': \"Prunus salicina 'Burgundy'\", 'Availability': 'InStock', 'Category': '5-6 ft', 'Pack': None, 'RegularPrice': None, 'SalePrice': '$229.95', 'ReviewCount': '2 reviews', 'Rating': '5.0'}]\n",
      "https://www.fast-growing-trees.com/products/red-baron-peach-tree-ca\n"
     ]
    },
    {
     "name": "stderr",
     "output_type": "stream",
     "text": [
      "\r",
      "GettingInfo:  94%|██████████████████████████████████████████████████████████████▉    | 94/100 [15:15<01:00, 10.08s/URL]"
     ]
    },
    {
     "name": "stdout",
     "output_type": "stream",
     "text": [
      "[{'ProductURL': 'https://www.fast-growing-trees.com/products/red-baron-peach-tree-ca', 'ProductName': 'Red Baron Peach Tree', 'SubHeading': \"Prunus persica 'Red Baron'\", 'Availability': 'SoldOut', 'Category': None, 'Pack': None, 'RegularPrice': None, 'SalePrice': None, 'ReviewCount': '1 reviews', 'Rating': '2.0'}]\n",
      "https://www.fast-growing-trees.com/products/goldmine-nectarine-tree-ca\n"
     ]
    },
    {
     "name": "stderr",
     "output_type": "stream",
     "text": [
      "\r",
      "GettingInfo:  95%|███████████████████████████████████████████████████████████████▋   | 95/100 [15:21<00:44,  8.87s/URL]"
     ]
    },
    {
     "name": "stdout",
     "output_type": "stream",
     "text": [
      "[{'ProductURL': 'https://www.fast-growing-trees.com/products/goldmine-nectarine-tree-ca', 'ProductName': 'Goldmine Nectarine Tree', 'SubHeading': \"Prunus persica var. nucipersica 'Goldmine'\", 'Availability': 'SoldOut', 'Category': None, 'Pack': None, 'RegularPrice': None, 'SalePrice': None, 'ReviewCount': '0 reviews', 'Rating': '0'}]\n",
      "https://www.fast-growing-trees.com/products/snow-queen-nectarine-tree-ca\n"
     ]
    },
    {
     "name": "stderr",
     "output_type": "stream",
     "text": [
      "\r",
      "GettingInfo:  96%|████████████████████████████████████████████████████████████████▎  | 96/100 [15:27<00:32,  8.02s/URL]"
     ]
    },
    {
     "name": "stdout",
     "output_type": "stream",
     "text": [
      "[{'ProductURL': 'https://www.fast-growing-trees.com/products/snow-queen-nectarine-tree-ca', 'ProductName': 'Snow Queen Nectarine Tree', 'SubHeading': \"Prunus persica var. neupersica 'Snow Queen'\", 'Availability': 'SoldOut', 'Category': None, 'Pack': None, 'RegularPrice': None, 'SalePrice': None, 'ReviewCount': '2 reviews', 'Rating': '5.0'}]\n",
      "https://www.fast-growing-trees.com/products/elephant-heart-plum-tree-ca\n"
     ]
    },
    {
     "name": "stderr",
     "output_type": "stream",
     "text": [
      "\r",
      "GettingInfo:  97%|████████████████████████████████████████████████████████████████▉  | 97/100 [15:37<00:25,  8.51s/URL]"
     ]
    },
    {
     "name": "stdout",
     "output_type": "stream",
     "text": [
      "[{'ProductURL': 'https://www.fast-growing-trees.com/products/elephant-heart-plum-tree-ca', 'ProductName': 'Elephant Heart Plum Tree', 'SubHeading': \"Prunus salicina 'Elephant Heart'\", 'Availability': 'InStock', 'Category': '4-5 feet', 'Pack': None, 'RegularPrice': None, 'SalePrice': '$169.95', 'ReviewCount': '0 reviews', 'Rating': '0.0'}]\n",
      "https://www.fast-growing-trees.com/products/double-delight-nectarine-tree-ca\n"
     ]
    },
    {
     "name": "stderr",
     "output_type": "stream",
     "text": [
      "\r",
      "GettingInfo:  98%|█████████████████████████████████████████████████████████████████▋ | 98/100 [15:43<00:15,  7.82s/URL]"
     ]
    },
    {
     "name": "stdout",
     "output_type": "stream",
     "text": [
      "[{'ProductURL': 'https://www.fast-growing-trees.com/products/double-delight-nectarine-tree-ca', 'ProductName': 'Double Delight Nectarine Tree', 'SubHeading': \"Prunus persica var. neupersica 'Double Delight'\", 'Availability': 'SoldOut', 'Category': None, 'Pack': None, 'RegularPrice': None, 'SalePrice': None, 'ReviewCount': '0 reviews', 'Rating': '0.0'}]\n",
      "https://www.fast-growing-trees.com/products/ohenry-peach-tree-ca\n"
     ]
    },
    {
     "name": "stderr",
     "output_type": "stream",
     "text": [
      "\r",
      "GettingInfo:  99%|██████████████████████████████████████████████████████████████████▎| 99/100 [15:49<00:07,  7.30s/URL]"
     ]
    },
    {
     "name": "stdout",
     "output_type": "stream",
     "text": [
      "[{'ProductURL': 'https://www.fast-growing-trees.com/products/ohenry-peach-tree-ca', 'ProductName': \"O'Henry Peach Tree\", 'SubHeading': \"Prunus persica 'O'Henry'\", 'Availability': 'SoldOut', 'Category': None, 'Pack': None, 'RegularPrice': None, 'SalePrice': None, 'ReviewCount': '5 reviews', 'Rating': '4.8'}]\n",
      "https://www.fast-growing-trees.com/products/ruby-red-grapefruit-tree-fl\n"
     ]
    },
    {
     "name": "stderr",
     "output_type": "stream",
     "text": [
      "GettingInfo: 100%|██████████████████████████████████████████████████████████████████| 100/100 [15:57<00:00,  9.57s/URL]"
     ]
    },
    {
     "name": "stdout",
     "output_type": "stream",
     "text": [
      "[{'ProductURL': 'https://www.fast-growing-trees.com/products/ruby-red-grapefruit-tree-fl', 'ProductName': 'Ruby Red Grapefruit Tree', 'SubHeading': \"Citrus x paradise 'Ruby Red'\", 'Availability': 'SoldOut', 'Category': None, 'Pack': None, 'RegularPrice': None, 'SalePrice': None, 'ReviewCount': '3 reviews', 'Rating': '5.0'}]\n"
     ]
    },
    {
     "name": "stderr",
     "output_type": "stream",
     "text": [
      "\n"
     ]
    }
   ],
   "source": [
    "user_agents = random.choice(allowed_user_agents)\n",
    "headers = {'User-Agent': user_agents}\n",
    "chrome_options = webdriver.ChromeOptions()\n",
    "chrome_options.add_argument(f\"user-agent={headers['User-Agent']}\")\n",
    "chrome_options.add_argument('--headless')\n",
    "driver = webdriver.Chrome(options=chrome_options)\n",
    "for i in tqdm(Pro_URL[1300:1400], desc=\"GettingInfo\", unit=\"URL\"):\n",
    "    print(i)\n",
    "    df = get_product_info(i)\n",
    "    Product_details14.extend(df)\n",
    "    print(df)\n",
    "daf = pd.DataFrame(Product_details14)\n",
    "daf.to_csv('FastGrowingTrees14.csv',index=False)\n",
    "driver.quit()"
   ]
  },
  {
   "cell_type": "code",
   "execution_count": 31,
   "id": "1e497a2b",
   "metadata": {},
   "outputs": [
    {
     "name": "stderr",
     "output_type": "stream",
     "text": [
      "\r",
      "GettingInfo:   0%|                                                                            | 0/100 [00:00<?, ?URL/s]"
     ]
    },
    {
     "name": "stdout",
     "output_type": "stream",
     "text": [
      "https://www.fast-growing-trees.com/products/colorful-mixed-garden\n"
     ]
    },
    {
     "name": "stderr",
     "output_type": "stream",
     "text": [
      "\r",
      "GettingInfo:   1%|▋                                                                   | 1/100 [00:08<13:30,  8.19s/URL]"
     ]
    },
    {
     "name": "stdout",
     "output_type": "stream",
     "text": [
      "[{'ProductURL': 'https://www.fast-growing-trees.com/products/colorful-mixed-garden', 'ProductName': 'Colorful Mixed Garden', 'SubHeading': \"Hyacinth 'Delft Blue'; Narcissus 'Jetfire'; Tulipa 'Freeman'\", 'Availability': 'SoldOut', 'Category': None, 'Pack': None, 'RegularPrice': None, 'SalePrice': None, 'ReviewCount': '0 reviews', 'Rating': '0'}]\n",
      "https://www.fast-growing-trees.com/products/pink-princess-philodendron\n"
     ]
    },
    {
     "name": "stderr",
     "output_type": "stream",
     "text": [
      "\r",
      "GettingInfo:   2%|█▎                                                                  | 2/100 [00:15<12:19,  7.54s/URL]"
     ]
    },
    {
     "name": "stdout",
     "output_type": "stream",
     "text": [
      "[{'ProductURL': 'https://www.fast-growing-trees.com/products/pink-princess-philodendron', 'ProductName': 'Pink Princess Philodendron', 'SubHeading': 'Philodendron erubescens', 'Availability': 'InStock', 'Category': '1 Gallon', 'Pack': None, 'RegularPrice': '$149.95', 'SalePrice': '$64.95', 'ReviewCount': '3 reviews', 'Rating': '2.7'}]\n",
      "https://www.fast-growing-trees.com/products/satsuma-plum-tree-ca\n"
     ]
    },
    {
     "name": "stderr",
     "output_type": "stream",
     "text": [
      "\r",
      "GettingInfo:   3%|██                                                                  | 3/100 [00:23<13:00,  8.05s/URL]"
     ]
    },
    {
     "name": "stdout",
     "output_type": "stream",
     "text": [
      "[{'ProductURL': 'https://www.fast-growing-trees.com/products/satsuma-plum-tree-ca', 'ProductName': 'Satsuma Plum Tree', 'SubHeading': \"P. salicina 'Satsuma'\", 'Availability': 'InStock', 'Category': '4-5 feet', 'Pack': None, 'RegularPrice': None, 'SalePrice': '$119.95', 'ReviewCount': '2 reviews', 'Rating': '4.5'}]\n",
      "https://www.fast-growing-trees.com/products/flavor-king-pluot-tree-ca\n"
     ]
    },
    {
     "name": "stderr",
     "output_type": "stream",
     "text": [
      "\r",
      "GettingInfo:   4%|██▋                                                                 | 4/100 [00:30<11:45,  7.35s/URL]"
     ]
    },
    {
     "name": "stdout",
     "output_type": "stream",
     "text": [
      "[{'ProductURL': 'https://www.fast-growing-trees.com/products/flavor-king-pluot-tree-ca', 'ProductName': 'Flavor KingÂ® Pluot Tree', 'SubHeading': \"Prunus x 'Flavor King'\", 'Availability': 'SoldOut', 'Category': None, 'Pack': None, 'RegularPrice': None, 'SalePrice': None, 'ReviewCount': '3 reviews', 'Rating': '4.3'}]\n",
      "https://www.fast-growing-trees.com/products/flavor-queen-pluot-ca\n"
     ]
    },
    {
     "name": "stderr",
     "output_type": "stream",
     "text": [
      "\r",
      "GettingInfo:   5%|███▍                                                                | 5/100 [00:38<12:27,  7.87s/URL]"
     ]
    },
    {
     "name": "stdout",
     "output_type": "stream",
     "text": [
      "[{'ProductURL': 'https://www.fast-growing-trees.com/products/flavor-queen-pluot-ca', 'ProductName': 'Flavor Queen PluotÂ®', 'SubHeading': \"Prunus x 'Flavor Queen'\", 'Availability': 'InStock', 'Category': '4-5 feet', 'Pack': None, 'RegularPrice': None, 'SalePrice': '$179.95', 'ReviewCount': '0 reviews', 'Rating': '0.0'}]\n",
      "https://www.fast-growing-trees.com/products/dapple-dandy-pluot-tree-ca\n"
     ]
    },
    {
     "name": "stderr",
     "output_type": "stream",
     "text": [
      "\r",
      "GettingInfo:   6%|████                                                                | 6/100 [00:45<11:35,  7.39s/URL]"
     ]
    },
    {
     "name": "stdout",
     "output_type": "stream",
     "text": [
      "[{'ProductURL': 'https://www.fast-growing-trees.com/products/dapple-dandy-pluot-tree-ca', 'ProductName': 'Dapple Dandy Pluot Tree', 'SubHeading': \"Prunus x 'Dapple Dandy'\", 'Availability': 'SoldOut', 'Category': None, 'Pack': None, 'RegularPrice': None, 'SalePrice': None, 'ReviewCount': '0 reviews', 'Rating': '0.0'}]\n",
      "https://www.fast-growing-trees.com/products/indian-free-white-peach-tree-ca\n"
     ]
    },
    {
     "name": "stderr",
     "output_type": "stream",
     "text": [
      "\r",
      "GettingInfo:   7%|████▊                                                               | 7/100 [00:51<10:57,  7.07s/URL]"
     ]
    },
    {
     "name": "stdout",
     "output_type": "stream",
     "text": [
      "[{'ProductURL': 'https://www.fast-growing-trees.com/products/indian-free-white-peach-tree-ca', 'ProductName': 'Indian Free White Peach Tree', 'SubHeading': \"Prunus persica 'Indian Free'\", 'Availability': 'SoldOut', 'Category': None, 'Pack': None, 'RegularPrice': None, 'SalePrice': None, 'ReviewCount': '0 reviews', 'Rating': '0.0'}]\n",
      "https://www.fast-growing-trees.com/products/harko-nectarine-tree-ca\n"
     ]
    },
    {
     "name": "stderr",
     "output_type": "stream",
     "text": [
      "\r",
      "GettingInfo:   8%|█████▍                                                              | 8/100 [01:00<11:37,  7.58s/URL]"
     ]
    },
    {
     "name": "stdout",
     "output_type": "stream",
     "text": [
      "[{'ProductURL': 'https://www.fast-growing-trees.com/products/harko-nectarine-tree-ca', 'ProductName': 'Harko Nectarine Tree', 'SubHeading': \"Prunus persica var. neupersica 'Harko'\", 'Availability': 'InStock', 'Category': '2-3 feet', 'Pack': None, 'RegularPrice': None, 'SalePrice': '$139.95', 'ReviewCount': '0 reviews', 'Rating': '0.0'}]\n",
      "https://www.fast-growing-trees.com/products/private-jet-arborvitae\n"
     ]
    },
    {
     "name": "stderr",
     "output_type": "stream",
     "text": [
      "\r",
      "GettingInfo:   9%|██████                                                              | 9/100 [01:09<12:09,  8.01s/URL]"
     ]
    },
    {
     "name": "stdout",
     "output_type": "stream",
     "text": [
      "[{'ProductURL': 'https://www.fast-growing-trees.com/products/private-jet-arborvitae', 'ProductName': 'Private Jet™ Arborvitae', 'SubHeading': \"Thuja occidentalis 'King of Brabant' \", 'Availability': 'InStock', 'Category': '2-3 feet', 'Pack': 'Single', 'RegularPrice': None, 'SalePrice': '$149.95', 'ReviewCount': '0 reviews', 'Rating': '5.0'}, {'ProductURL': 'https://www.fast-growing-trees.com/products/private-jet-arborvitae', 'ProductName': 'Private Jet™ Arborvitae', 'SubHeading': \"Thuja occidentalis 'King of Brabant' \", 'Availability': 'InStock', 'Category': '2-3 feet', 'Pack': '6-Pack', 'RegularPrice': '$899.70', 'SalePrice': '$764.75', 'ReviewCount': '0 reviews', 'Rating': '5.0'}]\n",
      "https://www.fast-growing-trees.com/products/flame-grapefruit\n"
     ]
    },
    {
     "name": "stderr",
     "output_type": "stream",
     "text": [
      "\r",
      "GettingInfo:  10%|██████▋                                                            | 10/100 [01:16<11:19,  7.55s/URL]"
     ]
    },
    {
     "name": "stdout",
     "output_type": "stream",
     "text": [
      "[{'ProductURL': 'https://www.fast-growing-trees.com/products/flame-grapefruit', 'ProductName': 'Flame Grapefruit Tree', 'SubHeading': 'Citrus paradisi ‘Flame’', 'Availability': 'SoldOut', 'Category': None, 'Pack': None, 'RegularPrice': None, 'SalePrice': None, 'ReviewCount': '0 reviews', 'Rating': '0.0'}]\n",
      "https://www.fast-growing-trees.com/products/star-ruby-grapefruit-tree\n"
     ]
    },
    {
     "name": "stderr",
     "output_type": "stream",
     "text": [
      "\r",
      "GettingInfo:  11%|███████▎                                                           | 11/100 [01:24<11:42,  7.89s/URL]"
     ]
    },
    {
     "name": "stdout",
     "output_type": "stream",
     "text": [
      "[{'ProductURL': 'https://www.fast-growing-trees.com/products/star-ruby-grapefruit-tree', 'ProductName': 'Star Ruby Grapefruit Tree', 'SubHeading': \"Citrus x Paradisi 'Star Ruby'\", 'Availability': 'InStock', 'Category': '4-5 feet', 'Pack': None, 'RegularPrice': None, 'SalePrice': '$139.95', 'ReviewCount': '0 reviews', 'Rating': '0.0'}]\n",
      "https://www.fast-growing-trees.com/products/ray-ruby-grapefruit-tree\n"
     ]
    },
    {
     "name": "stderr",
     "output_type": "stream",
     "text": [
      "\r",
      "GettingInfo:  12%|████████                                                           | 12/100 [01:31<10:55,  7.45s/URL]"
     ]
    },
    {
     "name": "stdout",
     "output_type": "stream",
     "text": [
      "[{'ProductURL': 'https://www.fast-growing-trees.com/products/ray-ruby-grapefruit-tree', 'ProductName': 'Ray Ruby Grapefruit Tree', 'SubHeading': \"Citrus x Paradisi 'Ray Ruby'\", 'Availability': 'SoldOut', 'Category': None, 'Pack': None, 'RegularPrice': None, 'SalePrice': None, 'ReviewCount': '0 reviews', 'Rating': '0.0'}]\n",
      "https://www.fast-growing-trees.com/products/cherry-go-round-hydrangea\n"
     ]
    },
    {
     "name": "stderr",
     "output_type": "stream",
     "text": [
      "\r",
      "GettingInfo:  13%|████████▋                                                          | 13/100 [01:40<11:31,  7.95s/URL]"
     ]
    },
    {
     "name": "stdout",
     "output_type": "stream",
     "text": [
      "[{'ProductURL': 'https://www.fast-growing-trees.com/products/cherry-go-round-hydrangea', 'ProductName': 'Cherry-Go-Round™ Hydrangea', 'SubHeading': \"Hydrangea macrophylla 'Hokomaburlac'\", 'Availability': 'InStock', 'Category': '3 gallon', 'Pack': 'Single', 'RegularPrice': None, 'SalePrice': '$109.95', 'ReviewCount': '8 reviews', 'Rating': '4.0'}, {'ProductURL': 'https://www.fast-growing-trees.com/products/cherry-go-round-hydrangea', 'ProductName': 'Cherry-Go-Round™ Hydrangea', 'SubHeading': \"Hydrangea macrophylla 'Hokomaburlac'\", 'Availability': 'InStock', 'Category': '3 gallon', 'Pack': '4-Pack', 'RegularPrice': '$439.80', 'SalePrice': '$373.83', 'ReviewCount': '8 reviews', 'Rating': '4.0'}]\n",
      "https://www.fast-growing-trees.com/products/blueberry-pie-butterfly-bush\n"
     ]
    },
    {
     "name": "stderr",
     "output_type": "stream",
     "text": [
      "\r",
      "GettingInfo:  14%|█████████▍                                                         | 14/100 [01:48<11:44,  8.19s/URL]"
     ]
    },
    {
     "name": "stdout",
     "output_type": "stream",
     "text": [
      "[{'ProductURL': 'https://www.fast-growing-trees.com/products/blueberry-pie-butterfly-bush', 'ProductName': 'Blueberry Pie™ Butterfly Bush', 'SubHeading': \"Buddleia x 'PODARASNGA 9-15'\", 'Availability': 'InStock', 'Category': '3 gallon', 'Pack': None, 'RegularPrice': None, 'SalePrice': '$99.95', 'ReviewCount': '4 reviews', 'Rating': '3.0'}]\n",
      "https://www.fast-growing-trees.com/products/hirado-pummelo-tree\n"
     ]
    },
    {
     "name": "stderr",
     "output_type": "stream",
     "text": [
      "\r",
      "GettingInfo:  15%|██████████                                                         | 15/100 [01:57<11:40,  8.25s/URL]"
     ]
    },
    {
     "name": "stdout",
     "output_type": "stream",
     "text": [
      "[{'ProductURL': 'https://www.fast-growing-trees.com/products/hirado-pummelo-tree', 'ProductName': 'Hirado Pummelo Tree', 'SubHeading': 'Citrus maxima ‘Hirado Butan’', 'Availability': 'InStock', 'Category': '3-4 feet', 'Pack': None, 'RegularPrice': None, 'SalePrice': '$119.95', 'ReviewCount': '2 reviews', 'Rating': '5.0'}]\n",
      "https://www.fast-growing-trees.com/products/ponderosa-lemon-fl\n"
     ]
    },
    {
     "name": "stderr",
     "output_type": "stream",
     "text": [
      "\r",
      "GettingInfo:  16%|██████████▋                                                        | 16/100 [02:04<11:05,  7.92s/URL]"
     ]
    },
    {
     "name": "stdout",
     "output_type": "stream",
     "text": [
      "[{'ProductURL': 'https://www.fast-growing-trees.com/products/ponderosa-lemon-fl', 'ProductName': 'Ponderosa Lemon', 'SubHeading': \"Citrus x limon 'Ponderosa'\", 'Availability': 'SoldOut', 'Category': None, 'Pack': None, 'RegularPrice': None, 'SalePrice': None, 'ReviewCount': '0 reviews', 'Rating': '5.0'}]\n",
      "https://www.fast-growing-trees.com/products/apache-blackberry-ca\n"
     ]
    },
    {
     "name": "stderr",
     "output_type": "stream",
     "text": [
      "\r",
      "GettingInfo:  17%|███████████▍                                                       | 17/100 [02:11<10:24,  7.52s/URL]"
     ]
    },
    {
     "name": "stdout",
     "output_type": "stream",
     "text": [
      "[{'ProductURL': 'https://www.fast-growing-trees.com/products/apache-blackberry-ca', 'ProductName': 'Apache Blackberry', 'SubHeading': \"Rubus x 'Apache'\", 'Availability': 'InStock', 'Category': '2 gallon', 'Pack': None, 'RegularPrice': '$99.95', 'SalePrice': '$79.95', 'ReviewCount': '1 reviews', 'Rating': '5.0'}]\n",
      "https://www.fast-growing-trees.com/products/stunner-weigela\n"
     ]
    },
    {
     "name": "stderr",
     "output_type": "stream",
     "text": [
      "\r",
      "GettingInfo:  18%|████████████                                                       | 18/100 [02:17<09:39,  7.07s/URL]"
     ]
    },
    {
     "name": "stdout",
     "output_type": "stream",
     "text": [
      "[{'ProductURL': 'https://www.fast-growing-trees.com/products/stunner-weigela', 'ProductName': 'Stunner®  Weigela', 'SubHeading': \"Weigela x 'Spring 2’\", 'Availability': 'InStock', 'Category': '2 gallon', 'Pack': 'Single', 'RegularPrice': '$104.95', 'SalePrice': '$99.95', 'ReviewCount': '2 reviews', 'Rating': '4.5'}, {'ProductURL': 'https://www.fast-growing-trees.com/products/stunner-weigela', 'ProductName': 'Stunner®  Weigela', 'SubHeading': \"Weigela x 'Spring 2’\", 'Availability': 'InStock', 'Category': '2 gallon', 'Pack': '4-Pack', 'RegularPrice': '$419.80', 'SalePrice': '$339.83', 'ReviewCount': '2 reviews', 'Rating': '4.5'}]\n",
      "https://www.fast-growing-trees.com/products/golden-raspberry-ca\n"
     ]
    },
    {
     "name": "stderr",
     "output_type": "stream",
     "text": [
      "\r",
      "GettingInfo:  19%|████████████▋                                                      | 19/100 [02:23<09:15,  6.86s/URL]"
     ]
    },
    {
     "name": "stdout",
     "output_type": "stream",
     "text": [
      "[{'ProductURL': 'https://www.fast-growing-trees.com/products/golden-raspberry-ca', 'ProductName': 'Golden Raspberry', 'SubHeading': \"Rubus idaeus 'Fall Gold'\", 'Availability': 'SoldOut', 'Category': None, 'Pack': None, 'RegularPrice': None, 'SalePrice': None, 'ReviewCount': '0 reviews', 'Rating': '0.0'}]\n",
      "https://www.fast-growing-trees.com/products/rainbow-fizz-spiraea\n"
     ]
    },
    {
     "name": "stderr",
     "output_type": "stream",
     "text": [
      "\r",
      "GettingInfo:  20%|█████████████▍                                                     | 20/100 [02:32<09:58,  7.48s/URL]"
     ]
    },
    {
     "name": "stdout",
     "output_type": "stream",
     "text": [
      "[{'ProductURL': 'https://www.fast-growing-trees.com/products/rainbow-fizz-spiraea', 'ProductName': 'Rainbow Fizz™ Spiraea', 'SubHeading': \"Spiraea japonica 'Matgold'\", 'Availability': 'InStock', 'Category': '2 gallon', 'Pack': 'Single', 'RegularPrice': None, 'SalePrice': '$109.95', 'ReviewCount': '0 reviews', 'Rating': '0.0'}, {'ProductURL': 'https://www.fast-growing-trees.com/products/rainbow-fizz-spiraea', 'ProductName': 'Rainbow Fizz™ Spiraea', 'SubHeading': \"Spiraea japonica 'Matgold'\", 'Availability': 'InStock', 'Category': '2 gallon', 'Pack': '4-Pack', 'RegularPrice': '$439.80', 'SalePrice': '$373.83', 'ReviewCount': '0 reviews', 'Rating': '0.0'}]\n",
      "https://www.fast-growing-trees.com/products/gold-kist-apricot-tree\n"
     ]
    },
    {
     "name": "stderr",
     "output_type": "stream",
     "text": [
      "\r",
      "GettingInfo:  21%|██████████████                                                     | 21/100 [02:43<11:14,  8.54s/URL]"
     ]
    },
    {
     "name": "stdout",
     "output_type": "stream",
     "text": [
      "[{'ProductURL': 'https://www.fast-growing-trees.com/products/gold-kist-apricot-tree', 'ProductName': 'Gold Kist Apricot Tree', 'SubHeading': \"Prunus armeniaca 'Gold Kist'\", 'Availability': 'InStock', 'Category': '4-5 feet', 'Pack': None, 'RegularPrice': None, 'SalePrice': '$129.95', 'ReviewCount': '3 reviews', 'Rating': '5.0'}, {'ProductURL': 'https://www.fast-growing-trees.com/products/gold-kist-apricot-tree', 'ProductName': 'Gold Kist Apricot Tree', 'SubHeading': \"Prunus armeniaca 'Gold Kist'\", 'Availability': 'InStock', 'Category': '5-6 ft', 'Pack': None, 'RegularPrice': None, 'SalePrice': '$169.95', 'ReviewCount': '3 reviews', 'Rating': '5.0'}]\n",
      "https://www.fast-growing-trees.com/products/catawba-crape-myrtle-tree-ca\n"
     ]
    },
    {
     "name": "stderr",
     "output_type": "stream",
     "text": [
      "\r",
      "GettingInfo:  22%|██████████████▋                                                    | 22/100 [02:50<10:22,  7.98s/URL]"
     ]
    },
    {
     "name": "stdout",
     "output_type": "stream",
     "text": [
      "[{'ProductURL': 'https://www.fast-growing-trees.com/products/catawba-crape-myrtle-tree-ca', 'ProductName': 'Catawba Crape Myrtle Tree', 'SubHeading': \"Lagerstroemia indica 'Catawba'\", 'Availability': 'SoldOut', 'Category': None, 'Pack': None, 'RegularPrice': None, 'SalePrice': None, 'ReviewCount': '0 reviews', 'Rating': '0.0'}]\n",
      "https://www.fast-growing-trees.com/products/lemon-lime-citrus-bush-fl\n"
     ]
    },
    {
     "name": "stderr",
     "output_type": "stream",
     "text": [
      "\r",
      "GettingInfo:  23%|███████████████▍                                                   | 23/100 [02:56<09:40,  7.54s/URL]"
     ]
    },
    {
     "name": "stdout",
     "output_type": "stream",
     "text": [
      "[{'ProductURL': 'https://www.fast-growing-trees.com/products/lemon-lime-citrus-bush-fl', 'ProductName': 'Lemon-Lime Citrus Bush', 'SubHeading': \"Citrus x 'Meyeri'; Citrus aurantifolia\", 'Availability': 'SoldOut', 'Category': None, 'Pack': None, 'RegularPrice': None, 'SalePrice': None, 'ReviewCount': '5 reviews', 'Rating': '5.0'}]\n",
      "https://www.fast-growing-trees.com/products/calamondin-tree-tx\n"
     ]
    },
    {
     "name": "stderr",
     "output_type": "stream",
     "text": [
      "\r",
      "GettingInfo:  24%|████████████████                                                   | 24/100 [03:05<09:57,  7.86s/URL]"
     ]
    },
    {
     "name": "stdout",
     "output_type": "stream",
     "text": [
      "[{'ProductURL': 'https://www.fast-growing-trees.com/products/calamondin-tree-tx', 'ProductName': 'Calamondin Tree', 'SubHeading': 'Citrus mitis', 'Availability': 'InStock', 'Category': '2-3 feet', 'Pack': None, 'RegularPrice': None, 'SalePrice': '$139.95', 'ReviewCount': '3 reviews', 'Rating': '5.0'}]\n",
      "https://www.fast-growing-trees.com/products/harvey-lemon-tree-fl\n"
     ]
    },
    {
     "name": "stderr",
     "output_type": "stream",
     "text": [
      "\r",
      "GettingInfo:  25%|████████████████▊                                                  | 25/100 [03:16<11:04,  8.85s/URL]"
     ]
    },
    {
     "name": "stdout",
     "output_type": "stream",
     "text": [
      "[{'ProductURL': 'https://www.fast-growing-trees.com/products/harvey-lemon-tree-fl', 'ProductName': 'Harvey Lemon Tree', 'SubHeading': \"Citrus limon 'Harvey'\", 'Availability': 'InStock', 'Category': '3-4 feet', 'Pack': None, 'RegularPrice': None, 'SalePrice': '$139.95', 'ReviewCount': '2 reviews', 'Rating': '5.0'}, {'ProductURL': 'https://www.fast-growing-trees.com/products/harvey-lemon-tree-fl', 'ProductName': 'Harvey Lemon Tree', 'SubHeading': \"Citrus limon 'Harvey'\", 'Availability': 'InStock', 'Category': '4-5 ft.', 'Pack': None, 'RegularPrice': None, 'SalePrice': '$149.95', 'ReviewCount': '2 reviews', 'Rating': '5.0'}]\n",
      "https://www.fast-growing-trees.com/products/all-in-one-almond-tree\n"
     ]
    },
    {
     "name": "stderr",
     "output_type": "stream",
     "text": [
      "\r",
      "GettingInfo:  26%|█████████████████▍                                                 | 26/100 [03:29<12:39, 10.26s/URL]"
     ]
    },
    {
     "name": "stdout",
     "output_type": "stream",
     "text": [
      "[{'ProductURL': 'https://www.fast-growing-trees.com/products/all-in-one-almond-tree', 'ProductName': 'All-in-One Almond Tree', 'SubHeading': 'Prunus dulcis', 'Availability': 'InStock', 'Category': '3-4 feet', 'Pack': None, 'RegularPrice': None, 'SalePrice': '$129.95', 'ReviewCount': '5 reviews', 'Rating': '4.4'}, {'ProductURL': 'https://www.fast-growing-trees.com/products/all-in-one-almond-tree', 'ProductName': 'All-in-One Almond Tree', 'SubHeading': 'Prunus dulcis', 'Availability': 'InStock', 'Category': '5-6 feet', 'Pack': None, 'RegularPrice': None, 'SalePrice': '$159.95', 'ReviewCount': '5 reviews', 'Rating': '4.4'}, {'ProductURL': 'https://www.fast-growing-trees.com/products/all-in-one-almond-tree', 'ProductName': 'All-in-One Almond Tree', 'SubHeading': 'Prunus dulcis', 'Availability': 'InStock', 'Category': '6-7 feet', 'Pack': None, 'RegularPrice': None, 'SalePrice': '$179.95', 'ReviewCount': '5 reviews', 'Rating': '4.4'}]\n",
      "https://www.fast-growing-trees.com/products/cebu-blue-pothos\n"
     ]
    },
    {
     "name": "stderr",
     "output_type": "stream",
     "text": [
      "\r",
      "GettingInfo:  27%|██████████████████                                                 | 27/100 [03:38<11:48,  9.71s/URL]"
     ]
    },
    {
     "name": "stdout",
     "output_type": "stream",
     "text": [
      "[{'ProductURL': 'https://www.fast-growing-trees.com/products/cebu-blue-pothos', 'ProductName': 'Cebu Blue Pothos', 'SubHeading': \"Epipremnum Pinnatum 'Cebu Blue' \", 'Availability': 'InStock', 'Category': '2 gallon', 'Pack': None, 'RegularPrice': None, 'SalePrice': '$189.95', 'ReviewCount': '0 reviews', 'Rating': '0.0'}]\n",
      "https://www.fast-growing-trees.com/products/steel-loppers-with-wood-handle\n"
     ]
    },
    {
     "name": "stderr",
     "output_type": "stream",
     "text": [
      "\r",
      "GettingInfo:  28%|██████████████████▊                                                | 28/100 [03:46<11:09,  9.31s/URL]"
     ]
    },
    {
     "name": "stdout",
     "output_type": "stream",
     "text": [
      "[{'ProductURL': 'https://www.fast-growing-trees.com/products/steel-loppers-with-wood-handle', 'ProductName': 'Steel Loppers with Wood Handle', 'SubHeading': '', 'Availability': 'InStock', 'Category': 'Steel Lopper with Wood Handle', 'Pack': None, 'RegularPrice': None, 'SalePrice': '$64.95', 'ReviewCount': '0 reviews', 'Rating': '0.0'}]\n",
      "https://www.fast-growing-trees.com/products/garden-tool-bag\n"
     ]
    },
    {
     "name": "stderr",
     "output_type": "stream",
     "text": [
      "\r",
      "GettingInfo:  29%|███████████████████▍                                               | 29/100 [03:55<10:49,  9.14s/URL]"
     ]
    },
    {
     "name": "stdout",
     "output_type": "stream",
     "text": [
      "[{'ProductURL': 'https://www.fast-growing-trees.com/products/garden-tool-bag', 'ProductName': 'Garden Tool Bag', 'SubHeading': '', 'Availability': 'InStock', 'Category': 'Garden Tool Bag', 'Pack': None, 'RegularPrice': None, 'SalePrice': '$44.95', 'ReviewCount': '0 reviews', 'Rating': '0.0'}]\n",
      "https://www.fast-growing-trees.com/products/amazing-daisies-spun-silk-shasta-daisy\n"
     ]
    },
    {
     "name": "stderr",
     "output_type": "stream",
     "text": [
      "\r",
      "GettingInfo:  30%|████████████████████                                               | 30/100 [04:02<09:47,  8.40s/URL]"
     ]
    },
    {
     "name": "stdout",
     "output_type": "stream",
     "text": [
      "[{'ProductURL': 'https://www.fast-growing-trees.com/products/amazing-daisies-spun-silk-shasta-daisy', 'ProductName': 'Amazing Daisies® ‘Spun Silk’ Shasta Daisy', 'SubHeading': 'Leucanthemum superbum', 'Availability': 'SoldOut', 'Category': None, 'Pack': None, 'RegularPrice': None, 'SalePrice': None, 'ReviewCount': '2 reviews', 'Rating': '4.0'}]\n",
      "https://www.fast-growing-trees.com/products/amazing-daisies-banana-cream-ii-shasta-daisy\n"
     ]
    },
    {
     "name": "stderr",
     "output_type": "stream",
     "text": [
      "\r",
      "GettingInfo:  31%|████████████████████▊                                              | 31/100 [04:09<09:12,  8.01s/URL]"
     ]
    },
    {
     "name": "stdout",
     "output_type": "stream",
     "text": [
      "[{'ProductURL': 'https://www.fast-growing-trees.com/products/amazing-daisies-banana-cream-ii-shasta-daisy', 'ProductName': 'Amazing Daisies® ‘Banana Cream II’ Shasta Daisy', 'SubHeading': \"Leucanthemum superbum 'Banana Cream II'\", 'Availability': 'InStock', 'Category': '1 gallon', 'Pack': 'Single', 'RegularPrice': '$54.95', 'SalePrice': '$44.95', 'ReviewCount': '1 reviews', 'Rating': '5.0'}, {'ProductURL': 'https://www.fast-growing-trees.com/products/amazing-daisies-banana-cream-ii-shasta-daisy', 'ProductName': 'Amazing Daisies® ‘Banana Cream II’ Shasta Daisy', 'SubHeading': \"Leucanthemum superbum 'Banana Cream II'\", 'Availability': 'InStock', 'Category': '1 gallon', 'Pack': '4-Pack', 'RegularPrice': '$219.80', 'SalePrice': '$152.83', 'ReviewCount': '1 reviews', 'Rating': '5.0'}]\n",
      "https://www.fast-growing-trees.com/products/niobe-golden-weeping-willow\n"
     ]
    },
    {
     "name": "stderr",
     "output_type": "stream",
     "text": [
      "\r",
      "GettingInfo:  32%|█████████████████████▍                                             | 32/100 [04:18<09:28,  8.37s/URL]"
     ]
    },
    {
     "name": "stdout",
     "output_type": "stream",
     "text": [
      "[{'ProductURL': 'https://www.fast-growing-trees.com/products/niobe-golden-weeping-willow', 'ProductName': 'Niobe Golden Weeping Willow', 'SubHeading': 'Salix alba ‘Tristis’', 'Availability': 'InStock', 'Category': '6-7 feet', 'Pack': None, 'RegularPrice': None, 'SalePrice': '$249.95', 'ReviewCount': '7 reviews', 'Rating': '4.6'}]\n",
      "https://www.fast-growing-trees.com/products/marge-elderberry\n"
     ]
    },
    {
     "name": "stderr",
     "output_type": "stream",
     "text": [
      "\r",
      "GettingInfo:  33%|██████████████████████                                             | 33/100 [04:25<08:52,  7.95s/URL]"
     ]
    },
    {
     "name": "stdout",
     "output_type": "stream",
     "text": [
      "[{'ProductURL': 'https://www.fast-growing-trees.com/products/marge-elderberry', 'ProductName': 'Marge Elderberry', 'SubHeading': 'Sambucus nigra', 'Availability': 'InStock', 'Category': '2 gallon', 'Pack': None, 'RegularPrice': '$89.95', 'SalePrice': '$44.95', 'ReviewCount': '9 reviews', 'Rating': '4.3'}]\n",
      "https://www.fast-growing-trees.com/products/santina-cherry-tree\n"
     ]
    },
    {
     "name": "stderr",
     "output_type": "stream",
     "text": [
      "\r",
      "GettingInfo:  34%|██████████████████████▊                                            | 34/100 [04:37<09:57,  9.05s/URL]"
     ]
    },
    {
     "name": "stdout",
     "output_type": "stream",
     "text": [
      "[{'ProductURL': 'https://www.fast-growing-trees.com/products/santina-cherry-tree', 'ProductName': 'Santina™ Cherry Tree', 'SubHeading': 'Prunus avium ‘Stella’ x P. avium ‘Summit’', 'Availability': 'InStock', 'Category': '3-4 feet', 'Pack': None, 'RegularPrice': '$159.95', 'SalePrice': '$95.95', 'ReviewCount': '0 reviews', 'Rating': '0.0'}, {'ProductURL': 'https://www.fast-growing-trees.com/products/santina-cherry-tree', 'ProductName': 'Santina™ Cherry Tree', 'SubHeading': 'Prunus avium ‘Stella’ x P. avium ‘Summit’', 'Availability': 'InStock', 'Category': '4-5 ft.', 'Pack': None, 'RegularPrice': None, 'SalePrice': '$169.95', 'ReviewCount': '0 reviews', 'Rating': '0.0'}, {'ProductURL': 'https://www.fast-growing-trees.com/products/santina-cherry-tree', 'ProductName': 'Santina™ Cherry Tree', 'SubHeading': 'Prunus avium ‘Stella’ x P. avium ‘Summit’', 'Availability': 'InStock', 'Category': '5-6 ft.', 'Pack': None, 'RegularPrice': None, 'SalePrice': '$189.95', 'ReviewCount': '0 reviews', 'Rating': '0.0'}]\n",
      "https://www.fast-growing-trees.com/products/the-original-bendable-moss-pole\n"
     ]
    },
    {
     "name": "stderr",
     "output_type": "stream",
     "text": [
      "\r",
      "GettingInfo:  35%|███████████████████████▍                                           | 35/100 [04:45<09:41,  8.94s/URL]"
     ]
    },
    {
     "name": "stdout",
     "output_type": "stream",
     "text": [
      "[{'ProductURL': 'https://www.fast-growing-trees.com/products/the-original-bendable-moss-pole', 'ProductName': 'The Original Bendable Moss Pole™', 'SubHeading': '', 'Availability': 'InStock', 'Category': 'Original Bendable Moss Pole -For Climbing Plants', 'Pack': None, 'RegularPrice': None, 'SalePrice': '$54.95', 'ReviewCount': '1 reviews', 'Rating': '5.0'}]\n",
      "https://www.fast-growing-trees.com/products/rust-resistant-steel-garden-scissors\n"
     ]
    },
    {
     "name": "stderr",
     "output_type": "stream",
     "text": [
      "\r",
      "GettingInfo:  36%|████████████████████████                                           | 36/100 [04:54<09:24,  8.82s/URL]"
     ]
    },
    {
     "name": "stdout",
     "output_type": "stream",
     "text": [
      "[{'ProductURL': 'https://www.fast-growing-trees.com/products/rust-resistant-steel-garden-scissors', 'ProductName': 'Rust-Resistant Steel Garden Scissors', 'SubHeading': '', 'Availability': 'InStock', 'Category': 'Rust Resistant Steel Garden Scissors', 'Pack': None, 'RegularPrice': None, 'SalePrice': '$39.95', 'ReviewCount': '0 reviews', 'Rating': '0.0'}]\n",
      "https://www.fast-growing-trees.com/products/steel-pruners-with-sheath\n"
     ]
    },
    {
     "name": "stderr",
     "output_type": "stream",
     "text": [
      "\r",
      "GettingInfo:  37%|████████████████████████▊                                          | 37/100 [05:03<09:17,  8.84s/URL]"
     ]
    },
    {
     "name": "stdout",
     "output_type": "stream",
     "text": [
      "[{'ProductURL': 'https://www.fast-growing-trees.com/products/steel-pruners-with-sheath', 'ProductName': 'Steel Pruners With Sheath', 'SubHeading': '', 'Availability': 'InStock', 'Category': 'Steel Pruners with Sheath', 'Pack': None, 'RegularPrice': None, 'SalePrice': '$54.95', 'ReviewCount': '0 reviews', 'Rating': '0.0'}]\n",
      "https://www.fast-growing-trees.com/products/weather-resistant-harvesting-gathering-bag\n"
     ]
    },
    {
     "name": "stderr",
     "output_type": "stream",
     "text": [
      "\r",
      "GettingInfo:  38%|█████████████████████████▍                                         | 38/100 [05:11<09:06,  8.82s/URL]"
     ]
    },
    {
     "name": "stdout",
     "output_type": "stream",
     "text": [
      "[{'ProductURL': 'https://www.fast-growing-trees.com/products/weather-resistant-harvesting-gathering-bag', 'ProductName': 'Weather-Resistant Harvesting & Gathering Bag', 'SubHeading': '', 'Availability': 'InStock', 'Category': 'Harvesting & Gathering Bag', 'Pack': None, 'RegularPrice': None, 'SalePrice': '$99.95', 'ReviewCount': '0 reviews', 'Rating': '0.0'}]\n",
      "https://www.fast-growing-trees.com/products/womens-gardening-gloves-3-pack\n"
     ]
    },
    {
     "name": "stderr",
     "output_type": "stream",
     "text": [
      "\r",
      "GettingInfo:  39%|██████████████████████████▏                                        | 39/100 [05:20<08:56,  8.80s/URL]"
     ]
    },
    {
     "name": "stdout",
     "output_type": "stream",
     "text": [
      "[{'ProductURL': 'https://www.fast-growing-trees.com/products/womens-gardening-gloves-3-pack', 'ProductName': \"Women's Gardening Gloves (3 Pack)\", 'SubHeading': '', 'Availability': 'InStock', 'Category': \"All Purpose Garden Gloves 3 pk -Women's\", 'Pack': None, 'RegularPrice': None, 'SalePrice': '$19.95', 'ReviewCount': '1 reviews', 'Rating': '5.0'}]\n",
      "https://www.fast-growing-trees.com/products/cleanstraw-pine-straw\n"
     ]
    },
    {
     "name": "stderr",
     "output_type": "stream",
     "text": [
      "\r",
      "GettingInfo:  40%|██████████████████████████▊                                        | 40/100 [05:29<08:55,  8.92s/URL]"
     ]
    },
    {
     "name": "stdout",
     "output_type": "stream",
     "text": [
      "[{'ProductURL': 'https://www.fast-growing-trees.com/products/cleanstraw-pine-straw', 'ProductName': 'CleanStraw Pine Straw', 'SubHeading': '', 'Availability': 'InStock', 'Category': '100 Square Feet', 'Pack': 'Single', 'RegularPrice': None, 'SalePrice': '$34.95', 'ReviewCount': '27 reviews', 'Rating': '5.0'}, {'ProductURL': 'https://www.fast-growing-trees.com/products/cleanstraw-pine-straw', 'ProductName': 'CleanStraw Pine Straw', 'SubHeading': '', 'Availability': 'InStock', 'Category': '100 Square Feet', 'Pack': '2-Pack', 'RegularPrice': '$69.90', 'SalePrice': '$58.02', 'ReviewCount': '27 reviews', 'Rating': '5.0'}, {'ProductURL': 'https://www.fast-growing-trees.com/products/cleanstraw-pine-straw', 'ProductName': 'CleanStraw Pine Straw', 'SubHeading': '', 'Availability': 'InStock', 'Category': '100 Square Feet', 'Pack': '6-Pack', 'RegularPrice': '$209.70', 'SalePrice': '$174.05', 'ReviewCount': '27 reviews', 'Rating': '5.0'}]\n",
      "https://www.fast-growing-trees.com/products/ficus-tineke\n"
     ]
    },
    {
     "name": "stderr",
     "output_type": "stream",
     "text": [
      "\r",
      "GettingInfo:  41%|███████████████████████████▍                                       | 41/100 [05:43<10:14, 10.41s/URL]"
     ]
    },
    {
     "name": "stdout",
     "output_type": "stream",
     "text": [
      "[{'ProductURL': 'https://www.fast-growing-trees.com/products/ficus-tineke', 'ProductName': 'Ficus Tineke', 'SubHeading': \"Ficus elastica 'Tineke'\", 'Availability': 'InStock', 'Category': '3 Gallon', 'Pack': None, 'RegularPrice': '$74.95', 'SalePrice': '$59.95', 'ReviewCount': '3 reviews', 'Rating': '4.0'}, {'ProductURL': 'https://www.fast-growing-trees.com/products/ficus-tineke', 'ProductName': 'Ficus Tineke', 'SubHeading': \"Ficus elastica 'Tineke'\", 'Availability': 'InStock', 'Category': '3 Gallon with Beige Delilah Pot', 'Pack': None, 'RegularPrice': None, 'SalePrice': '$74.95', 'ReviewCount': '3 reviews', 'Rating': '4.0'}, {'ProductURL': 'https://www.fast-growing-trees.com/products/ficus-tineke', 'ProductName': 'Ficus Tineke', 'SubHeading': \"Ficus elastica 'Tineke'\", 'Availability': 'InStock', 'Category': '3 Gallon with Red Delilah Pot', 'Pack': None, 'RegularPrice': None, 'SalePrice': '$79.95', 'ReviewCount': '3 reviews', 'Rating': '4.0'}, {'ProductURL': 'https://www.fast-growing-trees.com/products/ficus-tineke', 'ProductName': 'Ficus Tineke', 'SubHeading': \"Ficus elastica 'Tineke'\", 'Availability': 'InStock', 'Category': '3 Gallon with White Delilah Pot', 'Pack': None, 'RegularPrice': None, 'SalePrice': '$74.95', 'ReviewCount': '3 reviews', 'Rating': '4.0'}]\n",
      "https://www.fast-growing-trees.com/products/brooks-plum-tree\n"
     ]
    },
    {
     "name": "stderr",
     "output_type": "stream",
     "text": [
      "\r",
      "GettingInfo:  42%|████████████████████████████▏                                      | 42/100 [05:50<08:52,  9.19s/URL]"
     ]
    },
    {
     "name": "stdout",
     "output_type": "stream",
     "text": [
      "[{'ProductURL': 'https://www.fast-growing-trees.com/products/brooks-plum-tree', 'ProductName': 'Brooks Plum Tree', 'SubHeading': \"Prunus x domestica 'Brooks'\", 'Availability': 'SoldOut', 'Category': None, 'Pack': None, 'RegularPrice': None, 'SalePrice': None, 'ReviewCount': '1 reviews', 'Rating': '5.0'}]\n",
      "https://www.fast-growing-trees.com/products/creeping-rosemary\n"
     ]
    },
    {
     "name": "stderr",
     "output_type": "stream",
     "text": [
      "\r",
      "GettingInfo:  43%|████████████████████████████▊                                      | 43/100 [05:56<07:58,  8.40s/URL]"
     ]
    },
    {
     "name": "stdout",
     "output_type": "stream",
     "text": [
      "[{'ProductURL': 'https://www.fast-growing-trees.com/products/creeping-rosemary', 'ProductName': 'Creeping Rosemary', 'SubHeading': \"Rosmarinus officinalis 'Prostratus'\", 'Availability': 'SoldOut', 'Category': None, 'Pack': None, 'RegularPrice': None, 'SalePrice': None, 'ReviewCount': '0 reviews', 'Rating': '0.0'}]\n",
      "https://www.fast-growing-trees.com/products/lavender-exceptional\n"
     ]
    },
    {
     "name": "stderr",
     "output_type": "stream",
     "text": [
      "\r",
      "GettingInfo:  44%|█████████████████████████████▍                                     | 44/100 [06:06<08:07,  8.70s/URL]"
     ]
    },
    {
     "name": "stdout",
     "output_type": "stream",
     "text": [
      "[{'ProductURL': 'https://www.fast-growing-trees.com/products/lavender-exceptional', 'ProductName': 'Lavender Exceptional™', 'SubHeading': \" Lavandula x intermedia 'Exceptional' \", 'Availability': 'InStock', 'Category': '1 quart', 'Pack': 'Single', 'RegularPrice': None, 'SalePrice': '$49.95', 'ReviewCount': '0 reviews', 'Rating': '0.0'}, {'ProductURL': 'https://www.fast-growing-trees.com/products/lavender-exceptional', 'ProductName': 'Lavender Exceptional™', 'SubHeading': \" Lavandula x intermedia 'Exceptional' \", 'Availability': 'InStock', 'Category': '1 quart', 'Pack': '10-Pack', 'RegularPrice': '$499.50', 'SalePrice': '$414.59', 'ReviewCount': '0 reviews', 'Rating': '0.0'}]\n",
      "https://www.fast-growing-trees.com/products/400-series-polyurethane-garden-hose\n"
     ]
    },
    {
     "name": "stderr",
     "output_type": "stream",
     "text": [
      "\r",
      "GettingInfo:  45%|██████████████████████████████▏                                    | 45/100 [06:14<07:56,  8.66s/URL]"
     ]
    },
    {
     "name": "stdout",
     "output_type": "stream",
     "text": [
      "[{'ProductURL': 'https://www.fast-growing-trees.com/products/400-series-polyurethane-garden-hose', 'ProductName': '400 Series Polyurethane Garden Hose', 'SubHeading': '', 'Availability': 'InStock', 'Category': 'Garden Hose', 'Pack': None, 'RegularPrice': None, 'SalePrice': '$54.95', 'ReviewCount': '0 reviews', 'Rating': '5.0'}]\n",
      "https://www.fast-growing-trees.com/products/3-in-1-leaf-rake-grabber\n"
     ]
    },
    {
     "name": "stderr",
     "output_type": "stream",
     "text": [
      "\r",
      "GettingInfo:  46%|██████████████████████████████▊                                    | 46/100 [06:23<07:50,  8.72s/URL]"
     ]
    },
    {
     "name": "stdout",
     "output_type": "stream",
     "text": [
      "[{'ProductURL': 'https://www.fast-growing-trees.com/products/3-in-1-leaf-rake-grabber', 'ProductName': '3-in-1 Leaf Rake & Grabber', 'SubHeading': '', 'Availability': 'InStock', 'Category': '3-in-1 Leaf Rake & Grabber', 'Pack': None, 'RegularPrice': None, 'SalePrice': '$24.95', 'ReviewCount': '1 reviews', 'Rating': '5.0'}]\n",
      "https://www.fast-growing-trees.com/products/green-gage-plum\n"
     ]
    },
    {
     "name": "stderr",
     "output_type": "stream",
     "text": [
      "\r",
      "GettingInfo:  47%|███████████████████████████████▍                                   | 47/100 [06:29<07:06,  8.04s/URL]"
     ]
    },
    {
     "name": "stdout",
     "output_type": "stream",
     "text": [
      "[{'ProductURL': 'https://www.fast-growing-trees.com/products/green-gage-plum', 'ProductName': 'Green Gage Plum', 'SubHeading': 'Prunus domestica ‘Green Gage’', 'Availability': 'SoldOut', 'Category': None, 'Pack': None, 'RegularPrice': None, 'SalePrice': None, 'ReviewCount': '0 reviews', 'Rating': '0.0'}]\n",
      "https://www.fast-growing-trees.com/products/bounty-peach-tree\n"
     ]
    },
    {
     "name": "stderr",
     "output_type": "stream",
     "text": [
      "\r",
      "GettingInfo:  48%|████████████████████████████████▏                                  | 48/100 [06:36<06:40,  7.70s/URL]"
     ]
    },
    {
     "name": "stdout",
     "output_type": "stream",
     "text": [
      "[{'ProductURL': 'https://www.fast-growing-trees.com/products/bounty-peach-tree', 'ProductName': 'Bounty Peach Tree', 'SubHeading': \"Prunus persica 'Bounty'\", 'Availability': 'SoldOut', 'Category': None, 'Pack': None, 'RegularPrice': None, 'SalePrice': None, 'ReviewCount': '1 reviews', 'Rating': '4.0'}]\n",
      "https://www.fast-growing-trees.com/products/mini-coil-hose-wand-sprayer\n"
     ]
    },
    {
     "name": "stderr",
     "output_type": "stream",
     "text": [
      "\r",
      "GettingInfo:  49%|████████████████████████████████▊                                  | 49/100 [06:45<06:46,  7.97s/URL]"
     ]
    },
    {
     "name": "stdout",
     "output_type": "stream",
     "text": [
      "[{'ProductURL': 'https://www.fast-growing-trees.com/products/mini-coil-hose-wand-sprayer', 'ProductName': 'Mini Coil Hose & Wand Sprayer', 'SubHeading': '', 'Availability': 'InStock', 'Category': 'Mini Coil Hose with Wand Sprayer', 'Pack': None, 'RegularPrice': None, 'SalePrice': '$54.95', 'ReviewCount': '2 reviews', 'Rating': '2.5'}]\n",
      "https://www.fast-growing-trees.com/products/garden-trowel\n"
     ]
    },
    {
     "name": "stderr",
     "output_type": "stream",
     "text": [
      "\r",
      "GettingInfo:  50%|█████████████████████████████████▌                                 | 50/100 [06:54<06:48,  8.18s/URL]"
     ]
    },
    {
     "name": "stdout",
     "output_type": "stream",
     "text": [
      "[{'ProductURL': 'https://www.fast-growing-trees.com/products/garden-trowel', 'ProductName': 'Garden Trowel', 'SubHeading': '', 'Availability': 'InStock', 'Category': 'Garden Trowel', 'Pack': None, 'RegularPrice': None, 'SalePrice': '$44.95', 'ReviewCount': '0 reviews', 'Rating': '0.0'}]\n",
      "https://www.fast-growing-trees.com/products/weeding-fork\n"
     ]
    },
    {
     "name": "stderr",
     "output_type": "stream",
     "text": [
      "\r",
      "GettingInfo:  51%|██████████████████████████████████▏                                | 51/100 [07:02<06:49,  8.35s/URL]"
     ]
    },
    {
     "name": "stdout",
     "output_type": "stream",
     "text": [
      "[{'ProductURL': 'https://www.fast-growing-trees.com/products/weeding-fork', 'ProductName': 'Weeding Fork', 'SubHeading': '', 'Availability': 'InStock', 'Category': 'Weeding Fork', 'Pack': None, 'RegularPrice': None, 'SalePrice': '$44.95', 'ReviewCount': '0 reviews', 'Rating': '0.0'}]\n",
      "https://www.fast-growing-trees.com/products/chocolate-fountain-mimosa\n"
     ]
    },
    {
     "name": "stderr",
     "output_type": "stream",
     "text": [
      "\r",
      "GettingInfo:  52%|██████████████████████████████████▊                                | 52/100 [07:12<06:52,  8.60s/URL]"
     ]
    },
    {
     "name": "stdout",
     "output_type": "stream",
     "text": [
      "[{'ProductURL': 'https://www.fast-growing-trees.com/products/chocolate-fountain-mimosa', 'ProductName': 'Chocolate Fountain™ Weeping Mimosa', 'SubHeading': \"Albizia julibrissin 'NCAJ1'\", 'Availability': 'InStock', 'Category': '2-3 feet', 'Pack': None, 'RegularPrice': None, 'SalePrice': '$179.95', 'ReviewCount': '2 reviews', 'Rating': '3.0'}]\n",
      "https://www.fast-growing-trees.com/products/men-s-classic-garden-gloves\n"
     ]
    },
    {
     "name": "stderr",
     "output_type": "stream",
     "text": [
      "\r",
      "GettingInfo:  53%|███████████████████████████████████▌                               | 53/100 [07:20<06:44,  8.61s/URL]"
     ]
    },
    {
     "name": "stdout",
     "output_type": "stream",
     "text": [
      "[{'ProductURL': 'https://www.fast-growing-trees.com/products/men-s-classic-garden-gloves', 'ProductName': 'Classic Work Gloves', 'SubHeading': '', 'Availability': 'InStock', 'Category': 'Classic Work Glove -Natural L/XL', 'Pack': None, 'RegularPrice': None, 'SalePrice': '$21.95', 'ReviewCount': '0 reviews', 'Rating': '0.0'}]\n",
      "https://www.fast-growing-trees.com/products/garden-kneeling-pad\n"
     ]
    },
    {
     "name": "stderr",
     "output_type": "stream",
     "text": [
      "\r",
      "GettingInfo:  54%|████████████████████████████████████▏                              | 54/100 [07:29<06:33,  8.55s/URL]"
     ]
    },
    {
     "name": "stdout",
     "output_type": "stream",
     "text": [
      "[{'ProductURL': 'https://www.fast-growing-trees.com/products/garden-kneeling-pad', 'ProductName': 'Garden Kneeling Pad', 'SubHeading': '', 'Availability': 'InStock', 'Category': 'Garden Knee Pad', 'Pack': None, 'RegularPrice': None, 'SalePrice': '$14.95', 'ReviewCount': '0 reviews', 'Rating': '0.0'}]\n",
      "https://www.fast-growing-trees.com/products/quick-fire-hydrangea\n"
     ]
    },
    {
     "name": "stderr",
     "output_type": "stream",
     "text": [
      "\r",
      "GettingInfo:  55%|████████████████████████████████████▊                              | 55/100 [07:35<05:57,  7.93s/URL]"
     ]
    },
    {
     "name": "stdout",
     "output_type": "stream",
     "text": [
      "[{'ProductURL': 'https://www.fast-growing-trees.com/products/quick-fire-hydrangea', 'ProductName': 'Quick Fire® Hydrangea Tree', 'SubHeading': \"Hydrangea paniculata 'Bulk'\", 'Availability': 'SoldOut', 'Category': None, 'Pack': None, 'RegularPrice': None, 'SalePrice': None, 'ReviewCount': '5 reviews', 'Rating': '4.8'}]\n",
      "https://www.fast-growing-trees.com/products/drake-chinese-elm-tree-az\n"
     ]
    },
    {
     "name": "stderr",
     "output_type": "stream",
     "text": [
      "\r",
      "GettingInfo:  56%|█████████████████████████████████████▌                             | 56/100 [07:42<05:39,  7.72s/URL]"
     ]
    },
    {
     "name": "stdout",
     "output_type": "stream",
     "text": [
      "[{'ProductURL': 'https://www.fast-growing-trees.com/products/drake-chinese-elm-tree-az', 'ProductName': 'Drake Chinese Elm Tree', 'SubHeading': \"Ulmus parvifolia 'Drake'\", 'Availability': 'SoldOut', 'Category': None, 'Pack': None, 'RegularPrice': None, 'SalePrice': None, 'ReviewCount': '0 reviews', 'Rating': '0.0'}]\n",
      "https://www.fast-growing-trees.com/products/root-rocket-fertilizer-10-lb\n"
     ]
    },
    {
     "name": "stderr",
     "output_type": "stream",
     "text": [
      "\r",
      "GettingInfo:  57%|██████████████████████████████████████▏                            | 57/100 [07:51<05:46,  8.06s/URL]"
     ]
    },
    {
     "name": "stdout",
     "output_type": "stream",
     "text": [
      "[{'ProductURL': 'https://www.fast-growing-trees.com/products/root-rocket-fertilizer-10-lb', 'ProductName': 'Root Rocket® Fertilizer (10 lb. Container)', 'SubHeading': '', 'Availability': 'InStock', 'Category': 'Root Rocket Fertilizer- 10 lb. Container', 'Pack': None, 'RegularPrice': None, 'SalePrice': '$219.95', 'ReviewCount': '0 reviews', 'Rating': '0.0'}]\n",
      "https://www.fast-growing-trees.com/products/copy-of-pressure-treated-wood-training-trellis\n"
     ]
    },
    {
     "name": "stderr",
     "output_type": "stream",
     "text": [
      "\r",
      "GettingInfo:  58%|██████████████████████████████████████▊                            | 58/100 [08:03<06:22,  9.10s/URL]"
     ]
    },
    {
     "name": "stdout",
     "output_type": "stream",
     "text": [
      "[{'ProductURL': 'https://www.fast-growing-trees.com/products/copy-of-pressure-treated-wood-training-trellis', 'ProductName': 'Pressure-Treated Wood Training Trellis', 'SubHeading': '', 'Availability': 'InStock', 'Category': 'Clematis Trainer Trellis 24 inch', 'Pack': None, 'RegularPrice': None, 'SalePrice': '$9.95', 'ReviewCount': '0 reviews', 'Rating': '0.0'}, {'ProductURL': 'https://www.fast-growing-trees.com/products/copy-of-pressure-treated-wood-training-trellis', 'ProductName': 'Pressure-Treated Wood Training Trellis', 'SubHeading': '', 'Availability': 'InStock', 'Category': 'Clematis Trainer Trellis 45 inch', 'Pack': None, 'RegularPrice': None, 'SalePrice': '$15.95', 'ReviewCount': '0 reviews', 'Rating': '0.0'}]\n",
      "https://www.fast-growing-trees.com/products/cypress-wood-trellis-1\n"
     ]
    },
    {
     "name": "stderr",
     "output_type": "stream",
     "text": [
      "\r",
      "GettingInfo:  59%|███████████████████████████████████████▌                           | 59/100 [08:12<06:10,  9.03s/URL]"
     ]
    },
    {
     "name": "stdout",
     "output_type": "stream",
     "text": [
      "[{'ProductURL': 'https://www.fast-growing-trees.com/products/cypress-wood-trellis-1', 'ProductName': 'Cypress Wood Trellis', 'SubHeading': '', 'Availability': 'InStock', 'Category': 'Clematis Trainer Trellis -Pressure Treated Wood', 'Pack': None, 'RegularPrice': None, 'SalePrice': '$9.95', 'ReviewCount': '0 reviews', 'Rating': '0.0'}]\n",
      "https://www.fast-growing-trees.com/products/extendahandle-garden-trowel\n"
     ]
    },
    {
     "name": "stderr",
     "output_type": "stream",
     "text": [
      "\r",
      "GettingInfo:  60%|████████████████████████████████████████▏                          | 60/100 [08:21<06:02,  9.06s/URL]"
     ]
    },
    {
     "name": "stdout",
     "output_type": "stream",
     "text": [
      "[{'ProductURL': 'https://www.fast-growing-trees.com/products/extendahandle-garden-trowel', 'ProductName': 'Corona ExtendaHandle Garden Trowel', 'SubHeading': '', 'Availability': 'InStock', 'Category': 'ExtendaHandle Garden Trowel', 'Pack': None, 'RegularPrice': None, 'SalePrice': '$14.95', 'ReviewCount': '1 reviews', 'Rating': '5.0'}]\n",
      "https://www.fast-growing-trees.com/products/tempered-steel-garden-spade\n"
     ]
    },
    {
     "name": "stderr",
     "output_type": "stream",
     "text": [
      "\r",
      "GettingInfo:  61%|████████████████████████████████████████▊                          | 61/100 [08:30<05:54,  9.09s/URL]"
     ]
    },
    {
     "name": "stdout",
     "output_type": "stream",
     "text": [
      "[{'ProductURL': 'https://www.fast-growing-trees.com/products/tempered-steel-garden-spade', 'ProductName': 'Tempered Steel Garden Spade', 'SubHeading': '', 'Availability': 'InStock', 'Category': 'Tempered Steel Garden Spade', 'Pack': None, 'RegularPrice': None, 'SalePrice': '$119.95', 'ReviewCount': '0 reviews', 'Rating': '0.0'}]\n",
      "https://www.fast-growing-trees.com/products/suncalc-sunlight-calculator\n"
     ]
    },
    {
     "name": "stderr",
     "output_type": "stream",
     "text": [
      "\r",
      "GettingInfo:  62%|█████████████████████████████████████████▌                         | 62/100 [08:38<05:35,  8.83s/URL]"
     ]
    },
    {
     "name": "stdout",
     "output_type": "stream",
     "text": [
      "[{'ProductURL': 'https://www.fast-growing-trees.com/products/suncalc-sunlight-calculator', 'ProductName': 'SunCalc Sunlight Calculator', 'SubHeading': '', 'Availability': 'InStock', 'Category': 'SunCalc Sunlight Calculator', 'Pack': None, 'RegularPrice': None, 'SalePrice': '$21.95', 'ReviewCount': '0 reviews', 'Rating': '0.0'}]\n",
      "https://www.fast-growing-trees.com/products/extendahandle-garden-rake\n"
     ]
    },
    {
     "name": "stderr",
     "output_type": "stream",
     "text": [
      "\r",
      "GettingInfo:  63%|██████████████████████████████████████████▏                        | 63/100 [08:47<05:26,  8.83s/URL]"
     ]
    },
    {
     "name": "stdout",
     "output_type": "stream",
     "text": [
      "[{'ProductURL': 'https://www.fast-growing-trees.com/products/extendahandle-garden-rake', 'ProductName': 'Corona ExtendaHandle Garden Rake', 'SubHeading': '', 'Availability': 'InStock', 'Category': 'ExtendaHandle Garden Rake', 'Pack': None, 'RegularPrice': None, 'SalePrice': '$19.95', 'ReviewCount': '0 reviews', 'Rating': '0.0'}]\n",
      "https://www.fast-growing-trees.com/products/forged-steel-hedge-shears\n"
     ]
    },
    {
     "name": "stderr",
     "output_type": "stream",
     "text": [
      "\r",
      "GettingInfo:  64%|██████████████████████████████████████████▉                        | 64/100 [08:56<05:17,  8.82s/URL]"
     ]
    },
    {
     "name": "stdout",
     "output_type": "stream",
     "text": [
      "[{'ProductURL': 'https://www.fast-growing-trees.com/products/forged-steel-hedge-shears', 'ProductName': 'Forged Steel Hedge Shears', 'SubHeading': '', 'Availability': 'InStock', 'Category': 'Forged Steel Hedge Shears', 'Pack': None, 'RegularPrice': None, 'SalePrice': '$64.95', 'ReviewCount': '0 reviews', 'Rating': '0.0'}]\n",
      "https://www.fast-growing-trees.com/products/nules-clementine-bush\n"
     ]
    },
    {
     "name": "stderr",
     "output_type": "stream",
     "text": [
      "\r",
      "GettingInfo:  65%|███████████████████████████████████████████▌                       | 65/100 [09:02<04:46,  8.20s/URL]"
     ]
    },
    {
     "name": "stdout",
     "output_type": "stream",
     "text": [
      "[{'ProductURL': 'https://www.fast-growing-trees.com/products/nules-clementine-bush', 'ProductName': 'Nules Clementine Bush', 'SubHeading': 'Citrus clementina', 'Availability': 'SoldOut', 'Category': None, 'Pack': None, 'RegularPrice': None, 'SalePrice': None, 'ReviewCount': '0 reviews', 'Rating': '0.0'}]\n",
      "https://www.fast-growing-trees.com/products/power-planter-planting-auger-1\n"
     ]
    },
    {
     "name": "stderr",
     "output_type": "stream",
     "text": [
      "\r",
      "GettingInfo:  66%|████████████████████████████████████████████▏                      | 66/100 [09:10<04:35,  8.11s/URL]"
     ]
    },
    {
     "name": "stdout",
     "output_type": "stream",
     "text": [
      "[{'ProductURL': 'https://www.fast-growing-trees.com/products/power-planter-planting-auger-1', 'ProductName': 'Large Power Planter® Planting Auger', 'SubHeading': '', 'Availability': 'InStock', 'Category': 'Large Power Planter Auger', 'Pack': None, 'RegularPrice': None, 'SalePrice': '$279.95', 'ReviewCount': '0 reviews', 'Rating': '0.0'}]\n",
      "https://www.fast-growing-trees.com/products/wheeleasy-collapsible-wheelbarrow\n"
     ]
    },
    {
     "name": "stderr",
     "output_type": "stream",
     "text": [
      "\r",
      "GettingInfo:  67%|████████████████████████████████████████████▉                      | 67/100 [09:20<04:42,  8.55s/URL]"
     ]
    },
    {
     "name": "stdout",
     "output_type": "stream",
     "text": [
      "[{'ProductURL': 'https://www.fast-growing-trees.com/products/wheeleasy-collapsible-wheelbarrow', 'ProductName': 'WheelEasy Collapsible Wheelbarrow', 'SubHeading': '', 'Availability': 'InStock', 'Category': 'WheelEasy Collapsible Wheelbarrow', 'Pack': None, 'RegularPrice': None, 'SalePrice': '$179.95', 'ReviewCount': '0 reviews', 'Rating': '5.0'}]\n",
      "https://www.fast-growing-trees.com/products/fuyu-persimmon-tree-ca\n"
     ]
    },
    {
     "name": "stderr",
     "output_type": "stream",
     "text": [
      "\r",
      "GettingInfo:  68%|█████████████████████████████████████████████▌                     | 68/100 [09:27<04:21,  8.17s/URL]"
     ]
    },
    {
     "name": "stdout",
     "output_type": "stream",
     "text": [
      "[{'ProductURL': 'https://www.fast-growing-trees.com/products/fuyu-persimmon-tree-ca', 'ProductName': 'Fuyu Persimmon Tree', 'SubHeading': \"Diospyros kaki 'Fuyu'\", 'Availability': 'SoldOut', 'Category': None, 'Pack': None, 'RegularPrice': None, 'SalePrice': None, 'ReviewCount': '6 reviews', 'Rating': '5.0'}]\n",
      "https://www.fast-growing-trees.com/products/red-finger-lime-fl\n"
     ]
    },
    {
     "name": "stderr",
     "output_type": "stream",
     "text": [
      "\r",
      "GettingInfo:  69%|██████████████████████████████████████████████▏                    | 69/100 [09:34<04:04,  7.88s/URL]"
     ]
    },
    {
     "name": "stdout",
     "output_type": "stream",
     "text": [
      "[{'ProductURL': 'https://www.fast-growing-trees.com/products/red-finger-lime-fl', 'ProductName': 'Red Finger Lime', 'SubHeading': 'Microcitrus australasica', 'Availability': 'SoldOut', 'Category': None, 'Pack': None, 'RegularPrice': None, 'SalePrice': None, 'ReviewCount': '1 reviews', 'Rating': '5.0'}]\n",
      "https://www.fast-growing-trees.com/products/rake-and-lawn-leaf-bag-kit\n"
     ]
    },
    {
     "name": "stderr",
     "output_type": "stream",
     "text": [
      "\r",
      "GettingInfo:  70%|██████████████████████████████████████████████▉                    | 70/100 [09:44<04:12,  8.42s/URL]"
     ]
    },
    {
     "name": "stdout",
     "output_type": "stream",
     "text": [
      "[{'ProductURL': 'https://www.fast-growing-trees.com/products/rake-and-lawn-leaf-bag-kit', 'ProductName': 'Rake and Lawn & Leaf Bag Kit', 'SubHeading': '', 'Availability': 'InStock', 'Category': 'Rake and Lawn & Leaf Bag Kit', 'Pack': None, 'RegularPrice': None, 'SalePrice': '$29.95', 'ReviewCount': '0 reviews', 'Rating': '0.0'}]\n",
      "https://www.fast-growing-trees.com/products/black-mulch\n"
     ]
    },
    {
     "name": "stderr",
     "output_type": "stream",
     "text": [
      "\r",
      "GettingInfo:  71%|███████████████████████████████████████████████▌                   | 71/100 [09:53<04:06,  8.51s/URL]"
     ]
    },
    {
     "name": "stdout",
     "output_type": "stream",
     "text": [
      "[{'ProductURL': 'https://www.fast-growing-trees.com/products/black-mulch', 'ProductName': 'Black Mulch', 'SubHeading': '', 'Availability': 'InStock', 'Category': '1 Bag-2 Cubic Ft', 'Pack': 'Single', 'RegularPrice': None, 'SalePrice': '$44.95', 'ReviewCount': '0 reviews', 'Rating': '0.0'}, {'ProductURL': 'https://www.fast-growing-trees.com/products/black-mulch', 'ProductName': 'Black Mulch', 'SubHeading': '', 'Availability': 'InStock', 'Category': '1 Bag-2 Cubic Ft', 'Pack': '2-Pack', 'RegularPrice': '$89.90', 'SalePrice': '$56.64', 'ReviewCount': '0 reviews', 'Rating': '0.0'}]\n",
      "https://www.fast-growing-trees.com/products/honey-jar-jujube-tree\n"
     ]
    },
    {
     "name": "stderr",
     "output_type": "stream",
     "text": [
      "\r",
      "GettingInfo:  72%|████████████████████████████████████████████████▏                  | 72/100 [09:59<03:35,  7.71s/URL]"
     ]
    },
    {
     "name": "stdout",
     "output_type": "stream",
     "text": [
      "[{'ProductURL': 'https://www.fast-growing-trees.com/products/honey-jar-jujube-tree', 'ProductName': 'Honey Jar Jujube Tree', 'SubHeading': \"Ziziphus jujuba 'Honey Jar'\", 'Availability': 'SoldOut', 'Category': None, 'Pack': None, 'RegularPrice': None, 'SalePrice': None, 'ReviewCount': '3 reviews', 'Rating': '5.0'}]\n",
      "https://www.fast-growing-trees.com/products/red-finger-lime\n"
     ]
    },
    {
     "name": "stderr",
     "output_type": "stream",
     "text": [
      "\r",
      "GettingInfo:  73%|████████████████████████████████████████████████▉                  | 73/100 [10:07<03:35,  7.98s/URL]"
     ]
    },
    {
     "name": "stdout",
     "output_type": "stream",
     "text": [
      "[{'ProductURL': 'https://www.fast-growing-trees.com/products/red-finger-lime', 'ProductName': 'Red Finger Lime', 'SubHeading': 'Microcitrus australasica', 'Availability': 'InStock', 'Category': '1-2 feet', 'Pack': None, 'RegularPrice': None, 'SalePrice': '$99.95', 'ReviewCount': '2 reviews', 'Rating': '5.0'}, {'ProductURL': 'https://www.fast-growing-trees.com/products/red-finger-lime', 'ProductName': 'Red Finger Lime', 'SubHeading': 'Microcitrus australasica', 'Availability': 'InStock', 'Category': '2 Gallon', 'Pack': None, 'RegularPrice': '$129.95', 'SalePrice': '$99.95', 'ReviewCount': '2 reviews', 'Rating': '5.0'}]\n",
      "https://www.fast-growing-trees.com/products/round-point-steel-shovel\n"
     ]
    },
    {
     "name": "stderr",
     "output_type": "stream",
     "text": [
      "\r",
      "GettingInfo:  74%|█████████████████████████████████████████████████▌                 | 74/100 [10:16<03:31,  8.14s/URL]"
     ]
    },
    {
     "name": "stdout",
     "output_type": "stream",
     "text": [
      "[{'ProductURL': 'https://www.fast-growing-trees.com/products/round-point-steel-shovel', 'ProductName': 'Round Point Steel Shovel', 'SubHeading': '', 'Availability': 'InStock', 'Category': 'Round Point Steel Shovel', 'Pack': None, 'RegularPrice': None, 'SalePrice': '$99.95', 'ReviewCount': '0 reviews', 'Rating': '0.0'}]\n",
      "https://www.fast-growing-trees.com/products/manzanillo-olive-tree-ca\n"
     ]
    },
    {
     "name": "stderr",
     "output_type": "stream",
     "text": [
      "\r",
      "GettingInfo:  75%|██████████████████████████████████████████████████▎                | 75/100 [10:24<03:26,  8.28s/URL]"
     ]
    },
    {
     "name": "stdout",
     "output_type": "stream",
     "text": [
      "[{'ProductURL': 'https://www.fast-growing-trees.com/products/manzanillo-olive-tree-ca', 'ProductName': 'Manzanillo Olive Tree', 'SubHeading': \"Olea europaea 'Manzanillo’\", 'Availability': 'InStock', 'Category': '3-4 ft.', 'Pack': None, 'RegularPrice': None, 'SalePrice': '$149.95', 'ReviewCount': '0 reviews', 'Rating': '0.0'}]\n",
      "https://www.fast-growing-trees.com/products/silver-dollar-eucalyptus-tree\n"
     ]
    },
    {
     "name": "stderr",
     "output_type": "stream",
     "text": [
      "\r",
      "GettingInfo:  76%|██████████████████████████████████████████████████▉                | 76/100 [10:31<03:03,  7.63s/URL]"
     ]
    },
    {
     "name": "stdout",
     "output_type": "stream",
     "text": [
      "[{'ProductURL': 'https://www.fast-growing-trees.com/products/silver-dollar-eucalyptus-tree', 'ProductName': 'Silver Dollar Eucalyptus Tree', 'SubHeading': 'Eucalyptus cinerea ', 'Availability': 'SoldOut', 'Category': None, 'Pack': None, 'RegularPrice': None, 'SalePrice': None, 'ReviewCount': '5 reviews', 'Rating': '3.4'}]\n",
      "https://www.fast-growing-trees.com/products/stainless-steel-watering-can\n"
     ]
    },
    {
     "name": "stderr",
     "output_type": "stream",
     "text": [
      "\r",
      "GettingInfo:  77%|███████████████████████████████████████████████████▌               | 77/100 [10:40<03:07,  8.15s/URL]"
     ]
    },
    {
     "name": "stdout",
     "output_type": "stream",
     "text": [
      "[{'ProductURL': 'https://www.fast-growing-trees.com/products/stainless-steel-watering-can', 'ProductName': 'Stainless Steel Watering Can', 'SubHeading': '', 'Availability': 'InStock', 'Category': 'Stainless Steel Watering Can', 'Pack': None, 'RegularPrice': None, 'SalePrice': '$29.95', 'ReviewCount': '0 reviews', 'Rating': '0.0'}]\n",
      "https://www.fast-growing-trees.com/products/eclipse-bigleaf-hydrangea\n"
     ]
    },
    {
     "name": "stderr",
     "output_type": "stream",
     "text": [
      "\r",
      "GettingInfo:  78%|████████████████████████████████████████████████████▎              | 78/100 [10:48<02:59,  8.17s/URL]"
     ]
    },
    {
     "name": "stdout",
     "output_type": "stream",
     "text": [
      "[{'ProductURL': 'https://www.fast-growing-trees.com/products/eclipse-bigleaf-hydrangea', 'ProductName': 'First Editions® Eclipse® Bigleaf Hydrangea', 'SubHeading': \"Hydrangea macrophylla 'Bailmacseven' \", 'Availability': 'InStock', 'Category': '3 gallon', 'Pack': None, 'RegularPrice': None, 'SalePrice': '$94.95', 'ReviewCount': '2 reviews', 'Rating': '4.0'}]\n",
      "https://www.fast-growing-trees.com/products/sugar-belle-mandarin\n"
     ]
    },
    {
     "name": "stderr",
     "output_type": "stream",
     "text": [
      "\r",
      "GettingInfo:  79%|████████████████████████████████████████████████████▉              | 79/100 [10:58<03:00,  8.59s/URL]"
     ]
    },
    {
     "name": "stdout",
     "output_type": "stream",
     "text": [
      "[{'ProductURL': 'https://www.fast-growing-trees.com/products/sugar-belle-mandarin', 'ProductName': 'Sugar Belle® Mandarin', 'SubHeading': 'Citrus reticulata Clementine x Minneola', 'Availability': 'InStock', 'Category': 'Jelly Gift Box', 'Pack': None, 'RegularPrice': None, 'SalePrice': '$33.95', 'ReviewCount': '2 reviews', 'Rating': '5.0'}]\n",
      "https://www.fast-growing-trees.com/products/bearss-lemon\n"
     ]
    },
    {
     "name": "stderr",
     "output_type": "stream",
     "text": [
      "\r",
      "GettingInfo:  80%|█████████████████████████████████████████████████████▌             | 80/100 [11:04<02:35,  7.79s/URL]"
     ]
    },
    {
     "name": "stdout",
     "output_type": "stream",
     "text": [
      "[{'ProductURL': 'https://www.fast-growing-trees.com/products/bearss-lemon', 'ProductName': 'Bearss Lemon Tree', 'SubHeading': 'Citrus x Latifolia', 'Availability': 'SoldOut', 'Category': None, 'Pack': None, 'RegularPrice': None, 'SalePrice': None, 'ReviewCount': '1 reviews', 'Rating': '5.0'}]\n",
      "https://www.fast-growing-trees.com/products/bearss-lemon-tree-fl\n"
     ]
    },
    {
     "name": "stderr",
     "output_type": "stream",
     "text": [
      "\r",
      "GettingInfo:  81%|██████████████████████████████████████████████████████▎            | 81/100 [11:12<02:30,  7.94s/URL]"
     ]
    },
    {
     "name": "stdout",
     "output_type": "stream",
     "text": [
      "[{'ProductURL': 'https://www.fast-growing-trees.com/products/bearss-lemon-tree-fl', 'ProductName': 'Bearss Lemon Tree', 'SubHeading': 'Citrus x Latifolia', 'Availability': 'InStock', 'Category': '4-5 ft.', 'Pack': None, 'RegularPrice': None, 'SalePrice': '$149.95', 'ReviewCount': '0 reviews', 'Rating': '0.0'}]\n",
      "https://www.fast-growing-trees.com/products/echinacea-magnus\n"
     ]
    },
    {
     "name": "stderr",
     "output_type": "stream",
     "text": [
      "\r",
      "GettingInfo:  82%|██████████████████████████████████████████████████████▉            | 82/100 [11:20<02:21,  7.85s/URL]"
     ]
    },
    {
     "name": "stdout",
     "output_type": "stream",
     "text": [
      "[{'ProductURL': 'https://www.fast-growing-trees.com/products/echinacea-magnus', 'ProductName': \"'Magnus' Coneflower (Echinacea)\", 'SubHeading': \"Echinacea purpurea 'Magnus'\", 'Availability': 'SoldOut', 'Category': None, 'Pack': None, 'RegularPrice': None, 'SalePrice': None, 'ReviewCount': '1 reviews', 'Rating': '5.0'}]\n",
      "https://www.fast-growing-trees.com/products/galvanized-watering-can\n"
     ]
    },
    {
     "name": "stderr",
     "output_type": "stream",
     "text": [
      "\r",
      "GettingInfo:  83%|███████████████████████████████████████████████████████▌           | 83/100 [11:30<02:26,  8.60s/URL]"
     ]
    },
    {
     "name": "stdout",
     "output_type": "stream",
     "text": [
      "[{'ProductURL': 'https://www.fast-growing-trees.com/products/galvanized-watering-can', 'ProductName': 'Galvanized Watering Can', 'SubHeading': '', 'Availability': 'InStock', 'Category': 'Galvanized Watering Can', 'Pack': None, 'RegularPrice': None, 'SalePrice': '$44.95', 'ReviewCount': '0 reviews', 'Rating': '0.0'}]\n",
      "https://www.fast-growing-trees.com/products/watering-wand\n"
     ]
    },
    {
     "name": "stderr",
     "output_type": "stream",
     "text": [
      "\r",
      "GettingInfo:  84%|████████████████████████████████████████████████████████▎          | 84/100 [11:45<02:47, 10.45s/URL]"
     ]
    },
    {
     "name": "stdout",
     "output_type": "stream",
     "text": [
      "[{'ProductURL': 'https://www.fast-growing-trees.com/products/watering-wand', 'ProductName': 'Watering Wand', 'SubHeading': '', 'Availability': 'InStock', 'Category': '16\" Green Watering Wand', 'Pack': None, 'RegularPrice': None, 'SalePrice': '$29.95', 'ReviewCount': '0 reviews', 'Rating': '0.0'}, {'ProductURL': 'https://www.fast-growing-trees.com/products/watering-wand', 'ProductName': 'Watering Wand', 'SubHeading': '', 'Availability': 'InStock', 'Category': '30\" Green Watering Wand', 'Pack': None, 'RegularPrice': None, 'SalePrice': '$39.95', 'ReviewCount': '0 reviews', 'Rating': '0.0'}, {'ProductURL': 'https://www.fast-growing-trees.com/products/watering-wand', 'ProductName': 'Watering Wand', 'SubHeading': '', 'Availability': 'InStock', 'Category': '30\" Blue Watering Wand', 'Pack': None, 'RegularPrice': None, 'SalePrice': '$39.95', 'ReviewCount': '0 reviews', 'Rating': '0.0'}]\n",
      "https://www.fast-growing-trees.com/products/soaker-hose\n"
     ]
    },
    {
     "name": "stderr",
     "output_type": "stream",
     "text": [
      "\r",
      "GettingInfo:  85%|████████████████████████████████████████████████████████▉          | 85/100 [11:55<02:38, 10.54s/URL]"
     ]
    },
    {
     "name": "stdout",
     "output_type": "stream",
     "text": [
      "[{'ProductURL': 'https://www.fast-growing-trees.com/products/soaker-hose', 'ProductName': 'Soaker Hose', 'SubHeading': '', 'Availability': 'InStock', 'Category': '25 feet', 'Pack': None, 'RegularPrice': None, 'SalePrice': '$39.95', 'ReviewCount': '0 reviews', 'Rating': '0.0'}, {'ProductURL': 'https://www.fast-growing-trees.com/products/soaker-hose', 'ProductName': 'Soaker Hose', 'SubHeading': '', 'Availability': 'InStock', 'Category': '50ft. Soaker Hose', 'Pack': None, 'RegularPrice': None, 'SalePrice': '$59.95', 'ReviewCount': '0 reviews', 'Rating': '0.0'}]\n",
      "https://www.fast-growing-trees.com/products/weed-fabric\n"
     ]
    },
    {
     "name": "stderr",
     "output_type": "stream",
     "text": [
      "\r",
      "GettingInfo:  86%|█████████████████████████████████████████████████████████▌         | 86/100 [12:06<02:29, 10.70s/URL]"
     ]
    },
    {
     "name": "stdout",
     "output_type": "stream",
     "text": [
      "[{'ProductURL': 'https://www.fast-growing-trees.com/products/weed-fabric', 'ProductName': 'Weed Fabric', 'SubHeading': '', 'Availability': 'InStock', 'Category': '25ft Weed Fabric', 'Pack': None, 'RegularPrice': None, 'SalePrice': '$14.95', 'ReviewCount': '0 reviews', 'Rating': '0.0'}, {'ProductURL': 'https://www.fast-growing-trees.com/products/weed-fabric', 'ProductName': 'Weed Fabric', 'SubHeading': '', 'Availability': 'InStock', 'Category': '50ft Weed Fabric', 'Pack': None, 'RegularPrice': None, 'SalePrice': '$29.95', 'ReviewCount': '0 reviews', 'Rating': '0.0'}]\n",
      "https://www.fast-growing-trees.com/products/endless-summer-twist-n-shout-hydrangea\n"
     ]
    },
    {
     "name": "stderr",
     "output_type": "stream",
     "text": [
      "\r",
      "GettingInfo:  87%|██████████████████████████████████████████████████████████▎        | 87/100 [12:16<02:15, 10.40s/URL]"
     ]
    },
    {
     "name": "stdout",
     "output_type": "stream",
     "text": [
      "[{'ProductURL': 'https://www.fast-growing-trees.com/products/endless-summer-twist-n-shout-hydrangea', 'ProductName': 'Endless Summer® Twist-n-Shout® Hydrangea', 'SubHeading': \"Hydrangea macrophylla 'PHIIM-I' PP20176\", 'Availability': 'InStock', 'Category': '5 Gallon', 'Pack': None, 'RegularPrice': None, 'SalePrice': '$129.95', 'ReviewCount': '0 reviews', 'Rating': '0.0'}]\n",
      "https://www.fast-growing-trees.com/products/pink-delight-butterfly-bush\n"
     ]
    },
    {
     "name": "stderr",
     "output_type": "stream",
     "text": [
      "\r",
      "GettingInfo:  88%|██████████████████████████████████████████████████████████▉        | 88/100 [12:25<01:58,  9.85s/URL]"
     ]
    },
    {
     "name": "stdout",
     "output_type": "stream",
     "text": [
      "[{'ProductURL': 'https://www.fast-growing-trees.com/products/pink-delight-butterfly-bush', 'ProductName': 'Pink Delight Butterfly Bush', 'SubHeading': \"Buddleia davidii 'Pink Delight'\", 'Availability': 'InStock', 'Category': '1 Gallon', 'Pack': None, 'RegularPrice': None, 'SalePrice': '$34.95', 'ReviewCount': '3 reviews', 'Rating': '5.0'}]\n",
      "https://www.fast-growing-trees.com/products/white-profusion-butterfly-bush\n"
     ]
    },
    {
     "name": "stderr",
     "output_type": "stream",
     "text": [
      "\r",
      "GettingInfo:  89%|███████████████████████████████████████████████████████████▋       | 89/100 [12:31<01:36,  8.79s/URL]"
     ]
    },
    {
     "name": "stdout",
     "output_type": "stream",
     "text": [
      "[{'ProductURL': 'https://www.fast-growing-trees.com/products/white-profusion-butterfly-bush', 'ProductName': 'White Profusion Butterfly Bush', 'SubHeading': \"Buddleia davidii 'White Profusion'\", 'Availability': 'SoldOut', 'Category': None, 'Pack': None, 'RegularPrice': None, 'SalePrice': None, 'ReviewCount': '3 reviews', 'Rating': '5.0'}]\n",
      "https://www.fast-growing-trees.com/products/little-quick-fire-hydrangea\n"
     ]
    },
    {
     "name": "stderr",
     "output_type": "stream",
     "text": [
      "\r",
      "GettingInfo:  90%|████████████████████████████████████████████████████████████▎      | 90/100 [12:43<01:38,  9.83s/URL]"
     ]
    },
    {
     "name": "stdout",
     "output_type": "stream",
     "text": [
      "[{'ProductURL': 'https://www.fast-growing-trees.com/products/little-quick-fire-hydrangea', 'ProductName': 'Little Quick Fire® Hydrangea', 'SubHeading': \"Hydrangea paniculata 'SMHPLQF'\", 'Availability': 'InStock', 'Category': '2 Gallon', 'Pack': None, 'RegularPrice': None, 'SalePrice': '$99.95', 'ReviewCount': '1 reviews', 'Rating': '1.0'}, {'ProductURL': 'https://www.fast-growing-trees.com/products/little-quick-fire-hydrangea', 'ProductName': 'Little Quick Fire® Hydrangea', 'SubHeading': \"Hydrangea paniculata 'SMHPLQF'\", 'Availability': 'InStock', 'Category': '3 Gallon', 'Pack': None, 'RegularPrice': None, 'SalePrice': '$129.95', 'ReviewCount': '1 reviews', 'Rating': '1.0'}]\n",
      "https://www.fast-growing-trees.com/products/little-princess-spiraea\n"
     ]
    },
    {
     "name": "stderr",
     "output_type": "stream",
     "text": [
      "\r",
      "GettingInfo:  91%|████████████████████████████████████████████████████████████▉      | 91/100 [12:53<01:27,  9.77s/URL]"
     ]
    },
    {
     "name": "stdout",
     "output_type": "stream",
     "text": [
      "[{'ProductURL': 'https://www.fast-growing-trees.com/products/little-princess-spiraea', 'ProductName': 'Little Princess Spiraea', 'SubHeading': \"Spiraea japonica 'Little Princess'\", 'Availability': 'InStock', 'Category': '3 Gallon', 'Pack': None, 'RegularPrice': None, 'SalePrice': '$44.95', 'ReviewCount': '0 reviews', 'Rating': '0.0'}]\n",
      "https://www.fast-growing-trees.com/products/goldmound-spiraea\n"
     ]
    },
    {
     "name": "stderr",
     "output_type": "stream",
     "text": [
      "\r",
      "GettingInfo:  92%|█████████████████████████████████████████████████████████████▋     | 92/100 [13:01<01:13,  9.18s/URL]"
     ]
    },
    {
     "name": "stdout",
     "output_type": "stream",
     "text": [
      "[{'ProductURL': 'https://www.fast-growing-trees.com/products/goldmound-spiraea', 'ProductName': 'Gold Mound Spiraea', 'SubHeading': \"Spirea japonica 'Goldmound'\", 'Availability': 'InStock', 'Category': '3 Gallon', 'Pack': None, 'RegularPrice': '$79.95', 'SalePrice': '$29.95', 'ReviewCount': '0 reviews', 'Rating': '4.0'}]\n",
      "https://www.fast-growing-trees.com/products/cityline-paris-bigleaf-hydrangea\n"
     ]
    },
    {
     "name": "stderr",
     "output_type": "stream",
     "text": [
      "\r",
      "GettingInfo:  93%|██████████████████████████████████████████████████████████████▎    | 93/100 [13:09<01:02,  8.91s/URL]"
     ]
    },
    {
     "name": "stdout",
     "output_type": "stream",
     "text": [
      "[{'ProductURL': 'https://www.fast-growing-trees.com/products/cityline-paris-bigleaf-hydrangea', 'ProductName': 'Cityline® Paris Bigleaf Hydrangea', 'SubHeading': \"Paris Hydrangea macrophylla 'Paris Rapa' PP: 10906\", 'Availability': 'InStock', 'Category': '3 Gallon', 'Pack': None, 'RegularPrice': '$99.95', 'SalePrice': '$39.95', 'ReviewCount': '2 reviews', 'Rating': '3.0'}]\n",
      "https://www.fast-growing-trees.com/products/little-zebra-miscanthus-maiden-grass\n"
     ]
    },
    {
     "name": "stderr",
     "output_type": "stream",
     "text": [
      "\r",
      "GettingInfo:  94%|██████████████████████████████████████████████████████████████▉    | 94/100 [13:17<00:52,  8.74s/URL]"
     ]
    },
    {
     "name": "stdout",
     "output_type": "stream",
     "text": [
      "[{'ProductURL': 'https://www.fast-growing-trees.com/products/little-zebra-miscanthus-maiden-grass', 'ProductName': 'Little Zebra Miscanthus Maiden Grass', 'SubHeading': '<p><span style=\"background-color:transparent;color:#000000;\">Miscanthus sinensis \\'Little Zebra\\'</span></p>', 'Availability': 'InStock', 'Category': '2 Gallon', 'Pack': None, 'RegularPrice': '$59.95', 'SalePrice': '$29.95', 'ReviewCount': '0 reviews', 'Rating': '0.0'}, {'ProductURL': 'https://www.fast-growing-trees.com/products/little-zebra-miscanthus-maiden-grass', 'ProductName': 'Little Zebra Miscanthus Maiden Grass', 'SubHeading': '<p><span style=\"background-color:transparent;color:#000000;\">Miscanthus sinensis \\'Little Zebra\\'</span></p>', 'Availability': 'InStock', 'Category': '3 Gallon', 'Pack': None, 'RegularPrice': '$79.95', 'SalePrice': '$39.95', 'ReviewCount': '0 reviews', 'Rating': '0.0'}]\n",
      "https://www.fast-growing-trees.com/products/misty-highbush-blueberry\n"
     ]
    },
    {
     "name": "stderr",
     "output_type": "stream",
     "text": [
      "\r",
      "GettingInfo:  95%|███████████████████████████████████████████████████████████████▋   | 95/100 [13:26<00:43,  8.71s/URL]"
     ]
    },
    {
     "name": "stdout",
     "output_type": "stream",
     "text": [
      "[{'ProductURL': 'https://www.fast-growing-trees.com/products/misty-highbush-blueberry', 'ProductName': 'Misty Highbush Blueberry', 'SubHeading': \"Vaccinium corymbosum 'Misty'\", 'Availability': 'InStock', 'Category': '2 Quart', 'Pack': None, 'RegularPrice': None, 'SalePrice': '$29.95', 'ReviewCount': '3 reviews', 'Rating': '2.3'}]\n",
      "https://www.fast-growing-trees.com/products/red-finger-lime-ga\n"
     ]
    },
    {
     "name": "stderr",
     "output_type": "stream",
     "text": [
      "\r",
      "GettingInfo:  96%|████████████████████████████████████████████████████████████████▎  | 96/100 [13:34<00:33,  8.40s/URL]"
     ]
    },
    {
     "name": "stdout",
     "output_type": "stream",
     "text": [
      "[{'ProductURL': 'https://www.fast-growing-trees.com/products/red-finger-lime-ga', 'ProductName': 'Red Finger Lime', 'SubHeading': 'Microcitrus australasica', 'Availability': 'SoldOut', 'Category': None, 'Pack': None, 'RegularPrice': None, 'SalePrice': None, 'ReviewCount': '0 reviews', 'Rating': '0.0'}]\n",
      "https://www.fast-growing-trees.com/products/sunjoy-golden-pillar-barberry\n"
     ]
    },
    {
     "name": "stderr",
     "output_type": "stream",
     "text": [
      "\r",
      "GettingInfo:  97%|████████████████████████████████████████████████████████████████▉  | 97/100 [13:42<00:25,  8.44s/URL]"
     ]
    },
    {
     "name": "stdout",
     "output_type": "stream",
     "text": [
      "[{'ProductURL': 'https://www.fast-growing-trees.com/products/sunjoy-golden-pillar-barberry', 'ProductName': 'Sunjoy Golden Pillar Barberry', 'SubHeading': 'Berberis thunbergii', 'Availability': 'InStock', 'Category': '1 Gallon', 'Pack': None, 'RegularPrice': '$54.95', 'SalePrice': '$26.95', 'ReviewCount': '1 reviews', 'Rating': '2.0'}, {'ProductURL': 'https://www.fast-growing-trees.com/products/sunjoy-golden-pillar-barberry', 'ProductName': 'Sunjoy Golden Pillar Barberry', 'SubHeading': 'Berberis thunbergii', 'Availability': 'InStock', 'Category': '2 Gallon', 'Pack': None, 'RegularPrice': '$89.95', 'SalePrice': '$46.95', 'ReviewCount': '1 reviews', 'Rating': '2.0'}]\n",
      "https://www.fast-growing-trees.com/products/autumn-coral-encore-azalea\n"
     ]
    },
    {
     "name": "stderr",
     "output_type": "stream",
     "text": [
      "\r",
      "GettingInfo:  98%|█████████████████████████████████████████████████████████████████▋ | 98/100 [13:50<00:16,  8.24s/URL]"
     ]
    },
    {
     "name": "stdout",
     "output_type": "stream",
     "text": [
      "[{'ProductURL': 'https://www.fast-growing-trees.com/products/autumn-coral-encore-azalea', 'ProductName': 'Autumn Coral®  Encore® Azalea', 'SubHeading': \"Azalea x 'Conled'\", 'Availability': 'SoldOut', 'Category': None, 'Pack': None, 'RegularPrice': None, 'SalePrice': None, 'ReviewCount': '1 reviews', 'Rating': '5.0'}]\n",
      "https://www.fast-growing-trees.com/products/autumn-chiffon-encore-azalea\n"
     ]
    },
    {
     "name": "stderr",
     "output_type": "stream",
     "text": [
      "\r",
      "GettingInfo:  99%|██████████████████████████████████████████████████████████████████▎| 99/100 [13:58<00:08,  8.17s/URL]"
     ]
    },
    {
     "name": "stdout",
     "output_type": "stream",
     "text": [
      "[{'ProductURL': 'https://www.fast-growing-trees.com/products/autumn-chiffon-encore-azalea', 'ProductName': 'Autumn Chiffon®  Encore® Azalea', 'SubHeading': \"Azalea x 'Robled' PP#15862\", 'Availability': 'InStock', 'Category': '3 Gallon', 'Pack': None, 'RegularPrice': '$84.95', 'SalePrice': '$69.95', 'ReviewCount': '0 reviews', 'Rating': '0.0'}]\n",
      "https://www.fast-growing-trees.com/products/howardi-ligustrum-shrub\n"
     ]
    },
    {
     "name": "stderr",
     "output_type": "stream",
     "text": [
      "GettingInfo: 100%|██████████████████████████████████████████████████████████████████| 100/100 [14:05<00:00,  8.46s/URL]"
     ]
    },
    {
     "name": "stdout",
     "output_type": "stream",
     "text": [
      "[{'ProductURL': 'https://www.fast-growing-trees.com/products/howardi-ligustrum-shrub', 'ProductName': 'Howardi Ligustrum Shrub', 'SubHeading': \"Ligustrum japonicum 'Howardii'\", 'Availability': 'SoldOut', 'Category': None, 'Pack': None, 'RegularPrice': None, 'SalePrice': None, 'ReviewCount': '0 reviews', 'Rating': '0.0'}]\n"
     ]
    },
    {
     "name": "stderr",
     "output_type": "stream",
     "text": [
      "\n"
     ]
    }
   ],
   "source": [
    "user_agents = random.choice(allowed_user_agents)\n",
    "headers = {'User-Agent': user_agents}\n",
    "chrome_options = webdriver.ChromeOptions()\n",
    "chrome_options.add_argument(f\"user-agent={headers['User-Agent']}\")\n",
    "chrome_options.add_argument('--headless')\n",
    "driver = webdriver.Chrome(options=chrome_options)\n",
    "for i in tqdm(Pro_URL[1400:1500], desc=\"GettingInfo\", unit=\"URL\"):\n",
    "    print(i)\n",
    "    df = get_product_info(i)\n",
    "    Product_details15.extend(df)\n",
    "    print(df)\n",
    "daf = pd.DataFrame(Product_details15)\n",
    "daf.to_csv('FastGrowingTrees15.csv',index=False)\n",
    "driver.quit()"
   ]
  },
  {
   "cell_type": "code",
   "execution_count": 33,
   "id": "1a25f8a6",
   "metadata": {},
   "outputs": [
    {
     "name": "stderr",
     "output_type": "stream",
     "text": [
      "\r",
      "GettingInfo:   0%|                                                                             | 0/74 [00:00<?, ?URL/s]"
     ]
    },
    {
     "name": "stdout",
     "output_type": "stream",
     "text": [
      "https://www.fast-growing-trees.com/products/hamlin-sweet-orange-tree\n"
     ]
    },
    {
     "name": "stderr",
     "output_type": "stream",
     "text": [
      "\r",
      "GettingInfo:   1%|▉                                                                    | 1/74 [00:12<15:39, 12.87s/URL]"
     ]
    },
    {
     "name": "stdout",
     "output_type": "stream",
     "text": [
      "[{'ProductURL': 'https://www.fast-growing-trees.com/products/hamlin-sweet-orange-tree', 'ProductName': 'Hamlin Sweet Orange Tree', 'SubHeading': \"Citrus sinensis 'Hamlin'\", 'Availability': 'InStock', 'Category': '3-4 feet', 'Pack': None, 'RegularPrice': None, 'SalePrice': '$109.95', 'ReviewCount': '1 reviews', 'Rating': '5.0'}, {'ProductURL': 'https://www.fast-growing-trees.com/products/hamlin-sweet-orange-tree', 'ProductName': 'Hamlin Sweet Orange Tree', 'SubHeading': \"Citrus sinensis 'Hamlin'\", 'Availability': 'InStock', 'Category': '4-5 feet', 'Pack': None, 'RegularPrice': None, 'SalePrice': '$119.95', 'ReviewCount': '1 reviews', 'Rating': '5.0'}]\n",
      "https://www.fast-growing-trees.com/products/shiranui-mandarin-tree\n"
     ]
    },
    {
     "name": "stderr",
     "output_type": "stream",
     "text": [
      "\r",
      "GettingInfo:   3%|█▊                                                                   | 2/74 [00:26<15:53, 13.24s/URL]"
     ]
    },
    {
     "name": "stdout",
     "output_type": "stream",
     "text": [
      "[{'ProductURL': 'https://www.fast-growing-trees.com/products/shiranui-mandarin-tree', 'ProductName': 'Shiranui Mandarin Tree', 'SubHeading': \"Citrus reticulata 'Shiranui'\", 'Availability': 'InStock', 'Category': '2-3 feet', 'Pack': None, 'RegularPrice': None, 'SalePrice': '$94.95', 'ReviewCount': '3 reviews', 'Rating': '5.0'}, {'ProductURL': 'https://www.fast-growing-trees.com/products/shiranui-mandarin-tree', 'ProductName': 'Shiranui Mandarin Tree', 'SubHeading': \"Citrus reticulata 'Shiranui'\", 'Availability': 'InStock', 'Category': '4-5 feet', 'Pack': None, 'RegularPrice': None, 'SalePrice': '$199.95', 'ReviewCount': '3 reviews', 'Rating': '5.0'}, {'ProductURL': 'https://www.fast-growing-trees.com/products/shiranui-mandarin-tree', 'ProductName': 'Shiranui Mandarin Tree', 'SubHeading': \"Citrus reticulata 'Shiranui'\", 'Availability': 'InStock', 'Category': 'Jelly Gift Box', 'Pack': None, 'RegularPrice': None, 'SalePrice': '$33.95', 'ReviewCount': '3 reviews', 'Rating': '5.0'}]\n",
      "https://www.fast-growing-trees.com/products/blue-arrow-juniper\n"
     ]
    },
    {
     "name": "stderr",
     "output_type": "stream",
     "text": [
      "\r",
      "GettingInfo:   4%|██▊                                                                  | 3/74 [00:35<13:29, 11.41s/URL]"
     ]
    },
    {
     "name": "stdout",
     "output_type": "stream",
     "text": [
      "[{'ProductURL': 'https://www.fast-growing-trees.com/products/blue-arrow-juniper', 'ProductName': 'Blue Arrow Juniper', 'SubHeading': \"Juniperus scopulorum 'Blue Arrow'\", 'Availability': 'InStock', 'Category': '3-4 feet', 'Pack': None, 'RegularPrice': None, 'SalePrice': '$119.95', 'ReviewCount': '1 reviews', 'Rating': '5.0'}]\n",
      "https://www.fast-growing-trees.com/products/lemon-lime-nandina-shrub\n"
     ]
    },
    {
     "name": "stderr",
     "output_type": "stream",
     "text": [
      "\r",
      "GettingInfo:   5%|███▋                                                                 | 4/74 [00:41<10:58,  9.40s/URL]"
     ]
    },
    {
     "name": "stdout",
     "output_type": "stream",
     "text": [
      "[{'ProductURL': 'https://www.fast-growing-trees.com/products/lemon-lime-nandina-shrub', 'ProductName': 'Lemon Lime Nandina Shrub', 'SubHeading': \"Nandina domestica Alba 'Lemon-Lime' PP24749\", 'Availability': 'SoldOut', 'Category': None, 'Pack': None, 'RegularPrice': None, 'SalePrice': None, 'ReviewCount': '0 reviews', 'Rating': '0.0'}]\n",
      "https://www.fast-growing-trees.com/products/musashino-columnar-zelkova\n"
     ]
    },
    {
     "name": "stderr",
     "output_type": "stream",
     "text": [
      "\r",
      "GettingInfo:   7%|████▋                                                                | 5/74 [00:48<09:48,  8.52s/URL]"
     ]
    },
    {
     "name": "stdout",
     "output_type": "stream",
     "text": [
      "[{'ProductURL': 'https://www.fast-growing-trees.com/products/musashino-columnar-zelkova', 'ProductName': 'Musashino Columnar Zelkova', 'SubHeading': \"Zelkova serrata 'Musashino'\", 'Availability': 'InStock', 'Category': '5-6 feet', 'Pack': None, 'RegularPrice': '$199.95', 'SalePrice': '$104.95', 'ReviewCount': '0 reviews', 'Rating': '0.0'}]\n",
      "https://www.fast-growing-trees.com/products/skinny-genes-oak\n"
     ]
    },
    {
     "name": "stderr",
     "output_type": "stream",
     "text": [
      "\r",
      "GettingInfo:   8%|█████▌                                                               | 6/74 [00:57<09:52,  8.71s/URL]"
     ]
    },
    {
     "name": "stdout",
     "output_type": "stream",
     "text": [
      "[{'ProductURL': 'https://www.fast-growing-trees.com/products/skinny-genes-oak', 'ProductName': 'Skinny Genes® Oak', 'SubHeading': \"Quercus x bimundorum 'JFS-KW2QX'\", 'Availability': 'InStock', 'Category': '4-5 feet', 'Pack': None, 'RegularPrice': None, 'SalePrice': '$259.95', 'ReviewCount': '0 reviews', 'Rating': '0.0'}]\n",
      "https://www.fast-growing-trees.com/products/prairie-sentinel-hackberry-tree\n"
     ]
    },
    {
     "name": "stderr",
     "output_type": "stream",
     "text": [
      "\r",
      "GettingInfo:   9%|██████▌                                                              | 7/74 [01:09<10:37,  9.51s/URL]"
     ]
    },
    {
     "name": "stdout",
     "output_type": "stream",
     "text": [
      "[{'ProductURL': 'https://www.fast-growing-trees.com/products/prairie-sentinel-hackberry-tree', 'ProductName': 'Prairie Sentinel® Hackberry Tree', 'SubHeading': \"Celtis 'JFS-KSU1'\", 'Availability': 'InStock', 'Category': '5-6 ft.', 'Pack': None, 'RegularPrice': None, 'SalePrice': '$299.95', 'ReviewCount': '0 reviews', 'Rating': '0.0'}, {'ProductURL': 'https://www.fast-growing-trees.com/products/prairie-sentinel-hackberry-tree', 'ProductName': 'Prairie Sentinel® Hackberry Tree', 'SubHeading': \"Celtis 'JFS-KSU1'\", 'Availability': 'InStock', 'Category': '6-7 feet', 'Pack': None, 'RegularPrice': None, 'SalePrice': '$309.95', 'ReviewCount': '0 reviews', 'Rating': '0.0'}]\n",
      "https://www.fast-growing-trees.com/products/red-sentinel-maple-tree\n"
     ]
    },
    {
     "name": "stderr",
     "output_type": "stream",
     "text": [
      "\r",
      "GettingInfo:  11%|███████▍                                                             | 8/74 [01:20<11:05, 10.09s/URL]"
     ]
    },
    {
     "name": "stdout",
     "output_type": "stream",
     "text": [
      "[{'ProductURL': 'https://www.fast-growing-trees.com/products/red-sentinel-maple-tree', 'ProductName': 'Red Sentinel™ Maple Tree', 'SubHeading': 'Acer rubrum ‘WW Warren’', 'Availability': 'InStock', 'Category': '5-6 ft.', 'Pack': None, 'RegularPrice': None, 'SalePrice': '$199.95', 'ReviewCount': '0 reviews', 'Rating': '0.0'}, {'ProductURL': 'https://www.fast-growing-trees.com/products/red-sentinel-maple-tree', 'ProductName': 'Red Sentinel™ Maple Tree', 'SubHeading': 'Acer rubrum ‘WW Warren’', 'Availability': 'InStock', 'Category': '6-7 feet', 'Pack': None, 'RegularPrice': None, 'SalePrice': '$239.95', 'ReviewCount': '0 reviews', 'Rating': '0.0'}]\n",
      "https://www.fast-growing-trees.com/products/persian-spire-parrotia\n"
     ]
    },
    {
     "name": "stderr",
     "output_type": "stream",
     "text": [
      "\r",
      "GettingInfo:  12%|████████▍                                                            | 9/74 [01:31<11:17, 10.42s/URL]"
     ]
    },
    {
     "name": "stdout",
     "output_type": "stream",
     "text": [
      "[{'ProductURL': 'https://www.fast-growing-trees.com/products/persian-spire-parrotia', 'ProductName': 'Persian Spire™ Parrotia', 'SubHeading': \"Parrotia persica 'JL Columnar'\", 'Availability': 'InStock', 'Category': '4-5 feet', 'Pack': None, 'RegularPrice': None, 'SalePrice': '$199.95', 'ReviewCount': '0 reviews', 'Rating': '0.0'}, {'ProductURL': 'https://www.fast-growing-trees.com/products/persian-spire-parrotia', 'ProductName': 'Persian Spire™ Parrotia', 'SubHeading': \"Parrotia persica 'JL Columnar'\", 'Availability': 'InStock', 'Category': '5-6 ft.', 'Pack': None, 'RegularPrice': None, 'SalePrice': '$229.95', 'ReviewCount': '0 reviews', 'Rating': '0.0'}]\n",
      "https://www.fast-growing-trees.com/products/mini-white-and-red-salmon-orchids-12-pack\n"
     ]
    },
    {
     "name": "stderr",
     "output_type": "stream",
     "text": [
      "\r",
      "GettingInfo:  14%|█████████▏                                                          | 10/74 [01:40<10:33,  9.89s/URL]"
     ]
    },
    {
     "name": "stdout",
     "output_type": "stream",
     "text": [
      "[{'ProductURL': 'https://www.fast-growing-trees.com/products/mini-white-and-red-salmon-orchids-12-pack', 'ProductName': 'Mini White and Red Salmon Orchids 12-Pack', 'SubHeading': 'Phalaenopsis', 'Availability': 'InStock', 'Category': '12 pack', 'Pack': None, 'RegularPrice': None, 'SalePrice': '$149.95', 'ReviewCount': '0 reviews', 'Rating': '0.0'}]\n",
      "https://www.fast-growing-trees.com/products/mini-orchid-succulent-12-pack\n"
     ]
    },
    {
     "name": "stderr",
     "output_type": "stream",
     "text": [
      "\r",
      "GettingInfo:  15%|██████████                                                          | 11/74 [01:46<09:15,  8.82s/URL]"
     ]
    },
    {
     "name": "stdout",
     "output_type": "stream",
     "text": [
      "[{'ProductURL': 'https://www.fast-growing-trees.com/products/mini-orchid-succulent-12-pack', 'ProductName': 'Mini Orchid & Succulent 12-Pack', 'SubHeading': 'Phalaenopsis; Echeveria', 'Availability': 'SoldOut', 'Category': None, 'Pack': None, 'RegularPrice': None, 'SalePrice': None, 'ReviewCount': '0 reviews', 'Rating': '0.0'}]\n",
      "https://www.fast-growing-trees.com/products/summer-snow-gardenia\n"
     ]
    },
    {
     "name": "stderr",
     "output_type": "stream",
     "text": [
      "\r",
      "GettingInfo:  16%|███████████                                                         | 12/74 [01:55<09:10,  8.88s/URL]"
     ]
    },
    {
     "name": "stdout",
     "output_type": "stream",
     "text": [
      "[{'ProductURL': 'https://www.fast-growing-trees.com/products/summer-snow-gardenia', 'ProductName': 'Summer Snow® Gardenia', 'SubHeading': \"Gardenia jasminoides 'Bab1183'\", 'Availability': 'InStock', 'Category': '1 Gallon', 'Pack': None, 'RegularPrice': None, 'SalePrice': '$64.95', 'ReviewCount': '2 reviews', 'Rating': '5.0'}]\n",
      "https://www.fast-growing-trees.com/products/tabletop-dwarf-alberta-spruce\n"
     ]
    },
    {
     "name": "stderr",
     "output_type": "stream",
     "text": [
      "\r",
      "GettingInfo:  18%|███████████▉                                                        | 13/74 [02:04<08:56,  8.80s/URL]"
     ]
    },
    {
     "name": "stdout",
     "output_type": "stream",
     "text": [
      "[{'ProductURL': 'https://www.fast-growing-trees.com/products/tabletop-dwarf-alberta-spruce', 'ProductName': 'Tabletop Dwarf Alberta Spruce', 'SubHeading': \"Picea glauca 'Conica'\", 'Availability': 'InStock', 'Category': '4 inch Flocked', 'Pack': None, 'RegularPrice': None, 'SalePrice': '$29.99', 'ReviewCount': '1 reviews', 'Rating': '3.0'}]\n",
      "https://www.fast-growing-trees.com/products/tabletop-lawson-cypress\n"
     ]
    },
    {
     "name": "stderr",
     "output_type": "stream",
     "text": [
      "\r",
      "GettingInfo:  19%|████████████▊                                                       | 14/74 [02:10<08:05,  8.09s/URL]"
     ]
    },
    {
     "name": "stdout",
     "output_type": "stream",
     "text": [
      "[{'ProductURL': 'https://www.fast-growing-trees.com/products/tabletop-lawson-cypress', 'ProductName': 'Tabletop Lawson Cypress', 'SubHeading': \"Chamaecyparis lawsoniana 'Ellwoodii'\", 'Availability': 'SoldOut', 'Category': None, 'Pack': None, 'RegularPrice': None, 'SalePrice': None, 'ReviewCount': '2 reviews', 'Rating': '4.5'}]\n",
      "https://www.fast-growing-trees.com/products/mandarin-pepper-and-satsuma-jelly-gift-box\n"
     ]
    },
    {
     "name": "stderr",
     "output_type": "stream",
     "text": [
      "\r",
      "GettingInfo:  20%|█████████████▊                                                      | 15/74 [02:19<08:06,  8.25s/URL]"
     ]
    },
    {
     "name": "stdout",
     "output_type": "stream",
     "text": [
      "[{'ProductURL': 'https://www.fast-growing-trees.com/products/mandarin-pepper-and-satsuma-jelly-gift-box', 'ProductName': 'Mandarin Pepper and Satsuma Jelly Gift Box', 'SubHeading': '', 'Availability': 'InStock', 'Category': 'Jelly Gift Box', 'Pack': None, 'RegularPrice': None, 'SalePrice': '$33.95', 'ReviewCount': '0 reviews', 'Rating': '0.0'}]\n",
      "https://www.fast-growing-trees.com/products/constellation-white-dogwood\n"
     ]
    },
    {
     "name": "stderr",
     "output_type": "stream",
     "text": [
      "\r",
      "GettingInfo:  22%|██████████████▋                                                     | 16/74 [02:33<09:34,  9.90s/URL]"
     ]
    },
    {
     "name": "stdout",
     "output_type": "stream",
     "text": [
      "[{'ProductURL': 'https://www.fast-growing-trees.com/products/constellation-white-dogwood', 'ProductName': 'Constellation® White Dogwood', 'SubHeading': \"Cornus florida x Cornus kousa 'Rutcan'\", 'Availability': 'InStock', 'Category': '4-5 ft.', 'Pack': None, 'RegularPrice': None, 'SalePrice': '$119.95', 'ReviewCount': '0 reviews', 'Rating': '0.0'}, {'ProductURL': 'https://www.fast-growing-trees.com/products/constellation-white-dogwood', 'ProductName': 'Constellation® White Dogwood', 'SubHeading': \"Cornus florida x Cornus kousa 'Rutcan'\", 'Availability': 'InStock', 'Category': '5-6 ft.', 'Pack': None, 'RegularPrice': None, 'SalePrice': '$119.95', 'ReviewCount': '0 reviews', 'Rating': '0.0'}, {'ProductURL': 'https://www.fast-growing-trees.com/products/constellation-white-dogwood', 'ProductName': 'Constellation® White Dogwood', 'SubHeading': \"Cornus florida x Cornus kousa 'Rutcan'\", 'Availability': 'InStock', 'Category': '6-7 ft.', 'Pack': None, 'RegularPrice': None, 'SalePrice': '$139.95', 'ReviewCount': '0 reviews', 'Rating': '0.0'}]\n",
      "https://www.fast-growing-trees.com/products/sugar-and-spice-thuja\n"
     ]
    },
    {
     "name": "stderr",
     "output_type": "stream",
     "text": [
      "\r",
      "GettingInfo:  23%|███████████████▌                                                    | 17/74 [02:42<09:07,  9.61s/URL]"
     ]
    },
    {
     "name": "stdout",
     "output_type": "stream",
     "text": [
      "[{'ProductURL': 'https://www.fast-growing-trees.com/products/sugar-and-spice-thuja', 'ProductName': 'Sugar and Spice™ Thuja', 'SubHeading': \"Thuja plicata 'De Rakt'\", 'Availability': 'InStock', 'Category': '3-4 feet', 'Pack': None, 'RegularPrice': None, 'SalePrice': '$79.95', 'ReviewCount': '0 reviews', 'Rating': '0.0'}]\n",
      "https://www.fast-growing-trees.com/products/tebow-mango\n"
     ]
    },
    {
     "name": "stderr",
     "output_type": "stream",
     "text": [
      "\r",
      "GettingInfo:  24%|████████████████▌                                                   | 18/74 [02:51<08:57,  9.60s/URL]"
     ]
    },
    {
     "name": "stdout",
     "output_type": "stream",
     "text": [
      "[{'ProductURL': 'https://www.fast-growing-trees.com/products/tebow-mango', 'ProductName': 'Tebow Mango', 'SubHeading': 'Mangifera indica ‘Tebow’', 'Availability': 'InStock', 'Category': '2-3 feet', 'Pack': None, 'RegularPrice': None, 'SalePrice': '$99.95', 'ReviewCount': '0 reviews', 'Rating': '0.0'}]\n",
      "https://www.fast-growing-trees.com/products/catalina-avocado\n"
     ]
    },
    {
     "name": "stderr",
     "output_type": "stream",
     "text": [
      "\r",
      "GettingInfo:  26%|█████████████████▍                                                  | 19/74 [03:04<09:35, 10.47s/URL]"
     ]
    },
    {
     "name": "stdout",
     "output_type": "stream",
     "text": [
      "[{'ProductURL': 'https://www.fast-growing-trees.com/products/catalina-avocado', 'ProductName': 'Catalina Avocado', 'SubHeading': 'Persea americana ‘Catalina’', 'Availability': 'InStock', 'Category': '1-2 feet', 'Pack': None, 'RegularPrice': None, 'SalePrice': '$109.95', 'ReviewCount': '0 reviews', 'Rating': '0.0'}, {'ProductURL': 'https://www.fast-growing-trees.com/products/catalina-avocado', 'ProductName': 'Catalina Avocado', 'SubHeading': 'Persea americana ‘Catalina’', 'Availability': 'InStock', 'Category': '2-3 feet', 'Pack': None, 'RegularPrice': None, 'SalePrice': '$129.95', 'ReviewCount': '0 reviews', 'Rating': '0.0'}]\n",
      "https://www.fast-growing-trees.com/products/sweetheart-lychee\n"
     ]
    },
    {
     "name": "stderr",
     "output_type": "stream",
     "text": [
      "\r",
      "GettingInfo:  27%|██████████████████▍                                                 | 20/74 [03:11<08:39,  9.62s/URL]"
     ]
    },
    {
     "name": "stdout",
     "output_type": "stream",
     "text": [
      "[{'ProductURL': 'https://www.fast-growing-trees.com/products/sweetheart-lychee', 'ProductName': 'Sweetheart Lychee', 'SubHeading': 'Litchi chinensis ‘Sweetheart’', 'Availability': 'InStock', 'Category': '3 gallon', 'Pack': None, 'RegularPrice': None, 'SalePrice': '$109.95', 'ReviewCount': '0 reviews', 'Rating': '0.0'}]\n",
      "https://www.fast-growing-trees.com/products/choquette-avocado\n"
     ]
    },
    {
     "name": "stderr",
     "output_type": "stream",
     "text": [
      "\r",
      "GettingInfo:  28%|███████████████████▎                                                | 21/74 [03:24<09:20, 10.57s/URL]"
     ]
    },
    {
     "name": "stdout",
     "output_type": "stream",
     "text": [
      "[{'ProductURL': 'https://www.fast-growing-trees.com/products/choquette-avocado', 'ProductName': 'Choquette Avocado', 'SubHeading': 'Persea americana ‘Choquette’', 'Availability': 'InStock', 'Category': '1-2 feet', 'Pack': None, 'RegularPrice': None, 'SalePrice': '$109.95', 'ReviewCount': '0 reviews', 'Rating': '0.0'}, {'ProductURL': 'https://www.fast-growing-trees.com/products/choquette-avocado', 'ProductName': 'Choquette Avocado', 'SubHeading': 'Persea americana ‘Choquette’', 'Availability': 'InStock', 'Category': '2-3 feet', 'Pack': None, 'RegularPrice': None, 'SalePrice': '$129.95', 'ReviewCount': '0 reviews', 'Rating': '0.0'}]\n",
      "https://www.fast-growing-trees.com/products/northern-gold-forsythia\n"
     ]
    },
    {
     "name": "stderr",
     "output_type": "stream",
     "text": [
      "\r",
      "GettingInfo:  30%|████████████████████▏                                               | 22/74 [03:33<08:43, 10.06s/URL]"
     ]
    },
    {
     "name": "stdout",
     "output_type": "stream",
     "text": [
      "[{'ProductURL': 'https://www.fast-growing-trees.com/products/northern-gold-forsythia', 'ProductName': 'Northern Gold Forsythia', 'SubHeading': \"Forsythia 'Northern Gold'\", 'Availability': 'InStock', 'Category': '1 gallon', 'Pack': None, 'RegularPrice': None, 'SalePrice': '$29.95', 'ReviewCount': '0 reviews', 'Rating': '0.0'}]\n",
      "https://www.fast-growing-trees.com/products/lula-avocado\n"
     ]
    },
    {
     "name": "stderr",
     "output_type": "stream",
     "text": [
      "\r",
      "GettingInfo:  31%|█████████████████████▏                                              | 23/74 [03:40<07:48,  9.19s/URL]"
     ]
    },
    {
     "name": "stdout",
     "output_type": "stream",
     "text": [
      "[{'ProductURL': 'https://www.fast-growing-trees.com/products/lula-avocado', 'ProductName': 'Lula Avocado', 'SubHeading': 'Persea americana ‘Lula’', 'Availability': 'SoldOut', 'Category': None, 'Pack': None, 'RegularPrice': None, 'SalePrice': None, 'ReviewCount': '0 reviews', 'Rating': '0.0'}]\n",
      "https://www.fast-growing-trees.com/products/simmonds-avocado\n"
     ]
    },
    {
     "name": "stderr",
     "output_type": "stream",
     "text": [
      "\r",
      "GettingInfo:  32%|██████████████████████                                              | 24/74 [03:52<08:22, 10.06s/URL]"
     ]
    },
    {
     "name": "stdout",
     "output_type": "stream",
     "text": [
      "[{'ProductURL': 'https://www.fast-growing-trees.com/products/simmonds-avocado', 'ProductName': 'Simmonds Avocado', 'SubHeading': 'Persea americana ‘Simmonds’', 'Availability': 'InStock', 'Category': '1-2 feet', 'Pack': None, 'RegularPrice': None, 'SalePrice': '$179.95', 'ReviewCount': '0 reviews', 'Rating': '0.0'}, {'ProductURL': 'https://www.fast-growing-trees.com/products/simmonds-avocado', 'ProductName': 'Simmonds Avocado', 'SubHeading': 'Persea americana ‘Simmonds’', 'Availability': 'InStock', 'Category': '4-5 feet', 'Pack': None, 'RegularPrice': None, 'SalePrice': '$229.95', 'ReviewCount': '0 reviews', 'Rating': '0.0'}]\n",
      "https://www.fast-growing-trees.com/products/moffat-blue-juniper\n"
     ]
    },
    {
     "name": "stderr",
     "output_type": "stream",
     "text": [
      "\r",
      "GettingInfo:  34%|██████████████████████▉                                             | 25/74 [04:01<07:52,  9.64s/URL]"
     ]
    },
    {
     "name": "stdout",
     "output_type": "stream",
     "text": [
      "[{'ProductURL': 'https://www.fast-growing-trees.com/products/moffat-blue-juniper', 'ProductName': 'Moffat Blue Juniper', 'SubHeading': \"Juniperus scopulorum 'Moffattii'\", 'Availability': 'InStock', 'Category': '2-3 feet', 'Pack': None, 'RegularPrice': None, 'SalePrice': '$99.95', 'ReviewCount': '0 reviews', 'Rating': '0.0'}]\n",
      "https://www.fast-growing-trees.com/products/little-missy-boxwood-shrub\n"
     ]
    },
    {
     "name": "stderr",
     "output_type": "stream",
     "text": [
      "\r",
      "GettingInfo:  35%|███████████████████████▉                                            | 26/74 [04:10<07:36,  9.51s/URL]"
     ]
    },
    {
     "name": "stdout",
     "output_type": "stream",
     "text": [
      "[{'ProductURL': 'https://www.fast-growing-trees.com/products/little-missy-boxwood-shrub', 'ProductName': 'Little Missy Boxwood Shrub', 'SubHeading': \"Buxus microphylla 'Little Missy'\", 'Availability': 'InStock', 'Category': '1 gallon', 'Pack': None, 'RegularPrice': None, 'SalePrice': '$69.95', 'ReviewCount': '0 reviews', 'Rating': '0.0'}]\n",
      "https://www.fast-growing-trees.com/products/otto-luyken-cherry-laurel\n"
     ]
    },
    {
     "name": "stderr",
     "output_type": "stream",
     "text": [
      "\r",
      "GettingInfo:  36%|████████████████████████▊                                           | 27/74 [04:19<07:18,  9.34s/URL]"
     ]
    },
    {
     "name": "stdout",
     "output_type": "stream",
     "text": [
      "[{'ProductURL': 'https://www.fast-growing-trees.com/products/otto-luyken-cherry-laurel', 'ProductName': 'Otto Luyken Cherry Laurel', 'SubHeading': \"Prunus laurocerasus 'Otto Luyken'\", 'Availability': 'InStock', 'Category': '3 gallon', 'Pack': None, 'RegularPrice': None, 'SalePrice': '$79.95', 'ReviewCount': '0 reviews', 'Rating': '0.0'}]\n",
      "https://www.fast-growing-trees.com/products/medora-juniper\n"
     ]
    },
    {
     "name": "stderr",
     "output_type": "stream",
     "text": [
      "\r",
      "GettingInfo:  38%|█████████████████████████▋                                          | 28/74 [04:28<07:03,  9.20s/URL]"
     ]
    },
    {
     "name": "stdout",
     "output_type": "stream",
     "text": [
      "[{'ProductURL': 'https://www.fast-growing-trees.com/products/medora-juniper', 'ProductName': 'Medora Juniper', 'SubHeading': \"Juniperus scopulorum 'Medora'\", 'Availability': 'InStock', 'Category': '1-2 feet', 'Pack': None, 'RegularPrice': None, 'SalePrice': '$49.95', 'ReviewCount': '0 reviews', 'Rating': '0.0'}]\n",
      "https://www.fast-growing-trees.com/products/tannenbaum-mugo-pine\n"
     ]
    },
    {
     "name": "stderr",
     "output_type": "stream",
     "text": [
      "\r",
      "GettingInfo:  39%|██████████████████████████▋                                         | 29/74 [04:37<06:47,  9.05s/URL]"
     ]
    },
    {
     "name": "stdout",
     "output_type": "stream",
     "text": [
      "[{'ProductURL': 'https://www.fast-growing-trees.com/products/tannenbaum-mugo-pine', 'ProductName': 'Tannenbaum Mugo Pine', 'SubHeading': \"Pinus mugo 'Tannenbaum'\", 'Availability': 'InStock', 'Category': '2-3 feet', 'Pack': None, 'RegularPrice': None, 'SalePrice': '$129.95', 'ReviewCount': '0 reviews', 'Rating': '0.0'}]\n",
      "https://www.fast-growing-trees.com/products/ponderosa-pine\n"
     ]
    },
    {
     "name": "stderr",
     "output_type": "stream",
     "text": [
      "\r",
      "GettingInfo:  41%|███████████████████████████▌                                        | 30/74 [04:45<06:32,  8.91s/URL]"
     ]
    },
    {
     "name": "stdout",
     "output_type": "stream",
     "text": [
      "[{'ProductURL': 'https://www.fast-growing-trees.com/products/ponderosa-pine', 'ProductName': 'Black Hills Ponderosa Pine', 'SubHeading': \"Pinus ponderosa 'Black Hills'\", 'Availability': 'InStock', 'Category': '2-3 feet', 'Pack': None, 'RegularPrice': None, 'SalePrice': '$99.95', 'ReviewCount': '0 reviews', 'Rating': '0.0'}]\n",
      "https://www.fast-growing-trees.com/products/daisy-gardenia\n"
     ]
    },
    {
     "name": "stderr",
     "output_type": "stream",
     "text": [
      "\r",
      "GettingInfo:  42%|████████████████████████████▍                                       | 31/74 [04:54<06:22,  8.89s/URL]"
     ]
    },
    {
     "name": "stdout",
     "output_type": "stream",
     "text": [
      "[{'ProductURL': 'https://www.fast-growing-trees.com/products/daisy-gardenia', 'ProductName': 'Daisy Gardenia', 'SubHeading': 'Gardenia jasminoides ‘Daisy’', 'Availability': 'InStock', 'Category': '1 gallon', 'Pack': None, 'RegularPrice': None, 'SalePrice': '$49.95', 'ReviewCount': '1 reviews', 'Rating': '5.0'}]\n",
      "https://www.fast-growing-trees.com/products/monarch-holly\n"
     ]
    },
    {
     "name": "stderr",
     "output_type": "stream",
     "text": [
      "\r",
      "GettingInfo:  43%|█████████████████████████████▍                                      | 32/74 [05:03<06:19,  9.03s/URL]"
     ]
    },
    {
     "name": "stdout",
     "output_type": "stream",
     "text": [
      "[{'ProductURL': 'https://www.fast-growing-trees.com/products/monarch-holly', 'ProductName': 'Monarch™ Holly', 'SubHeading': 'Ilex ‘Monarch Holly’', 'Availability': 'InStock', 'Category': '1 gallon', 'Pack': None, 'RegularPrice': None, 'SalePrice': '$39.95', 'ReviewCount': '0 reviews', 'Rating': '0.0'}]\n",
      "https://www.fast-growing-trees.com/products/slim-bottlebrush\n"
     ]
    },
    {
     "name": "stderr",
     "output_type": "stream",
     "text": [
      "\r",
      "GettingInfo:  45%|██████████████████████████████▎                                     | 33/74 [05:12<06:08,  8.99s/URL]"
     ]
    },
    {
     "name": "stdout",
     "output_type": "stream",
     "text": [
      "[{'ProductURL': 'https://www.fast-growing-trees.com/products/slim-bottlebrush', 'ProductName': 'Slim™ Bottlebrush', 'SubHeading': 'Callistemon viminalis ‘CV01’ Slim™', 'Availability': 'InStock', 'Category': '3 gallon', 'Pack': None, 'RegularPrice': None, 'SalePrice': '$59.95', 'ReviewCount': '1 reviews', 'Rating': '5.0'}]\n",
      "https://www.fast-growing-trees.com/products/valencia-pride-mango\n"
     ]
    },
    {
     "name": "stderr",
     "output_type": "stream",
     "text": [
      "\r",
      "GettingInfo:  46%|███████████████████████████████▏                                    | 34/74 [05:21<05:57,  8.93s/URL]"
     ]
    },
    {
     "name": "stdout",
     "output_type": "stream",
     "text": [
      "[{'ProductURL': 'https://www.fast-growing-trees.com/products/valencia-pride-mango', 'ProductName': 'Valencia Pride Mango', 'SubHeading': 'Mangifera indica ‘Valencia Pride’', 'Availability': 'InStock', 'Category': '2-3 feet', 'Pack': None, 'RegularPrice': None, 'SalePrice': '$99.95', 'ReviewCount': '0 reviews', 'Rating': '0.0'}]\n",
      "https://www.fast-growing-trees.com/products/tasty-red-apple\n"
     ]
    },
    {
     "name": "stderr",
     "output_type": "stream",
     "text": [
      "\r",
      "GettingInfo:  47%|████████████████████████████████▏                                   | 35/74 [05:28<05:21,  8.23s/URL]"
     ]
    },
    {
     "name": "stdout",
     "output_type": "stream",
     "text": [
      "[{'ProductURL': 'https://www.fast-growing-trees.com/products/tasty-red-apple', 'ProductName': 'Tasty Red™ Columnar Apple', 'SubHeading': \"Malus Urban Tasty Red 'UEB 3449-1'\", 'Availability': 'SoldOut', 'Category': None, 'Pack': None, 'RegularPrice': None, 'SalePrice': None, 'ReviewCount': '0 reviews', 'Rating': '0.0'}]\n",
      "https://www.fast-growing-trees.com/products/midnight-cascade-blueberry\n"
     ]
    },
    {
     "name": "stderr",
     "output_type": "stream",
     "text": [
      "\r",
      "GettingInfo:  49%|█████████████████████████████████                                   | 36/74 [05:37<05:22,  8.50s/URL]"
     ]
    },
    {
     "name": "stdout",
     "output_type": "stream",
     "text": [
      "[{'ProductURL': 'https://www.fast-growing-trees.com/products/midnight-cascade-blueberry', 'ProductName': 'Midnight Cascade Blueberry', 'SubHeading': \"Vaccinium hybrid 'FC12-187'\", 'Availability': 'InStock', 'Category': '2 gallon', 'Pack': None, 'RegularPrice': None, 'SalePrice': '$59.95', 'ReviewCount': '0 reviews', 'Rating': '0.0'}]\n",
      "https://www.fast-growing-trees.com/products/sapphire-cascade-blueberry\n"
     ]
    },
    {
     "name": "stderr",
     "output_type": "stream",
     "text": [
      "\r",
      "GettingInfo:  50%|██████████████████████████████████                                  | 37/74 [05:46<05:21,  8.68s/URL]"
     ]
    },
    {
     "name": "stdout",
     "output_type": "stream",
     "text": [
      "[{'ProductURL': 'https://www.fast-growing-trees.com/products/sapphire-cascade-blueberry', 'ProductName': 'Bushel and Berry® Sapphire Cascade Blueberry', 'SubHeading': \"Vaccinium hybrid 'FC12-029'\", 'Availability': 'InStock', 'Category': '2 gallon', 'Pack': None, 'RegularPrice': None, 'SalePrice': '$59.95', 'ReviewCount': '0 reviews', 'Rating': '0.0'}]\n",
      "https://www.fast-growing-trees.com/products/pink-icing-blueberry\n"
     ]
    },
    {
     "name": "stderr",
     "output_type": "stream",
     "text": [
      "\r",
      "GettingInfo:  51%|██████████████████████████████████▉                                 | 38/74 [05:57<05:38,  9.41s/URL]"
     ]
    },
    {
     "name": "stdout",
     "output_type": "stream",
     "text": [
      "[{'ProductURL': 'https://www.fast-growing-trees.com/products/pink-icing-blueberry', 'ProductName': 'Bushel and Berry® Pink Icing® Blueberry', 'SubHeading': \"Vaccinium corymbosum hybrid 'ZF06-079'\", 'Availability': 'InStock', 'Category': '2 quart', 'Pack': None, 'RegularPrice': None, 'SalePrice': '$29.95', 'ReviewCount': '0 reviews', 'Rating': '0.0'}, {'ProductURL': 'https://www.fast-growing-trees.com/products/pink-icing-blueberry', 'ProductName': 'Bushel and Berry® Pink Icing® Blueberry', 'SubHeading': \"Vaccinium corymbosum hybrid 'ZF06-079'\", 'Availability': 'InStock', 'Category': '1 gallon', 'Pack': None, 'RegularPrice': None, 'SalePrice': '$39.95', 'ReviewCount': '0 reviews', 'Rating': '0.0'}]\n",
      "https://www.fast-growing-trees.com/products/jelly-bean-blueberry\n"
     ]
    },
    {
     "name": "stderr",
     "output_type": "stream",
     "text": [
      "\r",
      "GettingInfo:  53%|███████████████████████████████████▊                                | 39/74 [06:08<05:49,  9.98s/URL]"
     ]
    },
    {
     "name": "stdout",
     "output_type": "stream",
     "text": [
      "[{'ProductURL': 'https://www.fast-growing-trees.com/products/jelly-bean-blueberry', 'ProductName': 'Bushel and Berry® Jelly Bean® Blueberry', 'SubHeading': \"Vaccinium corymbosum hybrid 'ZF06-179'\", 'Availability': 'InStock', 'Category': '2 quart', 'Pack': None, 'RegularPrice': None, 'SalePrice': '$29.95', 'ReviewCount': '0 reviews', 'Rating': '0.0'}, {'ProductURL': 'https://www.fast-growing-trees.com/products/jelly-bean-blueberry', 'ProductName': 'Bushel and Berry® Jelly Bean® Blueberry', 'SubHeading': \"Vaccinium corymbosum hybrid 'ZF06-179'\", 'Availability': 'InStock', 'Category': '1 gallon', 'Pack': None, 'RegularPrice': None, 'SalePrice': '$39.95', 'ReviewCount': '0 reviews', 'Rating': '0.0'}]\n",
      "https://www.fast-growing-trees.com/products/berrybux-blueberry\n"
     ]
    },
    {
     "name": "stderr",
     "output_type": "stream",
     "text": [
      "\r",
      "GettingInfo:  54%|████████████████████████████████████▊                               | 40/74 [06:20<05:57, 10.53s/URL]"
     ]
    },
    {
     "name": "stdout",
     "output_type": "stream",
     "text": [
      "[{'ProductURL': 'https://www.fast-growing-trees.com/products/berrybux-blueberry', 'ProductName': 'Bushel and Berry® BerryBux® Blueberry', 'SubHeading': \"Vaccinium corymbosum hybrid 'ZF08-095'\", 'Availability': 'InStock', 'Category': '2 quart', 'Pack': None, 'RegularPrice': None, 'SalePrice': '$29.95', 'ReviewCount': '0 reviews', 'Rating': '0.0'}, {'ProductURL': 'https://www.fast-growing-trees.com/products/berrybux-blueberry', 'ProductName': 'Bushel and Berry® BerryBux® Blueberry', 'SubHeading': \"Vaccinium corymbosum hybrid 'ZF08-095'\", 'Availability': 'InStock', 'Category': '1 gallon', 'Pack': None, 'RegularPrice': None, 'SalePrice': '$39.95', 'ReviewCount': '0 reviews', 'Rating': '0.0'}]\n",
      "https://www.fast-growing-trees.com/products/blueberry-buckle-blueberry\n"
     ]
    },
    {
     "name": "stderr",
     "output_type": "stream",
     "text": [
      "\r",
      "GettingInfo:  55%|█████████████████████████████████████▋                              | 41/74 [06:29<05:28,  9.97s/URL]"
     ]
    },
    {
     "name": "stdout",
     "output_type": "stream",
     "text": [
      "[{'ProductURL': 'https://www.fast-growing-trees.com/products/blueberry-buckle-blueberry', 'ProductName': 'Blueberry Buckle® Blueberry', 'SubHeading': \"Vaccinium corymbosum hybrid 'Corablue'\", 'Availability': 'InStock', 'Category': '1 gallon', 'Pack': None, 'RegularPrice': None, 'SalePrice': '$39.95', 'ReviewCount': '0 reviews', 'Rating': '0.0'}]\n",
      "https://www.fast-growing-trees.com/products/silver-dollar-blueberry\n"
     ]
    },
    {
     "name": "stderr",
     "output_type": "stream",
     "text": [
      "\r",
      "GettingInfo:  57%|██████████████████████████████████████▌                             | 42/74 [06:40<05:33, 10.43s/URL]"
     ]
    },
    {
     "name": "stdout",
     "output_type": "stream",
     "text": [
      "[{'ProductURL': 'https://www.fast-growing-trees.com/products/silver-dollar-blueberry', 'ProductName': 'Bushel and Berry® Silver Dollar® Blueberry', 'SubHeading': \"Vaccinium corymbosum 'ZF06-089'\", 'Availability': 'InStock', 'Category': '2 quart', 'Pack': None, 'RegularPrice': None, 'SalePrice': '$29.95', 'ReviewCount': '0 reviews', 'Rating': '0.0'}, {'ProductURL': 'https://www.fast-growing-trees.com/products/silver-dollar-blueberry', 'ProductName': 'Bushel and Berry® Silver Dollar® Blueberry', 'SubHeading': \"Vaccinium corymbosum 'ZF06-089'\", 'Availability': 'InStock', 'Category': '2 gallon', 'Pack': None, 'RegularPrice': None, 'SalePrice': '$68.95', 'ReviewCount': '0 reviews', 'Rating': '0.0'}]\n",
      "https://www.fast-growing-trees.com/products/golden-treat-apple\n"
     ]
    },
    {
     "name": "stderr",
     "output_type": "stream",
     "text": [
      "\r",
      "GettingInfo:  58%|███████████████████████████████████████▌                            | 43/74 [06:47<04:46,  9.25s/URL]"
     ]
    },
    {
     "name": "stdout",
     "output_type": "stream",
     "text": [
      "[{'ProductURL': 'https://www.fast-growing-trees.com/products/golden-treat-apple', 'ProductName': 'Golden Treat™ Columnar Apple', 'SubHeading': \"Malus domestica 'Golden Treat'\", 'Availability': 'SoldOut', 'Category': None, 'Pack': None, 'RegularPrice': None, 'SalePrice': None, 'ReviewCount': '0 reviews', 'Rating': '0.0'}]\n",
      "https://www.fast-growing-trees.com/products/3-in-1-blueberry-southern-highbush\n"
     ]
    },
    {
     "name": "stderr",
     "output_type": "stream",
     "text": [
      "\r",
      "GettingInfo:  59%|████████████████████████████████████████▍                           | 44/74 [06:56<04:34,  9.14s/URL]"
     ]
    },
    {
     "name": "stdout",
     "output_type": "stream",
     "text": [
      "[{'ProductURL': 'https://www.fast-growing-trees.com/products/3-in-1-blueberry-southern-highbush', 'ProductName': '3-in-1 Blueberry (Southern Highbush)', 'SubHeading': 'Vaccinium spp.', 'Availability': 'InStock', 'Category': '3 gallon', 'Pack': None, 'RegularPrice': None, 'SalePrice': '$119.95', 'ReviewCount': '0 reviews', 'Rating': '0.0'}]\n",
      "https://www.fast-growing-trees.com/products/3-in-1-raspberry\n"
     ]
    },
    {
     "name": "stderr",
     "output_type": "stream",
     "text": [
      "\r",
      "GettingInfo:  61%|█████████████████████████████████████████▎                          | 45/74 [07:05<04:23,  9.09s/URL]"
     ]
    },
    {
     "name": "stdout",
     "output_type": "stream",
     "text": [
      "[{'ProductURL': 'https://www.fast-growing-trees.com/products/3-in-1-raspberry', 'ProductName': '3 in 1 Raspberry', 'SubHeading': 'Rubus spp.', 'Availability': 'InStock', 'Category': '3 Gallon', 'Pack': None, 'RegularPrice': None, 'SalePrice': '$119.95', 'ReviewCount': '0 reviews', 'Rating': '0.0'}]\n",
      "https://www.fast-growing-trees.com/products/fiesta-hibiscus\n"
     ]
    },
    {
     "name": "stderr",
     "output_type": "stream",
     "text": [
      "\r",
      "GettingInfo:  62%|██████████████████████████████████████████▎                         | 46/74 [07:14<04:17,  9.20s/URL]"
     ]
    },
    {
     "name": "stdout",
     "output_type": "stream",
     "text": [
      "[{'ProductURL': 'https://www.fast-growing-trees.com/products/fiesta-hibiscus', 'ProductName': 'Fiesta Hibiscus', 'SubHeading': 'Hibiscus rosa-sinensis ‘Fiesta’', 'Availability': 'InStock', 'Category': '3 gallon', 'Pack': None, 'RegularPrice': None, 'SalePrice': '$59.95', 'ReviewCount': '0 reviews', 'Rating': '0.0'}]\n",
      "https://www.fast-growing-trees.com/products/barbie-pink-guava-tree\n"
     ]
    },
    {
     "name": "stderr",
     "output_type": "stream",
     "text": [
      "\r",
      "GettingInfo:  64%|███████████████████████████████████████████▏                        | 47/74 [07:23<04:03,  9.01s/URL]"
     ]
    },
    {
     "name": "stdout",
     "output_type": "stream",
     "text": [
      "[{'ProductURL': 'https://www.fast-growing-trees.com/products/barbie-pink-guava-tree', 'ProductName': 'Barbie Pink Guava Tree', 'SubHeading': 'Psidium guajava', 'Availability': 'InStock', 'Category': '2-3 feet', 'Pack': None, 'RegularPrice': None, 'SalePrice': '$99.95', 'ReviewCount': '0 reviews', 'Rating': '0.0'}]\n",
      "https://www.fast-growing-trees.com/products/red-velvet-canna-lily\n"
     ]
    },
    {
     "name": "stderr",
     "output_type": "stream",
     "text": [
      "\r",
      "GettingInfo:  65%|████████████████████████████████████████████                        | 48/74 [07:32<03:54,  9.03s/URL]"
     ]
    },
    {
     "name": "stdout",
     "output_type": "stream",
     "text": [
      "[{'ProductURL': 'https://www.fast-growing-trees.com/products/red-velvet-canna-lily', 'ProductName': 'Red Velvet Canna Lily', 'SubHeading': 'Canna x generalis ‘Red Velvet’', 'Availability': 'InStock', 'Category': '1 gallon', 'Pack': None, 'RegularPrice': None, 'SalePrice': '$44.95', 'ReviewCount': '0 reviews', 'Rating': '0.0'}]\n",
      "https://www.fast-growing-trees.com/products/tenerife-canna-lily\n"
     ]
    },
    {
     "name": "stderr",
     "output_type": "stream",
     "text": [
      "\r",
      "GettingInfo:  66%|█████████████████████████████████████████████                       | 49/74 [07:41<03:48,  9.12s/URL]"
     ]
    },
    {
     "name": "stdout",
     "output_type": "stream",
     "text": [
      "[{'ProductURL': 'https://www.fast-growing-trees.com/products/tenerife-canna-lily', 'ProductName': 'Tenerife Canna Lily', 'SubHeading': \"Canna x generalis 'Tenerife'\", 'Availability': 'InStock', 'Category': '1 gallon', 'Pack': None, 'RegularPrice': None, 'SalePrice': '$44.95', 'ReviewCount': '0 reviews', 'Rating': '0.0'}]\n",
      "https://www.fast-growing-trees.com/products/cleopatra-canna-lily\n"
     ]
    },
    {
     "name": "stderr",
     "output_type": "stream",
     "text": [
      "\r",
      "GettingInfo:  68%|█████████████████████████████████████████████▉                      | 50/74 [07:50<03:35,  8.97s/URL]"
     ]
    },
    {
     "name": "stdout",
     "output_type": "stream",
     "text": [
      "[{'ProductURL': 'https://www.fast-growing-trees.com/products/cleopatra-canna-lily', 'ProductName': 'Cleopatra Canna Lily', 'SubHeading': \"Canna x generalis 'Cleopatra'\", 'Availability': 'InStock', 'Category': '1 gallon', 'Pack': None, 'RegularPrice': None, 'SalePrice': '$44.95', 'ReviewCount': '0 reviews', 'Rating': '0.0'}]\n",
      "https://www.fast-growing-trees.com/products/dwarf-globe-blue-spruce\n"
     ]
    },
    {
     "name": "stderr",
     "output_type": "stream",
     "text": [
      "\r",
      "GettingInfo:  69%|██████████████████████████████████████████████▊                     | 51/74 [07:58<03:25,  8.92s/URL]"
     ]
    },
    {
     "name": "stdout",
     "output_type": "stream",
     "text": [
      "[{'ProductURL': 'https://www.fast-growing-trees.com/products/dwarf-globe-blue-spruce', 'ProductName': 'Dwarf Globe Blue Spruce', 'SubHeading': \"Picea pungens 'Glauca Globosa'\", 'Availability': 'InStock', 'Category': '15 gallon Jumbo', 'Pack': None, 'RegularPrice': None, 'SalePrice': '$349.95', 'ReviewCount': '0 reviews', 'Rating': '0.0'}]\n",
      "https://www.fast-growing-trees.com/products/dwarf-globe-blue-spruce-tree\n"
     ]
    },
    {
     "name": "stderr",
     "output_type": "stream",
     "text": [
      "\r",
      "GettingInfo:  70%|███████████████████████████████████████████████▊                    | 52/74 [08:08<03:18,  9.02s/URL]"
     ]
    },
    {
     "name": "stdout",
     "output_type": "stream",
     "text": [
      "[{'ProductURL': 'https://www.fast-growing-trees.com/products/dwarf-globe-blue-spruce-tree', 'ProductName': 'Dwarf Globe Blue Spruce Tree', 'SubHeading': \"Picea pungens 'Glauca Globosa'\", 'Availability': 'InStock', 'Category': '5 gallon', 'Pack': None, 'RegularPrice': None, 'SalePrice': '$149.95', 'ReviewCount': '0 reviews', 'Rating': '0.0'}]\n",
      "https://www.fast-growing-trees.com/products/montrose-spire-white-spruce\n"
     ]
    },
    {
     "name": "stderr",
     "output_type": "stream",
     "text": [
      "\r",
      "GettingInfo:  72%|████████████████████████████████████████████████▋                   | 53/74 [08:20<03:29,  9.96s/URL]"
     ]
    },
    {
     "name": "stdout",
     "output_type": "stream",
     "text": [
      "[{'ProductURL': 'https://www.fast-growing-trees.com/products/montrose-spire-white-spruce', 'ProductName': 'Montrose Spire White Spruce', 'SubHeading': \"Picea glauca 'Montrose Spire'\", 'Availability': 'InStock', 'Category': '1-2 feet', 'Pack': None, 'RegularPrice': None, 'SalePrice': '$79.95', 'ReviewCount': '0 reviews', 'Rating': '0.0'}, {'ProductURL': 'https://www.fast-growing-trees.com/products/montrose-spire-white-spruce', 'ProductName': 'Montrose Spire White Spruce', 'SubHeading': \"Picea glauca 'Montrose Spire'\", 'Availability': 'InStock', 'Category': '2-3 feet', 'Pack': None, 'RegularPrice': None, 'SalePrice': '$149.95', 'ReviewCount': '0 reviews', 'Rating': '0.0'}]\n",
      "https://www.fast-growing-trees.com/products/columnar-norway-spruce\n"
     ]
    },
    {
     "name": "stderr",
     "output_type": "stream",
     "text": [
      "\r",
      "GettingInfo:  73%|█████████████████████████████████████████████████▌                  | 54/74 [08:28<03:08,  9.43s/URL]"
     ]
    },
    {
     "name": "stdout",
     "output_type": "stream",
     "text": [
      "[{'ProductURL': 'https://www.fast-growing-trees.com/products/columnar-norway-spruce', 'ProductName': 'Columnar Norway Spruce', 'SubHeading': \"Picea abies 'Cupressina'\", 'Availability': 'InStock', 'Category': '1-2 feet', 'Pack': None, 'RegularPrice': None, 'SalePrice': '$79.95', 'ReviewCount': '0 reviews', 'Rating': '0.0'}]\n",
      "https://www.fast-growing-trees.com/products/blue-weeping-alaskan-cedar\n"
     ]
    },
    {
     "name": "stderr",
     "output_type": "stream",
     "text": [
      "\r",
      "GettingInfo:  74%|██████████████████████████████████████████████████▌                 | 55/74 [08:37<02:56,  9.29s/URL]"
     ]
    },
    {
     "name": "stdout",
     "output_type": "stream",
     "text": [
      "[{'ProductURL': 'https://www.fast-growing-trees.com/products/blue-weeping-alaskan-cedar', 'ProductName': 'Blue Weeping Alaskan Cedar', 'SubHeading': \"Chamaecyparis nootkatensis 'Glauca Pendula'\", 'Availability': 'InStock', 'Category': '4-5 feet', 'Pack': None, 'RegularPrice': None, 'SalePrice': '$149.95', 'ReviewCount': '1 reviews', 'Rating': '5.0'}]\n",
      "https://www.fast-growing-trees.com/products/eugenia-ball-topiary\n"
     ]
    },
    {
     "name": "stderr",
     "output_type": "stream",
     "text": [
      "\r",
      "GettingInfo:  76%|███████████████████████████████████████████████████▍                | 56/74 [08:46<02:43,  9.11s/URL]"
     ]
    },
    {
     "name": "stdout",
     "output_type": "stream",
     "text": [
      "[{'ProductURL': 'https://www.fast-growing-trees.com/products/eugenia-ball-topiary', 'ProductName': 'Eugenia Ball Topiary', 'SubHeading': 'Syzygium paniculatum', 'Availability': 'InStock', 'Category': '6 inch pot', 'Pack': None, 'RegularPrice': None, 'SalePrice': '$59.95', 'ReviewCount': '0 reviews', 'Rating': '0.0'}]\n",
      "https://www.fast-growing-trees.com/products/moonlit-lace-viburnum\n"
     ]
    },
    {
     "name": "stderr",
     "output_type": "stream",
     "text": [
      "\r",
      "GettingInfo:  77%|████████████████████████████████████████████████████▍               | 57/74 [08:55<02:34,  9.06s/URL]"
     ]
    },
    {
     "name": "stdout",
     "output_type": "stream",
     "text": [
      "[{'ProductURL': 'https://www.fast-growing-trees.com/products/moonlit-lace-viburnum', 'ProductName': 'Moonlit Lace® Viburnum', 'SubHeading': \"Viburnum x 'sPg-3-024'\", 'Availability': 'InStock', 'Category': '3 gallon', 'Pack': None, 'RegularPrice': None, 'SalePrice': '$79.95', 'ReviewCount': '0 reviews', 'Rating': '0.0'}]\n",
      "https://www.fast-growing-trees.com/products/heart-leaf-philodendron\n"
     ]
    },
    {
     "name": "stderr",
     "output_type": "stream",
     "text": [
      "\r",
      "GettingInfo:  78%|█████████████████████████████████████████████████████▎              | 58/74 [09:04<02:25,  9.07s/URL]"
     ]
    },
    {
     "name": "stdout",
     "output_type": "stream",
     "text": [
      "[{'ProductURL': 'https://www.fast-growing-trees.com/products/heart-leaf-philodendron', 'ProductName': 'Heart-Leaf Philodendron', 'SubHeading': 'Philodendron cordatum', 'Availability': 'InStock', 'Category': '8 inch pot', 'Pack': None, 'RegularPrice': None, 'SalePrice': '$69.95', 'ReviewCount': '0 reviews', 'Rating': '0.0'}]\n",
      "https://www.fast-growing-trees.com/products/cerise-charm-loropetalum\n"
     ]
    },
    {
     "name": "stderr",
     "output_type": "stream",
     "text": [
      "\r",
      "GettingInfo:  80%|██████████████████████████████████████████████████████▏             | 59/74 [09:12<02:13,  8.91s/URL]"
     ]
    },
    {
     "name": "stdout",
     "output_type": "stream",
     "text": [
      "[{'ProductURL': 'https://www.fast-growing-trees.com/products/cerise-charm-loropetalum', 'ProductName': 'Cerise Charm™ Loropetalum', 'SubHeading': \"Loropetalum chinense 'Kurobijin' PP 23,176\", 'Availability': 'InStock', 'Category': '3 gallon', 'Pack': None, 'RegularPrice': None, 'SalePrice': '$79.95', 'ReviewCount': '0 reviews', 'Rating': '0.0'}]\n",
      "https://www.fast-growing-trees.com/products/guacamole-kit\n"
     ]
    },
    {
     "name": "stderr",
     "output_type": "stream",
     "text": [
      "\r",
      "GettingInfo:  81%|███████████████████████████████████████████████████████▏            | 60/74 [09:19<01:53,  8.11s/URL]"
     ]
    },
    {
     "name": "stdout",
     "output_type": "stream",
     "text": [
      "[{'ProductURL': 'https://www.fast-growing-trees.com/products/guacamole-kit', 'ProductName': 'Guacamole Kit', 'SubHeading': \"Persea americana 'Hass', Citrus x aurantifolia\", 'Availability': 'SoldOut', 'Category': None, 'Pack': None, 'RegularPrice': None, 'SalePrice': None, 'ReviewCount': '0 reviews', 'Rating': '0.0'}]\n",
      "https://www.fast-growing-trees.com/products/hoya-heart\n"
     ]
    },
    {
     "name": "stderr",
     "output_type": "stream",
     "text": [
      "\r",
      "GettingInfo:  82%|████████████████████████████████████████████████████████            | 61/74 [09:25<01:40,  7.73s/URL]"
     ]
    },
    {
     "name": "stdout",
     "output_type": "stream",
     "text": [
      "[{'ProductURL': 'https://www.fast-growing-trees.com/products/hoya-heart', 'ProductName': 'Hoya Heart', 'SubHeading': 'Hoya kerrii', 'Availability': 'SoldOut', 'Category': None, 'Pack': None, 'RegularPrice': None, 'SalePrice': None, 'ReviewCount': '0 reviews', 'Rating': '5.0'}]\n",
      "https://www.fast-growing-trees.com/products/dwarf-jade-heart\n"
     ]
    },
    {
     "name": "stderr",
     "output_type": "stream",
     "text": [
      "\r",
      "GettingInfo:  84%|████████████████████████████████████████████████████████▉           | 62/74 [09:32<01:29,  7.44s/URL]"
     ]
    },
    {
     "name": "stdout",
     "output_type": "stream",
     "text": [
      "[{'ProductURL': 'https://www.fast-growing-trees.com/products/dwarf-jade-heart', 'ProductName': 'Dwarf Jade Heart', 'SubHeading': 'Portulacaria afra', 'Availability': 'InStock', 'Category': '10 inch pot', 'Pack': None, 'RegularPrice': '$199.95', 'SalePrice': '$99.95', 'ReviewCount': '0 reviews', 'Rating': '0.0'}]\n",
      "https://www.fast-growing-trees.com/products/dwarf-jade-plant\n"
     ]
    },
    {
     "name": "stderr",
     "output_type": "stream",
     "text": [
      "\r",
      "GettingInfo:  85%|█████████████████████████████████████████████████████████▉          | 63/74 [09:38<01:16,  6.97s/URL]"
     ]
    },
    {
     "name": "stdout",
     "output_type": "stream",
     "text": [
      "[{'ProductURL': 'https://www.fast-growing-trees.com/products/dwarf-jade-plant', 'ProductName': 'Dwarf Jade Plant', 'SubHeading': 'Portulacaria afra', 'Availability': 'SoldOut', 'Category': None, 'Pack': None, 'RegularPrice': None, 'SalePrice': None, 'ReviewCount': '1 reviews', 'Rating': '3.0'}]\n",
      "https://www.fast-growing-trees.com/products/star-ruby-grapefruit-tree-fl\n"
     ]
    },
    {
     "name": "stderr",
     "output_type": "stream",
     "text": [
      "\r",
      "GettingInfo:  86%|██████████████████████████████████████████████████████████▊         | 64/74 [09:46<01:12,  7.26s/URL]"
     ]
    },
    {
     "name": "stdout",
     "output_type": "stream",
     "text": [
      "[{'ProductURL': 'https://www.fast-growing-trees.com/products/star-ruby-grapefruit-tree-fl', 'ProductName': 'Star Ruby Grapefruit Tree', 'SubHeading': \"Citrus x Paradisi 'Star Ruby'\", 'Availability': 'InStock', 'Category': '3-4 feet', 'Pack': None, 'RegularPrice': None, 'SalePrice': '$119.95', 'ReviewCount': '0 reviews', 'Rating': '0.0'}]\n",
      "https://www.fast-growing-trees.com/products/birthday-cake-butterfly-bush\n"
     ]
    },
    {
     "name": "stderr",
     "output_type": "stream",
     "text": [
      "\r",
      "GettingInfo:  88%|███████████████████████████████████████████████████████████▋        | 65/74 [09:55<01:09,  7.77s/URL]"
     ]
    },
    {
     "name": "stdout",
     "output_type": "stream",
     "text": [
      "[{'ProductURL': 'https://www.fast-growing-trees.com/products/birthday-cake-butterfly-bush', 'ProductName': 'Birthday Cake™ Butterfly Bush', 'SubHeading': \"Buddleia x 'PODvb3-30'\", 'Availability': 'InStock', 'Category': '3 gallon', 'Pack': None, 'RegularPrice': None, 'SalePrice': '$109.95', 'ReviewCount': '0 reviews', 'Rating': '0.0'}]\n",
      "https://www.fast-growing-trees.com/products/dark-purple-orchid-in-white-ceramic-pot\n"
     ]
    },
    {
     "name": "stderr",
     "output_type": "stream",
     "text": [
      "\r",
      "GettingInfo:  89%|████████████████████████████████████████████████████████████▋       | 66/74 [10:04<01:04,  8.07s/URL]"
     ]
    },
    {
     "name": "stdout",
     "output_type": "stream",
     "text": [
      "[{'ProductURL': 'https://www.fast-growing-trees.com/products/dark-purple-orchid-in-white-ceramic-pot', 'ProductName': 'Dark Purple Orchid in White Ceramic Pot', 'SubHeading': 'Phalaenopsis spp.', 'Availability': 'InStock', 'Category': '10 inch White Ceramic Pot with Heart Pick', 'Pack': None, 'RegularPrice': None, 'SalePrice': '$59.95', 'ReviewCount': '0 reviews', 'Rating': '0.0'}]\n",
      "https://www.fast-growing-trees.com/products/red-orchid-in-silver-ceramic-pot\n"
     ]
    },
    {
     "name": "stderr",
     "output_type": "stream",
     "text": [
      "\r",
      "GettingInfo:  91%|█████████████████████████████████████████████████████████████▌      | 67/74 [10:12<00:56,  8.08s/URL]"
     ]
    },
    {
     "name": "stdout",
     "output_type": "stream",
     "text": [
      "[{'ProductURL': 'https://www.fast-growing-trees.com/products/red-orchid-in-silver-ceramic-pot', 'ProductName': 'Red Orchid in Silver Ceramic Pot', 'SubHeading': 'Phalaenopsis spp.', 'Availability': 'InStock', 'Category': '4 inch pot', 'Pack': None, 'RegularPrice': None, 'SalePrice': '$59.95', 'ReviewCount': '0 reviews', 'Rating': '0.0'}]\n",
      "https://www.fast-growing-trees.com/products/pink-orchid-in-sweetheart-pot\n"
     ]
    },
    {
     "name": "stderr",
     "output_type": "stream",
     "text": [
      "\r",
      "GettingInfo:  92%|██████████████████████████████████████████████████████████████▍     | 68/74 [10:21<00:50,  8.34s/URL]"
     ]
    },
    {
     "name": "stdout",
     "output_type": "stream",
     "text": [
      "[{'ProductURL': 'https://www.fast-growing-trees.com/products/pink-orchid-in-sweetheart-pot', 'ProductName': 'Pink Orchid in Sweetheart Pot', 'SubHeading': 'Phalaenopsis spp.', 'Availability': 'InStock', 'Category': '5 inch', 'Pack': None, 'RegularPrice': None, 'SalePrice': '$59.95', 'ReviewCount': '0 reviews', 'Rating': '0.0'}]\n",
      "https://www.fast-growing-trees.com/products/red-bromeliad-in-pink-pot\n"
     ]
    },
    {
     "name": "stderr",
     "output_type": "stream",
     "text": [
      "\r",
      "GettingInfo:  93%|███████████████████████████████████████████████████████████████▍    | 69/74 [10:30<00:42,  8.58s/URL]"
     ]
    },
    {
     "name": "stdout",
     "output_type": "stream",
     "text": [
      "[{'ProductURL': 'https://www.fast-growing-trees.com/products/red-bromeliad-in-pink-pot', 'ProductName': 'Red Bromeliad in Pink Pot', 'SubHeading': 'Bromeliad vriesea', 'Availability': 'InStock', 'Category': '6 inch', 'Pack': None, 'RegularPrice': None, 'SalePrice': '$59.95', 'ReviewCount': '0 reviews', 'Rating': '0.0'}]\n",
      "https://www.fast-growing-trees.com/products/sweet-tomato\n"
     ]
    },
    {
     "name": "stderr",
     "output_type": "stream",
     "text": [
      "\r",
      "GettingInfo:  95%|████████████████████████████████████████████████████████████████▎   | 70/74 [10:39<00:35,  8.83s/URL]"
     ]
    },
    {
     "name": "stdout",
     "output_type": "stream",
     "text": [
      "[{'ProductURL': 'https://www.fast-growing-trees.com/products/sweet-tomato', 'ProductName': 'Sweet Tomato', 'SubHeading': 'Solanum lycopersicum', 'Availability': 'InStock', 'Category': '1 gallon', 'Pack': None, 'RegularPrice': None, 'SalePrice': '$39.95', 'ReviewCount': '0 reviews', 'Rating': '0.0'}]\n",
      "https://www.fast-growing-trees.com/products/sweet-pepper\n"
     ]
    },
    {
     "name": "stderr",
     "output_type": "stream",
     "text": [
      "\r",
      "GettingInfo:  96%|█████████████████████████████████████████████████████████████████▏  | 71/74 [10:48<00:26,  8.69s/URL]"
     ]
    },
    {
     "name": "stdout",
     "output_type": "stream",
     "text": [
      "[{'ProductURL': 'https://www.fast-growing-trees.com/products/sweet-pepper', 'ProductName': 'Sweet Pepper', 'SubHeading': 'Capscium ', 'Availability': 'InStock', 'Category': '1 gallon', 'Pack': None, 'RegularPrice': None, 'SalePrice': '$39.95', 'ReviewCount': '0 reviews', 'Rating': '0.0'}]\n",
      "https://www.fast-growing-trees.com/products/new-gen-independence-boxwood\n"
     ]
    },
    {
     "name": "stderr",
     "output_type": "stream",
     "text": [
      "\r",
      "GettingInfo:  97%|██████████████████████████████████████████████████████████████████▏ | 72/74 [10:59<00:18,  9.37s/URL]"
     ]
    },
    {
     "name": "stdout",
     "output_type": "stream",
     "text": [
      "[{'ProductURL': 'https://www.fast-growing-trees.com/products/new-gen-independence-boxwood', 'ProductName': 'NewGen Independence® Boxwood', 'SubHeading': 'Buxus NewGen Independence', 'Availability': 'InStock', 'Category': '1 gallon', 'Pack': None, 'RegularPrice': None, 'SalePrice': '$69.95', 'ReviewCount': '0 reviews', 'Rating': '0.0'}, {'ProductURL': 'https://www.fast-growing-trees.com/products/new-gen-independence-boxwood', 'ProductName': 'NewGen Independence® Boxwood', 'SubHeading': 'Buxus NewGen Independence', 'Availability': 'InStock', 'Category': '3 gallon', 'Pack': None, 'RegularPrice': None, 'SalePrice': '$89.95', 'ReviewCount': '0 reviews', 'Rating': '0.0'}]\n",
      "https://www.fast-growing-trees.com/products/newgen-freedom-boxwood\n"
     ]
    },
    {
     "name": "stderr",
     "output_type": "stream",
     "text": [
      "\r",
      "GettingInfo:  99%|███████████████████████████████████████████████████████████████████ | 73/74 [11:09<00:09,  9.78s/URL]"
     ]
    },
    {
     "name": "stdout",
     "output_type": "stream",
     "text": [
      "[{'ProductURL': 'https://www.fast-growing-trees.com/products/newgen-freedom-boxwood', 'ProductName': 'NewGen Freedom® Boxwood', 'SubHeading': 'Buxus NewGen Freedom®', 'Availability': 'InStock', 'Category': '1 gallon', 'Pack': None, 'RegularPrice': None, 'SalePrice': '$69.95', 'ReviewCount': '0 reviews', 'Rating': '0.0'}, {'ProductURL': 'https://www.fast-growing-trees.com/products/newgen-freedom-boxwood', 'ProductName': 'NewGen Freedom® Boxwood', 'SubHeading': 'Buxus NewGen Freedom®', 'Availability': 'InStock', 'Category': '3 gallon', 'Pack': None, 'RegularPrice': None, 'SalePrice': '$89.95', 'ReviewCount': '0 reviews', 'Rating': '0.0'}]\n",
      "https://www.fast-growing-trees.com/products/pugster-blue-butterfly-bush\n"
     ]
    },
    {
     "name": "stderr",
     "output_type": "stream",
     "text": [
      "GettingInfo: 100%|████████████████████████████████████████████████████████████████████| 74/74 [11:24<00:00,  9.25s/URL]"
     ]
    },
    {
     "name": "stdout",
     "output_type": "stream",
     "text": [
      "[{'ProductURL': 'https://www.fast-growing-trees.com/products/pugster-blue-butterfly-bush', 'ProductName': 'Pugster Blue® Butterfly Bush', 'SubHeading': \"Buddleia davidii 'Pugster Blue'\", 'Availability': 'InStock', 'Category': '1 quart', 'Pack': None, 'RegularPrice': None, 'SalePrice': '$39.95', 'ReviewCount': '0 reviews', 'Rating': '0.0'}, {'ProductURL': 'https://www.fast-growing-trees.com/products/pugster-blue-butterfly-bush', 'ProductName': 'Pugster Blue® Butterfly Bush', 'SubHeading': \"Buddleia davidii 'Pugster Blue'\", 'Availability': 'InStock', 'Category': '2 gallon', 'Pack': None, 'RegularPrice': None, 'SalePrice': '$69.95', 'ReviewCount': '0 reviews', 'Rating': '0.0'}, {'ProductURL': 'https://www.fast-growing-trees.com/products/pugster-blue-butterfly-bush', 'ProductName': 'Pugster Blue® Butterfly Bush', 'SubHeading': \"Buddleia davidii 'Pugster Blue'\", 'Availability': 'InStock', 'Category': '3 gallon', 'Pack': None, 'RegularPrice': None, 'SalePrice': '$99.95', 'ReviewCount': '0 reviews', 'Rating': '0.0'}]\n"
     ]
    },
    {
     "name": "stderr",
     "output_type": "stream",
     "text": [
      "\n"
     ]
    }
   ],
   "source": [
    "user_agents = random.choice(allowed_user_agents)\n",
    "headers = {'User-Agent': user_agents}\n",
    "chrome_options = webdriver.ChromeOptions()\n",
    "chrome_options.add_argument(f\"user-agent={headers['User-Agent']}\")\n",
    "chrome_options.add_argument('--headless')\n",
    "driver = webdriver.Chrome(options=chrome_options)\n",
    "for i in tqdm(Pro_URL[1500:], desc=\"GettingInfo\", unit=\"URL\"):\n",
    "    print(i)\n",
    "    df = get_product_info(i)\n",
    "    Product_details16.extend(df)\n",
    "    print(df)\n",
    "daf = pd.DataFrame(Product_details16)\n",
    "daf.to_csv('FastGrowingTrees16.csv',index=False)\n",
    "driver.quit()"
   ]
  },
  {
   "cell_type": "code",
   "execution_count": 32,
   "id": "17f78c1f",
   "metadata": {},
   "outputs": [
    {
     "data": {
      "text/plain": [
       "1574"
      ]
     },
     "execution_count": 32,
     "metadata": {},
     "output_type": "execute_result"
    }
   ],
   "source": [
    "len(Pro_URL)"
   ]
  },
  {
   "cell_type": "code",
   "execution_count": 38,
   "id": "588d5623",
   "metadata": {},
   "outputs": [
    {
     "name": "stdout",
     "output_type": "stream",
     "text": [
      "FastGrowingTrees1.csv 424\n",
      "FastGrowingTrees10.csv 242\n",
      "FastGrowingTrees11.csv 151\n",
      "FastGrowingTrees12.csv 236\n",
      "FastGrowingTrees13.csv 123\n",
      "FastGrowingTrees14.csv 172\n",
      "FastGrowingTrees15.csv 127\n",
      "FastGrowingTrees16.csv 94\n",
      "FastGrowingTrees2.csv 340\n",
      "FastGrowingTrees3.csv 238\n",
      "FastGrowingTrees4.csv 267\n",
      "FastGrowingTrees5.csv 231\n",
      "FastGrowingTrees6.csv 244\n",
      "FastGrowingTrees7.csv 156\n",
      "FastGrowingTrees8.csv 236\n",
      "FastGrowingTrees9.csv 185\n",
      "Combined data saved to FastGrowingTrees.csv\n"
     ]
    }
   ],
   "source": [
    "import os\n",
    "import pandas as pd\n",
    "\n",
    "def combine_csv_files(input_folder, output_file):\n",
    "    # Get a list of all CSV files in the input folder starting with \"FastGrowingTrees\"\n",
    "    csv_files = [file for file in os.listdir(input_folder) if file.startswith('FastGrowingTrees') and file.endswith('.csv')]\n",
    "\n",
    "    # Initialize an empty list to store DataFrames\n",
    "    data_frames = []\n",
    "\n",
    "    # Loop through each matching CSV file and append its data to the data_frames list\n",
    "    for file in csv_files:\n",
    "        file_path = os.path.join(input_folder, file)\n",
    "        current_data = pd.read_csv(file_path)\n",
    "        print(file ,len(current_data))\n",
    "        data_frames.append(current_data)\n",
    "\n",
    "    # Concatenate all DataFrames in the list along the rows\n",
    "    combined_data = pd.concat(data_frames, ignore_index=True)\n",
    "\n",
    "    # Save the combined data to a new CSV file\n",
    "    combined_data.to_csv(output_file, index=False)\n",
    "    print(f\"Combined data saved to {output_file}\")\n",
    "\n",
    "# Example usage\n",
    "input_folder = r'C:\\Users\\Rahul Manocha\\Documents\\KDMS\\WebScrapping\\1st time\\FastGrowingTrees'\n",
    "output_file = 'FastGrowingTrees.csv'\n",
    "combine_csv_files(input_folder, output_file)"
   ]
  },
  {
   "cell_type": "code",
   "execution_count": null,
   "id": "14330622",
   "metadata": {},
   "outputs": [],
   "source": []
  }
 ],
 "metadata": {
  "kernelspec": {
   "display_name": "Python 3 (ipykernel)",
   "language": "python",
   "name": "python3"
  },
  "language_info": {
   "codemirror_mode": {
    "name": "ipython",
    "version": 3
   },
   "file_extension": ".py",
   "mimetype": "text/x-python",
   "name": "python",
   "nbconvert_exporter": "python",
   "pygments_lexer": "ipython3",
   "version": "3.11.5"
  }
 },
 "nbformat": 4,
 "nbformat_minor": 5
}
