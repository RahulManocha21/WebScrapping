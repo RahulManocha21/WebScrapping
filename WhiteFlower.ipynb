{
 "cells": [
  {
   "cell_type": "code",
   "execution_count": 152,
   "id": "d20f7ecc",
   "metadata": {},
   "outputs": [],
   "source": [
    "from selenium import webdriver\n",
    "from selenium.common.exceptions import TimeoutException\n",
    "from selenium.webdriver.common.by import By\n",
    "from selenium.webdriver.common.keys import Keys\n",
    "from selenium.webdriver.support.ui import WebDriverWait\n",
    "from selenium.webdriver.support import expected_conditions as EC\n",
    "from selenium.common.exceptions import NoSuchElementException, TimeoutException\n",
    "import requests\n",
    "from bs4 import BeautifulSoup\n",
    "import time \n",
    "from tqdm import tqdm\n",
    "import random\n",
    "import pandas as pd\n",
    "import re"
   ]
  },
  {
   "cell_type": "code",
   "execution_count": 2,
   "id": "61a75aae",
   "metadata": {},
   "outputs": [],
   "source": [
    "Pro_URL= pd.read_excel('Links.xlsx', sheet_name='url', index_col=False)\n",
    "url_list = Pro_URL['loc'].tolist()"
   ]
  },
  {
   "cell_type": "code",
   "execution_count": 7,
   "id": "117a7758",
   "metadata": {},
   "outputs": [],
   "source": [
    "Pro_URL = url_list"
   ]
  },
  {
   "cell_type": "code",
   "execution_count": 287,
   "id": "1ba6a99b",
   "metadata": {},
   "outputs": [
    {
     "data": {
      "text/plain": [
       "'https://www.whiteflowerfarm.com/three-months-of-winter-bulb-gardens-january-march'"
      ]
     },
     "execution_count": 287,
     "metadata": {},
     "output_type": "execute_result"
    }
   ],
   "source": [
    "Pro_URL.index('https://www.whiteflowerfarm.com/59092-product.html')\n",
    "Pro_URL[1264]\n",
    "# Pro_URL.remove('https://www.whiteflowerfarm.com/copper-tray-with-handles')"
   ]
  },
  {
   "cell_type": "code",
   "execution_count": 328,
   "id": "ca7009cf",
   "metadata": {},
   "outputs": [],
   "source": [
    "def get_product_info(URL):\n",
    "    def createRow(ProductName,SKU,Stock,Quantity, SalePrice,Rating, ReviewCount):\n",
    "        row = {\n",
    "            'ProductURL': URL,\n",
    "            'ProductName':ProductName,\n",
    "            'SKU':SKU,\n",
    "            'Availability': Stock,\n",
    "            'Quantity':Quantity,\n",
    "            'SalePrice': SalePrice,\n",
    "            'ReviewCount': ReviewCount,\n",
    "            'Rating': Rating\n",
    "            }\n",
    "        return row\n",
    "    driver.get(URL)\n",
    "    time.sleep(2)\n",
    "    page_source = driver.page_source\n",
    "    soup = BeautifulSoup(page_source, 'html.parser')\n",
    "    ProductName = soup.find('h1').text\n",
    "    SKU = soup.find('span', class_='item-sku js-item-sku').text[5:]\n",
    "    Rating = soup.find('div', class_='ratings-box').find('a').get('data-rating')\n",
    "    ReviewCount = soup.find('div', class_='ratings-box').find('a').text.strip('()\\n')\n",
    "    Stock = soup.find('div', class_='add-to-cart-wrap').text.strip('\\n')\n",
    "    if Stock == 'Add to cart':\n",
    "        Stock = 'InStock'\n",
    "    df = []\n",
    "    skipped = []\n",
    "    if len(soup.find_all('div', class_=\"cart-actions\")[1].find_all('option')):\n",
    "        if soup.find_all('div', class_=\"cart-actions\")[1].find_all('optgroup'):\n",
    "            for i in range(len(soup.find_all('div', class_=\"cart-actions\")[1].find_all('optgroup'))):\n",
    "                Quantity = soup.find_all('div', class_=\"cart-actions\")[1].find_all('optgroup')[i].get('label')\n",
    "                Qnumber = int(re.search(r'(\\d+)', Quantity).group())\n",
    "                price_per_unit = float(Quantity.split('$')[1].split()[0])\n",
    "                SalePrice = Qnumber * price_per_unit\n",
    "                SalePrice = f'${SalePrice:.2f}'\n",
    "                row = createRow(ProductName,SKU,Stock,Quantity, SalePrice,Rating, ReviewCount)\n",
    "                df.append(row)\n",
    "        else:\n",
    "            Quantity = soup.find_all('div', class_=\"cart-actions\")[1].find_all('option')[0].text.strip('\\n').split('for')[0].strip()\n",
    "            SalePrice = soup.find_all('div', class_=\"cart-actions\")[1].find_all('option')[0].text.strip('\\n').split('for')[1].strip(' total')\n",
    "            row = createRow(ProductName,SKU,Stock,Quantity, SalePrice,Rating, ReviewCount)\n",
    "            df.append(row)\n",
    "        return df, soup, skipped\n",
    "    elif soup.find('div', class_=\"pc-attribute-wrapper\"):\n",
    "        if 'months' in ProductName.lower():\n",
    "            skipped.append(URL)\n",
    "#                 for i in range(len(soup.find('div', class_=\"pc-attribute-wrapper\").find_all('option', class_=''))):\n",
    "#                     Varient = soup.find('div', class_=\"pc-attribute-wrapper\").find_all('option', class_='')[i].get('value')\n",
    "#                     combo_box = driver.find_element(By.XPATH, \"//select[@id='pc-attr-1362857527-0']\")\n",
    "#                     combo_box.send_keys(Varient)\n",
    "#                     for j in range(len(soup.find_all('input', class_='pc-attribute pc-attr726057125'))):\n",
    "#                         page_source = driver.page_source\n",
    "#                         soup = BeautifulSoup(page_source, 'html.parser')\n",
    "#                         ProductName = soup.find('h1').text\n",
    "#                         SKU = soup.find('span', class_='item-sku js-item-sku').text[5:]\n",
    "#                         SalePrice = soup.find('span', class_='price').text\n",
    "#                         Quantity= None\n",
    "#                         row = createRow(ProductName,SKU,Stock,Quantity, SalePrice,Rating, ReviewCount)\n",
    "#                         df.append(row)\n",
    "\n",
    "\n",
    "            \n",
    "        elif soup.find('span', class_='child-name'):\n",
    "            for i in range(len(soup.find_all('span', class_='child-name'))):\n",
    "                ProductName = soup.find_all('span', class_='child-name')[i].text\n",
    "                SalePrice = soup.find_all('span', class_='child-price')[i].find('span').text.strip('\\n')\n",
    "                Quantity= None\n",
    "                row = createRow(ProductName,SKU,Stock,Quantity, SalePrice,Rating, ReviewCount)\n",
    "                df.append(row)\n",
    "            return df, soup, skipped\n",
    "        \n",
    "        else:\n",
    "            for i in range(len(soup.find('div', class_=\"pc-attribute-wrapper\").find_all('option', class_=''))):\n",
    "                Varient = soup.find('div', class_=\"pc-attribute-wrapper\").find_all('option', class_='')[i].get('value')\n",
    "                combo_box = driver.find_element(By.XPATH, '/html/body/section[1]/div/div/form/div[1]/div[2]/div[5]/div[2]/div/div/div/select')\n",
    "                combo_box.send_keys(Varient)\n",
    "                time.sleep(2)\n",
    "                page_source = driver.page_source\n",
    "                soup = BeautifulSoup(page_source, 'html.parser')\n",
    "                SKU = soup.find('span', class_='item-sku js-item-sku').text[5:]\n",
    "                SalePrice = soup.find('span', class_='price').text\n",
    "                Quantity= None\n",
    "                row = createRow(ProductName,SKU,Stock,Quantity, SalePrice,Rating, ReviewCount)\n",
    "                df.append(row)\n",
    "        return df, soup, skipped\n",
    "    else:\n",
    "        if soup.find('span', class_='price',id=\"store_price\"):\n",
    "            SalePrice = soup.find('span', class_='price',id=\"store_price\").text\n",
    "            Quantity= None\n",
    "            row = createRow(ProductName,SKU,Stock,Quantity, SalePrice,Rating, ReviewCount)\n",
    "            df.append(row)\n",
    "            return df, soup, skipped\n",
    "        elif soup.find('span', class_=\"price sale-price\"):\n",
    "            SalePrice = soup.find('span', class_=\"price sale-price\").text\n",
    "            Quantity= None\n",
    "            row = createRow(ProductName,SKU,Stock,Quantity, SalePrice,Rating, ReviewCount)\n",
    "            df.append(row)\n",
    "            return df, soup, skipped\n",
    "        else:\n",
    "            SalePrice = None\n",
    "            Quantity= None\n",
    "            row = createRow(ProductName,SKU,Stock,Quantity, SalePrice,Rating, ReviewCount)\n",
    "            df.append(row)\n",
    "            return df, soup, skipped"
   ]
  },
  {
   "cell_type": "code",
   "execution_count": 205,
   "id": "fa089a47",
   "metadata": {},
   "outputs": [
    {
     "data": {
      "text/plain": [
       "'https://www.whiteflowerfarm.com/months-of-easy-care-moth-orchids'"
      ]
     },
     "execution_count": 205,
     "metadata": {},
     "output_type": "execute_result"
    }
   ],
   "source": [
    "Pro_URL[1037]"
   ]
  },
  {
   "cell_type": "code",
   "execution_count": 352,
   "id": "ff78a374",
   "metadata": {},
   "outputs": [],
   "source": [
    "Product_details4=[]"
   ]
  },
  {
   "cell_type": "code",
   "execution_count": 262,
   "id": "781bf11b",
   "metadata": {},
   "outputs": [],
   "source": [
    "skipped = []"
   ]
  },
  {
   "cell_type": "code",
   "execution_count": 362,
   "id": "1c1989e4",
   "metadata": {
    "scrolled": true
   },
   "outputs": [
    {
     "name": "stderr",
     "output_type": "stream",
     "text": [
      "GettingInfo:   1%|▌                                                                   | 1/130 [00:07<15:18,  7.12s/URL]"
     ]
    },
    {
     "name": "stdout",
     "output_type": "stream",
     "text": [
      "[{'ProductURL': 'https://www.whiteflowerfarm.com/all-season-birdseed-casita', 'ProductName': 'New! All-Season Birdseed Casita', 'SKU': 'S49039', 'Availability': 'InStock', 'Quantity': None, 'SalePrice': '$42.00', 'ReviewCount': '0 Reviews', 'Rating': '0'}]\n"
     ]
    },
    {
     "name": "stderr",
     "output_type": "stream",
     "text": [
      "\r",
      "GettingInfo:   2%|█                                                                   | 2/130 [00:11<11:58,  5.61s/URL]"
     ]
    },
    {
     "name": "stdout",
     "output_type": "stream",
     "text": [
      "[{'ProductURL': 'https://www.whiteflowerfarm.com/flower-herb-drying-rack', 'ProductName': 'New! Flower & Herb Drying Rack', 'SKU': 'S49041', 'Availability': 'InStock', 'Quantity': None, 'SalePrice': '$22.00', 'ReviewCount': '0 Reviews', 'Rating': '0'}]\n"
     ]
    },
    {
     "name": "stderr",
     "output_type": "stream",
     "text": [
      "\r",
      "GettingInfo:   2%|█▌                                                                  | 3/130 [00:16<10:46,  5.09s/URL]"
     ]
    },
    {
     "name": "stdout",
     "output_type": "stream",
     "text": [
      "[{'ProductURL': 'https://www.whiteflowerfarm.com/self-watering-kit-for-vegtrug-raised-beds', 'ProductName': 'New! Self-Watering Kit for VegTrug Raised Beds', 'SKU': 'S51203', 'Availability': 'InStock', 'Quantity': None, 'SalePrice': '$89.00', 'ReviewCount': '0 Reviews', 'Rating': '0'}]\n"
     ]
    },
    {
     "name": "stderr",
     "output_type": "stream",
     "text": [
      "\r",
      "GettingInfo:   3%|██                                                                  | 4/130 [00:20<10:03,  4.79s/URL]"
     ]
    },
    {
     "name": "stdout",
     "output_type": "stream",
     "text": [
      "[{'ProductURL': 'https://www.whiteflowerfarm.com/square-on-square-trellis', 'ProductName': 'New! Square on Square Trellis', 'SKU': 'S51301', 'Availability': 'InStock', 'Quantity': None, 'SalePrice': '$259.00', 'ReviewCount': '0 Reviews', 'Rating': '0'}]\n"
     ]
    },
    {
     "name": "stderr",
     "output_type": "stream",
     "text": [
      "\r",
      "GettingInfo:   4%|██▌                                                                 | 5/130 [00:25<09:47,  4.70s/URL]"
     ]
    },
    {
     "name": "stdout",
     "output_type": "stream",
     "text": [
      "[{'ProductURL': 'https://www.whiteflowerfarm.com/ornamental-grass-andropogon-gerardii-blackhawks', 'ProductName': \"New! Andropogon gerardii 'Blackhawks'\", 'SKU': 'S22851', 'Availability': 'InStock', 'Quantity': '1 or more for $18.95 each', 'SalePrice': '$18.95', 'ReviewCount': '0 Reviews', 'Rating': '0'}, {'ProductURL': 'https://www.whiteflowerfarm.com/ornamental-grass-andropogon-gerardii-blackhawks', 'ProductName': \"New! Andropogon gerardii 'Blackhawks'\", 'SKU': 'S22851', 'Availability': 'InStock', 'Quantity': '6 or more for $18.50 each', 'SalePrice': '$111.00', 'ReviewCount': '0 Reviews', 'Rating': '0'}, {'ProductURL': 'https://www.whiteflowerfarm.com/ornamental-grass-andropogon-gerardii-blackhawks', 'ProductName': \"New! Andropogon gerardii 'Blackhawks'\", 'SKU': 'S22851', 'Availability': 'InStock', 'Quantity': '12 or more for $18.00 each', 'SalePrice': '$216.00', 'ReviewCount': '0 Reviews', 'Rating': '0'}]\n"
     ]
    },
    {
     "name": "stderr",
     "output_type": "stream",
     "text": [
      "\r",
      "GettingInfo:   5%|███▏                                                                | 6/130 [00:29<09:39,  4.67s/URL]"
     ]
    },
    {
     "name": "stdout",
     "output_type": "stream",
     "text": [
      "[{'ProductURL': 'https://www.whiteflowerfarm.com/ornamental-grass-calamagrostis-brachytricha-caspian', 'ProductName': \"New! Calamagrostis brachytricha 'Caspian'\", 'SKU': 'S30015', 'Availability': 'InStock', 'Quantity': '1 or more for $18.95 each', 'SalePrice': '$18.95', 'ReviewCount': '0 Reviews', 'Rating': '0'}, {'ProductURL': 'https://www.whiteflowerfarm.com/ornamental-grass-calamagrostis-brachytricha-caspian', 'ProductName': \"New! Calamagrostis brachytricha 'Caspian'\", 'SKU': 'S30015', 'Availability': 'InStock', 'Quantity': '6 or more for $18.50 each', 'SalePrice': '$111.00', 'ReviewCount': '0 Reviews', 'Rating': '0'}, {'ProductURL': 'https://www.whiteflowerfarm.com/ornamental-grass-calamagrostis-brachytricha-caspian', 'ProductName': \"New! Calamagrostis brachytricha 'Caspian'\", 'SKU': 'S30015', 'Availability': 'InStock', 'Quantity': '12 or more for $18.00 each', 'SalePrice': '$216.00', 'ReviewCount': '0 Reviews', 'Rating': '0'}]\n"
     ]
    },
    {
     "name": "stderr",
     "output_type": "stream",
     "text": [
      "\r",
      "GettingInfo:   5%|███▋                                                                | 7/130 [00:34<09:40,  4.72s/URL]"
     ]
    },
    {
     "name": "stdout",
     "output_type": "stream",
     "text": [
      "[{'ProductURL': 'https://www.whiteflowerfarm.com/decorative-hose-hider', 'ProductName': 'New! Decorative Hose Hider', 'SKU': 'S51360', 'Availability': 'InStock', 'Quantity': None, 'SalePrice': '$69.00', 'ReviewCount': '0 Reviews', 'Rating': '0'}]\n"
     ]
    },
    {
     "name": "stderr",
     "output_type": "stream",
     "text": [
      "\r",
      "GettingInfo:   6%|████▏                                                               | 8/130 [00:42<12:03,  5.93s/URL]"
     ]
    },
    {
     "name": "stdout",
     "output_type": "stream",
     "text": [
      "[{'ProductURL': 'https://www.whiteflowerfarm.com/red-kalanchoe-quartet-in-white-ceramic-cachepots', 'ProductName': 'Red Kalanchoe Quartet in white ceramic cachepots', 'SKU': 'X81502', 'Availability': 'Out Of Stock', 'Quantity': None, 'SalePrice': '$59.00', 'ReviewCount': '0 Reviews', 'Rating': '0'}]\n"
     ]
    },
    {
     "name": "stderr",
     "output_type": "stream",
     "text": [
      "\r",
      "GettingInfo:   7%|████▋                                                               | 9/130 [00:47<10:53,  5.40s/URL]"
     ]
    },
    {
     "name": "stdout",
     "output_type": "stream",
     "text": [
      "[{'ProductURL': 'https://www.whiteflowerfarm.com/delightful-adieu-tulip-collection', 'ProductName': 'New! Delightful Adieu Tulip Collection', 'SKU': 'F977220', 'Availability': 'Out Of Stock', 'Quantity': '1 or more for $49.00 each', 'SalePrice': '$49.00', 'ReviewCount': '0 Reviews', 'Rating': '0'}, {'ProductURL': 'https://www.whiteflowerfarm.com/delightful-adieu-tulip-collection', 'ProductName': 'New! Delightful Adieu Tulip Collection', 'SKU': 'F977220', 'Availability': 'Out Of Stock', 'Quantity': '2 or more for $47.50 each', 'SalePrice': '$95.00', 'ReviewCount': '0 Reviews', 'Rating': '0'}, {'ProductURL': 'https://www.whiteflowerfarm.com/delightful-adieu-tulip-collection', 'ProductName': 'New! Delightful Adieu Tulip Collection', 'SKU': 'F977220', 'Availability': 'Out Of Stock', 'Quantity': '3 or more for $46.50 each', 'SalePrice': '$139.50', 'ReviewCount': '0 Reviews', 'Rating': '0'}, {'ProductURL': 'https://www.whiteflowerfarm.com/delightful-adieu-tulip-collection', 'ProductName': 'New! Delightful Adieu Tulip Collection', 'SKU': 'F977220', 'Availability': 'Out Of Stock', 'Quantity': '4 or more for $45.00 each', 'SalePrice': '$180.00', 'ReviewCount': '0 Reviews', 'Rating': '0'}, {'ProductURL': 'https://www.whiteflowerfarm.com/delightful-adieu-tulip-collection', 'ProductName': 'New! Delightful Adieu Tulip Collection', 'SKU': 'F977220', 'Availability': 'Out Of Stock', 'Quantity': '5 or more for $44.00 each', 'SalePrice': '$220.00', 'ReviewCount': '0 Reviews', 'Rating': '0'}]\n"
     ]
    },
    {
     "name": "stderr",
     "output_type": "stream",
     "text": [
      "\r",
      "GettingInfo:   8%|█████▏                                                             | 10/130 [00:51<10:15,  5.13s/URL]"
     ]
    },
    {
     "name": "stdout",
     "output_type": "stream",
     "text": [
      "[{'ProductURL': 'https://www.whiteflowerfarm.com/brilliant-ballet-tulip-trio', 'ProductName': 'New! Brilliant Ballet Tulip Trio', 'SKU': 'F977223', 'Availability': 'Out Of Stock', 'Quantity': '1 or more for $45.00 each', 'SalePrice': '$45.00', 'ReviewCount': '0 Reviews', 'Rating': '0'}, {'ProductURL': 'https://www.whiteflowerfarm.com/brilliant-ballet-tulip-trio', 'ProductName': 'New! Brilliant Ballet Tulip Trio', 'SKU': 'F977223', 'Availability': 'Out Of Stock', 'Quantity': '2 or more for $43.75 each', 'SalePrice': '$87.50', 'ReviewCount': '0 Reviews', 'Rating': '0'}, {'ProductURL': 'https://www.whiteflowerfarm.com/brilliant-ballet-tulip-trio', 'ProductName': 'New! Brilliant Ballet Tulip Trio', 'SKU': 'F977223', 'Availability': 'Out Of Stock', 'Quantity': '3 or more for $42.75 each', 'SalePrice': '$128.25', 'ReviewCount': '0 Reviews', 'Rating': '0'}, {'ProductURL': 'https://www.whiteflowerfarm.com/brilliant-ballet-tulip-trio', 'ProductName': 'New! Brilliant Ballet Tulip Trio', 'SKU': 'F977223', 'Availability': 'Out Of Stock', 'Quantity': '4 or more for $41.50 each', 'SalePrice': '$166.00', 'ReviewCount': '0 Reviews', 'Rating': '0'}, {'ProductURL': 'https://www.whiteflowerfarm.com/brilliant-ballet-tulip-trio', 'ProductName': 'New! Brilliant Ballet Tulip Trio', 'SKU': 'F977223', 'Availability': 'Out Of Stock', 'Quantity': '5 or more for $40.50 each', 'SalePrice': '$202.50', 'ReviewCount': '0 Reviews', 'Rating': '0'}]\n"
     ]
    },
    {
     "name": "stderr",
     "output_type": "stream",
     "text": [
      "\r",
      "GettingInfo:   8%|█████▋                                                             | 11/130 [00:56<09:58,  5.03s/URL]"
     ]
    },
    {
     "name": "stdout",
     "output_type": "stream",
     "text": [
      "[{'ProductURL': 'https://www.whiteflowerfarm.com/apricot-parfait-daffodil-tulip-duo', 'ProductName': 'New! Apricot Parfait Daffodil & Tulip Duo', 'SKU': 'F977226', 'Availability': 'Out Of Stock', 'Quantity': '1 or more for $34.00 each', 'SalePrice': '$34.00', 'ReviewCount': '0 Reviews', 'Rating': '0'}, {'ProductURL': 'https://www.whiteflowerfarm.com/apricot-parfait-daffodil-tulip-duo', 'ProductName': 'New! Apricot Parfait Daffodil & Tulip Duo', 'SKU': 'F977226', 'Availability': 'Out Of Stock', 'Quantity': '2 or more for $33.00 each', 'SalePrice': '$66.00', 'ReviewCount': '0 Reviews', 'Rating': '0'}, {'ProductURL': 'https://www.whiteflowerfarm.com/apricot-parfait-daffodil-tulip-duo', 'ProductName': 'New! Apricot Parfait Daffodil & Tulip Duo', 'SKU': 'F977226', 'Availability': 'Out Of Stock', 'Quantity': '3 or more for $32.25 each', 'SalePrice': '$96.75', 'ReviewCount': '0 Reviews', 'Rating': '0'}, {'ProductURL': 'https://www.whiteflowerfarm.com/apricot-parfait-daffodil-tulip-duo', 'ProductName': 'New! Apricot Parfait Daffodil & Tulip Duo', 'SKU': 'F977226', 'Availability': 'Out Of Stock', 'Quantity': '4 or more for $31.25 each', 'SalePrice': '$125.00', 'ReviewCount': '0 Reviews', 'Rating': '0'}, {'ProductURL': 'https://www.whiteflowerfarm.com/apricot-parfait-daffodil-tulip-duo', 'ProductName': 'New! Apricot Parfait Daffodil & Tulip Duo', 'SKU': 'F977226', 'Availability': 'Out Of Stock', 'Quantity': '5 or more for $30.50 each', 'SalePrice': '$152.50', 'ReviewCount': '0 Reviews', 'Rating': '0'}]\n"
     ]
    },
    {
     "name": "stderr",
     "output_type": "stream",
     "text": [
      "\r",
      "GettingInfo:   9%|██████▏                                                            | 12/130 [01:01<09:37,  4.90s/URL]"
     ]
    },
    {
     "name": "stdout",
     "output_type": "stream",
     "text": [
      "[{'ProductURL': 'https://www.whiteflowerfarm.com/morning-evening-tulip-duo', 'ProductName': 'New! Morning & Evening Tulip Duo ', 'SKU': 'F977228', 'Availability': 'Out Of Stock', 'Quantity': '1 or more for $35.00 each', 'SalePrice': '$35.00', 'ReviewCount': '0 Reviews', 'Rating': '0'}, {'ProductURL': 'https://www.whiteflowerfarm.com/morning-evening-tulip-duo', 'ProductName': 'New! Morning & Evening Tulip Duo ', 'SKU': 'F977228', 'Availability': 'Out Of Stock', 'Quantity': '2 or more for $34.00 each', 'SalePrice': '$68.00', 'ReviewCount': '0 Reviews', 'Rating': '0'}, {'ProductURL': 'https://www.whiteflowerfarm.com/morning-evening-tulip-duo', 'ProductName': 'New! Morning & Evening Tulip Duo ', 'SKU': 'F977228', 'Availability': 'Out Of Stock', 'Quantity': '3 or more for $33.25 each', 'SalePrice': '$99.75', 'ReviewCount': '0 Reviews', 'Rating': '0'}, {'ProductURL': 'https://www.whiteflowerfarm.com/morning-evening-tulip-duo', 'ProductName': 'New! Morning & Evening Tulip Duo ', 'SKU': 'F977228', 'Availability': 'Out Of Stock', 'Quantity': '4 or more for $32.25 each', 'SalePrice': '$129.00', 'ReviewCount': '0 Reviews', 'Rating': '0'}, {'ProductURL': 'https://www.whiteflowerfarm.com/morning-evening-tulip-duo', 'ProductName': 'New! Morning & Evening Tulip Duo ', 'SKU': 'F977228', 'Availability': 'Out Of Stock', 'Quantity': '5 or more for $31.50 each', 'SalePrice': '$157.50', 'ReviewCount': '0 Reviews', 'Rating': '0'}]\n"
     ]
    },
    {
     "name": "stderr",
     "output_type": "stream",
     "text": [
      "\r",
      "GettingInfo:  10%|██████▋                                                            | 13/130 [01:05<09:28,  4.86s/URL]"
     ]
    },
    {
     "name": "stdout",
     "output_type": "stream",
     "text": [
      "[{'ProductURL': 'https://www.whiteflowerfarm.com/spring-bonfire-tulip-duo', 'ProductName': 'New! Spring Bonfire Tulip Duo', 'SKU': 'F977225', 'Availability': 'Out Of Stock', 'Quantity': '1 or more for $32.00 each', 'SalePrice': '$32.00', 'ReviewCount': '0 Reviews', 'Rating': '0'}, {'ProductURL': 'https://www.whiteflowerfarm.com/spring-bonfire-tulip-duo', 'ProductName': 'New! Spring Bonfire Tulip Duo', 'SKU': 'F977225', 'Availability': 'Out Of Stock', 'Quantity': '2 or more for $31.00 each', 'SalePrice': '$62.00', 'ReviewCount': '0 Reviews', 'Rating': '0'}, {'ProductURL': 'https://www.whiteflowerfarm.com/spring-bonfire-tulip-duo', 'ProductName': 'New! Spring Bonfire Tulip Duo', 'SKU': 'F977225', 'Availability': 'Out Of Stock', 'Quantity': '3 or more for $30.50 each', 'SalePrice': '$91.50', 'ReviewCount': '0 Reviews', 'Rating': '0'}, {'ProductURL': 'https://www.whiteflowerfarm.com/spring-bonfire-tulip-duo', 'ProductName': 'New! Spring Bonfire Tulip Duo', 'SKU': 'F977225', 'Availability': 'Out Of Stock', 'Quantity': '4 or more for $29.50 each', 'SalePrice': '$118.00', 'ReviewCount': '0 Reviews', 'Rating': '0'}, {'ProductURL': 'https://www.whiteflowerfarm.com/spring-bonfire-tulip-duo', 'ProductName': 'New! Spring Bonfire Tulip Duo', 'SKU': 'F977225', 'Availability': 'Out Of Stock', 'Quantity': '5 or more for $28.75 each', 'SalePrice': '$143.75', 'ReviewCount': '0 Reviews', 'Rating': '0'}]\n"
     ]
    },
    {
     "name": "stderr",
     "output_type": "stream",
     "text": [
      "\r",
      "GettingInfo:  11%|███████▏                                                           | 14/130 [01:10<09:21,  4.84s/URL]"
     ]
    },
    {
     "name": "stdout",
     "output_type": "stream",
     "text": [
      "[{'ProductURL': 'https://www.whiteflowerfarm.com/encore-tulip-duo', 'ProductName': 'New! Encore Tulip Duo', 'SKU': 'F977230', 'Availability': 'Out Of Stock', 'Quantity': '1 or more for $30.00 each', 'SalePrice': '$30.00', 'ReviewCount': '0 Reviews', 'Rating': '0'}, {'ProductURL': 'https://www.whiteflowerfarm.com/encore-tulip-duo', 'ProductName': 'New! Encore Tulip Duo', 'SKU': 'F977230', 'Availability': 'Out Of Stock', 'Quantity': '2 or more for $29.00 each', 'SalePrice': '$58.00', 'ReviewCount': '0 Reviews', 'Rating': '0'}, {'ProductURL': 'https://www.whiteflowerfarm.com/encore-tulip-duo', 'ProductName': 'New! Encore Tulip Duo', 'SKU': 'F977230', 'Availability': 'Out Of Stock', 'Quantity': '3 or more for $28.50 each', 'SalePrice': '$85.50', 'ReviewCount': '0 Reviews', 'Rating': '0'}, {'ProductURL': 'https://www.whiteflowerfarm.com/encore-tulip-duo', 'ProductName': 'New! Encore Tulip Duo', 'SKU': 'F977230', 'Availability': 'Out Of Stock', 'Quantity': '4 or more for $27.50 each', 'SalePrice': '$110.00', 'ReviewCount': '0 Reviews', 'Rating': '0'}, {'ProductURL': 'https://www.whiteflowerfarm.com/encore-tulip-duo', 'ProductName': 'New! Encore Tulip Duo', 'SKU': 'F977230', 'Availability': 'Out Of Stock', 'Quantity': '5 or more for $27.00 each', 'SalePrice': '$135.00', 'ReviewCount': '0 Reviews', 'Rating': '0'}]\n"
     ]
    },
    {
     "name": "stderr",
     "output_type": "stream",
     "text": [
      "\r",
      "GettingInfo:  12%|███████▋                                                           | 15/130 [01:14<08:57,  4.67s/URL]"
     ]
    },
    {
     "name": "stdout",
     "output_type": "stream",
     "text": [
      "[{'ProductURL': 'https://www.whiteflowerfarm.com/we-the-wild-plant-care-essentials', 'ProductName': 'We the Wild Plant Care Essentials', 'SKU': 'X51306', 'Availability': 'InStock', 'Quantity': None, 'SalePrice': '$39.00', 'ReviewCount': '0 Reviews', 'Rating': '0'}]\n"
     ]
    },
    {
     "name": "stderr",
     "output_type": "stream",
     "text": [
      "\r",
      "GettingInfo:  12%|████████▏                                                          | 16/130 [01:19<08:38,  4.55s/URL]"
     ]
    },
    {
     "name": "stdout",
     "output_type": "stream",
     "text": [
      "[{'ProductURL': 'https://www.whiteflowerfarm.com/leaf-dusting-gloves-standard-shipping-included', 'ProductName': 'Leaf-Dusting Gloves - Standard Shipping Included', 'SKU': 'X51307', 'Availability': 'InStock', 'Quantity': None, 'SalePrice': '$26.00', 'ReviewCount': '0 Reviews', 'Rating': '0'}]\n"
     ]
    },
    {
     "name": "stderr",
     "output_type": "stream",
     "text": [
      "\r",
      "GettingInfo:  13%|████████▊                                                          | 17/130 [01:23<08:38,  4.59s/URL]"
     ]
    },
    {
     "name": "stdout",
     "output_type": "stream",
     "text": [
      "[{'ProductURL': 'https://www.whiteflowerfarm.com/erbe-bowl-16-wide', 'ProductName': 'New! Erbe Bowl, 16\" wide', 'SKU': 'S50523', 'Availability': 'InStock', 'Quantity': None, 'SalePrice': '$79.00', 'ReviewCount': '0 Reviews', 'Rating': '0'}]\n"
     ]
    },
    {
     "name": "stderr",
     "output_type": "stream",
     "text": [
      "\r",
      "GettingInfo:  14%|█████████▎                                                         | 18/130 [01:28<08:25,  4.52s/URL]"
     ]
    },
    {
     "name": "stdout",
     "output_type": "stream",
     "text": [
      "[{'ProductURL': 'https://www.whiteflowerfarm.com/modern-metal-harvest-trug', 'ProductName': 'New! Modern Metal Harvest Trug', 'SKU': 'S49150', 'Availability': 'InStock', 'Quantity': None, 'SalePrice': '$32.00', 'ReviewCount': '0 Reviews', 'Rating': '0'}]\n"
     ]
    },
    {
     "name": "stderr",
     "output_type": "stream",
     "text": [
      "\r",
      "GettingInfo:  15%|█████████▊                                                         | 19/130 [01:32<08:16,  4.47s/URL]"
     ]
    },
    {
     "name": "stdout",
     "output_type": "stream",
     "text": [
      "[{'ProductURL': 'https://www.whiteflowerfarm.com/petite-wooden-herb-tags-standard-shipping-included', 'ProductName': 'New! Petite Wooden Herb Tags - Standard Shipping Included', 'SKU': 'S49152', 'Availability': 'InStock', 'Quantity': None, 'SalePrice': '$15.00', 'ReviewCount': '0 Reviews', 'Rating': '0'}]\n"
     ]
    },
    {
     "name": "stderr",
     "output_type": "stream",
     "text": [
      "\r",
      "GettingInfo:  15%|██████████▎                                                        | 20/130 [01:37<08:17,  4.52s/URL]"
     ]
    },
    {
     "name": "stdout",
     "output_type": "stream",
     "text": [
      "[{'ProductURL': 'https://www.whiteflowerfarm.com/white-ribbons-tulip-duo', 'ProductName': 'New! White Ribbons Tulip Duo', 'SKU': 'F977227', 'Availability': 'Out Of Stock', 'Quantity': '1 or more for $30.00 each', 'SalePrice': '$30.00', 'ReviewCount': '0 Reviews', 'Rating': '0'}, {'ProductURL': 'https://www.whiteflowerfarm.com/white-ribbons-tulip-duo', 'ProductName': 'New! White Ribbons Tulip Duo', 'SKU': 'F977227', 'Availability': 'Out Of Stock', 'Quantity': '2 or more for $29.00 each', 'SalePrice': '$58.00', 'ReviewCount': '0 Reviews', 'Rating': '0'}, {'ProductURL': 'https://www.whiteflowerfarm.com/white-ribbons-tulip-duo', 'ProductName': 'New! White Ribbons Tulip Duo', 'SKU': 'F977227', 'Availability': 'Out Of Stock', 'Quantity': '3 or more for $28.50 each', 'SalePrice': '$85.50', 'ReviewCount': '0 Reviews', 'Rating': '0'}, {'ProductURL': 'https://www.whiteflowerfarm.com/white-ribbons-tulip-duo', 'ProductName': 'New! White Ribbons Tulip Duo', 'SKU': 'F977227', 'Availability': 'Out Of Stock', 'Quantity': '4 or more for $27.50 each', 'SalePrice': '$110.00', 'ReviewCount': '0 Reviews', 'Rating': '0'}, {'ProductURL': 'https://www.whiteflowerfarm.com/white-ribbons-tulip-duo', 'ProductName': 'New! White Ribbons Tulip Duo', 'SKU': 'F977227', 'Availability': 'Out Of Stock', 'Quantity': '5 or more for $27.00 each', 'SalePrice': '$135.00', 'ReviewCount': '0 Reviews', 'Rating': '0'}]\n"
     ]
    },
    {
     "name": "stderr",
     "output_type": "stream",
     "text": [
      "\r",
      "GettingInfo:  16%|██████████▊                                                        | 21/130 [01:41<08:08,  4.48s/URL]"
     ]
    },
    {
     "name": "stdout",
     "output_type": "stream",
     "text": [
      "[{'ProductURL': 'https://www.whiteflowerfarm.com/petunia-sureshot-blue-vein', 'ProductName': 'New! Petunia SureShot™ Blue Vein', 'SKU': 'S77333', 'Availability': 'InStock', 'Quantity': '1 or more for $11.95 each', 'SalePrice': '$11.95', 'ReviewCount': '0 Reviews', 'Rating': '0'}, {'ProductURL': 'https://www.whiteflowerfarm.com/petunia-sureshot-blue-vein', 'ProductName': 'New! Petunia SureShot™ Blue Vein', 'SKU': 'S77333', 'Availability': 'InStock', 'Quantity': '6 or more for $11.50 each', 'SalePrice': '$69.00', 'ReviewCount': '0 Reviews', 'Rating': '0'}, {'ProductURL': 'https://www.whiteflowerfarm.com/petunia-sureshot-blue-vein', 'ProductName': 'New! Petunia SureShot™ Blue Vein', 'SKU': 'S77333', 'Availability': 'InStock', 'Quantity': '12 or more for $11.25 each', 'SalePrice': '$135.00', 'ReviewCount': '0 Reviews', 'Rating': '0'}]\n"
     ]
    },
    {
     "name": "stderr",
     "output_type": "stream",
     "text": [
      "\r",
      "GettingInfo:  17%|███████████▎                                                       | 22/130 [01:46<08:03,  4.47s/URL]"
     ]
    },
    {
     "name": "stdout",
     "output_type": "stream",
     "text": [
      "[{'ProductURL': 'https://www.whiteflowerfarm.com/plectranthus-fancifillers-guacamole', 'ProductName': 'New! Plectranthus FanciFillers™ Guacamole', 'SKU': 'S77411', 'Availability': 'InStock', 'Quantity': '1 or more for $12.95 each', 'SalePrice': '$12.95', 'ReviewCount': '0 Reviews', 'Rating': '0'}, {'ProductURL': 'https://www.whiteflowerfarm.com/plectranthus-fancifillers-guacamole', 'ProductName': 'New! Plectranthus FanciFillers™ Guacamole', 'SKU': 'S77411', 'Availability': 'InStock', 'Quantity': '6 or more for $12.50 each', 'SalePrice': '$75.00', 'ReviewCount': '0 Reviews', 'Rating': '0'}, {'ProductURL': 'https://www.whiteflowerfarm.com/plectranthus-fancifillers-guacamole', 'ProductName': 'New! Plectranthus FanciFillers™ Guacamole', 'SKU': 'S77411', 'Availability': 'InStock', 'Quantity': '12 or more for $12.25 each', 'SalePrice': '$147.00', 'ReviewCount': '0 Reviews', 'Rating': '0'}]\n"
     ]
    },
    {
     "name": "stderr",
     "output_type": "stream",
     "text": [
      "\r",
      "GettingInfo:  18%|███████████▊                                                       | 23/130 [01:50<07:55,  4.44s/URL]"
     ]
    },
    {
     "name": "stdout",
     "output_type": "stream",
     "text": [
      "[{'ProductURL': 'https://www.whiteflowerfarm.com/verbena-bonariensis-vanity', 'ProductName': 'New! Verbena bonariensis Vanity', 'SKU': 'S78319', 'Availability': 'InStock', 'Quantity': '1', 'SalePrice': '$11.95', 'ReviewCount': '0 Reviews', 'Rating': '0'}]\n"
     ]
    },
    {
     "name": "stderr",
     "output_type": "stream",
     "text": [
      "\r",
      "GettingInfo:  18%|████████████▎                                                      | 24/130 [01:54<07:48,  4.42s/URL]"
     ]
    },
    {
     "name": "stdout",
     "output_type": "stream",
     "text": [
      "[{'ProductURL': 'https://www.whiteflowerfarm.com/ornamental-grass-melinis-nerviglumis-savannah', 'ProductName': \"New! Melinis nerviglumis 'Savannah'\", 'SKU': 'S73372', 'Availability': 'InStock', 'Quantity': '1 or more for $13.95 each', 'SalePrice': '$13.95', 'ReviewCount': '0 Reviews', 'Rating': '0'}, {'ProductURL': 'https://www.whiteflowerfarm.com/ornamental-grass-melinis-nerviglumis-savannah', 'ProductName': \"New! Melinis nerviglumis 'Savannah'\", 'SKU': 'S73372', 'Availability': 'InStock', 'Quantity': '6 or more for $13.50 each', 'SalePrice': '$81.00', 'ReviewCount': '0 Reviews', 'Rating': '0'}, {'ProductURL': 'https://www.whiteflowerfarm.com/ornamental-grass-melinis-nerviglumis-savannah', 'ProductName': \"New! Melinis nerviglumis 'Savannah'\", 'SKU': 'S73372', 'Availability': 'InStock', 'Quantity': '12 or more for $13.25 each', 'SalePrice': '$159.00', 'ReviewCount': '0 Reviews', 'Rating': '0'}]\n"
     ]
    },
    {
     "name": "stderr",
     "output_type": "stream",
     "text": [
      "\r",
      "GettingInfo:  19%|████████████▉                                                      | 25/130 [01:58<07:30,  4.29s/URL]"
     ]
    },
    {
     "name": "stdout",
     "output_type": "stream",
     "text": [
      "[{'ProductURL': 'https://www.whiteflowerfarm.com/cuphea-cherrybells', 'ProductName': \"New! Cuphea 'Cherrybells'\", 'SKU': 'S71459', 'Availability': 'InStock', 'Quantity': '1', 'SalePrice': '$11.95', 'ReviewCount': '0 Reviews', 'Rating': '0'}]\n"
     ]
    },
    {
     "name": "stderr",
     "output_type": "stream",
     "text": [
      "\r",
      "GettingInfo:  20%|█████████████▍                                                     | 26/130 [02:03<07:28,  4.31s/URL]"
     ]
    },
    {
     "name": "stdout",
     "output_type": "stream",
     "text": [
      "[{'ProductURL': 'https://www.whiteflowerfarm.com/coleus-trailblazer-road-trip', 'ProductName': 'New! Coleus Trailblazer™ Road Trip', 'SKU': 'S71321', 'Availability': 'InStock', 'Quantity': '1 or more for $11.95 each', 'SalePrice': '$11.95', 'ReviewCount': '0 Reviews', 'Rating': '0'}, {'ProductURL': 'https://www.whiteflowerfarm.com/coleus-trailblazer-road-trip', 'ProductName': 'New! Coleus Trailblazer™ Road Trip', 'SKU': 'S71321', 'Availability': 'InStock', 'Quantity': '6 or more for $11.50 each', 'SalePrice': '$69.00', 'ReviewCount': '0 Reviews', 'Rating': '0'}, {'ProductURL': 'https://www.whiteflowerfarm.com/coleus-trailblazer-road-trip', 'ProductName': 'New! Coleus Trailblazer™ Road Trip', 'SKU': 'S71321', 'Availability': 'InStock', 'Quantity': '12 or more for $11.25 each', 'SalePrice': '$135.00', 'ReviewCount': '0 Reviews', 'Rating': '0'}]\n"
     ]
    },
    {
     "name": "stderr",
     "output_type": "stream",
     "text": [
      "\r",
      "GettingInfo:  21%|█████████████▉                                                     | 27/130 [02:07<07:21,  4.28s/URL]"
     ]
    },
    {
     "name": "stdout",
     "output_type": "stream",
     "text": [
      "[{'ProductURL': 'https://www.whiteflowerfarm.com/sage-tricolor', 'ProductName': \"New! Sage 'Tricolor'\", 'SKU': 'S4649', 'Availability': 'InStock', 'Quantity': '1 or more for $14.95 each', 'SalePrice': '$14.95', 'ReviewCount': '0 Reviews', 'Rating': '0'}, {'ProductURL': 'https://www.whiteflowerfarm.com/sage-tricolor', 'ProductName': \"New! Sage 'Tricolor'\", 'SKU': 'S4649', 'Availability': 'InStock', 'Quantity': '6 or more for $14.50 each', 'SalePrice': '$87.00', 'ReviewCount': '0 Reviews', 'Rating': '0'}]\n"
     ]
    },
    {
     "name": "stderr",
     "output_type": "stream",
     "text": [
      "\r",
      "GettingInfo:  22%|██████████████▍                                                    | 28/130 [02:11<07:10,  4.22s/URL]"
     ]
    },
    {
     "name": "stdout",
     "output_type": "stream",
     "text": [
      "[{'ProductURL': 'https://www.whiteflowerfarm.com/rudbeckia-sunbeckia-laura', 'ProductName': \"New! Rudbeckia Sunbeckia 'Laura'\", 'SKU': 'S77682', 'Availability': 'InStock', 'Quantity': '1 or more for $12.95 each', 'SalePrice': '$12.95', 'ReviewCount': '0 Reviews', 'Rating': '0'}, {'ProductURL': 'https://www.whiteflowerfarm.com/rudbeckia-sunbeckia-laura', 'ProductName': \"New! Rudbeckia Sunbeckia 'Laura'\", 'SKU': 'S77682', 'Availability': 'InStock', 'Quantity': '6 or more for $12.50 each', 'SalePrice': '$75.00', 'ReviewCount': '0 Reviews', 'Rating': '0'}, {'ProductURL': 'https://www.whiteflowerfarm.com/rudbeckia-sunbeckia-laura', 'ProductName': \"New! Rudbeckia Sunbeckia 'Laura'\", 'SKU': 'S77682', 'Availability': 'InStock', 'Quantity': '12 or more for $12.25 each', 'SalePrice': '$147.00', 'ReviewCount': '0 Reviews', 'Rating': '0'}]\n"
     ]
    },
    {
     "name": "stderr",
     "output_type": "stream",
     "text": [
      "\r",
      "GettingInfo:  22%|██████████████▉                                                    | 29/130 [02:15<07:07,  4.23s/URL]"
     ]
    },
    {
     "name": "stdout",
     "output_type": "stream",
     "text": [
      "[{'ProductURL': 'https://www.whiteflowerfarm.com/bracteantha-granvia-pink', 'ProductName': 'New! Bracteantha Granvia® Pink', 'SKU': 'S70873', 'Availability': 'InStock', 'Quantity': '1 or more for $12.50 each', 'SalePrice': '$12.50', 'ReviewCount': '0 Reviews', 'Rating': '0'}, {'ProductURL': 'https://www.whiteflowerfarm.com/bracteantha-granvia-pink', 'ProductName': 'New! Bracteantha Granvia® Pink', 'SKU': 'S70873', 'Availability': 'InStock', 'Quantity': '6 or more for $12.25 each', 'SalePrice': '$73.50', 'ReviewCount': '0 Reviews', 'Rating': '0'}, {'ProductURL': 'https://www.whiteflowerfarm.com/bracteantha-granvia-pink', 'ProductName': 'New! Bracteantha Granvia® Pink', 'SKU': 'S70873', 'Availability': 'InStock', 'Quantity': '12 or more for $12.00 each', 'SalePrice': '$144.00', 'ReviewCount': '0 Reviews', 'Rating': '0'}]\n"
     ]
    },
    {
     "name": "stderr",
     "output_type": "stream",
     "text": [
      "\r",
      "GettingInfo:  23%|███████████████▍                                                   | 30/130 [02:20<07:15,  4.36s/URL]"
     ]
    },
    {
     "name": "stdout",
     "output_type": "stream",
     "text": [
      "[{'ProductURL': 'https://www.whiteflowerfarm.com/cyperus-papyrus-crown-of-pharaoh', 'ProductName': 'New! Cyperus papyrus Crown of Pharaoh', 'SKU': 'S77254', 'Availability': 'InStock', 'Quantity': '1 or more for $13.95 each', 'SalePrice': '$13.95', 'ReviewCount': '0 Reviews', 'Rating': '0'}, {'ProductURL': 'https://www.whiteflowerfarm.com/cyperus-papyrus-crown-of-pharaoh', 'ProductName': 'New! Cyperus papyrus Crown of Pharaoh', 'SKU': 'S77254', 'Availability': 'InStock', 'Quantity': '6 or more for $13.50 each', 'SalePrice': '$81.00', 'ReviewCount': '0 Reviews', 'Rating': '0'}, {'ProductURL': 'https://www.whiteflowerfarm.com/cyperus-papyrus-crown-of-pharaoh', 'ProductName': 'New! Cyperus papyrus Crown of Pharaoh', 'SKU': 'S77254', 'Availability': 'InStock', 'Quantity': '12 or more for $13.25 each', 'SalePrice': '$159.00', 'ReviewCount': '0 Reviews', 'Rating': '0'}]\n"
     ]
    },
    {
     "name": "stderr",
     "output_type": "stream",
     "text": [
      "\r",
      "GettingInfo:  24%|███████████████▉                                                   | 31/130 [02:25<07:21,  4.46s/URL]"
     ]
    },
    {
     "name": "stdout",
     "output_type": "stream",
     "text": [
      "[{'ProductURL': 'https://www.whiteflowerfarm.com/coleus-down-town-miami-magic', 'ProductName': 'New! Coleus Down Town Miami Magic', 'SKU': 'S71323', 'Availability': 'InStock', 'Quantity': '1 or more for $11.95 each', 'SalePrice': '$11.95', 'ReviewCount': '0 Reviews', 'Rating': '0'}, {'ProductURL': 'https://www.whiteflowerfarm.com/coleus-down-town-miami-magic', 'ProductName': 'New! Coleus Down Town Miami Magic', 'SKU': 'S71323', 'Availability': 'InStock', 'Quantity': '6 or more for $11.50 each', 'SalePrice': '$69.00', 'ReviewCount': '0 Reviews', 'Rating': '0'}, {'ProductURL': 'https://www.whiteflowerfarm.com/coleus-down-town-miami-magic', 'ProductName': 'New! Coleus Down Town Miami Magic', 'SKU': 'S71323', 'Availability': 'InStock', 'Quantity': '12 or more for $11.25 each', 'SalePrice': '$135.00', 'ReviewCount': '0 Reviews', 'Rating': '0'}]\n"
     ]
    },
    {
     "name": "stderr",
     "output_type": "stream",
     "text": [
      "\r",
      "GettingInfo:  25%|████████████████▍                                                  | 32/130 [02:29<07:14,  4.44s/URL]"
     ]
    },
    {
     "name": "stdout",
     "output_type": "stream",
     "text": [
      "[{'ProductURL': 'https://www.whiteflowerfarm.com/rose-bolero', 'ProductName': 'New! Rose Bolero™', 'SKU': 'S66674', 'Availability': 'InStock', 'Quantity': '1 or more for $40.00 each', 'SalePrice': '$40.00', 'ReviewCount': '0 Reviews', 'Rating': '0'}, {'ProductURL': 'https://www.whiteflowerfarm.com/rose-bolero', 'ProductName': 'New! Rose Bolero™', 'SKU': 'S66674', 'Availability': 'InStock', 'Quantity': '3 or more for $38.75 each', 'SalePrice': '$116.25', 'ReviewCount': '0 Reviews', 'Rating': '0'}, {'ProductURL': 'https://www.whiteflowerfarm.com/rose-bolero', 'ProductName': 'New! Rose Bolero™', 'SKU': 'S66674', 'Availability': 'InStock', 'Quantity': '4 or more for $38.00 each', 'SalePrice': '$152.00', 'ReviewCount': '0 Reviews', 'Rating': '0'}]\n"
     ]
    },
    {
     "name": "stderr",
     "output_type": "stream",
     "text": [
      "\r",
      "GettingInfo:  25%|█████████████████                                                  | 33/130 [02:33<07:00,  4.33s/URL]"
     ]
    },
    {
     "name": "stdout",
     "output_type": "stream",
     "text": [
      "[{'ProductURL': 'https://www.whiteflowerfarm.com/rose-rugosa-lotty-s-love', 'ProductName': 'New! Rose rugosa Lotty’s Love®', 'SKU': 'S66675', 'Availability': 'InStock', 'Quantity': '1 or more for $40.00 each', 'SalePrice': '$40.00', 'ReviewCount': '0 Reviews', 'Rating': '0'}, {'ProductURL': 'https://www.whiteflowerfarm.com/rose-rugosa-lotty-s-love', 'ProductName': 'New! Rose rugosa Lotty’s Love®', 'SKU': 'S66675', 'Availability': 'InStock', 'Quantity': '3 or more for $38.75 each', 'SalePrice': '$116.25', 'ReviewCount': '0 Reviews', 'Rating': '0'}, {'ProductURL': 'https://www.whiteflowerfarm.com/rose-rugosa-lotty-s-love', 'ProductName': 'New! Rose rugosa Lotty’s Love®', 'SKU': 'S66675', 'Availability': 'InStock', 'Quantity': '4 or more for $38.00 each', 'SalePrice': '$152.00', 'ReviewCount': '0 Reviews', 'Rating': '0'}]\n"
     ]
    },
    {
     "name": "stderr",
     "output_type": "stream",
     "text": [
      "\r",
      "GettingInfo:  26%|█████████████████▌                                                 | 34/130 [02:38<07:01,  4.39s/URL]"
     ]
    },
    {
     "name": "stdout",
     "output_type": "stream",
     "text": [
      "[{'ProductURL': 'https://www.whiteflowerfarm.com/rose-first-editions-ramblin-red', 'ProductName': \"New! Rose First Editions® Ramblin' Red®\", 'SKU': 'S66676', 'Availability': 'InStock', 'Quantity': '1 or more for $40.00 each', 'SalePrice': '$40.00', 'ReviewCount': '0 Reviews', 'Rating': '0'}, {'ProductURL': 'https://www.whiteflowerfarm.com/rose-first-editions-ramblin-red', 'ProductName': \"New! Rose First Editions® Ramblin' Red®\", 'SKU': 'S66676', 'Availability': 'InStock', 'Quantity': '3 or more for $38.75 each', 'SalePrice': '$116.25', 'ReviewCount': '0 Reviews', 'Rating': '0'}, {'ProductURL': 'https://www.whiteflowerfarm.com/rose-first-editions-ramblin-red', 'ProductName': \"New! Rose First Editions® Ramblin' Red®\", 'SKU': 'S66676', 'Availability': 'InStock', 'Quantity': '4 or more for $38.00 each', 'SalePrice': '$152.00', 'ReviewCount': '0 Reviews', 'Rating': '0'}]\n"
     ]
    },
    {
     "name": "stderr",
     "output_type": "stream",
     "text": [
      "\r",
      "GettingInfo:  27%|██████████████████                                                 | 35/130 [02:42<07:03,  4.46s/URL]"
     ]
    },
    {
     "name": "stdout",
     "output_type": "stream",
     "text": [
      "[{'ProductURL': 'https://www.whiteflowerfarm.com/daisy-pot-and-saucer-12-wide', 'ProductName': 'New! Daisy Pot and Saucer, 12\" wide', 'SKU': 'S50218', 'Availability': 'InStock', 'Quantity': None, 'SalePrice': '$79.00', 'ReviewCount': '0 Reviews', 'Rating': '0'}]\n"
     ]
    },
    {
     "name": "stderr",
     "output_type": "stream",
     "text": [
      "\r",
      "GettingInfo:  28%|██████████████████▌                                                | 36/130 [02:47<06:54,  4.41s/URL]"
     ]
    },
    {
     "name": "stdout",
     "output_type": "stream",
     "text": [
      "[{'ProductURL': 'https://www.whiteflowerfarm.com/santa-cruz-concrete-cachepot', 'ProductName': 'New! Santa Cruz Concrete Cachepot', 'SKU': 'S50216', 'Availability': 'InStock', 'Quantity': None, 'SalePrice': '$65.00', 'ReviewCount': '0 Reviews', 'Rating': '0'}]\n"
     ]
    },
    {
     "name": "stderr",
     "output_type": "stream",
     "text": [
      "\r",
      "GettingInfo:  28%|███████████████████                                                | 37/130 [02:51<06:55,  4.47s/URL]"
     ]
    },
    {
     "name": "stdout",
     "output_type": "stream",
     "text": [
      "[{'ProductURL': 'https://www.whiteflowerfarm.com/santa-rosa-concrete-cachepot', 'ProductName': 'New! Santa Rosa Concrete Cachepot', 'SKU': 'S50217', 'Availability': 'InStock', 'Quantity': None, 'SalePrice': '$189.00', 'ReviewCount': '0 Reviews', 'Rating': '0'}]\n"
     ]
    },
    {
     "name": "stderr",
     "output_type": "stream",
     "text": [
      "\r",
      "GettingInfo:  29%|███████████████████▌                                               | 38/130 [02:55<06:40,  4.36s/URL]"
     ]
    },
    {
     "name": "stdout",
     "output_type": "stream",
     "text": [
      "[{'ProductURL': 'https://www.whiteflowerfarm.com/high-country-flower-box-stand', 'ProductName': 'New! High Country Flower Box & Stand', 'SKU': 'S50213', 'Availability': 'InStock', 'Quantity': None, 'SalePrice': '$110.00', 'ReviewCount': '0 Reviews', 'Rating': '0'}]\n"
     ]
    },
    {
     "name": "stderr",
     "output_type": "stream",
     "text": [
      "\r",
      "GettingInfo:  30%|████████████████████                                               | 39/130 [03:00<06:50,  4.51s/URL]"
     ]
    },
    {
     "name": "stdout",
     "output_type": "stream",
     "text": [
      "[{'ProductURL': 'https://www.whiteflowerfarm.com/fothergilla-x-intermedia-mount-airy', 'ProductName': \"New! Fothergilla x intermedia 'Mount Airy'\", 'SKU': 'S62223', 'Availability': 'InStock', 'Quantity': '1 or more for $39.00 each', 'SalePrice': '$39.00', 'ReviewCount': '0 Reviews', 'Rating': '0'}, {'ProductURL': 'https://www.whiteflowerfarm.com/fothergilla-x-intermedia-mount-airy', 'ProductName': \"New! Fothergilla x intermedia 'Mount Airy'\", 'SKU': 'S62223', 'Availability': 'InStock', 'Quantity': '3 or more for $37.75 each', 'SalePrice': '$113.25', 'ReviewCount': '0 Reviews', 'Rating': '0'}, {'ProductURL': 'https://www.whiteflowerfarm.com/fothergilla-x-intermedia-mount-airy', 'ProductName': \"New! Fothergilla x intermedia 'Mount Airy'\", 'SKU': 'S62223', 'Availability': 'InStock', 'Quantity': '4 or more for $37.00 each', 'SalePrice': '$148.00', 'ReviewCount': '0 Reviews', 'Rating': '0'}]\n"
     ]
    },
    {
     "name": "stderr",
     "output_type": "stream",
     "text": [
      "\r",
      "GettingInfo:  31%|████████████████████▌                                              | 40/130 [03:04<06:39,  4.44s/URL]"
     ]
    },
    {
     "name": "stdout",
     "output_type": "stream",
     "text": [
      "[{'ProductURL': 'https://www.whiteflowerfarm.com/kalmia-latifolia-pink-charm', 'ProductName': \"New! Kalmia latifolia 'Pink Charm'\", 'SKU': 'S64010', 'Availability': 'InStock', 'Quantity': '1 or more for $39.00 each', 'SalePrice': '$39.00', 'ReviewCount': '0 Reviews', 'Rating': '0'}, {'ProductURL': 'https://www.whiteflowerfarm.com/kalmia-latifolia-pink-charm', 'ProductName': \"New! Kalmia latifolia 'Pink Charm'\", 'SKU': 'S64010', 'Availability': 'InStock', 'Quantity': '3 or more for $37.75 each', 'SalePrice': '$113.25', 'ReviewCount': '0 Reviews', 'Rating': '0'}, {'ProductURL': 'https://www.whiteflowerfarm.com/kalmia-latifolia-pink-charm', 'ProductName': \"New! Kalmia latifolia 'Pink Charm'\", 'SKU': 'S64010', 'Availability': 'InStock', 'Quantity': '4 or more for $37.00 each', 'SalePrice': '$148.00', 'ReviewCount': '0 Reviews', 'Rating': '0'}]\n"
     ]
    },
    {
     "name": "stderr",
     "output_type": "stream",
     "text": [
      "\r",
      "GettingInfo:  32%|█████████████████████▏                                             | 41/130 [03:09<06:33,  4.42s/URL]"
     ]
    },
    {
     "name": "stdout",
     "output_type": "stream",
     "text": [
      "[{'ProductURL': 'https://www.whiteflowerfarm.com/hydrangea-lets-dance-sky-view', 'ProductName': \"New! Hydrangea Let's Dance Sky View®\", 'SKU': 'S63137', 'Availability': 'InStock', 'Quantity': '1 or more for $39.00 each', 'SalePrice': '$39.00', 'ReviewCount': '0 Reviews', 'Rating': '0'}, {'ProductURL': 'https://www.whiteflowerfarm.com/hydrangea-lets-dance-sky-view', 'ProductName': \"New! Hydrangea Let's Dance Sky View®\", 'SKU': 'S63137', 'Availability': 'InStock', 'Quantity': '3 or more for $37.75 each', 'SalePrice': '$113.25', 'ReviewCount': '0 Reviews', 'Rating': '0'}, {'ProductURL': 'https://www.whiteflowerfarm.com/hydrangea-lets-dance-sky-view', 'ProductName': \"New! Hydrangea Let's Dance Sky View®\", 'SKU': 'S63137', 'Availability': 'InStock', 'Quantity': '4 or more for $37.00 each', 'SalePrice': '$148.00', 'ReviewCount': '0 Reviews', 'Rating': '0'}]\n"
     ]
    },
    {
     "name": "stderr",
     "output_type": "stream",
     "text": [
      "\r",
      "GettingInfo:  32%|█████████████████████▋                                             | 42/130 [03:13<06:25,  4.38s/URL]"
     ]
    },
    {
     "name": "stdout",
     "output_type": "stream",
     "text": [
      "[{'ProductURL': 'https://www.whiteflowerfarm.com/narcissus-greengarden-ready-to-bloom-basket', 'ProductName': \"New! Narcissus 'Greengarden,' Ready-to-Bloom Basket\", 'SKU': 'S80733', 'Availability': 'InStock', 'Quantity': None, 'SalePrice': '$42.00', 'ReviewCount': '0 Reviews', 'Rating': '0'}]\n"
     ]
    },
    {
     "name": "stderr",
     "output_type": "stream",
     "text": [
      "\r",
      "GettingInfo:  33%|██████████████████████▏                                            | 43/130 [03:17<06:20,  4.37s/URL]"
     ]
    },
    {
     "name": "stdout",
     "output_type": "stream",
     "text": [
      "[{'ProductURL': 'https://www.whiteflowerfarm.com/tulip-limousine-ready-to-bloom-basket', 'ProductName': \"New! Tulip 'Limousine,' Ready-to-Bloom Basket\", 'SKU': 'S80731', 'Availability': 'InStock', 'Quantity': None, 'SalePrice': '$42.00', 'ReviewCount': '0 Reviews', 'Rating': '0'}]\n"
     ]
    },
    {
     "name": "stderr",
     "output_type": "stream",
     "text": [
      "\r",
      "GettingInfo:  34%|██████████████████████▋                                            | 44/130 [03:23<06:35,  4.60s/URL]"
     ]
    },
    {
     "name": "stdout",
     "output_type": "stream",
     "text": [
      "[{'ProductURL': 'https://www.whiteflowerfarm.com/tulip-janis-joplin-ready-to-bloom-basket', 'ProductName': \"New! Tulip 'Janis Joplin,' Ready-to-Bloom Basket\", 'SKU': 'S80732', 'Availability': 'InStock', 'Quantity': None, 'SalePrice': '$42.00', 'ReviewCount': '0 Reviews', 'Rating': '0'}]\n"
     ]
    },
    {
     "name": "stderr",
     "output_type": "stream",
     "text": [
      "\r",
      "GettingInfo:  35%|███████████████████████▏                                           | 45/130 [03:28<07:05,  5.01s/URL]"
     ]
    },
    {
     "name": "stdout",
     "output_type": "stream",
     "text": [
      "[{'ProductURL': 'https://www.whiteflowerfarm.com/verbena-lascar-orange-lava', 'ProductName': 'New! Verbena Lascar™ Orange Lava', 'SKU': 'S78315', 'Availability': 'InStock', 'Quantity': '1 or more for $11.95 each', 'SalePrice': '$11.95', 'ReviewCount': '0 Reviews', 'Rating': '0'}, {'ProductURL': 'https://www.whiteflowerfarm.com/verbena-lascar-orange-lava', 'ProductName': 'New! Verbena Lascar™ Orange Lava', 'SKU': 'S78315', 'Availability': 'InStock', 'Quantity': '6 or more for $11.50 each', 'SalePrice': '$69.00', 'ReviewCount': '0 Reviews', 'Rating': '0'}, {'ProductURL': 'https://www.whiteflowerfarm.com/verbena-lascar-orange-lava', 'ProductName': 'New! Verbena Lascar™ Orange Lava', 'SKU': 'S78315', 'Availability': 'InStock', 'Quantity': '12 or more for $11.25 each', 'SalePrice': '$135.00', 'ReviewCount': '0 Reviews', 'Rating': '0'}]\n"
     ]
    },
    {
     "name": "stderr",
     "output_type": "stream",
     "text": [
      "\r",
      "GettingInfo:  35%|███████████████████████▋                                           | 46/130 [03:32<06:34,  4.69s/URL]"
     ]
    },
    {
     "name": "stdout",
     "output_type": "stream",
     "text": [
      "[{'ProductURL': 'https://www.whiteflowerfarm.com/mint-hillarys-sweet-lemon', 'ProductName': \"New! Mint 'Hillary's Sweet Lemon'\", 'SKU': 'S4631', 'Availability': 'InStock', 'Quantity': '1 or more for $15.95 each', 'SalePrice': '$15.95', 'ReviewCount': '0 Reviews', 'Rating': '0'}, {'ProductURL': 'https://www.whiteflowerfarm.com/mint-hillarys-sweet-lemon', 'ProductName': \"New! Mint 'Hillary's Sweet Lemon'\", 'SKU': 'S4631', 'Availability': 'InStock', 'Quantity': '6 or more for $15.50 each', 'SalePrice': '$93.00', 'ReviewCount': '0 Reviews', 'Rating': '0'}]\n"
     ]
    },
    {
     "name": "stderr",
     "output_type": "stream",
     "text": [
      "\r",
      "GettingInfo:  36%|████████████████████████▏                                          | 47/130 [03:37<06:37,  4.78s/URL]"
     ]
    },
    {
     "name": "stdout",
     "output_type": "stream",
     "text": [
      "[{'ProductURL': 'https://www.whiteflowerfarm.com/mint-pineapple', 'ProductName': 'New! Pineapple Mint ', 'SKU': 'S4633', 'Availability': 'InStock', 'Quantity': '1 or more for $15.95 each', 'SalePrice': '$15.95', 'ReviewCount': '0 Reviews', 'Rating': '0'}, {'ProductURL': 'https://www.whiteflowerfarm.com/mint-pineapple', 'ProductName': 'New! Pineapple Mint ', 'SKU': 'S4633', 'Availability': 'InStock', 'Quantity': '6 or more for $15.50 each', 'SalePrice': '$93.00', 'ReviewCount': '0 Reviews', 'Rating': '0'}]\n"
     ]
    },
    {
     "name": "stderr",
     "output_type": "stream",
     "text": [
      "\r",
      "GettingInfo:  37%|████████████████████████▋                                          | 48/130 [03:43<06:53,  5.04s/URL]"
     ]
    },
    {
     "name": "stdout",
     "output_type": "stream",
     "text": [
      "[{'ProductURL': 'https://www.whiteflowerfarm.com/mint-chocolate', 'ProductName': \"New! Mint 'Chocolate'\", 'SKU': 'S4634', 'Availability': 'InStock', 'Quantity': '1 or more for $15.95 each', 'SalePrice': '$15.95', 'ReviewCount': '0 Reviews', 'Rating': '0'}, {'ProductURL': 'https://www.whiteflowerfarm.com/mint-chocolate', 'ProductName': \"New! Mint 'Chocolate'\", 'SKU': 'S4634', 'Availability': 'InStock', 'Quantity': '6 or more for $15.50 each', 'SalePrice': '$93.00', 'ReviewCount': '0 Reviews', 'Rating': '0'}]\n"
     ]
    },
    {
     "name": "stderr",
     "output_type": "stream",
     "text": [
      "\r",
      "GettingInfo:  38%|█████████████████████████▎                                         | 49/130 [03:48<06:41,  4.95s/URL]"
     ]
    },
    {
     "name": "stdout",
     "output_type": "stream",
     "text": [
      "[{'ProductURL': 'https://www.whiteflowerfarm.com/lantana-camara-sundance-pink', 'ProductName': 'New! Lantana camara SunDance™ Pink', 'SKU': 'S75567', 'Availability': 'InStock', 'Quantity': '1 or more for $11.95 each', 'SalePrice': '$11.95', 'ReviewCount': '0 Reviews', 'Rating': '0'}, {'ProductURL': 'https://www.whiteflowerfarm.com/lantana-camara-sundance-pink', 'ProductName': 'New! Lantana camara SunDance™ Pink', 'SKU': 'S75567', 'Availability': 'InStock', 'Quantity': '6 or more for $11.50 each', 'SalePrice': '$69.00', 'ReviewCount': '0 Reviews', 'Rating': '0'}, {'ProductURL': 'https://www.whiteflowerfarm.com/lantana-camara-sundance-pink', 'ProductName': 'New! Lantana camara SunDance™ Pink', 'SKU': 'S75567', 'Availability': 'InStock', 'Quantity': '12 or more for $11.25 each', 'SalePrice': '$135.00', 'ReviewCount': '0 Reviews', 'Rating': '0'}]\n"
     ]
    },
    {
     "name": "stderr",
     "output_type": "stream",
     "text": [
      "\r",
      "GettingInfo:  38%|█████████████████████████▊                                         | 50/130 [03:54<07:04,  5.30s/URL]"
     ]
    },
    {
     "name": "stdout",
     "output_type": "stream",
     "text": [
      "[{'ProductURL': 'https://www.whiteflowerfarm.com/iris-ensata-pleasant-journey', 'ProductName': \"New! Iris ensata 'Pleasant Journey'\", 'SKU': 'S32465', 'Availability': 'InStock', 'Quantity': '1 or more for $18.95 each', 'SalePrice': '$18.95', 'ReviewCount': '0 Reviews', 'Rating': '0'}, {'ProductURL': 'https://www.whiteflowerfarm.com/iris-ensata-pleasant-journey', 'ProductName': \"New! Iris ensata 'Pleasant Journey'\", 'SKU': 'S32465', 'Availability': 'InStock', 'Quantity': '6 or more for $18.50 each', 'SalePrice': '$111.00', 'ReviewCount': '0 Reviews', 'Rating': '0'}, {'ProductURL': 'https://www.whiteflowerfarm.com/iris-ensata-pleasant-journey', 'ProductName': \"New! Iris ensata 'Pleasant Journey'\", 'SKU': 'S32465', 'Availability': 'InStock', 'Quantity': '12 or more for $18.00 each', 'SalePrice': '$216.00', 'ReviewCount': '0 Reviews', 'Rating': '0'}]\n"
     ]
    },
    {
     "name": "stderr",
     "output_type": "stream",
     "text": [
      "\r",
      "GettingInfo:  39%|██████████████████████████▎                                        | 51/130 [03:59<06:46,  5.15s/URL]"
     ]
    },
    {
     "name": "stdout",
     "output_type": "stream",
     "text": [
      "[{'ProductURL': 'https://www.whiteflowerfarm.com/cauliflower-early-snowball', 'ProductName': \"New! Cauliflower 'Early Snowball'\", 'SKU': 'S4735', 'Availability': 'InStock', 'Quantity': '1 or more for $7.95 each', 'SalePrice': '$7.95', 'ReviewCount': '0 Reviews', 'Rating': '0'}, {'ProductURL': 'https://www.whiteflowerfarm.com/cauliflower-early-snowball', 'ProductName': \"New! Cauliflower 'Early Snowball'\", 'SKU': 'S4735', 'Availability': 'InStock', 'Quantity': '6 or more for $7.75 each', 'SalePrice': '$46.50', 'ReviewCount': '0 Reviews', 'Rating': '0'}]\n"
     ]
    },
    {
     "name": "stderr",
     "output_type": "stream",
     "text": [
      "\r",
      "GettingInfo:  40%|██████████████████████████▊                                        | 52/130 [04:04<06:38,  5.11s/URL]"
     ]
    },
    {
     "name": "stdout",
     "output_type": "stream",
     "text": [
      "[{'ProductURL': 'https://www.whiteflowerfarm.com/eschscholzia-californica-thai-silk-apricot-chiffon', 'ProductName': \"New! Eschscholzia californica Thai Silk 'Apricot Chiffon'\", 'SKU': 'S71767', 'Availability': 'InStock', 'Quantity': '1 or more for $12.50 each', 'SalePrice': '$12.50', 'ReviewCount': '0 Reviews', 'Rating': '0'}, {'ProductURL': 'https://www.whiteflowerfarm.com/eschscholzia-californica-thai-silk-apricot-chiffon', 'ProductName': \"New! Eschscholzia californica Thai Silk 'Apricot Chiffon'\", 'SKU': 'S71767', 'Availability': 'InStock', 'Quantity': '6 or more for $12.25 each', 'SalePrice': '$73.50', 'ReviewCount': '0 Reviews', 'Rating': '0'}, {'ProductURL': 'https://www.whiteflowerfarm.com/eschscholzia-californica-thai-silk-apricot-chiffon', 'ProductName': \"New! Eschscholzia californica Thai Silk 'Apricot Chiffon'\", 'SKU': 'S71767', 'Availability': 'InStock', 'Quantity': '12 or more for $12.00 each', 'SalePrice': '$144.00', 'ReviewCount': '0 Reviews', 'Rating': '0'}]\n"
     ]
    },
    {
     "name": "stderr",
     "output_type": "stream",
     "text": [
      "\r",
      "GettingInfo:  41%|███████████████████████████▎                                       | 53/130 [04:08<06:18,  4.91s/URL]"
     ]
    },
    {
     "name": "stdout",
     "output_type": "stream",
     "text": [
      "[{'ProductURL': 'https://www.whiteflowerfarm.com/petunia-exserta', 'ProductName': 'New! Petunia exserta', 'SKU': 'S77338', 'Availability': 'InStock', 'Quantity': '1 or more for $12.50 each', 'SalePrice': '$12.50', 'ReviewCount': '0 Reviews', 'Rating': '0'}, {'ProductURL': 'https://www.whiteflowerfarm.com/petunia-exserta', 'ProductName': 'New! Petunia exserta', 'SKU': 'S77338', 'Availability': 'InStock', 'Quantity': '6 or more for $12.25 each', 'SalePrice': '$73.50', 'ReviewCount': '0 Reviews', 'Rating': '0'}, {'ProductURL': 'https://www.whiteflowerfarm.com/petunia-exserta', 'ProductName': 'New! Petunia exserta', 'SKU': 'S77338', 'Availability': 'InStock', 'Quantity': '12 or more for $12.00 each', 'SalePrice': '$144.00', 'ReviewCount': '0 Reviews', 'Rating': '0'}]\n"
     ]
    },
    {
     "name": "stderr",
     "output_type": "stream",
     "text": [
      "\r",
      "GettingInfo:  42%|███████████████████████████▊                                       | 54/130 [04:12<05:51,  4.63s/URL]"
     ]
    },
    {
     "name": "stdout",
     "output_type": "stream",
     "text": [
      "[{'ProductURL': 'https://www.whiteflowerfarm.com/nicotiana-x-sanderae-perfume-deep-purple', 'ProductName': 'New! Nicotiana x sanderae ‘Perfume Deep Purple’', 'SKU': 'S76784', 'Availability': 'InStock', 'Quantity': '1', 'SalePrice': '$11.95', 'ReviewCount': '0 Reviews', 'Rating': '0'}]\n"
     ]
    },
    {
     "name": "stderr",
     "output_type": "stream",
     "text": [
      "\r",
      "GettingInfo:  42%|████████████████████████████▎                                      | 55/130 [04:17<06:01,  4.82s/URL]"
     ]
    },
    {
     "name": "stdout",
     "output_type": "stream",
     "text": [
      "[{'ProductURL': 'https://www.whiteflowerfarm.com/lavender-lights-container-garden', 'ProductName': 'New! Lavender Lights Container Garden', 'SKU': 'S87056', 'Availability': 'InStock', 'Quantity': None, 'SalePrice': '$35.00', 'ReviewCount': '0 Reviews', 'Rating': '0'}]\n"
     ]
    },
    {
     "name": "stderr",
     "output_type": "stream",
     "text": [
      "\r",
      "GettingInfo:  43%|████████████████████████████▊                                      | 56/130 [04:22<05:50,  4.73s/URL]"
     ]
    },
    {
     "name": "stdout",
     "output_type": "stream",
     "text": [
      "[{'ProductURL': 'https://www.whiteflowerfarm.com/cherry-bells-container-garden', 'ProductName': 'New! Cherry Bells Container Garden', 'SKU': 'S87063', 'Availability': 'InStock', 'Quantity': None, 'SalePrice': '$65.00', 'ReviewCount': '0 Reviews', 'Rating': '0'}]\n"
     ]
    },
    {
     "name": "stderr",
     "output_type": "stream",
     "text": [
      "\r",
      "GettingInfo:  44%|█████████████████████████████▍                                     | 57/130 [04:27<05:50,  4.81s/URL]"
     ]
    },
    {
     "name": "stdout",
     "output_type": "stream",
     "text": [
      "[{'ProductURL': 'https://www.whiteflowerfarm.com/fresh-mints-container-garden', 'ProductName': 'New! Fresh Mints Container Garden', 'SKU': 'S87064', 'Availability': 'InStock', 'Quantity': None, 'SalePrice': '$39.00', 'ReviewCount': '0 Reviews', 'Rating': '0'}]\n"
     ]
    },
    {
     "name": "stderr",
     "output_type": "stream",
     "text": [
      "\r",
      "GettingInfo:  45%|█████████████████████████████▉                                     | 58/130 [04:33<06:07,  5.10s/URL]"
     ]
    },
    {
     "name": "stdout",
     "output_type": "stream",
     "text": [
      "[{'ProductURL': 'https://www.whiteflowerfarm.com/summer-bonfire-container-garden', 'ProductName': 'New! Summer Bonfire Container Garden', 'SKU': 'S87065', 'Availability': 'InStock', 'Quantity': None, 'SalePrice': '$72.00', 'ReviewCount': '0 Reviews', 'Rating': '0'}]\n"
     ]
    },
    {
     "name": "stderr",
     "output_type": "stream",
     "text": [
      "\r",
      "GettingInfo:  45%|██████████████████████████████▍                                    | 59/130 [04:38<05:56,  5.03s/URL]"
     ]
    },
    {
     "name": "stdout",
     "output_type": "stream",
     "text": [
      "[{'ProductURL': 'https://www.whiteflowerfarm.com/brimming-with-sunshine-container-garden', 'ProductName': 'New! Brimming With Sunshine Container Garden ', 'SKU': 'S87068', 'Availability': 'InStock', 'Quantity': None, 'SalePrice': '$75.00', 'ReviewCount': '0 Reviews', 'Rating': '0'}]\n"
     ]
    },
    {
     "name": "stderr",
     "output_type": "stream",
     "text": [
      "\r",
      "GettingInfo:  46%|██████████████████████████████▉                                    | 60/130 [04:42<05:30,  4.71s/URL]"
     ]
    },
    {
     "name": "stdout",
     "output_type": "stream",
     "text": [
      "[{'ProductURL': 'https://www.whiteflowerfarm.com/pharaohs-crown-container-garden', 'ProductName': 'New! Pharaoh’s Crown Container Garden', 'SKU': 'S87072', 'Availability': 'InStock', 'Quantity': None, 'SalePrice': '$35.00', 'ReviewCount': '0 Reviews', 'Rating': '0'}]\n"
     ]
    },
    {
     "name": "stderr",
     "output_type": "stream",
     "text": [
      "\r",
      "GettingInfo:  47%|███████████████████████████████▍                                   | 61/130 [04:47<05:34,  4.84s/URL]"
     ]
    },
    {
     "name": "stdout",
     "output_type": "stream",
     "text": [
      "[{'ProductURL': 'https://www.whiteflowerfarm.com/thyme-with-friends-container-garden', 'ProductName': 'New! Thyme With Friends Container Garden', 'SKU': 'S87076', 'Availability': 'InStock', 'Quantity': None, 'SalePrice': '$49.00', 'ReviewCount': '0 Reviews', 'Rating': '0'}]\n"
     ]
    },
    {
     "name": "stderr",
     "output_type": "stream",
     "text": [
      "\r",
      "GettingInfo:  48%|███████████████████████████████▉                                   | 62/130 [04:55<06:31,  5.75s/URL]"
     ]
    },
    {
     "name": "stdout",
     "output_type": "stream",
     "text": [
      "[{'ProductURL': 'https://www.whiteflowerfarm.com/bronze-blush-container-garden', 'ProductName': 'New! Bronze & Blush Container Garden', 'SKU': 'S87077', 'Availability': 'InStock', 'Quantity': None, 'SalePrice': '$35.00', 'ReviewCount': '0 Reviews', 'Rating': '0'}]\n"
     ]
    },
    {
     "name": "stderr",
     "output_type": "stream",
     "text": [
      "\r",
      "GettingInfo:  48%|████████████████████████████████▍                                  | 63/130 [05:00<06:12,  5.55s/URL]"
     ]
    },
    {
     "name": "stdout",
     "output_type": "stream",
     "text": [
      "[{'ProductURL': 'https://www.whiteflowerfarm.com/egyptian-amethyst-container-garden', 'ProductName': 'New! Egyptian Amethyst Container Garden', 'SKU': 'S87078', 'Availability': 'InStock', 'Quantity': None, 'SalePrice': '$75.00', 'ReviewCount': '0 Reviews', 'Rating': '0'}]\n"
     ]
    },
    {
     "name": "stderr",
     "output_type": "stream",
     "text": [
      "\r",
      "GettingInfo:  49%|████████████████████████████████▉                                  | 64/130 [05:05<06:04,  5.52s/URL]"
     ]
    },
    {
     "name": "stdout",
     "output_type": "stream",
     "text": [
      "[{'ProductURL': 'https://www.whiteflowerfarm.com/viola-cool-wave-violet-wing', 'ProductName': 'New! Viola Cool Wave® Violet Wing', 'SKU': 'S39549', 'Availability': 'InStock', 'Quantity': '1 or more for $15.95 each', 'SalePrice': '$15.95', 'ReviewCount': '0 Reviews', 'Rating': '0'}, {'ProductURL': 'https://www.whiteflowerfarm.com/viola-cool-wave-violet-wing', 'ProductName': 'New! Viola Cool Wave® Violet Wing', 'SKU': 'S39549', 'Availability': 'InStock', 'Quantity': '6 or more for $15.50 each', 'SalePrice': '$93.00', 'ReviewCount': '0 Reviews', 'Rating': '0'}, {'ProductURL': 'https://www.whiteflowerfarm.com/viola-cool-wave-violet-wing', 'ProductName': 'New! Viola Cool Wave® Violet Wing', 'SKU': 'S39549', 'Availability': 'InStock', 'Quantity': '12 or more for $15.25 each', 'SalePrice': '$183.00', 'ReviewCount': '0 Reviews', 'Rating': '0'}]\n"
     ]
    },
    {
     "name": "stderr",
     "output_type": "stream",
     "text": [
      "\r",
      "GettingInfo:  50%|█████████████████████████████████▌                                 | 65/130 [05:11<06:01,  5.56s/URL]"
     ]
    },
    {
     "name": "stdout",
     "output_type": "stream",
     "text": [
      "[{'ProductURL': 'https://www.whiteflowerfarm.com/amaryllis-bulbs-amazing-belle', 'ProductName': \"Amaryllis 'Amazing Belle,' bulb only\", 'SKU': 'X86809BR', 'Availability': 'Out Of Stock', 'Quantity': None, 'SalePrice': '$27.00', 'ReviewCount': '1 Review', 'Rating': '5'}, {'ProductURL': 'https://www.whiteflowerfarm.com/amaryllis-bulbs-amazing-belle', 'ProductName': \"Amaryllis 'Amazing Belle,' two nursery pots in woven basket\", 'SKU': 'X86809BR', 'Availability': 'Out Of Stock', 'Quantity': None, 'SalePrice': '$88.00', 'ReviewCount': '1 Review', 'Rating': '5'}, {'ProductURL': 'https://www.whiteflowerfarm.com/amaryllis-bulbs-amazing-belle', 'ProductName': \"Amaryllis 'Amazing Belle,' one bulb in nursery pot\", 'SKU': 'X86809BR', 'Availability': 'Out Of Stock', 'Quantity': None, 'SalePrice': '$43.00', 'ReviewCount': '1 Review', 'Rating': '5'}, {'ProductURL': 'https://www.whiteflowerfarm.com/amaryllis-bulbs-amazing-belle', 'ProductName': \"Amaryllis 'Amazing Belle,' one bulb in woven basket\", 'SKU': 'X86809BR', 'Availability': 'Out Of Stock', 'Quantity': None, 'SalePrice': '$49.00', 'ReviewCount': '1 Review', 'Rating': '5'}, {'ProductURL': 'https://www.whiteflowerfarm.com/amaryllis-bulbs-amazing-belle', 'ProductName': \"Amaryllis 'Amazing Belle,' one bulb in Touch of Gold Ceramic Cachepot kit\", 'SKU': 'X86809BR', 'Availability': 'Out Of Stock', 'Quantity': None, 'SalePrice': '$110.00', 'ReviewCount': '1 Review', 'Rating': '5'}]\n"
     ]
    },
    {
     "name": "stderr",
     "output_type": "stream",
     "text": [
      "\r",
      "GettingInfo:  51%|██████████████████████████████████                                 | 66/130 [05:17<06:00,  5.63s/URL]"
     ]
    },
    {
     "name": "stdout",
     "output_type": "stream",
     "text": [
      "[{'ProductURL': 'https://www.whiteflowerfarm.com/amaryllis-bulbs-blossom-grandise', 'ProductName': \"Amaryllis 'Blossom Grandise,' bulb only\", 'SKU': 'X86805BR', 'Availability': 'Out Of Stock', 'Quantity': None, 'SalePrice': '$27.00', 'ReviewCount': '0 Reviews', 'Rating': '0'}, {'ProductURL': 'https://www.whiteflowerfarm.com/amaryllis-bulbs-blossom-grandise', 'ProductName': \"Amaryllis 'Blossom Grandise,' two nursery pots in woven basket\", 'SKU': 'X86805BR', 'Availability': 'Out Of Stock', 'Quantity': None, 'SalePrice': '$88.00', 'ReviewCount': '0 Reviews', 'Rating': '0'}, {'ProductURL': 'https://www.whiteflowerfarm.com/amaryllis-bulbs-blossom-grandise', 'ProductName': \"Amaryllis 'Blossom Grandise,' one bulb with tapered hurricane vase kit\", 'SKU': 'X86805BR', 'Availability': 'Out Of Stock', 'Quantity': None, 'SalePrice': '$85.00', 'ReviewCount': '0 Reviews', 'Rating': '0'}, {'ProductURL': 'https://www.whiteflowerfarm.com/amaryllis-bulbs-blossom-grandise', 'ProductName': \"Amaryllis 'Blossom Grandise,' one bulb in nursery pot\", 'SKU': 'X86805BR', 'Availability': 'Out Of Stock', 'Quantity': None, 'SalePrice': '$43.00', 'ReviewCount': '0 Reviews', 'Rating': '0'}, {'ProductURL': 'https://www.whiteflowerfarm.com/amaryllis-bulbs-blossom-grandise', 'ProductName': \"Amaryllis 'Blossom Grandise,' one bulb in woven basket\", 'SKU': 'X86805BR', 'Availability': 'Out Of Stock', 'Quantity': None, 'SalePrice': '$49.00', 'ReviewCount': '0 Reviews', 'Rating': '0'}, {'ProductURL': 'https://www.whiteflowerfarm.com/amaryllis-bulbs-blossom-grandise', 'ProductName': \"Amaryllis 'Blossom Grandise,' one bulb in white-washed ceramic cachepot kit\", 'SKU': 'X86805BR', 'Availability': 'Out Of Stock', 'Quantity': None, 'SalePrice': '$89.00', 'ReviewCount': '0 Reviews', 'Rating': '0'}]\n"
     ]
    },
    {
     "name": "stderr",
     "output_type": "stream",
     "text": [
      "\r",
      "GettingInfo:  52%|██████████████████████████████████▌                                | 67/130 [05:25<06:49,  6.49s/URL]"
     ]
    },
    {
     "name": "stdout",
     "output_type": "stream",
     "text": [
      "[{'ProductURL': 'https://www.whiteflowerfarm.com/amaryllis-bulbs-flamingo-amadeus', 'ProductName': \"Amaryllis 'Flamingo Amadeus,' bulb only\", 'SKU': 'X86807BR', 'Availability': 'Out Of Stock', 'Quantity': None, 'SalePrice': '$27.00', 'ReviewCount': '0 Reviews', 'Rating': '0'}, {'ProductURL': 'https://www.whiteflowerfarm.com/amaryllis-bulbs-flamingo-amadeus', 'ProductName': \"Amaryllis 'Flamingo Amadeus,' two nursery pots in woven basket\", 'SKU': 'X86807BR', 'Availability': 'Out Of Stock', 'Quantity': None, 'SalePrice': '$88.00', 'ReviewCount': '0 Reviews', 'Rating': '0'}, {'ProductURL': 'https://www.whiteflowerfarm.com/amaryllis-bulbs-flamingo-amadeus', 'ProductName': \"Amaryllis 'Flamingo Amadeus,' one bulb with hurricane vase kit\", 'SKU': 'X86807BR', 'Availability': 'Out Of Stock', 'Quantity': None, 'SalePrice': '$85.00', 'ReviewCount': '0 Reviews', 'Rating': '0'}, {'ProductURL': 'https://www.whiteflowerfarm.com/amaryllis-bulbs-flamingo-amadeus', 'ProductName': \"Amaryllis 'Flamingo Amadeus,' one bulb in nursery pot\", 'SKU': 'X86807BR', 'Availability': 'Out Of Stock', 'Quantity': None, 'SalePrice': '$43.00', 'ReviewCount': '0 Reviews', 'Rating': '0'}, {'ProductURL': 'https://www.whiteflowerfarm.com/amaryllis-bulbs-flamingo-amadeus', 'ProductName': \"Amaryllis 'Flamingo Amadeus,' one bulb in woven basket\", 'SKU': 'X86807BR', 'Availability': 'Out Of Stock', 'Quantity': None, 'SalePrice': '$49.00', 'ReviewCount': '0 Reviews', 'Rating': '0'}, {'ProductURL': 'https://www.whiteflowerfarm.com/amaryllis-bulbs-flamingo-amadeus', 'ProductName': \"Amaryllis 'Flamingo Amadeus,' one bulb in Farnham Pot and Saucer\", 'SKU': 'X86807BR', 'Availability': 'Out Of Stock', 'Quantity': None, 'SalePrice': '$69.00', 'ReviewCount': '0 Reviews', 'Rating': '0'}]\n"
     ]
    },
    {
     "name": "stderr",
     "output_type": "stream",
     "text": [
      "\r",
      "GettingInfo:  52%|███████████████████████████████████                                | 68/130 [05:32<06:49,  6.61s/URL]"
     ]
    },
    {
     "name": "stdout",
     "output_type": "stream",
     "text": [
      "[{'ProductURL': 'https://www.whiteflowerfarm.com/amaryllis-bulbs-grandise-fantasy', 'ProductName': \"Amaryllis 'Grandise Fantasy,' bulb only\", 'SKU': 'X86808BR', 'Availability': 'Out Of Stock', 'Quantity': None, 'SalePrice': '$27.00', 'ReviewCount': '0 Reviews', 'Rating': '0'}, {'ProductURL': 'https://www.whiteflowerfarm.com/amaryllis-bulbs-grandise-fantasy', 'ProductName': \"Amaryllis 'Grandise Fantasy,' one bulb in linen bag\", 'SKU': 'X86808BR', 'Availability': 'Out Of Stock', 'Quantity': None, 'SalePrice': '$29.00', 'ReviewCount': '0 Reviews', 'Rating': '0'}, {'ProductURL': 'https://www.whiteflowerfarm.com/amaryllis-bulbs-grandise-fantasy', 'ProductName': \"Amaryllis 'Grandise Fantasy,' two nursery pots in woven basket\", 'SKU': 'X86808BR', 'Availability': 'Out Of Stock', 'Quantity': None, 'SalePrice': '$88.00', 'ReviewCount': '0 Reviews', 'Rating': '0'}, {'ProductURL': 'https://www.whiteflowerfarm.com/amaryllis-bulbs-grandise-fantasy', 'ProductName': \"Amaryllis 'Grandise Fantasy,' one bulb in nursery pot\", 'SKU': 'X86808BR', 'Availability': 'Out Of Stock', 'Quantity': None, 'SalePrice': '$43.00', 'ReviewCount': '0 Reviews', 'Rating': '0'}, {'ProductURL': 'https://www.whiteflowerfarm.com/amaryllis-bulbs-grandise-fantasy', 'ProductName': \"Amaryllis 'Grandise Fantasy,' one bulb in woven basket\", 'SKU': 'X86808BR', 'Availability': 'Out Of Stock', 'Quantity': None, 'SalePrice': '$49.00', 'ReviewCount': '0 Reviews', 'Rating': '0'}]\n"
     ]
    },
    {
     "name": "stderr",
     "output_type": "stream",
     "text": [
      "\r",
      "GettingInfo:  53%|███████████████████████████████████▌                               | 69/130 [05:37<06:22,  6.26s/URL]"
     ]
    },
    {
     "name": "stdout",
     "output_type": "stream",
     "text": [
      "[{'ProductURL': 'https://www.whiteflowerfarm.com/amaryllis-bulbs-pink-beauty', 'ProductName': \"Amaryllis 'Pink Beauty,' bulb only\", 'SKU': 'X86810BR', 'Availability': 'Add to cart\\nOut Of Stock', 'Quantity': None, 'SalePrice': '$24.00', 'ReviewCount': '1 Review', 'Rating': '5'}, {'ProductURL': 'https://www.whiteflowerfarm.com/amaryllis-bulbs-pink-beauty', 'ProductName': \"Amaryllis 'Pink Beauty,' two nursery pots in woven basket\", 'SKU': 'X86810BR', 'Availability': 'Add to cart\\nOut Of Stock', 'Quantity': None, 'SalePrice': '$88.00', 'ReviewCount': '1 Review', 'Rating': '5'}, {'ProductURL': 'https://www.whiteflowerfarm.com/amaryllis-bulbs-pink-beauty', 'ProductName': \"Amaryllis 'Pink Beauty,' one bulb in nursery pot\", 'SKU': 'X86810BR', 'Availability': 'Add to cart\\nOut Of Stock', 'Quantity': None, 'SalePrice': '$40.00', 'ReviewCount': '1 Review', 'Rating': '5'}, {'ProductURL': 'https://www.whiteflowerfarm.com/amaryllis-bulbs-pink-beauty', 'ProductName': \"Amaryllis 'Pink Beauty,' one bulb in woven basket\", 'SKU': 'X86810BR', 'Availability': 'Add to cart\\nOut Of Stock', 'Quantity': None, 'SalePrice': '$46.00', 'ReviewCount': '1 Review', 'Rating': '5'}, {'ProductURL': 'https://www.whiteflowerfarm.com/amaryllis-bulbs-pink-beauty', 'ProductName': \"Amaryllis 'Pink Beauty,' one bulb with tapered hurricane vase kit\", 'SKU': 'X86810BR', 'Availability': 'Add to cart\\nOut Of Stock', 'Quantity': None, 'SalePrice': '$85.00', 'ReviewCount': '1 Review', 'Rating': '5'}]\n"
     ]
    },
    {
     "name": "stderr",
     "output_type": "stream",
     "text": [
      "\r",
      "GettingInfo:  54%|████████████████████████████████████                               | 70/130 [05:43<06:01,  6.02s/URL]"
     ]
    },
    {
     "name": "stdout",
     "output_type": "stream",
     "text": [
      "[{'ProductURL': 'https://www.whiteflowerfarm.com/paperwhite-kit', 'ProductName': 'Paperwhite Kit with Chrysanthemum Bowl', 'SKU': 'X84325', 'Availability': 'Out Of Stock', 'Quantity': None, 'SalePrice': '$79.00', 'ReviewCount': '0 Reviews', 'Rating': '0'}, {'ProductURL': 'https://www.whiteflowerfarm.com/paperwhite-kit', 'ProductName': 'Paperwhite Kit with blue metal cachepot', 'SKU': 'X84325', 'Availability': 'Out Of Stock', 'Quantity': None, 'SalePrice': '$79.00', 'ReviewCount': '0 Reviews', 'Rating': '0'}, {'ProductURL': 'https://www.whiteflowerfarm.com/paperwhite-kit', 'ProductName': 'Paperwhite Kit with green ceramic bowl', 'SKU': 'X84325', 'Availability': 'Out Of Stock', 'Quantity': None, 'SalePrice': '$99.00', 'ReviewCount': '0 Reviews', 'Rating': '0'}]\n"
     ]
    },
    {
     "name": "stderr",
     "output_type": "stream",
     "text": [
      "\r",
      "GettingInfo:  55%|████████████████████████████████████▌                              | 71/130 [05:48<05:40,  5.76s/URL]"
     ]
    },
    {
     "name": "stdout",
     "output_type": "stream",
     "text": [
      "[{'ProductURL': 'https://www.whiteflowerfarm.com/circus-stars-bulb-collection', 'ProductName': 'Circus Stars Bulb Collection in medium metal cachepot', 'SKU': 'X84642', 'Availability': 'InStock', 'Quantity': None, 'SalePrice': '$69.00', 'ReviewCount': '0 Reviews', 'Rating': '0'}, {'ProductURL': 'https://www.whiteflowerfarm.com/circus-stars-bulb-collection', 'ProductName': 'Circus Stars Bulb Collection in large metal cachepot', 'SKU': 'X84642', 'Availability': 'InStock', 'Quantity': None, 'SalePrice': '$87.00', 'ReviewCount': '0 Reviews', 'Rating': '0'}]\n"
     ]
    },
    {
     "name": "stderr",
     "output_type": "stream",
     "text": [
      "\r",
      "GettingInfo:  55%|█████████████████████████████████████                              | 72/130 [05:54<05:30,  5.70s/URL]"
     ]
    },
    {
     "name": "stdout",
     "output_type": "stream",
     "text": [
      "[{'ProductURL': 'https://www.whiteflowerfarm.com/amaryllis-bulbs-candyland-pink-trio', 'ProductName': 'Amaryllis Candyland Pink Trio, 3 bulbs in linen bags', 'SKU': 'X86815', 'Availability': 'Out Of Stock', 'Quantity': None, 'SalePrice': '$75.00', 'ReviewCount': '0 Reviews', 'Rating': '0'}, {'ProductURL': 'https://www.whiteflowerfarm.com/amaryllis-bulbs-candyland-pink-trio', 'ProductName': 'Amaryllis Candyland Pink Trio, 3 bulbs in nursery pots', 'SKU': 'X86815', 'Availability': 'Out Of Stock', 'Quantity': None, 'SalePrice': '$110.00', 'ReviewCount': '0 Reviews', 'Rating': '0'}, {'ProductURL': 'https://www.whiteflowerfarm.com/amaryllis-bulbs-candyland-pink-trio', 'ProductName': 'Amaryllis Candyland Pink Trio, 3 bulbs in woven baskets', 'SKU': 'X86815', 'Availability': 'Out Of Stock', 'Quantity': None, 'SalePrice': '$125.00', 'ReviewCount': '0 Reviews', 'Rating': '0'}]\n"
     ]
    },
    {
     "name": "stderr",
     "output_type": "stream",
     "text": [
      "\r",
      "GettingInfo:  56%|█████████████████████████████████████▌                             | 73/130 [05:59<05:24,  5.70s/URL]"
     ]
    },
    {
     "name": "stdout",
     "output_type": "stream",
     "text": [
      "[{'ProductURL': 'https://www.whiteflowerfarm.com/amaryllis-bulbs-magnificent-match-duo', 'ProductName': 'Magnificent Match Amaryllis Duo, two bulbs in woven baskets', 'SKU': 'X86812B1', 'Availability': 'Out Of Stock', 'Quantity': None, 'SalePrice': '$91.00', 'ReviewCount': '0 Reviews', 'Rating': '0'}, {'ProductURL': 'https://www.whiteflowerfarm.com/amaryllis-bulbs-magnificent-match-duo', 'ProductName': 'Magnificent Match Amaryllis Duo, two bulbs in nursery pots', 'SKU': 'X86812B1', 'Availability': 'Out Of Stock', 'Quantity': None, 'SalePrice': '$79.00', 'ReviewCount': '0 Reviews', 'Rating': '0'}, {'ProductURL': 'https://www.whiteflowerfarm.com/amaryllis-bulbs-magnificent-match-duo', 'ProductName': 'Magnificent Match Amaryllis Duo Kit, two bulbs with two taupe ceramic cachepots', 'SKU': 'X86812B1', 'Availability': 'Out Of Stock', 'Quantity': None, 'SalePrice': '$175.00', 'ReviewCount': '0 Reviews', 'Rating': '0'}]\n"
     ]
    },
    {
     "name": "stderr",
     "output_type": "stream",
     "text": [
      "\r",
      "GettingInfo:  57%|██████████████████████████████████████▏                            | 74/130 [06:04<05:03,  5.42s/URL]"
     ]
    },
    {
     "name": "stdout",
     "output_type": "stream",
     "text": [
      "[{'ProductURL': 'https://www.whiteflowerfarm.com/pepper-pot-a-peno', 'ProductName': \"New! Pepper 'Pot-a-peño'\", 'SKU': 'S4826', 'Availability': 'InStock', 'Quantity': '1 or more for $7.95 each', 'SalePrice': '$7.95', 'ReviewCount': '0 Reviews', 'Rating': '0'}, {'ProductURL': 'https://www.whiteflowerfarm.com/pepper-pot-a-peno', 'ProductName': \"New! Pepper 'Pot-a-peño'\", 'SKU': 'S4826', 'Availability': 'InStock', 'Quantity': '6 or more for $7.75 each', 'SalePrice': '$46.50', 'ReviewCount': '0 Reviews', 'Rating': '0'}]\n"
     ]
    },
    {
     "name": "stderr",
     "output_type": "stream",
     "text": [
      "\r",
      "GettingInfo:  58%|██████████████████████████████████████▋                            | 75/130 [06:09<04:44,  5.17s/URL]"
     ]
    },
    {
     "name": "stdout",
     "output_type": "stream",
     "text": [
      "[{'ProductURL': 'https://www.whiteflowerfarm.com/squash-caserta', 'ProductName': \"New! Squash 'Caserta' \", 'SKU': 'S4804', 'Availability': 'InStock', 'Quantity': '1 or more for $7.95 each', 'SalePrice': '$7.95', 'ReviewCount': '0 Reviews', 'Rating': '0'}, {'ProductURL': 'https://www.whiteflowerfarm.com/squash-caserta', 'ProductName': \"New! Squash 'Caserta' \", 'SKU': 'S4804', 'Availability': 'InStock', 'Quantity': '6 or more for $7.75 each', 'SalePrice': '$46.50', 'ReviewCount': '0 Reviews', 'Rating': '0'}]\n"
     ]
    },
    {
     "name": "stderr",
     "output_type": "stream",
     "text": [
      "\r",
      "GettingInfo:  58%|███████████████████████████████████████▏                           | 76/130 [06:13<04:28,  4.97s/URL]"
     ]
    },
    {
     "name": "stdout",
     "output_type": "stream",
     "text": [
      "[{'ProductURL': 'https://www.whiteflowerfarm.com/zz-raven', 'ProductName': 'ZZ Raven® in white ceramic cachepot', 'SKU': 'SC010134', 'Availability': 'InStock', 'Quantity': None, 'SalePrice': '$59.00', 'ReviewCount': '0 Reviews', 'Rating': '0'}, {'ProductURL': 'https://www.whiteflowerfarm.com/zz-raven', 'ProductName': 'ZZ Raven® in woven basket', 'SKU': 'SC010134', 'Availability': 'InStock', 'Quantity': None, 'SalePrice': '$49.00', 'ReviewCount': '0 Reviews', 'Rating': '0'}]\n"
     ]
    },
    {
     "name": "stderr",
     "output_type": "stream",
     "text": [
      "\r",
      "GettingInfo:  59%|███████████████████████████████████████▋                           | 77/130 [06:18<04:24,  5.00s/URL]"
     ]
    },
    {
     "name": "stdout",
     "output_type": "stream",
     "text": [
      "[{'ProductURL': 'https://www.whiteflowerfarm.com/hydrangea-macrophylla-eclipse', 'ProductName': 'New! Hydrangea macrophylla Eclipse®', 'SKU': 'S63139', 'Availability': 'InStock', 'Quantity': '1', 'SalePrice': '$39.00', 'ReviewCount': '0 Reviews', 'Rating': '0'}]\n"
     ]
    },
    {
     "name": "stderr",
     "output_type": "stream",
     "text": [
      "\r",
      "GettingInfo:  60%|████████████████████████████████████████▏                          | 78/130 [06:22<04:04,  4.70s/URL]"
     ]
    },
    {
     "name": "stdout",
     "output_type": "stream",
     "text": [
      "[{'ProductURL': 'https://www.whiteflowerfarm.com/sunshine-on-my-shoulders-container-garden', 'ProductName': 'New! Sunshine on My Shoulders Container Garden', 'SKU': 'S87080', 'Availability': 'InStock', 'Quantity': None, 'SalePrice': '$72.00', 'ReviewCount': '0 Reviews', 'Rating': '0'}]\n"
     ]
    },
    {
     "name": "stderr",
     "output_type": "stream",
     "text": [
      "\r",
      "GettingInfo:  61%|████████████████████████████████████████▋                          | 79/130 [06:28<04:15,  5.01s/URL]"
     ]
    },
    {
     "name": "stdout",
     "output_type": "stream",
     "text": [
      "[{'ProductURL': 'https://www.whiteflowerfarm.com/flying-carpet-container-garden', 'ProductName': 'New! Flying Carpet Container Garden', 'SKU': 'S87082', 'Availability': 'InStock', 'Quantity': None, 'SalePrice': '$72.00', 'ReviewCount': '0 Reviews', 'Rating': '0'}]\n"
     ]
    },
    {
     "name": "stderr",
     "output_type": "stream",
     "text": [
      "\r",
      "GettingInfo:  62%|█████████████████████████████████████████▏                         | 80/130 [06:33<04:05,  4.90s/URL]"
     ]
    },
    {
     "name": "stdout",
     "output_type": "stream",
     "text": [
      "[{'ProductURL': 'https://www.whiteflowerfarm.com/pink-champagne-container-garden', 'ProductName': 'New! Pink Champagne Container Garden', 'SKU': 'S87087', 'Availability': 'InStock', 'Quantity': None, 'SalePrice': '$72.00', 'ReviewCount': '0 Reviews', 'Rating': '0'}]\n"
     ]
    },
    {
     "name": "stderr",
     "output_type": "stream",
     "text": [
      "\r",
      "GettingInfo:  62%|█████████████████████████████████████████▋                         | 81/130 [06:38<04:05,  5.01s/URL]"
     ]
    },
    {
     "name": "stdout",
     "output_type": "stream",
     "text": [
      "[{'ProductURL': 'https://www.whiteflowerfarm.com/rosettes-ribbons-container-garden', 'ProductName': 'New! Rosettes & Ribbons Container Garden', 'SKU': 'S87088', 'Availability': 'InStock', 'Quantity': None, 'SalePrice': '$62.00', 'ReviewCount': '0 Reviews', 'Rating': '0'}]\n"
     ]
    },
    {
     "name": "stderr",
     "output_type": "stream",
     "text": [
      "\r",
      "GettingInfo:  63%|██████████████████████████████████████████▎                        | 82/130 [06:43<04:03,  5.08s/URL]"
     ]
    },
    {
     "name": "stdout",
     "output_type": "stream",
     "text": [
      "[{'ProductURL': 'https://www.whiteflowerfarm.com/celosia-spicata-koda-s-charm', 'ProductName': \"New! Celosia spicata 'Koda's Charm'\", 'SKU': 'S71200', 'Availability': 'InStock', 'Quantity': '1 or more for $11.50 each', 'SalePrice': '$11.50', 'ReviewCount': '0 Reviews', 'Rating': '0'}, {'ProductURL': 'https://www.whiteflowerfarm.com/celosia-spicata-koda-s-charm', 'ProductName': \"New! Celosia spicata 'Koda's Charm'\", 'SKU': 'S71200', 'Availability': 'InStock', 'Quantity': '6 or more for $11.25 each', 'SalePrice': '$67.50', 'ReviewCount': '0 Reviews', 'Rating': '0'}, {'ProductURL': 'https://www.whiteflowerfarm.com/celosia-spicata-koda-s-charm', 'ProductName': \"New! Celosia spicata 'Koda's Charm'\", 'SKU': 'S71200', 'Availability': 'InStock', 'Quantity': '12 or more for $11.00 each', 'SalePrice': '$132.00', 'ReviewCount': '0 Reviews', 'Rating': '0'}]\n"
     ]
    },
    {
     "name": "stderr",
     "output_type": "stream",
     "text": [
      "\r",
      "GettingInfo:  64%|██████████████████████████████████████████▊                        | 83/130 [06:48<03:55,  5.01s/URL]"
     ]
    },
    {
     "name": "stdout",
     "output_type": "stream",
     "text": [
      "[{'ProductURL': 'https://www.whiteflowerfarm.com/penstemon-hartwegii-arabesque-red', 'ProductName': 'New! Penstemon hartwegii Arabesque® Red', 'SKU': 'S77269', 'Availability': 'InStock', 'Quantity': '1 or more for $11.95 each', 'SalePrice': '$11.95', 'ReviewCount': '0 Reviews', 'Rating': '0'}, {'ProductURL': 'https://www.whiteflowerfarm.com/penstemon-hartwegii-arabesque-red', 'ProductName': 'New! Penstemon hartwegii Arabesque® Red', 'SKU': 'S77269', 'Availability': 'InStock', 'Quantity': '6 or more for $11.50 each', 'SalePrice': '$69.00', 'ReviewCount': '0 Reviews', 'Rating': '0'}, {'ProductURL': 'https://www.whiteflowerfarm.com/penstemon-hartwegii-arabesque-red', 'ProductName': 'New! Penstemon hartwegii Arabesque® Red', 'SKU': 'S77269', 'Availability': 'InStock', 'Quantity': '12 or more for $11.25 each', 'SalePrice': '$135.00', 'ReviewCount': '0 Reviews', 'Rating': '0'}]\n"
     ]
    },
    {
     "name": "stderr",
     "output_type": "stream",
     "text": [
      "\r",
      "GettingInfo:  65%|███████████████████████████████████████████▎                       | 84/130 [06:52<03:39,  4.76s/URL]"
     ]
    },
    {
     "name": "stdout",
     "output_type": "stream",
     "text": [
      "[{'ProductURL': 'https://www.whiteflowerfarm.com/penstemon-hartwegii-arabesque-violet', 'ProductName': 'New! Penstemon hartwegii Arabesque® Violet', 'SKU': 'S77270', 'Availability': 'InStock', 'Quantity': '1 or more for $11.95 each', 'SalePrice': '$11.95', 'ReviewCount': '0 Reviews', 'Rating': '0'}, {'ProductURL': 'https://www.whiteflowerfarm.com/penstemon-hartwegii-arabesque-violet', 'ProductName': 'New! Penstemon hartwegii Arabesque® Violet', 'SKU': 'S77270', 'Availability': 'InStock', 'Quantity': '6 or more for $11.50 each', 'SalePrice': '$69.00', 'ReviewCount': '0 Reviews', 'Rating': '0'}, {'ProductURL': 'https://www.whiteflowerfarm.com/penstemon-hartwegii-arabesque-violet', 'ProductName': 'New! Penstemon hartwegii Arabesque® Violet', 'SKU': 'S77270', 'Availability': 'InStock', 'Quantity': '12 or more for $11.25 each', 'SalePrice': '$135.00', 'ReviewCount': '0 Reviews', 'Rating': '0'}]\n"
     ]
    },
    {
     "name": "stderr",
     "output_type": "stream",
     "text": [
      "\r",
      "GettingInfo:  65%|███████████████████████████████████████████▊                       | 85/130 [06:57<03:37,  4.84s/URL]"
     ]
    },
    {
     "name": "stdout",
     "output_type": "stream",
     "text": [
      "[{'ProductURL': 'https://www.whiteflowerfarm.com/salpiglossis-sinuata-superbissima-mix', 'ProductName': 'New! Salpiglossis sinuata Superbissima Mix', 'SKU': 'S77764', 'Availability': 'InStock', 'Quantity': '3 or more for $9.67 each', 'SalePrice': '$29.01', 'ReviewCount': '0 Reviews', 'Rating': '0'}, {'ProductURL': 'https://www.whiteflowerfarm.com/salpiglossis-sinuata-superbissima-mix', 'ProductName': 'New! Salpiglossis sinuata Superbissima Mix', 'SKU': 'S77764', 'Availability': 'InStock', 'Quantity': '12 or more for $9.42 each', 'SalePrice': '$113.04', 'ReviewCount': '0 Reviews', 'Rating': '0'}, {'ProductURL': 'https://www.whiteflowerfarm.com/salpiglossis-sinuata-superbissima-mix', 'ProductName': 'New! Salpiglossis sinuata Superbissima Mix', 'SKU': 'S77764', 'Availability': 'InStock', 'Quantity': '24 or more for $9.17 each', 'SalePrice': '$220.08', 'ReviewCount': '0 Reviews', 'Rating': '0'}]\n"
     ]
    },
    {
     "name": "stderr",
     "output_type": "stream",
     "text": [
      "\r",
      "GettingInfo:  66%|████████████████████████████████████████████▎                      | 86/130 [07:02<03:32,  4.83s/URL]"
     ]
    },
    {
     "name": "stdout",
     "output_type": "stream",
     "text": [
      "[{'ProductURL': 'https://www.whiteflowerfarm.com/scabiosa-atropurpurea-black-knight', 'ProductName': \"New! Scabiosa atropurpurea 'Black Knight'\", 'SKU': 'S77789', 'Availability': 'InStock', 'Quantity': '1 or more for $11.95 each', 'SalePrice': '$11.95', 'ReviewCount': '0 Reviews', 'Rating': '0'}, {'ProductURL': 'https://www.whiteflowerfarm.com/scabiosa-atropurpurea-black-knight', 'ProductName': \"New! Scabiosa atropurpurea 'Black Knight'\", 'SKU': 'S77789', 'Availability': 'InStock', 'Quantity': '6 or more for $11.50 each', 'SalePrice': '$69.00', 'ReviewCount': '0 Reviews', 'Rating': '0'}, {'ProductURL': 'https://www.whiteflowerfarm.com/scabiosa-atropurpurea-black-knight', 'ProductName': \"New! Scabiosa atropurpurea 'Black Knight'\", 'SKU': 'S77789', 'Availability': 'InStock', 'Quantity': '12 or more for $11.25 each', 'SalePrice': '$135.00', 'ReviewCount': '0 Reviews', 'Rating': '0'}]\n"
     ]
    },
    {
     "name": "stderr",
     "output_type": "stream",
     "text": [
      "\r",
      "GettingInfo:  67%|████████████████████████████████████████████▊                      | 87/130 [07:08<03:48,  5.31s/URL]"
     ]
    },
    {
     "name": "stdout",
     "output_type": "stream",
     "text": [
      "[{'ProductURL': 'https://www.whiteflowerfarm.com/trachelium-caeruleum-black-knight', 'ProductName': \"New! Trachelium caeruleum 'Black Knight'\", 'SKU': 'S77829', 'Availability': 'InStock', 'Quantity': '1 or more for $11.95 each', 'SalePrice': '$11.95', 'ReviewCount': '0 Reviews', 'Rating': '0'}, {'ProductURL': 'https://www.whiteflowerfarm.com/trachelium-caeruleum-black-knight', 'ProductName': \"New! Trachelium caeruleum 'Black Knight'\", 'SKU': 'S77829', 'Availability': 'InStock', 'Quantity': '6 or more for $11.50 each', 'SalePrice': '$69.00', 'ReviewCount': '0 Reviews', 'Rating': '0'}, {'ProductURL': 'https://www.whiteflowerfarm.com/trachelium-caeruleum-black-knight', 'ProductName': \"New! Trachelium caeruleum 'Black Knight'\", 'SKU': 'S77829', 'Availability': 'InStock', 'Quantity': '12 or more for $11.25 each', 'SalePrice': '$135.00', 'ReviewCount': '0 Reviews', 'Rating': '0'}]\n"
     ]
    },
    {
     "name": "stderr",
     "output_type": "stream",
     "text": [
      "\r",
      "GettingInfo:  68%|█████████████████████████████████████████████▎                     | 88/130 [07:13<03:34,  5.10s/URL]"
     ]
    },
    {
     "name": "stdout",
     "output_type": "stream",
     "text": [
      "[{'ProductURL': 'https://www.whiteflowerfarm.com/taste-of-the-tropics-container-garden', 'ProductName': 'New! Taste of the Tropics Container Garden', 'SKU': 'S87091', 'Availability': 'InStock', 'Quantity': None, 'SalePrice': '$89.00', 'ReviewCount': '0 Reviews', 'Rating': '0'}]\n"
     ]
    },
    {
     "name": "stderr",
     "output_type": "stream",
     "text": [
      "\r",
      "GettingInfo:  68%|█████████████████████████████████████████████▊                     | 89/130 [07:18<03:27,  5.06s/URL]"
     ]
    },
    {
     "name": "stdout",
     "output_type": "stream",
     "text": [
      "[{'ProductURL': 'https://www.whiteflowerfarm.com/musa-acuminata-tropicana-dwarf-ornamental-banana', 'ProductName': 'New! Musa acuminata ‘Tropicana’ - Dwarf Ornamental Banana', 'SKU': 'S76604', 'Availability': 'InStock', 'Quantity': None, 'SalePrice': '$29.00', 'ReviewCount': '0 Reviews', 'Rating': '0'}]\n"
     ]
    },
    {
     "name": "stderr",
     "output_type": "stream",
     "text": [
      "\r",
      "GettingInfo:  69%|██████████████████████████████████████████████▍                    | 90/130 [07:22<03:13,  4.83s/URL]"
     ]
    },
    {
     "name": "stdout",
     "output_type": "stream",
     "text": [
      "[{'ProductURL': 'https://www.whiteflowerfarm.com/summer-fun-container-garden', 'ProductName': 'New! Summer Fun Container Garden', 'SKU': 'S87152', 'Availability': 'InStock', 'Quantity': None, 'SalePrice': '$69.00', 'ReviewCount': '0 Reviews', 'Rating': '0'}]\n"
     ]
    },
    {
     "name": "stderr",
     "output_type": "stream",
     "text": [
      "\r",
      "GettingInfo:  70%|██████████████████████████████████████████████▉                    | 91/130 [07:27<03:10,  4.89s/URL]"
     ]
    },
    {
     "name": "stdout",
     "output_type": "stream",
     "text": [
      "[{'ProductURL': 'https://www.whiteflowerfarm.com/tomato-ginfiz', 'ProductName': \"New! Tomato 'GinFiz'\", 'SKU': 'S4869', 'Availability': 'InStock', 'Quantity': '1 or more for $7.95 each', 'SalePrice': '$7.95', 'ReviewCount': '0 Reviews', 'Rating': '0'}, {'ProductURL': 'https://www.whiteflowerfarm.com/tomato-ginfiz', 'ProductName': \"New! Tomato 'GinFiz'\", 'SKU': 'S4869', 'Availability': 'InStock', 'Quantity': '6 or more for $7.75 each', 'SalePrice': '$46.50', 'ReviewCount': '0 Reviews', 'Rating': '0'}]\n"
     ]
    },
    {
     "name": "stderr",
     "output_type": "stream",
     "text": [
      "\r",
      "GettingInfo:  71%|███████████████████████████████████████████████▍                   | 92/130 [07:32<03:00,  4.74s/URL]"
     ]
    },
    {
     "name": "stdout",
     "output_type": "stream",
     "text": [
      "[{'ProductURL': 'https://www.whiteflowerfarm.com/tropical-hibiscus-hollywood-disco-diva-plant-only', 'ProductName': 'New! Tropical Hibiscus Hollywood® Disco Diva™, plant only', 'SKU': 'S79007', 'Availability': 'InStock', 'Quantity': None, 'SalePrice': '$50.00', 'ReviewCount': '0 Reviews', 'Rating': '0'}]\n"
     ]
    },
    {
     "name": "stderr",
     "output_type": "stream",
     "text": [
      "\r",
      "GettingInfo:  72%|███████████████████████████████████████████████▉                   | 93/130 [07:37<03:01,  4.89s/URL]"
     ]
    },
    {
     "name": "stdout",
     "output_type": "stream",
     "text": [
      "[{'ProductURL': 'https://www.whiteflowerfarm.com/patchwork-quilt-container-garden', 'ProductName': 'New! Patchwork Quilt Container Garden', 'SKU': 'S87093', 'Availability': 'InStock', 'Quantity': None, 'SalePrice': '$69.00', 'ReviewCount': '0 Reviews', 'Rating': '0'}]\n"
     ]
    },
    {
     "name": "stderr",
     "output_type": "stream",
     "text": [
      "\r",
      "GettingInfo:  72%|████████████████████████████████████████████████▍                  | 94/130 [07:42<02:53,  4.81s/URL]"
     ]
    },
    {
     "name": "stdout",
     "output_type": "stream",
     "text": [
      "[{'ProductURL': 'https://www.whiteflowerfarm.com/saxony-gardens-wreath', 'ProductName': 'New! Saxony Gardens Wreath', 'SKU': 'S49159', 'Availability': 'InStock', 'Quantity': None, 'SalePrice': '$89.00', 'ReviewCount': '0 Reviews', 'Rating': '0'}]\n"
     ]
    },
    {
     "name": "stderr",
     "output_type": "stream",
     "text": [
      "\r",
      "GettingInfo:  73%|████████████████████████████████████████████████▉                  | 95/130 [07:47<02:58,  5.09s/URL]"
     ]
    },
    {
     "name": "stdout",
     "output_type": "stream",
     "text": [
      "[{'ProductURL': 'https://www.whiteflowerfarm.com/mission-viejo-wreath', 'ProductName': 'New! Mission Viejo Wreath', 'SKU': 'S49160', 'Availability': 'InStock', 'Quantity': None, 'SalePrice': '$89.00', 'ReviewCount': '0 Reviews', 'Rating': '0'}]\n"
     ]
    },
    {
     "name": "stderr",
     "output_type": "stream",
     "text": [
      "\r",
      "GettingInfo:  74%|█████████████████████████████████████████████████▍                 | 96/130 [07:53<02:58,  5.26s/URL]"
     ]
    },
    {
     "name": "stdout",
     "output_type": "stream",
     "text": [
      "[{'ProductURL': 'https://www.whiteflowerfarm.com/lavender-gardens-wreath', 'ProductName': 'New! Lavender Gardens Wreath', 'SKU': 'S49161', 'Availability': 'InStock', 'Quantity': None, 'SalePrice': '$89.00', 'ReviewCount': '0 Reviews', 'Rating': '0'}]\n"
     ]
    },
    {
     "name": "stderr",
     "output_type": "stream",
     "text": [
      "\r",
      "GettingInfo:  75%|█████████████████████████████████████████████████▉                 | 97/130 [07:58<02:53,  5.26s/URL]"
     ]
    },
    {
     "name": "stdout",
     "output_type": "stream",
     "text": [
      "[{'ProductURL': 'https://www.whiteflowerfarm.com/love-in-a-mist-wreath', 'ProductName': 'New! Love-in-a-Mist Wreath', 'SKU': 'S49162', 'Availability': 'InStock', 'Quantity': None, 'SalePrice': '$89.00', 'ReviewCount': '0 Reviews', 'Rating': '0'}]\n"
     ]
    },
    {
     "name": "stderr",
     "output_type": "stream",
     "text": [
      "\r",
      "GettingInfo:  75%|██████████████████████████████████████████████████▌                | 98/130 [08:07<03:20,  6.26s/URL]"
     ]
    },
    {
     "name": "stdout",
     "output_type": "stream",
     "text": [
      "[{'ProductURL': 'https://www.whiteflowerfarm.com/basil-lime', 'ProductName': \"New! Basil 'Lime'\", 'SKU': 'S4609', 'Availability': 'InStock', 'Quantity': '1 or more for $14.95 each', 'SalePrice': '$14.95', 'ReviewCount': '0 Reviews', 'Rating': '0'}, {'ProductURL': 'https://www.whiteflowerfarm.com/basil-lime', 'ProductName': \"New! Basil 'Lime'\", 'SKU': 'S4609', 'Availability': 'InStock', 'Quantity': '6 or more for $14.50 each', 'SalePrice': '$87.00', 'ReviewCount': '0 Reviews', 'Rating': '0'}]\n"
     ]
    },
    {
     "name": "stderr",
     "output_type": "stream",
     "text": [
      "\r",
      "GettingInfo:  76%|███████████████████████████████████████████████████                | 99/130 [08:23<04:50,  9.37s/URL]"
     ]
    },
    {
     "name": "stdout",
     "output_type": "stream",
     "text": [
      "[{'ProductURL': 'https://www.whiteflowerfarm.com/tomato-tims-taste-of-paradise', 'ProductName': \"New! Tomato 'Tim's Taste of Paradise'\", 'SKU': 'S4870', 'Availability': 'InStock', 'Quantity': '1 or more for $7.95 each', 'SalePrice': '$7.95', 'ReviewCount': '0 Reviews', 'Rating': '0'}, {'ProductURL': 'https://www.whiteflowerfarm.com/tomato-tims-taste-of-paradise', 'ProductName': \"New! Tomato 'Tim's Taste of Paradise'\", 'SKU': 'S4870', 'Availability': 'InStock', 'Quantity': '6 or more for $7.75 each', 'SalePrice': '$46.50', 'ReviewCount': '0 Reviews', 'Rating': '0'}]\n"
     ]
    },
    {
     "name": "stderr",
     "output_type": "stream",
     "text": [
      "\r",
      "GettingInfo:  77%|██████████████████████████████████████████████████▊               | 100/130 [08:29<04:10,  8.34s/URL]"
     ]
    },
    {
     "name": "stdout",
     "output_type": "stream",
     "text": [
      "[{'ProductURL': 'https://www.whiteflowerfarm.com/tomato-verona', 'ProductName': \"New! Tomato 'Verona'\", 'SKU': 'S4871', 'Availability': 'InStock', 'Quantity': '1 or more for $7.95 each', 'SalePrice': '$7.95', 'ReviewCount': '0 Reviews', 'Rating': '0'}, {'ProductURL': 'https://www.whiteflowerfarm.com/tomato-verona', 'ProductName': \"New! Tomato 'Verona'\", 'SKU': 'S4871', 'Availability': 'InStock', 'Quantity': '6 or more for $7.75 each', 'SalePrice': '$46.50', 'ReviewCount': '0 Reviews', 'Rating': '0'}]\n"
     ]
    },
    {
     "name": "stderr",
     "output_type": "stream",
     "text": [
      "\r",
      "GettingInfo:  78%|███████████████████████████████████████████████████▎              | 101/130 [08:35<03:37,  7.50s/URL]"
     ]
    },
    {
     "name": "stdout",
     "output_type": "stream",
     "text": [
      "[{'ProductURL': 'https://www.whiteflowerfarm.com/nasturtium-jewel-of-africa', 'ProductName': \"New! Nasturtium 'Jewel of Africa'\", 'SKU': 'S76612', 'Availability': 'InStock', 'Quantity': '1 or more for $14.95 each', 'SalePrice': '$14.95', 'ReviewCount': '0 Reviews', 'Rating': '0'}, {'ProductURL': 'https://www.whiteflowerfarm.com/nasturtium-jewel-of-africa', 'ProductName': \"New! Nasturtium 'Jewel of Africa'\", 'SKU': 'S76612', 'Availability': 'InStock', 'Quantity': '6 or more for $14.50 each', 'SalePrice': '$87.00', 'ReviewCount': '0 Reviews', 'Rating': '0'}]\n"
     ]
    },
    {
     "name": "stderr",
     "output_type": "stream",
     "text": [
      "\r",
      "GettingInfo:  78%|███████████████████████████████████████████████████▊              | 102/130 [08:39<03:03,  6.54s/URL]"
     ]
    },
    {
     "name": "stdout",
     "output_type": "stream",
     "text": [
      "[{'ProductURL': 'https://www.whiteflowerfarm.com/cretan-pot-kion', 'ProductName': 'Cretan Pot Kion', 'SKU': 'F51178', 'Availability': 'InStock', 'Quantity': None, 'SalePrice': '$45.00', 'ReviewCount': '0 Reviews', 'Rating': '0'}]\n"
     ]
    },
    {
     "name": "stderr",
     "output_type": "stream",
     "text": [
      "\r",
      "GettingInfo:  79%|████████████████████████████████████████████████████▎             | 103/130 [08:44<02:46,  6.15s/URL]"
     ]
    },
    {
     "name": "stdout",
     "output_type": "stream",
     "text": [
      "[{'ProductURL': 'https://www.whiteflowerfarm.com/cretan-pot-kostis', 'ProductName': 'Cretan Pot Kostis', 'SKU': 'F51179', 'Availability': 'InStock', 'Quantity': None, 'SalePrice': '$42.00', 'ReviewCount': '0 Reviews', 'Rating': '0'}]\n"
     ]
    },
    {
     "name": "stderr",
     "output_type": "stream",
     "text": [
      "\r",
      "GettingInfo:  80%|████████████████████████████████████████████████████▊             | 104/130 [08:49<02:25,  5.60s/URL]"
     ]
    },
    {
     "name": "stdout",
     "output_type": "stream",
     "text": [
      "[{'ProductURL': 'https://www.whiteflowerfarm.com/cretan-pot-aristea', 'ProductName': 'Cretan Pot Aristea ', 'SKU': 'F51180', 'Availability': 'InStock', 'Quantity': None, 'SalePrice': '$34.00', 'ReviewCount': '0 Reviews', 'Rating': '0'}]\n"
     ]
    },
    {
     "name": "stderr",
     "output_type": "stream",
     "text": [
      "\r",
      "GettingInfo:  81%|█████████████████████████████████████████████████████▎            | 105/130 [08:53<02:08,  5.12s/URL]"
     ]
    },
    {
     "name": "stdout",
     "output_type": "stream",
     "text": [
      "[{'ProductURL': 'https://www.whiteflowerfarm.com/lilium-leslie-woodriff', 'ProductName': \"New! Lilium 'Leslie Woodriff'\", 'SKU': 'S381078', 'Availability': 'InStock', 'Quantity': '3 or more for $10.67 each', 'SalePrice': '$32.01', 'ReviewCount': '0 Reviews', 'Rating': '0'}, {'ProductURL': 'https://www.whiteflowerfarm.com/lilium-leslie-woodriff', 'ProductName': \"New! Lilium 'Leslie Woodriff'\", 'SKU': 'S381078', 'Availability': 'InStock', 'Quantity': '12 or more for $10.33 each', 'SalePrice': '$123.96', 'ReviewCount': '0 Reviews', 'Rating': '0'}, {'ProductURL': 'https://www.whiteflowerfarm.com/lilium-leslie-woodriff', 'ProductName': \"New! Lilium 'Leslie Woodriff'\", 'SKU': 'S381078', 'Availability': 'InStock', 'Quantity': '24 or more for $10.17 each', 'SalePrice': '$244.08', 'ReviewCount': '0 Reviews', 'Rating': '0'}]\n"
     ]
    },
    {
     "name": "stderr",
     "output_type": "stream",
     "text": [
      "\r",
      "GettingInfo:  82%|█████████████████████████████████████████████████████▊            | 106/130 [08:58<02:07,  5.31s/URL]"
     ]
    },
    {
     "name": "stdout",
     "output_type": "stream",
     "text": [
      "[{'ProductURL': 'https://www.whiteflowerfarm.com/cretan-pot-patitiri', 'ProductName': 'Cretan Pot Patitiri, small', 'SKU': 'F51181', 'Availability': 'InStock', 'Quantity': None, 'SalePrice': '$36.00', 'ReviewCount': '0 Reviews', 'Rating': '0'}, {'ProductURL': 'https://www.whiteflowerfarm.com/cretan-pot-patitiri', 'ProductName': 'Cretan Pot Patitiri, large', 'SKU': 'F51181', 'Availability': 'InStock', 'Quantity': None, 'SalePrice': '$59.00', 'ReviewCount': '0 Reviews', 'Rating': '0'}]\n"
     ]
    },
    {
     "name": "stderr",
     "output_type": "stream",
     "text": [
      "\r",
      "GettingInfo:  82%|██████████████████████████████████████████████████████▎           | 107/130 [09:03<01:53,  4.96s/URL]"
     ]
    },
    {
     "name": "stdout",
     "output_type": "stream",
     "text": [
      "[{'ProductURL': 'https://www.whiteflowerfarm.com/monarda-punctata-tray-of-50-plugs', 'ProductName': 'New! Monarda punctata, tray of 50 plugs', 'SKU': 'S3334314', 'Availability': 'InStock', 'Quantity': None, 'SalePrice': '$186.00', 'ReviewCount': '0 Reviews', 'Rating': '0'}]\n"
     ]
    },
    {
     "name": "stderr",
     "output_type": "stream",
     "text": [
      "\r",
      "GettingInfo:  83%|██████████████████████████████████████████████████████▊           | 108/130 [09:08<01:50,  5.04s/URL]"
     ]
    },
    {
     "name": "stdout",
     "output_type": "stream",
     "text": [
      "[{'ProductURL': 'https://www.whiteflowerfarm.com/pycnanthemum-muticum-tray-of-50-plugs', 'ProductName': 'New! Pycnanthemum muticum, tray of 50 plugs', 'SKU': 'S3337176', 'Availability': 'InStock', 'Quantity': None, 'SalePrice': '$191.00', 'ReviewCount': '0 Reviews', 'Rating': '0'}]\n"
     ]
    },
    {
     "name": "stderr",
     "output_type": "stream",
     "text": [
      "\r",
      "GettingInfo:  84%|███████████████████████████████████████████████████████▎          | 109/130 [09:12<01:43,  4.92s/URL]"
     ]
    },
    {
     "name": "stdout",
     "output_type": "stream",
     "text": [
      "[{'ProductURL': 'https://www.whiteflowerfarm.com/ceramic-pocket-planter-creamy-white', 'ProductName': 'Ceramic Pocket Planter, creamy white', 'SKU': 'X49168', 'Availability': 'InStock', 'Quantity': None, 'SalePrice': '$34.00', 'ReviewCount': '0 Reviews', 'Rating': '0'}]\n"
     ]
    },
    {
     "name": "stderr",
     "output_type": "stream",
     "text": [
      "\r",
      "GettingInfo:  85%|███████████████████████████████████████████████████████▊          | 110/130 [09:22<02:05,  6.29s/URL]"
     ]
    },
    {
     "name": "stdout",
     "output_type": "stream",
     "text": [
      "[{'ProductURL': 'https://www.whiteflowerfarm.com/womens-deluxe-garden-gloves-sangria-standard-shipping-included', 'ProductName': \"New! Women's Deluxe Garden Gloves, Sangria - Standard Shipping Included\", 'SKU': 'S49035', 'Availability': 'InStock', 'Quantity': None, 'SalePrice': '$29.00', 'ReviewCount': '0 Reviews', 'Rating': '0'}, {'ProductURL': 'https://www.whiteflowerfarm.com/womens-deluxe-garden-gloves-sangria-standard-shipping-included', 'ProductName': \"New! Women's Deluxe Garden Gloves, Sangria - Standard Shipping Included\", 'SKU': 'S49043', 'Availability': 'InStock', 'Quantity': None, 'SalePrice': '$29.00', 'ReviewCount': '0 Reviews', 'Rating': '0'}]\n"
     ]
    },
    {
     "name": "stderr",
     "output_type": "stream",
     "text": [
      "\r",
      "GettingInfo:  85%|████████████████████████████████████████████████████████▎         | 111/130 [09:34<02:33,  8.09s/URL]"
     ]
    },
    {
     "name": "stdout",
     "output_type": "stream",
     "text": [
      "[{'ProductURL': 'https://www.whiteflowerfarm.com/chateau-tuteur-green', 'ProductName': 'New! Chateau Tuteur, green', 'SKU': 'S51302', 'Availability': 'InStock', 'Quantity': None, 'SalePrice': '$110.00', 'ReviewCount': '0 Reviews', 'Rating': '0'}, {'ProductURL': 'https://www.whiteflowerfarm.com/chateau-tuteur-green', 'ProductName': 'New! Chateau Tuteur, green', 'SKU': 'S51303', 'Availability': 'InStock', 'Quantity': None, 'SalePrice': '$125.00', 'ReviewCount': '0 Reviews', 'Rating': '0'}, {'ProductURL': 'https://www.whiteflowerfarm.com/chateau-tuteur-green', 'ProductName': 'New! Chateau Tuteur, green', 'SKU': 'S51304', 'Availability': 'InStock', 'Quantity': None, 'SalePrice': '$150.00', 'ReviewCount': '0 Reviews', 'Rating': '0'}]\n"
     ]
    },
    {
     "name": "stderr",
     "output_type": "stream",
     "text": [
      "\r",
      "GettingInfo:  86%|████████████████████████████████████████████████████████▊         | 112/130 [09:40<02:10,  7.26s/URL]"
     ]
    },
    {
     "name": "stdout",
     "output_type": "stream",
     "text": [
      "[{'ProductURL': 'https://www.whiteflowerfarm.com/handmade-piccolina-pot', 'ProductName': 'Handmade Piccolina Pot, 12\" wide', 'SKU': 'S50524', 'Availability': 'InStock', 'Quantity': None, 'SalePrice': '$140.00', 'ReviewCount': '0 Reviews', 'Rating': '0'}, {'ProductURL': 'https://www.whiteflowerfarm.com/handmade-piccolina-pot', 'ProductName': 'Handmade Piccolina Pot, 16\" wide', 'SKU': 'S50524', 'Availability': 'InStock', 'Quantity': None, 'SalePrice': '$220.00', 'ReviewCount': '0 Reviews', 'Rating': '0'}]\n"
     ]
    },
    {
     "name": "stderr",
     "output_type": "stream",
     "text": [
      "\r",
      "GettingInfo:  87%|█████████████████████████████████████████████████████████▎        | 113/130 [09:46<02:00,  7.11s/URL]"
     ]
    },
    {
     "name": "stdout",
     "output_type": "stream",
     "text": [
      "[{'ProductURL': 'https://www.whiteflowerfarm.com/pittsburgh-gray-stone-planter', 'ProductName': 'Pittsburgh Gray Stone Planter, small', 'SKU': 'S49010', 'Availability': 'InStock', 'Quantity': None, 'SalePrice': '$59.00', 'ReviewCount': '0 Reviews', 'Rating': '0'}, {'ProductURL': 'https://www.whiteflowerfarm.com/pittsburgh-gray-stone-planter', 'ProductName': 'Pittsburgh Gray Stone Planter, large', 'SKU': 'S49010', 'Availability': 'InStock', 'Quantity': None, 'SalePrice': '$72.00', 'ReviewCount': '0 Reviews', 'Rating': '0'}]\n"
     ]
    },
    {
     "name": "stderr",
     "output_type": "stream",
     "text": [
      "\r",
      "GettingInfo:  88%|█████████████████████████████████████████████████████████▉        | 114/130 [09:51<01:43,  6.45s/URL]"
     ]
    },
    {
     "name": "stdout",
     "output_type": "stream",
     "text": [
      "[{'ProductURL': 'https://www.whiteflowerfarm.com/uguisu-pot', 'ProductName': 'Uguisu Pot, small', 'SKU': 'S50306', 'Availability': 'InStock', 'Quantity': None, 'SalePrice': '$65.00', 'ReviewCount': '0 Reviews', 'Rating': '0'}, {'ProductURL': 'https://www.whiteflowerfarm.com/uguisu-pot', 'ProductName': 'Uguisu Pot, large', 'SKU': 'S50306', 'Availability': 'InStock', 'Quantity': None, 'SalePrice': '$95.00', 'ReviewCount': '0 Reviews', 'Rating': '0'}]\n"
     ]
    },
    {
     "name": "stderr",
     "output_type": "stream",
     "text": [
      "\r",
      "GettingInfo:  88%|██████████████████████████████████████████████████████████▍       | 115/130 [09:57<01:34,  6.30s/URL]"
     ]
    },
    {
     "name": "stdout",
     "output_type": "stream",
     "text": [
      "[{'ProductURL': 'https://www.whiteflowerfarm.com/modena-pot', 'ProductName': 'Modena Pot, 12\" wide', 'SKU': 'S50526', 'Availability': 'InStock', 'Quantity': None, 'SalePrice': '$84.00', 'ReviewCount': '0 Reviews', 'Rating': '0'}, {'ProductURL': 'https://www.whiteflowerfarm.com/modena-pot', 'ProductName': 'Modena Pot, 16\" wide', 'SKU': 'S50526', 'Availability': 'InStock', 'Quantity': None, 'SalePrice': '$135.00', 'ReviewCount': '0 Reviews', 'Rating': '0'}]\n"
     ]
    },
    {
     "name": "stderr",
     "output_type": "stream",
     "text": [
      "\r",
      "GettingInfo:  89%|██████████████████████████████████████████████████████████▉       | 116/130 [10:02<01:20,  5.77s/URL]"
     ]
    },
    {
     "name": "stdout",
     "output_type": "stream",
     "text": [
      "[{'ProductURL': 'https://www.whiteflowerfarm.com/marbella-ceramic-pot', 'ProductName': 'Marbella Ceramic Pot, small', 'SKU': 'S50214', 'Availability': 'InStock', 'Quantity': None, 'SalePrice': '$36.00', 'ReviewCount': '0 Reviews', 'Rating': '0'}, {'ProductURL': 'https://www.whiteflowerfarm.com/marbella-ceramic-pot', 'ProductName': 'Marbella Ceramic Pot, large', 'SKU': 'S50214', 'Availability': 'InStock', 'Quantity': None, 'SalePrice': '$42.00', 'ReviewCount': '0 Reviews', 'Rating': '0'}]\n"
     ]
    },
    {
     "name": "stderr",
     "output_type": "stream",
     "text": [
      "\r",
      "GettingInfo:  90%|███████████████████████████████████████████████████████████▍      | 117/130 [10:07<01:13,  5.62s/URL]"
     ]
    },
    {
     "name": "stdout",
     "output_type": "stream",
     "text": [
      "[{'ProductURL': 'https://www.whiteflowerfarm.com/aquilegia-canadensis', 'ProductName': 'Aquilegia canadensis', 'SKU': 'S23330', 'Availability': 'InStock', 'Quantity': '1 or more for $15.95 each', 'SalePrice': '$15.95', 'ReviewCount': '0 Reviews', 'Rating': '0'}, {'ProductURL': 'https://www.whiteflowerfarm.com/aquilegia-canadensis', 'ProductName': 'Aquilegia canadensis', 'SKU': 'S23330', 'Availability': 'InStock', 'Quantity': '6 or more for $15.50 each', 'SalePrice': '$93.00', 'ReviewCount': '0 Reviews', 'Rating': '0'}, {'ProductURL': 'https://www.whiteflowerfarm.com/aquilegia-canadensis', 'ProductName': 'Aquilegia canadensis', 'SKU': 'S23330', 'Availability': 'InStock', 'Quantity': '12 or more for $15.25 each', 'SalePrice': '$183.00', 'ReviewCount': '0 Reviews', 'Rating': '0'}]\n"
     ]
    },
    {
     "name": "stderr",
     "output_type": "stream",
     "text": [
      "\r",
      "GettingInfo:  91%|███████████████████████████████████████████████████████████▉      | 118/130 [10:12<01:04,  5.41s/URL]"
     ]
    },
    {
     "name": "stdout",
     "output_type": "stream",
     "text": [
      "[{'ProductURL': 'https://www.whiteflowerfarm.com/asclepias-tuberosa', 'ProductName': 'Asclepias tuberosa', 'SKU': 'S23984', 'Availability': 'InStock', 'Quantity': '1 or more for $18.00 each', 'SalePrice': '$18.00', 'ReviewCount': '0 Reviews', 'Rating': '0'}, {'ProductURL': 'https://www.whiteflowerfarm.com/asclepias-tuberosa', 'ProductName': 'Asclepias tuberosa', 'SKU': 'S23984', 'Availability': 'InStock', 'Quantity': '6 or more for $17.50 each', 'SalePrice': '$105.00', 'ReviewCount': '0 Reviews', 'Rating': '0'}, {'ProductURL': 'https://www.whiteflowerfarm.com/asclepias-tuberosa', 'ProductName': 'Asclepias tuberosa', 'SKU': 'S23984', 'Availability': 'InStock', 'Quantity': '12 or more for $17.00 each', 'SalePrice': '$204.00', 'ReviewCount': '0 Reviews', 'Rating': '0'}]\n"
     ]
    },
    {
     "name": "stderr",
     "output_type": "stream",
     "text": [
      "\r",
      "GettingInfo:  92%|████████████████████████████████████████████████████████████▍     | 119/130 [10:17<00:57,  5.26s/URL]"
     ]
    },
    {
     "name": "stdout",
     "output_type": "stream",
     "text": [
      "[{'ProductURL': 'https://www.whiteflowerfarm.com/ornamental-grass-carex-pensylvanica', 'ProductName': 'Carex pensylvanica', 'SKU': 'S30029', 'Availability': 'InStock', 'Quantity': '1', 'SalePrice': '$18.95', 'ReviewCount': '0 Reviews', 'Rating': '0'}]\n"
     ]
    },
    {
     "name": "stderr",
     "output_type": "stream",
     "text": [
      "\r",
      "GettingInfo:  92%|████████████████████████████████████████████████████████████▉     | 120/130 [10:23<00:54,  5.46s/URL]"
     ]
    },
    {
     "name": "stdout",
     "output_type": "stream",
     "text": [
      "[{'ProductURL': 'https://www.whiteflowerfarm.com/ornamental-grass-eragrostis-spectabilis', 'ProductName': 'Eragrostis spectabilis', 'SKU': 'S28580', 'Availability': 'InStock', 'Quantity': '1 or more for $17.95 each', 'SalePrice': '$17.95', 'ReviewCount': '0 Reviews', 'Rating': '0'}, {'ProductURL': 'https://www.whiteflowerfarm.com/ornamental-grass-eragrostis-spectabilis', 'ProductName': 'Eragrostis spectabilis', 'SKU': 'S28580', 'Availability': 'InStock', 'Quantity': '6 or more for $17.50 each', 'SalePrice': '$105.00', 'ReviewCount': '0 Reviews', 'Rating': '0'}, {'ProductURL': 'https://www.whiteflowerfarm.com/ornamental-grass-eragrostis-spectabilis', 'ProductName': 'Eragrostis spectabilis', 'SKU': 'S28580', 'Availability': 'InStock', 'Quantity': '12 or more for $17.00 each', 'SalePrice': '$204.00', 'ReviewCount': '0 Reviews', 'Rating': '0'}]\n"
     ]
    },
    {
     "name": "stderr",
     "output_type": "stream",
     "text": [
      "\r",
      "GettingInfo:  93%|█████████████████████████████████████████████████████████████▍    | 121/130 [10:30<00:52,  5.84s/URL]"
     ]
    },
    {
     "name": "stdout",
     "output_type": "stream",
     "text": [
      "[{'ProductURL': 'https://www.whiteflowerfarm.com/liatris-spicata', 'ProductName': 'Liatris spicata', 'SKU': 'S32950', 'Availability': 'InStock', 'Quantity': '3 or more for $6.65 each', 'SalePrice': '$19.95', 'ReviewCount': '0 Reviews', 'Rating': '0'}, {'ProductURL': 'https://www.whiteflowerfarm.com/liatris-spicata', 'ProductName': 'Liatris spicata', 'SKU': 'S32950', 'Availability': 'InStock', 'Quantity': '12 or more for $6.42 each', 'SalePrice': '$77.04', 'ReviewCount': '0 Reviews', 'Rating': '0'}, {'ProductURL': 'https://www.whiteflowerfarm.com/liatris-spicata', 'ProductName': 'Liatris spicata', 'SKU': 'S32950', 'Availability': 'InStock', 'Quantity': '24 or more for $6.33 each', 'SalePrice': '$151.92', 'ReviewCount': '0 Reviews', 'Rating': '0'}]\n"
     ]
    },
    {
     "name": "stderr",
     "output_type": "stream",
     "text": [
      "\r",
      "GettingInfo:  94%|█████████████████████████████████████████████████████████████▉    | 122/130 [10:34<00:44,  5.58s/URL]"
     ]
    },
    {
     "name": "stdout",
     "output_type": "stream",
     "text": [
      "[{'ProductURL': 'https://www.whiteflowerfarm.com/lobelia-cardinalis', 'ProductName': 'Lobelia cardinalis', 'SKU': 'S33247', 'Availability': 'InStock', 'Quantity': '1 or more for $15.95 each', 'SalePrice': '$15.95', 'ReviewCount': '0 Reviews', 'Rating': '0'}, {'ProductURL': 'https://www.whiteflowerfarm.com/lobelia-cardinalis', 'ProductName': 'Lobelia cardinalis', 'SKU': 'S33247', 'Availability': 'InStock', 'Quantity': '6 or more for $15.50 each', 'SalePrice': '$93.00', 'ReviewCount': '0 Reviews', 'Rating': '0'}, {'ProductURL': 'https://www.whiteflowerfarm.com/lobelia-cardinalis', 'ProductName': 'Lobelia cardinalis', 'SKU': 'S33247', 'Availability': 'InStock', 'Quantity': '12 or more for $15.25 each', 'SalePrice': '$183.00', 'ReviewCount': '0 Reviews', 'Rating': '0'}]\n"
     ]
    },
    {
     "name": "stderr",
     "output_type": "stream",
     "text": [
      "\r",
      "GettingInfo:  95%|██████████████████████████████████████████████████████████████▍   | 123/130 [10:39<00:36,  5.26s/URL]"
     ]
    },
    {
     "name": "stdout",
     "output_type": "stream",
     "text": [
      "[{'ProductURL': 'https://www.whiteflowerfarm.com/lobelia-siphilitica', 'ProductName': 'Lobelia siphilitica', 'SKU': 'S33245', 'Availability': 'InStock', 'Quantity': '1 or more for $16.95 each', 'SalePrice': '$16.95', 'ReviewCount': '0 Reviews', 'Rating': '0'}, {'ProductURL': 'https://www.whiteflowerfarm.com/lobelia-siphilitica', 'ProductName': 'Lobelia siphilitica', 'SKU': 'S33245', 'Availability': 'InStock', 'Quantity': '6 or more for $16.50 each', 'SalePrice': '$99.00', 'ReviewCount': '0 Reviews', 'Rating': '0'}, {'ProductURL': 'https://www.whiteflowerfarm.com/lobelia-siphilitica', 'ProductName': 'Lobelia siphilitica', 'SKU': 'S33245', 'Availability': 'InStock', 'Quantity': '12 or more for $16.00 each', 'SalePrice': '$192.00', 'ReviewCount': '0 Reviews', 'Rating': '0'}]\n"
     ]
    },
    {
     "name": "stderr",
     "output_type": "stream",
     "text": [
      "\r",
      "GettingInfo:  95%|██████████████████████████████████████████████████████████████▉   | 124/130 [10:43<00:29,  4.99s/URL]"
     ]
    },
    {
     "name": "stdout",
     "output_type": "stream",
     "text": [
      "[{'ProductURL': 'https://www.whiteflowerfarm.com/pycnanthemum-tenuifolium', 'ProductName': 'Pycnanthemum tenuifolium', 'SKU': 'S37175', 'Availability': 'InStock', 'Quantity': '1 or more for $18.95 each', 'SalePrice': '$18.95', 'ReviewCount': '0 Reviews', 'Rating': '0'}, {'ProductURL': 'https://www.whiteflowerfarm.com/pycnanthemum-tenuifolium', 'ProductName': 'Pycnanthemum tenuifolium', 'SKU': 'S37175', 'Availability': 'InStock', 'Quantity': '6 or more for $18.50 each', 'SalePrice': '$111.00', 'ReviewCount': '0 Reviews', 'Rating': '0'}, {'ProductURL': 'https://www.whiteflowerfarm.com/pycnanthemum-tenuifolium', 'ProductName': 'Pycnanthemum tenuifolium', 'SKU': 'S37175', 'Availability': 'InStock', 'Quantity': '12 or more for $18.00 each', 'SalePrice': '$216.00', 'ReviewCount': '0 Reviews', 'Rating': '0'}]\n"
     ]
    },
    {
     "name": "stderr",
     "output_type": "stream",
     "text": [
      "\r",
      "GettingInfo:  96%|███████████████████████████████████████████████████████████████▍  | 125/130 [11:17<01:07, 13.60s/URL]"
     ]
    },
    {
     "name": "stdout",
     "output_type": "stream",
     "text": [
      "[{'ProductURL': 'https://www.whiteflowerfarm.com/ornamental-grass-sporobolus-heterolepis', 'ProductName': 'Sporobolus heterolepis', 'SKU': 'S38650', 'Availability': 'InStock', 'Quantity': '1 or more for $18.95 each', 'SalePrice': '$18.95', 'ReviewCount': '0 Reviews', 'Rating': '0'}, {'ProductURL': 'https://www.whiteflowerfarm.com/ornamental-grass-sporobolus-heterolepis', 'ProductName': 'Sporobolus heterolepis', 'SKU': 'S38650', 'Availability': 'InStock', 'Quantity': '6 or more for $18.50 each', 'SalePrice': '$111.00', 'ReviewCount': '0 Reviews', 'Rating': '0'}, {'ProductURL': 'https://www.whiteflowerfarm.com/ornamental-grass-sporobolus-heterolepis', 'ProductName': 'Sporobolus heterolepis', 'SKU': 'S38650', 'Availability': 'InStock', 'Quantity': '12 or more for $18.00 each', 'SalePrice': '$216.00', 'ReviewCount': '0 Reviews', 'Rating': '0'}]\n"
     ]
    },
    {
     "name": "stderr",
     "output_type": "stream",
     "text": [
      "\r",
      "GettingInfo:  97%|███████████████████████████████████████████████████████████████▉  | 126/130 [11:22<00:44, 11.11s/URL]"
     ]
    },
    {
     "name": "stdout",
     "output_type": "stream",
     "text": [
      "[{'ProductURL': 'https://www.whiteflowerfarm.com/red-cyclamen-4-pots-in-metal-bowl', 'ProductName': 'Red Cyclamen, 4 pots in metal bowl', 'SKU': 'X83724', 'Availability': 'Out Of Stock', 'Quantity': None, 'SalePrice': '$69.00', 'ReviewCount': '0 Reviews', 'Rating': '0'}]\n"
     ]
    },
    {
     "name": "stderr",
     "output_type": "stream",
     "text": [
      "\r",
      "GettingInfo:  98%|████████████████████████████████████████████████████████████████▍ | 127/130 [11:27<00:27,  9.32s/URL]"
     ]
    },
    {
     "name": "stdout",
     "output_type": "stream",
     "text": [
      "[{'ProductURL': 'https://www.whiteflowerfarm.com/ornamental-grass-chasmanthium-latifolium', 'ProductName': 'Chasmanthium latifolium', 'SKU': 'S30030', 'Availability': 'InStock', 'Quantity': '1 or more for $17.95 each', 'SalePrice': '$17.95', 'ReviewCount': '0 Reviews', 'Rating': '0'}, {'ProductURL': 'https://www.whiteflowerfarm.com/ornamental-grass-chasmanthium-latifolium', 'ProductName': 'Chasmanthium latifolium', 'SKU': 'S30030', 'Availability': 'InStock', 'Quantity': '6 or more for $17.50 each', 'SalePrice': '$105.00', 'ReviewCount': '0 Reviews', 'Rating': '0'}, {'ProductURL': 'https://www.whiteflowerfarm.com/ornamental-grass-chasmanthium-latifolium', 'ProductName': 'Chasmanthium latifolium', 'SKU': 'S30030', 'Availability': 'InStock', 'Quantity': '12 or more for $17.00 each', 'SalePrice': '$204.00', 'ReviewCount': '0 Reviews', 'Rating': '0'}]\n"
     ]
    },
    {
     "name": "stderr",
     "output_type": "stream",
     "text": [
      "\r",
      "GettingInfo:  98%|████████████████████████████████████████████████████████████████▉ | 128/130 [11:34<00:16,  8.49s/URL]"
     ]
    },
    {
     "name": "stdout",
     "output_type": "stream",
     "text": [
      "[{'ProductURL': 'https://www.whiteflowerfarm.com/vegtrug-raised-bed', 'ProductName': 'VegTrug Raised Bed, natural', 'SKU': 'S51202', 'Availability': 'InStock', 'Quantity': None, 'SalePrice': '$265.00', 'ReviewCount': '0 Reviews', 'Rating': '0'}, {'ProductURL': 'https://www.whiteflowerfarm.com/vegtrug-raised-bed', 'ProductName': 'VegTrug Raised Bed, gray', 'SKU': 'S51202', 'Availability': 'InStock', 'Quantity': None, 'SalePrice': '$265.00', 'ReviewCount': '0 Reviews', 'Rating': '0'}]\n"
     ]
    },
    {
     "name": "stderr",
     "output_type": "stream",
     "text": [
      "\r",
      "GettingInfo:  99%|█████████████████████████████████████████████████████████████████▍| 129/130 [11:39<00:07,  7.56s/URL]"
     ]
    },
    {
     "name": "stdout",
     "output_type": "stream",
     "text": [
      "[{'ProductURL': 'https://www.whiteflowerfarm.com/dinnerplate-dahlia-collection-2', 'ProductName': 'Dinnerplate Dahlia Collection 2.0, 4 tubers', 'SKU': 'S83323', 'Availability': 'InStock', 'Quantity': None, 'SalePrice': '$45.00', 'ReviewCount': '0 Reviews', 'Rating': '0'}]\n"
     ]
    },
    {
     "name": "stderr",
     "output_type": "stream",
     "text": [
      "GettingInfo: 100%|██████████████████████████████████████████████████████████████████| 130/130 [11:44<00:00,  5.42s/URL]"
     ]
    },
    {
     "name": "stdout",
     "output_type": "stream",
     "text": [
      "[{'ProductURL': 'https://www.whiteflowerfarm.com/german-primrose-libre-red-in-basket', 'ProductName': 'German Primrose Libre™ Red in basket ', 'SKU': 'S83345', 'Availability': 'InStock', 'Quantity': None, 'SalePrice': '$46.00', 'ReviewCount': '0 Reviews', 'Rating': '0'}]\n"
     ]
    },
    {
     "name": "stderr",
     "output_type": "stream",
     "text": [
      "\n"
     ]
    }
   ],
   "source": [
    "chrome_options = webdriver.ChromeOptions()\n",
    "driver = webdriver.Chrome(options=chrome_options)\n",
    "for i in tqdm(Pro_URL[3465:], desc=\"GettingInfo\", unit=\"URL\"):\n",
    "    df, soup,skipped = get_product_info(i)\n",
    "    Product_details4.extend(df)\n",
    "    skipped.extend(skipped)\n",
    "    print(df)\n",
    "driver.quit()\n",
    "daf = pd.DataFrame(Product_details4)\n",
    "daf.to_csv('WhiteFlowerFarm4.csv',index=False)"
   ]
  },
  {
   "cell_type": "code",
   "execution_count": 347,
   "id": "96e80a7d",
   "metadata": {},
   "outputs": [
    {
     "data": {
      "text/plain": [
       "'https://www.whiteflowerfarm.com/red-bird-copper-wall-art'"
      ]
     },
     "execution_count": 347,
     "metadata": {},
     "output_type": "execute_result"
    }
   ],
   "source": [
    "Pro_URL[2868]"
   ]
  },
  {
   "cell_type": "code",
   "execution_count": 361,
   "id": "0b2a7632",
   "metadata": {},
   "outputs": [],
   "source": [
    "driver.quit()"
   ]
  },
  {
   "cell_type": "code",
   "execution_count": 363,
   "id": "9b70e0d3",
   "metadata": {},
   "outputs": [
    {
     "name": "stdout",
     "output_type": "stream",
     "text": [
      "WhiteFlowerFarm1.csv 1108\n",
      "WhiteFlowerFarm2.csv 1311\n",
      "WhiteFlowerFarm3.csv 5213\n",
      "WhiteFlowerFarm4.csv 1329\n",
      "Combined data saved to WhiteFlowerFarm.csv\n"
     ]
    }
   ],
   "source": [
    "import os\n",
    "import pandas as pd\n",
    "\n",
    "def combine_csv_files(input_folder, output_file):\n",
    "    # Get a list of all CSV files in the input folder starting with \"FastGrowingTrees\"\n",
    "    csv_files = [file for file in os.listdir(input_folder) if file.startswith('WhiteFlowerFarm') and file.endswith('.csv')]\n",
    "\n",
    "    # Initialize an empty list to store DataFrames\n",
    "    data_frames = []\n",
    "\n",
    "    # Loop through each matching CSV file and append its data to the data_frames list\n",
    "    for file in csv_files:\n",
    "        file_path = os.path.join(input_folder, file)\n",
    "        current_data = pd.read_csv(file_path)\n",
    "        print(file ,len(current_data))\n",
    "        data_frames.append(current_data)\n",
    "\n",
    "    # Concatenate all DataFrames in the list along the rows\n",
    "    combined_data = pd.concat(data_frames, ignore_index=True)\n",
    "\n",
    "    # Save the combined data to a new CSV file\n",
    "    combined_data.to_csv(output_file, index=False)\n",
    "    print(f\"Combined data saved to {output_file}\")\n",
    "\n",
    "# Example usage\n",
    "input_folder = r'C:\\Users\\Rahul Manocha\\Documents\\KDMS\\WebScrapping\\1st time\\WhiteFlowerFarm'\n",
    "output_file = 'WhiteFlowerFarm.csv'\n",
    "combine_csv_files(input_folder, output_file)"
   ]
  },
  {
   "cell_type": "code",
   "execution_count": null,
   "id": "4ca59f42",
   "metadata": {},
   "outputs": [],
   "source": []
  }
 ],
 "metadata": {
  "kernelspec": {
   "display_name": "Python 3 (ipykernel)",
   "language": "python",
   "name": "python3"
  },
  "language_info": {
   "codemirror_mode": {
    "name": "ipython",
    "version": 3
   },
   "file_extension": ".py",
   "mimetype": "text/x-python",
   "name": "python",
   "nbconvert_exporter": "python",
   "pygments_lexer": "ipython3",
   "version": "3.11.5"
  }
 },
 "nbformat": 4,
 "nbformat_minor": 5
}
